{
 "cells": [
  {
   "cell_type": "markdown",
   "metadata": {},
   "source": [
    "# Hypothesis Testing and the Central Limit Theorem\n",
    "\n",
    "## Law of Large Numbers\n",
    "\n",
    "The weak law of large numbers states that:\n",
    "\n",
    "If $X_1, X_2, ..., X_n$ is a sequence of iid random variables with expected value $E(X_1) = E(X_2) = ... = E(X_n) = \\mu$, then\n",
    "\n",
    "$\\overline{X_n} \\xrightarrow{p} \\mu$ when $n \\xrightarrow{} \\infty$\n",
    "\n",
    "where $\\overline{X_n} = \\frac{\\sum_{n=1}^n X_n}{n}$\n",
    "\n",
    "This means that the distribution of the sample mean becomes more concentrated around $\\mu$ as *n* gets large."
   ]
  },
  {
   "cell_type": "code",
   "execution_count": 1,
   "metadata": {},
   "outputs": [],
   "source": [
    "# Assume we have a discrete uniformly distributed variable with a = 0 and b = 10\n",
    "import numpy as np\n",
    "import matplotlib.pyplot as plt\n",
    "import matplotlib as mpl\n",
    "import seaborn as sns\n",
    "\n",
    "mpl.rcParams['figure.figsize'] = (12,6)"
   ]
  },
  {
   "cell_type": "code",
   "execution_count": 11,
   "metadata": {},
   "outputs": [],
   "source": [
    "# Create a sum of the values\n",
    "summed = 0\n",
    "\n",
    "# Create the mean of the values\n",
    "averaged = 0\n",
    "\n",
    "# Create n\n",
    "n = 1000\n",
    "\n",
    "# Create history of the means\n",
    "mean_history = []\n",
    "\n",
    "for i in range(1, n+1):\n",
    "    x = np.random.randint(0, 11)\n",
    "    summed += x\n",
    "    averaged = summed/i\n",
    "    mean_history.append(averaged)"
   ]
  },
  {
   "cell_type": "code",
   "execution_count": 12,
   "metadata": {},
   "outputs": [
    {
     "data": {
      "text/plain": [
       "<matplotlib.lines.Line2D at 0x1a2176a780>"
      ]
     },
     "execution_count": 12,
     "metadata": {},
     "output_type": "execute_result"
    },
    {
     "data": {
      "image/png": "[encoded data removed]",
      "text/plain": [
       "<Figure size 432x288 with 1 Axes>"
      ]
     },
     "metadata": {
      "needs_background": "light"
     },
     "output_type": "display_data"
    }
   ],
   "source": [
    "plt.plot(range(len(mean_history)), mean_history)\n",
    "plt.axis(xmin=0, xmax=n, ymin=0, ymax=10)\n",
    "plt.axhline(5, c='r')"
   ]
  },
  {
   "cell_type": "markdown",
   "metadata": {},
   "source": [
    "## Central Limit Theorem\n",
    "\n",
    "Suppose $X_1, ..., X_n$ are iid random variables with mean $\\mu$ and variance $\\sigma^2$. The central limit theorem says that $\\overline{X_n}$ converges in distribution to a Normal with mean $\\mu$ and variance $\\frac{\\sigma^2}{n}$.\n",
    "\n",
    "$\\overline{X_n} \\xrightarrow{d} N(\\mu, \\frac{\\sigma^2}{n})$"
   ]
  },
  {
   "cell_type": "code",
   "execution_count": 19,
   "metadata": {},
   "outputs": [],
   "source": [
    "# Create a list of the means\n",
    "sample_means = []\n",
    "\n",
    "nr_of_samples = 1000\n",
    "sample_size = 100\n",
    "for i in range(nr_of_samples):\n",
    "    # Create a summed variable for each sample\n",
    "    summed = 0\n",
    "    for _ in range(sample_size):\n",
    "        summed += np.random.randint(0, 11)\n",
    "    sample_means.append(summed/100)"
   ]
  },
  {
   "cell_type": "code",
   "execution_count": 20,
   "metadata": {},
   "outputs": [
    {
     "data": {
      "image/png": "[encoded data removed]",
      "text/plain": [
       "<Figure size 432x288 with 1 Axes>"
      ]
     },
     "metadata": {
      "needs_background": "light"
     },
     "output_type": "display_data"
    }
   ],
   "source": [
    "sns.distplot(sample_means)\n",
    "plt.show()"
   ]
  },
  {
   "cell_type": "markdown",
   "metadata": {},
   "source": [
    "## Hypothesis Testing\n",
    "\n",
    "A hypothesis is a statement about a population parameter.\n",
    "\n",
    "Let's come up with a hypothesis:\n",
    "\n",
    "### Hypothesis\n",
    "\n",
    "The average IQ of the Gradient Garlics is higher than the population average.\n",
    "\n",
    "### Assumptions\n",
    "\n",
    "- the true mean of the IQ\n",
    "- the true standard deviation is 100\n",
    "- IQs are normally distributed\n",
    "\n",
    "How do we answer the question? The idea is really to look whether we can, under the assumption of no difference, say that the value observed is unlikely or not."
   ]
  },
  {
   "cell_type": "code",
   "execution_count": 21,
   "metadata": {},
   "outputs": [],
   "source": [
    "iqs = [150, 150, 150, 150]"
   ]
  },
  {
   "cell_type": "code",
   "execution_count": 22,
   "metadata": {},
   "outputs": [],
   "source": [
    "from scipy import stats\n",
    "import numpy as np\n",
    "import matplotlib.pyplot as plt\n",
    "import seaborn as sns\n",
    "\n",
    "plt.rcParams['figure.figsize'] = (12,6)"
   ]
  },
  {
   "cell_type": "code",
   "execution_count": 23,
   "metadata": {},
   "outputs": [],
   "source": [
    "def plot_test(dist, mean, std, nstd, c='blue', rejection_region=True, one_sided=False, ax=None):\n",
    "    '''\n",
    "    Create a plot visualizing what we are actually testing for.\n",
    "    \n",
    "    Parameters:\n",
    "    -----------\n",
    "    dist:      Distribution of the test statistic\n",
    "    mean:      The mean of the distribution\n",
    "    std:       The standard deviation of the test statistic\n",
    "    nstd:      The value of the test statistic at which to cut off\n",
    "    one_sided: If test should be one-sided, set to True\n",
    "    ax:        Axis in the plot\n",
    "    \n",
    "    Returns a plot\n",
    "    '''\n",
    "    y = np.arange(mean-4*std, mean+4*std, 0.1)\n",
    "    x = dist.pdf(y, mean, std)\n",
    "\n",
    "    sns.lineplot(y, x, ax, c=c)\n",
    "    plt.title('IQ-distribution', fontsize=15)\n",
    "    plt.xlabel('Value of the IQ-test')\n",
    "    plt.ylabel('Probability')\n",
    "    plt.ylim(-0.002, 0.03)\n",
    "    if rejection_region:\n",
    "        if not one_sided:\n",
    "            plt.axvline(mean-nstd*std, c='r')\n",
    "        plt.axvline(mean+nstd*std, c='r')"
   ]
  },
  {
   "cell_type": "code",
   "execution_count": 25,
   "metadata": {},
   "outputs": [
    {
     "name": "stderr",
     "output_type": "stream",
     "text": [
      "/anaconda3/lib/python3.7/site-packages/seaborn/relational.py:784: MatplotlibDeprecationWarning: Saw kwargs ['c', 'color'] which are all aliases for 'color'.  Kept value from 'color'.  Passing multiple aliases for the same property will raise a TypeError in 3.3.\n",
      "  line, = ax.plot([], [], **kws)\n",
      "/anaconda3/lib/python3.7/site-packages/seaborn/relational.py:795: MatplotlibDeprecationWarning: Saw kwargs ['c', 'color'] which are all aliases for 'color'.  Kept value from 'color'.  Passing multiple aliases for the same property will raise a TypeError in 3.3.\n",
      "  line, = ax.plot(x, y, **kws)\n"
     ]
    },
    {
     "data": {
      "image/png": "[encoded data removed]",
      "text/plain": [
       "<Figure size 864x432 with 1 Axes>"
      ]
     },
     "metadata": {
      "needs_background": "light"
     },
     "output_type": "display_data"
    }
   ],
   "source": [
    "plot_test(stats.norm, 100, 15, 1.96, rejection_region=True)"
   ]
  },
  {
   "cell_type": "markdown",
   "metadata": {},
   "source": [
    "### 1) Formulate a null hypothesis\n",
    "\n",
    "In hypothesis testing we start with some default theory called the null hypothesis $H_0$. Usually the $H_0$ is states the opposite of our actual hypothesis. We can also think of the null hypothesis as a status quo.\n",
    "\n",
    "We inspect the data and check if we have sufficient evidence to reject the null hypothesis.\n",
    "If not, we fail to reject the null hypothesis.\n",
    "\n",
    "### Null Hypothesis\n",
    "\n",
    "The average IQ of the Gradient Garlics is equal to the population average.\n",
    "\n",
    "**$H_0$:** $\\overline{X_n} \\leq \\mu_{pop}$\n",
    "\n",
    "### 2) Formulate an alternative hypothesis\n",
    "\n",
    "The alternatative hypothesis represents our actual hypothesis or the hypothesis that an effect exists.\n",
    "\n",
    "**$H_a$:** $\\overline{X_n} > \\mu_{pop}$\n",
    "\n",
    "**The null hypothesis and the alternative hypothesis do not play a symmetric role!** The data is only used to try to disprove the null hypothesis.\n",
    "\n",
    "The formulation of the hypothesis defines whether we are looking at a *one-sided* or a *two-sided* test."
   ]
  },
  {
   "cell_type": "code",
   "execution_count": null,
   "metadata": {},
   "outputs": [],
   "source": [
    "# two-sided test\n",
    "plot_test(stats.norm, 100, 15, 1.96)\n",
    "plt.title('Two-sided test')\n",
    "plt.show()\n",
    "# one-sided test\n",
    "plot_test(stats.norm, 100, 15, 1.64, one_sided=True)\n",
    "plt.title('One-sided test')\n",
    "plt.show()"
   ]
  },
  {
   "cell_type": "markdown",
   "metadata": {},
   "source": [
    "### 3) Define an acceptance level $\\alpha$\n",
    "\n",
    "The acceptance level $\\alpha$ defines a threshold. This threshold describes the maximum probability of rejecting the null hypothesis you are willing to accept given the null hypothesis is actually true.<br>\n",
    "It describes the probability of encountering a **Type I** error (False Negative) of the test **if** the null hypothesis is true.\n",
    "\n",
    "$\\alpha$ = P(reject $H_0$ | $H_0$ is true)\n",
    "\n",
    "The probability of a **Type II** error (False Positive) is denoted $\\beta$ **if** the alternative hypothesis is true.\n",
    "\n",
    "$\\beta$ = P(fail to reject $H_0$ | $H_0$ is false)\n",
    "\n",
    "The **power of a test** is defined as $min(1-\\beta)$.\n",
    "\n",
    "The most common acceptance levels $\\alpha$ are 5% or 1%.\n",
    "\n",
    "### 4) Compute the Test Statistic\n",
    "\n",
    "A value derived from the data and the null hypothesis to be compared with some fixed value. It determines whether we reject the null hypothesis or we fail to reject it. **If the null hypothesis is true** the test statistic follows a standard normal distribution.\n",
    "\n",
    "$T_n = \\sqrt{n}*\\frac{\\overline{x} - 100}{\\sigma} \\stackrel{H_0}{\\sim} N(0,1)$"
   ]
  },
  {
   "cell_type": "code",
   "execution_count": null,
   "metadata": {},
   "outputs": [],
   "source": [
    "# Calculate the actual test statistic for our example"
   ]
  },
  {
   "cell_type": "markdown",
   "metadata": {},
   "source": [
    "### 5) Look up the probability in the probability table\n",
    "\n",
    "The test statistic constructs the value of the test under the assumption that the null hypothesis is true. If the value of the test statistic is to far from the mean of the test statistic, then we reject the null hypothesis. If it is not far, we fail to reject it.\n",
    "\n",
    "What do we mean by far? The **acceptance level** defines what we mean by far.\n",
    "\n",
    "### 6) Interpretation\n",
    "\n",
    "If the null hypothesis is true, the probability of observing a sample with the mean we observed is .... Btw. this is what we call the **p-value**. It is the lowest acceptance level at which we would have rejected the null hypothesis.\n",
    "This is higher/lower than our acceptance level (for Type I errors). We reject/fail to reject the null hypothesis."
   ]
  },
  {
   "cell_type": "markdown",
   "metadata": {},
   "source": [
    "## Why do Juan's statistician colleagues calculate the number of rats?\n",
    "\n",
    "This has to do with the **power of the test**. It is the probability of rejecting $H_0$ if $H_0$ is false.<br>\n",
    "We fixed the probability of the Type I errors (False Negatives). But what about the Type II errors (False positives)?\n",
    "\n",
    "What does the Type II error depend on?<br>\n",
    "\n",
    "In our case it is :\n",
    "\n",
    "1 - $\\beta$ = 1 - P(fail to reject $H_0$| $H_0$ is false) = 1 - P($\\sqrt{n}\\frac{\\overline{x_n} - \\mu}{S_n} \\leq \\Phi_{1-\\alpha})$\n",
    "\n",
    "- The choice of the hypothesis\n",
    "- $\\alpha$\n",
    "- $\\mu$\n",
    "- $\\sigma$\n",
    "- n\n",
    "\n",
    "Which of these parameters can we influence most easily?\n",
    "\n",
    "What n does intuitively is making $x_n$ more accurate, making $S_n$ more accurate. Mainly it is decreasing the sample variance and thereby reducing uncertainty."
   ]
  },
  {
   "cell_type": "code",
   "execution_count": null,
   "metadata": {},
   "outputs": [],
   "source": [
    "plot_test(stats.norm, 100, 15, nstd=1.64, one_sided=True)\n",
    "plot_test(stats.norm, 115, 15, nstd=1.64, rejection_region=False, c='g')\n",
    "plt.legend(['population', 'rejection-line', 'gradient-garlics'])\n",
    "plt.show()"
   ]
  },
  {
   "cell_type": "markdown",
   "metadata": {},
   "source": [
    "## What if our assumptions do not hold?\n",
    "\n",
    "The test we looked at right now was a Z-test. It was based on the assumptions that the random variable follows a normal distribution, that we know the population mean and the population standard deviation. What if one of these assumptions does not hold?\n",
    "\n",
    "### Non-normality\n",
    "\n",
    "If we have non-normal data but we know the population parameters (mean and standard deviation), the only thing that changes is the distribution of our test statistic. E.g., if our variable was binomially distributed we would have to look at the probability table of the binomial distribution.\n",
    "\n",
    "If we do not know the distribution of our data but our dataset is large enough, we can use the Central Limit Theorem to assume normality.\n",
    "\n",
    "### Non-knowledge of population parameters\n",
    "\n",
    "If we do not know the true population standard deviation, we can estimate it using our sample standard deviation\n",
    "\n",
    "$S_x = \\frac{\\sum_{i=1}^n (x_i - \\overline{x})^2}{n-1}$\n",
    "\n",
    "This will increase uncertainty of our results. Even if the variable is truely normally distributed, the test statistic will follow Student's t-distribution. It has wider tails than the normal."
   ]
  },
  {
   "cell_type": "code",
   "execution_count": null,
   "metadata": {},
   "outputs": [],
   "source": [
    "df = 3.00\n",
    "x = np.linspace(stats.t.ppf(0.01, df), stats.t.ppf(0.99, df), 100)\n",
    "\n",
    "sns.lineplot(x, y=stats.t.pdf(x, df), label='t-distribution')\n",
    "sns.lineplot(x, y=stats.norm.pdf(x, 0, 1), label='normal')"
   ]
  },
  {
   "cell_type": "markdown",
   "metadata": {},
   "source": [
    "Student's t-distribution approximates the normal distribution if n becomes large."
   ]
  },
  {
   "cell_type": "markdown",
   "metadata": {},
   "source": [
    "## Other tests\n",
    "\n",
    "- Two-sample t-test: Compare two samples against each other\n",
    "\n",
    "$\\frac{\\overline{x_1} - \\overline{x_2}}{\\frac{S_1}{\\sqrt{n_1}} + \\frac{S_2}{\\sqrt{n_2}}}$\n",
    "\n",
    "- Paired T-test: Compare dependent observations with each other\n",
    "- F-test: Test multiple hypotheses at the same time\n",
    "- Likelihood-Ratio Test"
   ]
  },
  {
   "cell_type": "markdown",
   "metadata": {},
   "source": [
    "# Beware\n",
    "\n",
    "- Dead salmon shows brain activity: https://blogs.scientificamerican.com/scicurious-brain/ignobel-prize-in-neuroscience-the-dead-salmon-study/\n",
    "\n",
    "- Last Week Tonight P-Hacking: https://www.youtube.com/watch?v=FLNeWgs2n_Q\n",
    "\n",
    "- Dance of the p-values: https://www.youtube.com/watch?v=5OL1RqHrZQ8"
   ]
  }
 ],
 "metadata": {
  "kernelspec": {
   "display_name": "Python 3",
   "language": "python",
   "name": "python3"
  },
  "language_info": {
   "codemirror_mode": {
    "name": "ipython",
    "version": 3
   },
   "file_extension": ".py",
   "mimetype": "text/x-python",
   "name": "python",
   "nbconvert_exporter": "python",
   "pygments_lexer": "ipython3",
   "version": "3.7.3"
  }
 },
 "nbformat": 4,
 "nbformat_minor": 4
}
