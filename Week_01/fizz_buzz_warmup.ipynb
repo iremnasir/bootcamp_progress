{
 "cells": [
  {
   "cell_type": "markdown",
   "metadata": {},
   "source": [
    "### Jupyter Hotkeys:\n",
    "- Shift+Enter --> Run cell\n",
    "- Switch to Markdown to write formatted text\n",
    "- Command & / --> Comment out everything\n",
    "- Add new cells below ---> ESC + b\n",
    "- Add new cells above ---> ESC + a\n",
    "- Delete cell ----> ESC + x"
   ]
  },
  {
   "cell_type": "markdown",
   "metadata": {},
   "source": [
    "### FizzBuzz Solutions"
   ]
  },
  {
   "cell_type": "markdown",
   "metadata": {},
   "source": [
    "**Bold Text in double-asterisks**\n",
    "\n",
    "**Solution A.**\n",
    "- Classic Solution"
   ]
  },
  {
   "cell_type": "code",
   "execution_count": 6,
   "metadata": {},
   "outputs": [],
   "source": [
    "for i in range(1,101):\n",
    "    # % symbol is modulo.\n",
    "    if i%3 ==0 and i%5==0:\n",
    "        print(i, \"Fizzbuzz\")\n",
    "    if i%3 == 0:\n",
    "        print(i, \"Fizz\")\n",
    "    if i%5== 0:\n",
    "        print(i, \"BuZZ\")\n",
    "    else:\n",
    "        print(i, '---')"
   ]
  },
  {
   "cell_type": "markdown",
   "metadata": {},
   "source": [
    "**Solution B**\n",
    "- Nested If Statements"
   ]
  },
  {
   "cell_type": "code",
   "execution_count": 13,
   "metadata": {},
   "outputs": [],
   "source": [
    "def fizzbuzz2(n):\n",
    "    for i in range(1, n+1):\n",
    "        result = \"\"\n",
    "        if i%3 == 0:\n",
    "            if i%5 == 0:\n",
    "                print(\"FizzBuzz\")        \n",
    "            else:\n",
    "                print(\"Fizz\")          \n",
    "        elif i%5 == 0:\n",
    "            print(\"Buzz\")\n",
    "        else:\n",
    "            print(i)"
   ]
  },
  {
   "cell_type": "markdown",
   "metadata": {},
   "source": [
    "**Solution C**:\n",
    "- String Concatenation"
   ]
  },
  {
   "cell_type": "code",
   "execution_count": 21,
   "metadata": {},
   "outputs": [],
   "source": [
    "def fizzbuzz3(n):\n",
    "\n",
    "    for i in range(1, n+1):\n",
    "        result = \"\"\n",
    "        \n",
    "        if i % 3 == 0:\n",
    "            result = result + \"Fizz\"    \n",
    "        if i % 5 == 0:          \n",
    "            result = result + \"Buzz\"\n",
    "            \n",
    "        print(i, result)"
   ]
  },
  {
   "cell_type": "markdown",
   "metadata": {},
   "source": [
    "**Solution D**\n",
    "- Same as A but in a function."
   ]
  },
  {
   "cell_type": "code",
   "execution_count": null,
   "metadata": {},
   "outputs": [],
   "source": [
    "def Fizzbuzz(number):\n",
    "    for i in range(1,number+1):\n",
    "        if i%3 ==0 and i%5==0:\n",
    "            print(\"Fizzbuzz\")\n",
    "        if i%3 == 0:\n",
    "            print(\"Fizz\")\n",
    "        if i%5== 0:\n",
    "            print(\"BuZZ\")\n",
    "Fizzbuzz(200)"
   ]
  }
 ],
 "metadata": {
  "kernelspec": {
   "display_name": "Python 3",
   "language": "python",
   "name": "python3"
  },
  "language_info": {
   "codemirror_mode": {
    "name": "ipython",
    "version": 3
   },
   "file_extension": ".py",
   "mimetype": "text/x-python",
   "name": "python",
   "nbconvert_exporter": "python",
   "pygments_lexer": "ipython3",
   "version": "3.6.7"
  }
 },
 "nbformat": 4,
 "nbformat_minor": 2
}
