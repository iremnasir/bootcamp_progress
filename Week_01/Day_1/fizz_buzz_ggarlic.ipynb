{
 "cells": [
  {
   "cell_type": "markdown",
   "metadata": {},
   "source": [
    "### Jupyter Hotkeys:\n",
    "- Shift+Enter --> Run cell\n",
    "- Switch to Markdown to write formatted text\n",
    "- Command & / --> Comment out everything\n",
    "- Add new cells below ---> ESC + b\n",
    "- Add new cells above ---> ESC + a\n",
    "- Delete cell ----> ESC + x"
   ]
  },
  {
   "cell_type": "markdown",
   "metadata": {},
   "source": [
    "### FizzBuzz Solutions"
   ]
  },
  {
   "cell_type": "markdown",
   "metadata": {},
   "source": [
    "**Bold Text in double-asterisks**\n",
    "\n",
    "**Solution A.**\n",
    "- Classic Solution"
   ]
  },
  {
   "cell_type": "code",
   "execution_count": 1,
   "metadata": {},
   "outputs": [
    {
     "name": "stdout",
     "output_type": "stream",
     "text": [
      "1 ---\n",
      "2 ---\n",
      "3 Fizz\n",
      "3 ---\n",
      "4 ---\n",
      "5 BuZZ\n",
      "6 Fizz\n",
      "6 ---\n",
      "7 ---\n",
      "8 ---\n",
      "9 Fizz\n",
      "9 ---\n",
      "10 BuZZ\n",
      "11 ---\n",
      "12 Fizz\n",
      "12 ---\n",
      "13 ---\n",
      "14 ---\n",
      "15 Fizzbuzz\n",
      "15 Fizz\n",
      "15 BuZZ\n",
      "16 ---\n",
      "17 ---\n",
      "18 Fizz\n",
      "18 ---\n",
      "19 ---\n",
      "20 BuZZ\n",
      "21 Fizz\n",
      "21 ---\n",
      "22 ---\n",
      "23 ---\n",
      "24 Fizz\n",
      "24 ---\n",
      "25 BuZZ\n",
      "26 ---\n",
      "27 Fizz\n",
      "27 ---\n",
      "28 ---\n",
      "29 ---\n",
      "30 Fizzbuzz\n",
      "30 Fizz\n",
      "30 BuZZ\n",
      "31 ---\n",
      "32 ---\n",
      "33 Fizz\n",
      "33 ---\n",
      "34 ---\n",
      "35 BuZZ\n",
      "36 Fizz\n",
      "36 ---\n",
      "37 ---\n",
      "38 ---\n",
      "39 Fizz\n",
      "39 ---\n",
      "40 BuZZ\n",
      "41 ---\n",
      "42 Fizz\n",
      "42 ---\n",
      "43 ---\n",
      "44 ---\n",
      "45 Fizzbuzz\n",
      "45 Fizz\n",
      "45 BuZZ\n",
      "46 ---\n",
      "47 ---\n",
      "48 Fizz\n",
      "48 ---\n",
      "49 ---\n",
      "50 BuZZ\n",
      "51 Fizz\n",
      "51 ---\n",
      "52 ---\n",
      "53 ---\n",
      "54 Fizz\n",
      "54 ---\n",
      "55 BuZZ\n",
      "56 ---\n",
      "57 Fizz\n",
      "57 ---\n",
      "58 ---\n",
      "59 ---\n",
      "60 Fizzbuzz\n",
      "60 Fizz\n",
      "60 BuZZ\n",
      "61 ---\n",
      "62 ---\n",
      "63 Fizz\n",
      "63 ---\n",
      "64 ---\n",
      "65 BuZZ\n",
      "66 Fizz\n",
      "66 ---\n",
      "67 ---\n",
      "68 ---\n",
      "69 Fizz\n",
      "69 ---\n",
      "70 BuZZ\n",
      "71 ---\n",
      "72 Fizz\n",
      "72 ---\n",
      "73 ---\n",
      "74 ---\n",
      "75 Fizzbuzz\n",
      "75 Fizz\n",
      "75 BuZZ\n",
      "76 ---\n",
      "77 ---\n",
      "78 Fizz\n",
      "78 ---\n",
      "79 ---\n",
      "80 BuZZ\n",
      "81 Fizz\n",
      "81 ---\n",
      "82 ---\n",
      "83 ---\n",
      "84 Fizz\n",
      "84 ---\n",
      "85 BuZZ\n",
      "86 ---\n",
      "87 Fizz\n",
      "87 ---\n",
      "88 ---\n",
      "89 ---\n",
      "90 Fizzbuzz\n",
      "90 Fizz\n",
      "90 BuZZ\n",
      "91 ---\n",
      "92 ---\n",
      "93 Fizz\n",
      "93 ---\n",
      "94 ---\n",
      "95 BuZZ\n",
      "96 Fizz\n",
      "96 ---\n",
      "97 ---\n",
      "98 ---\n",
      "99 Fizz\n",
      "99 ---\n",
      "100 BuZZ\n"
     ]
    }
   ],
   "source": [
    "for i in range(1,101):\n",
    "    # % symbol is modulo.\n",
    "    if i%3 ==0 and i%5==0:\n",
    "        print(i, \"Fizzbuzz\")\n",
    "    if i%3 == 0:\n",
    "        print(i, \"Fizz\")\n",
    "    if i%5== 0:\n",
    "        print(i, \"BuZZ\")\n",
    "    else:\n",
    "        print(i, '---')"
   ]
  },
  {
   "cell_type": "markdown",
   "metadata": {},
   "source": [
    "**Solution B**\n",
    "- Nested If Statements"
   ]
  },
  {
   "cell_type": "code",
   "execution_count": 2,
   "metadata": {},
   "outputs": [],
   "source": [
    "def fizzbuzz2(n):\n",
    "    for i in range(1, n+1):\n",
    "        result = \"\"\n",
    "        if i%3 == 0:\n",
    "            if i%5 == 0:\n",
    "                print(\"FizzBuzz\")        \n",
    "            else:\n",
    "                print(\"Fizz\")          \n",
    "        elif i%5 == 0:\n",
    "            print(\"Buzz\")\n",
    "        else:\n",
    "            print(i)"
   ]
  },
  {
   "cell_type": "markdown",
   "metadata": {},
   "source": [
    "**Solution C**:\n",
    "- String Concatenation"
   ]
  },
  {
   "cell_type": "code",
   "execution_count": 3,
   "metadata": {},
   "outputs": [],
   "source": [
    "def fizzbuzz3(n):\n",
    "\n",
    "    for i in range(1, n+1):\n",
    "        result = \"\"\n",
    "        \n",
    "        if i % 3 == 0:\n",
    "            result = result + \"Fizz\"    \n",
    "        if i % 5 == 0:          \n",
    "            result = result + \"Buzz\"\n",
    "            \n",
    "        print(i, result)"
   ]
  },
  {
   "cell_type": "markdown",
   "metadata": {},
   "source": [
    "**Solution D**\n",
    "- Same as A but in a function."
   ]
  },
  {
   "cell_type": "code",
   "execution_count": null,
   "metadata": {},
   "outputs": [],
   "source": [
    "def Fizzbuzz(number):\n",
    "    for i in range(1,number+1):\n",
    "        if i%3 ==0 and i%5==0:\n",
    "            print(\"Fizzbuzz\")\n",
    "        if i%3 == 0:\n",
    "            print(\"Fizz\")\n",
    "        if i%5== 0:\n",
    "            print(\"BuZZ\")\n",
    "Fizzbuzz(200)"
   ]
  }
 ],
 "metadata": {
  "kernelspec": {
   "display_name": "Python 3",
   "language": "python",
   "name": "python3"
  },
  "language_info": {
   "codemirror_mode": {
    "name": "ipython",
    "version": 3
   },
   "file_extension": ".py",
   "mimetype": "text/x-python",
   "name": "python",
   "nbconvert_exporter": "python",
   "pygments_lexer": "ipython3",
   "version": "3.7.3"
  }
 },
 "nbformat": 4,
 "nbformat_minor": 2
}
