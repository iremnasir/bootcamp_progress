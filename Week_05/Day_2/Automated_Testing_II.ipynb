{
 "cells": [
  {
   "cell_type": "markdown",
   "metadata": {},
   "source": [
    "### Automated Testing\n",
    "* CF course material - chapter 11.8\n",
    "* Low-level: \n",
    "    * Positive and negative outcome testing\n",
    "    * Fixtures\n",
    "    * Parameterization\n",
    "* High-level:\n",
    "    * The 4 types of testing\n",
    "    * How to integrate your testing"
   ]
  },
  {
   "cell_type": "markdown",
   "metadata": {},
   "source": [
    "---"
   ]
  },
  {
   "cell_type": "markdown",
   "metadata": {},
   "source": [
    "#### Test for positve and negative outcomes\n",
    "* use `assert` to test for a positive outcome (code runs)\n",
    "* use `with pytest.raises(Exception)` to control for a negative outcome (code errors)"
   ]
  },
  {
   "cell_type": "code",
   "execution_count": null,
   "metadata": {},
   "outputs": [],
   "source": []
  },
  {
   "cell_type": "markdown",
   "metadata": {},
   "source": [
    "---"
   ]
  },
  {
   "cell_type": "markdown",
   "metadata": {},
   "source": [
    "#### Fixtures\n",
    "* So-called **setup and teardown** code, this is code which runs repeatedly for each test you run without having to specify the code each time\n",
    "* pass that function into another function\n",
    "* create a fixture function by adding `@pytest.fixture` above it\n",
    "* Fixtures are a type of decorator"
   ]
  },
  {
   "cell_type": "code",
   "execution_count": null,
   "metadata": {},
   "outputs": [],
   "source": []
  },
  {
   "cell_type": "markdown",
   "metadata": {},
   "source": [
    "---"
   ]
  },
  {
   "cell_type": "markdown",
   "metadata": {},
   "source": [
    "#### Parametrization\n",
    "* A special kind of fixture, parameterisation allows you to pass in a series of values which are all passed into the calling function.\n",
    "* create a parameterized function by adding `@pytest.mark.parametrize([var1,var2], OUTPUT)` above it"
   ]
  },
  {
   "cell_type": "code",
   "execution_count": null,
   "metadata": {},
   "outputs": [],
   "source": []
  },
  {
   "cell_type": "markdown",
   "metadata": {},
   "source": [
    "---"
   ]
  },
  {
   "cell_type": "markdown",
   "metadata": {},
   "source": [
    "#### Code Coverage\n",
    "* Test for code coverage \n",
    "* Statement coverage - run every line of code\n",
    "* Branch coverage - run every possible outcome of if / while / for statements\n",
    "* Path testing - run every possible value through every branch\n",
    "* In terms of security: `path > branch > statement`\n",
    "* We will use coverage with pytest - to install `pip install coverage`\n",
    "* To test statement coverage - `coverage run -m pytest ...`\n",
    "* To review results, `coverage report`\n",
    "* [Further reading](https://coverage.readthedocs.io/en/coverage-5.0.3/branch.html) on branch coverage "
   ]
  },
  {
   "cell_type": "code",
   "execution_count": null,
   "metadata": {},
   "outputs": [],
   "source": []
  },
  {
   "cell_type": "markdown",
   "metadata": {},
   "source": [
    "---"
   ]
  },
  {
   "cell_type": "markdown",
   "metadata": {},
   "source": [
    "#### 4 types of tests"
   ]
  },
  {
   "cell_type": "markdown",
   "metadata": {},
   "source": [
    "#### Unit\n",
    "* Code that tests functionality\n",
    "* Test at the 'unit' level - single purpose tests\n",
    "* Each test is small (<20 lines), but there are many of them"
   ]
  },
  {
   "cell_type": "markdown",
   "metadata": {},
   "source": [
    "#### Integration\n",
    "* Code that tests interplay \n",
    "* Test at the module level - classes or modules\n",
    "* Looks like unit testing from the outside, but exposes larger sections"
   ]
  },
  {
   "cell_type": "markdown",
   "metadata": {},
   "source": [
    "#### Regression\n",
    "* Code that tests previous versions\n",
    "* Test at unit or module level, but `check for your previous mistakes`\n",
    "* Looks like part of build integration"
   ]
  },
  {
   "cell_type": "markdown",
   "metadata": {},
   "source": [
    "#### Acceptance\n",
    "* Processes that ensure the client is happy\n",
    "* Test whereever the client wants, normally at the GUI level\n",
    "* The most important test?"
   ]
  }
 ],
 "metadata": {
  "kernelspec": {
   "display_name": "Python 3",
   "language": "python",
   "name": "python3"
  },
  "language_info": {
   "codemirror_mode": {
    "name": "ipython",
    "version": 3
   },
   "file_extension": ".py",
   "mimetype": "text/x-python",
   "name": "python",
   "nbconvert_exporter": "python",
   "pygments_lexer": "ipython3",
   "version": "3.7.3"
  }
 },
 "nbformat": 4,
 "nbformat_minor": 4
}
