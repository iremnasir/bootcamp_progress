{
 "cells": [
  {
   "cell_type": "code",
   "execution_count": 83,
   "metadata": {},
   "outputs": [],
   "source": [
    "import requests\n",
    "from bs4 import BeautifulSoup\n",
    "import re\n",
    "import pandas as pd\n",
    "import pickle\n",
    "import json\n",
    "import os"
   ]
  },
  {
   "cell_type": "code",
   "execution_count": 84,
   "metadata": {},
   "outputs": [],
   "source": [
    "path = \"/Users/iremn/PythonClass/Spiced/gradient_garlic-code_Work/Week_04/Day_1\""
   ]
  },
  {
   "cell_type": "code",
   "execution_count": 85,
   "metadata": {},
   "outputs": [
    {
     "name": "stdin",
     "output_type": "stream",
     "text": [
      "Enter your artist:  queen\n"
     ]
    }
   ],
   "source": [
    "artist = input(\"Enter your artist: \") \n",
    "artist_name = str(artist).lower()"
   ]
  },
  {
   "cell_type": "code",
   "execution_count": 86,
   "metadata": {},
   "outputs": [],
   "source": [
    "artist_name_re = re.sub(' ','-',artist_name)"
   ]
  },
  {
   "cell_type": "code",
   "execution_count": 87,
   "metadata": {},
   "outputs": [
    {
     "name": "stdout",
     "output_type": "stream",
     "text": [
      "Directory  queen  already exists\n"
     ]
    }
   ],
   "source": [
    "# Create target Directory if don't exist\n",
    "if not os.path.exists(artist_name_re):\n",
    "    os.mkdir(artist_name_re)\n",
    "    print(\"Directory \" , artist_name_re ,  \" Created \")\n",
    "else:    \n",
    "    print(\"Directory \" , artist_name_re ,  \" already exists\")"
   ]
  },
  {
   "cell_type": "code",
   "execution_count": 88,
   "metadata": {},
   "outputs": [],
   "source": [
    "artist_name_ht = artist_name_re + '-lyrics.html'"
   ]
  },
  {
   "cell_type": "code",
   "execution_count": 89,
   "metadata": {},
   "outputs": [],
   "source": [
    "#Build http for metrolyrics\n",
    "wbpg = 'https://www.metrolyrics.com/'+artist_name_ht"
   ]
  },
  {
   "cell_type": "code",
   "execution_count": 90,
   "metadata": {},
   "outputs": [],
   "source": [
    "song_links = requests.get(wbpg)\n",
    "parsed = BeautifulSoup(song_links.text, 'html.parser')\n"
   ]
  },
  {
   "cell_type": "code",
   "execution_count": 91,
   "metadata": {},
   "outputs": [],
   "source": [
    "http_range = []\n",
    "for i in range(len(parsed.find_all(attrs={'class': 'pages'})[0].find_all('a'))):\n",
    "    http_range.append(parsed.find_all(attrs={'class': 'pages'})[0].find_all('a')[i].get('href'))\n",
    "    "
   ]
  },
  {
   "cell_type": "code",
   "execution_count": 92,
   "metadata": {},
   "outputs": [
    {
     "data": {
      "text/plain": [
       "['https://www.metrolyrics.com/queen-alpage-1.html',\n",
       " 'https://www.metrolyrics.com/queen-alpage-2.html',\n",
       " 'https://www.metrolyrics.com/queen-alpage-3.html',\n",
       " 'https://www.metrolyrics.com/queen-alpage-4.html',\n",
       " 'https://www.metrolyrics.com/queen-alpage-5.html']"
      ]
     },
     "execution_count": 92,
     "metadata": {},
     "output_type": "execute_result"
    }
   ],
   "source": [
    "http_range"
   ]
  },
  {
   "cell_type": "code",
   "execution_count": 93,
   "metadata": {},
   "outputs": [],
   "source": [
    "#Collect all song https\n",
    "song_http = []\n",
    "for address in http_range:\n",
    "    songs_pg = requests.get(address)\n",
    "    pg = BeautifulSoup(songs_pg.text, 'html.parser')\n",
    "    titles = pg.find_all(attrs = {'class': 'page-content tabs-wrapper clearfix'})[0].find_all(attrs = {'class':'title'})\n",
    "    for i in range(len(titles)):\n",
    "        song_http.append(titles[i].get('href'))\n",
    "    "
   ]
  },
  {
   "cell_type": "code",
   "execution_count": 94,
   "metadata": {},
   "outputs": [],
   "source": [
    "for link in song_http:\n",
    "    pj = requests.get(link)\n",
    "    parser = BeautifulSoup(pj.text, 'html.parser')\n",
    "    song_name = link.split('/')[3].split('.htm')[0]\n",
    "    lyrics = parser.find_all(attrs = {'id':'lyrics-body-text'})[0]\n",
    "    verse = lyrics.find_all(attrs = {'class' : 'verse'})\n",
    "    lyrics_text = []\n",
    "    for i in range(len(verse)):\n",
    "        a = verse[i].get_text()\n",
    "        lyrics_text.append(a)\n",
    "        #re.sub(r'\\n', '\\s', lyrics_text) # to replace\n",
    "    with open(f'./{artist_name_re}/{song_name}.txt', 'w') as f:\n",
    "        json.dump(lyrics_text, f)\n"
   ]
  },
  {
   "cell_type": "code",
   "execution_count": null,
   "metadata": {},
   "outputs": [],
   "source": []
  }
 ],
 "metadata": {
  "kernelspec": {
   "display_name": "Python 3",
   "language": "python",
   "name": "python3"
  },
  "language_info": {
   "codemirror_mode": {
    "name": "ipython",
    "version": 3
   },
   "file_extension": ".py",
   "mimetype": "text/x-python",
   "name": "python",
   "nbconvert_exporter": "python",
   "pygments_lexer": "ipython3",
   "version": "3.7.3"
  }
 },
 "nbformat": 4,
 "nbformat_minor": 2
}
