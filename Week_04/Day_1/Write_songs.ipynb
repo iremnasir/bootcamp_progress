{
 "cells": [
  {
   "cell_type": "code",
   "execution_count": 1,
   "metadata": {},
   "outputs": [],
   "source": [
    "import requests\n",
    "from bs4 import BeautifulSoup"
   ]
  },
  {
   "cell_type": "code",
   "execution_count": 97,
   "metadata": {},
   "outputs": [],
   "source": [
    "f = open('pj.txt', 'r')\n",
    "x = f.readlines()\n",
    "f.close()"
   ]
  },
  {
   "cell_type": "code",
   "execution_count": 98,
   "metadata": {},
   "outputs": [
    {
     "data": {
      "text/plain": [
       "['https://www.metrolyrics.com/where-oh-where-could-my-baby-be-lyrics-pearl-jam.htmlhttps://www.metrolyrics.com/just-breathe-lyrics-pearl-jam.htmlhttps://www.metrolyrics.com/black-lyrics-pearl-jam.htmlhttps://www.metrolyrics.com/yellow-ledbetter-lyrics-pearl-jam.htmlhttps://www.metrolyrics.com/jeremy-lyrics-pearl-jam.htmlhttps://www.metrolyrics.com/even-flow-lyrics-pearl-jam.htmlhttps://www.metrolyrics.com/better-man-lyrics-pearl-jam.htmlhttps://www.metrolyrics.com/alive-lyrics-pearl-jam.htmlhttps://www.metrolyrics.com/last-kiss-lyrics-pearl-jam.htmlhttps://www.metrolyrics.com/release-lyrics-pearl-jam.htmlhttps://www.metrolyrics.com/untitled-lyrics-pearl-jam.htmlhttps://www.metrolyrics.com/elderly-woman-behind-the-counter-in-a-small-town-lyrics-pearl-jam.htmlhttps://www.metrolyrics.com/daughter-lyrics-pearl-jam.htmlhttps://www.metrolyrics.com/corduroy-lyrics-pearl-jam.htmlhttps://www.metrolyrics.com/given-to-fly-lyrics-pearl-jam.htmlhttps://www.metrolyrics.com/future-days-lyrics-pearl-jam.htmlhttps://www.metrolyrics.com/state-of-love-and-trust-lyrics-pearl-jam.htmlhttps://www.metrolyrics.com/sirens-lyrics-pearl-jam.htmlhttps://www.metrolyrics.com/oceans-lyrics-pearl-jam.htmlhttps://www.metrolyrics.com/wishlist-lyrics-pearl-jam.htmlhttps://www.metrolyrics.com/nothingman-lyrics-pearl-jam.htmlhttps://www.metrolyrics.com/come-back-lyrics-pearl-jam.htmlhttps://www.metrolyrics.com/i-am-mine-lyrics-pearl-jam.htmlhttps://www.metrolyrics.com/hunger-strike-lyrics-pearl-jam.htmlhttps://www.metrolyrics.com/off-he-goes-lyrics-pearl-jam.htmlhttps://www.metrolyrics.com/porch-lyrics-pearl-jam.htmlhttps://www.metrolyrics.com/leatherman-lyrics-pearl-jam.htmlhttps://www.metrolyrics.com/immortality-lyrics-pearl-jam.htmlhttps://www.metrolyrics.com/garden-lyrics-pearl-jam.htmlhttps://www.metrolyrics.com/rearview-mirror-lyrics-pearl-jam.htmlhttps://www.metrolyrics.com/indifference-lyrics-pearl-jam.htmlhttps://www.metrolyrics.com/man-of-the-hour-lyrics-pearl-jam.htmlhttps://www.metrolyrics.com/i-got-id-lyrics-pearl-jam.htmlhttps://www.metrolyrics.com/last-exit-lyrics-pearl-jam.htmlhttps://www.metrolyrics.com/breath-lyrics-pearl-jam.htmlhttps://www.metrolyrics.com/cant-deny-me-lyrics-pearl-jam.htmlhttps://www.metrolyrics.com/not-for-you-lyrics-pearl-jam.htmlhttps://www.metrolyrics.com/crazy-mary-lyrics-pearl-jam.htmlhttps://www.metrolyrics.com/do-the-evolution-lyrics-pearl-jam.htmlhttps://www.metrolyrics.com/glorified-g-lyrics-pearl-jam.htmlhttps://www.metrolyrics.com/out-of-my-mind-lyrics-pearl-jam.htmlhttps://www.metrolyrics.com/daughter-its-ok-jones-beach-ny-lyrics-pearl-jam.htmlhttps://www.metrolyrics.com/the-fixer-lyrics-pearl-jam.htmlhttps://www.metrolyrics.com/dissident-lyrics-pearl-jam.htmlhttps://www.metrolyrics.com/nothing-as-it-seems-lyrics-pearl-jam.htmlhttps://www.metrolyrics.com/pendulum-lyrics-pearl-jam.htmlhttps://www.metrolyrics.com/long-road-lyrics-pearl-jam.htmlhttps://www.metrolyrics.com/once-lyrics-pearl-jam.htmlhttps://www.metrolyrics.com/ive-got-a-feeling-lyrics-pearl-jam.htmlhttps://www.metrolyrics.com/inside-job-lyrics-pearl-jam.htmlhttps://www.metrolyrics.com/smile-lyrics-pearl-jam.htmlhttps://www.metrolyrics.com/unthought-known-lyrics-pearl-jam.htmlhttps://www.metrolyrics.com/lukin-lyrics-pearl-jam.htmlhttps://www.metrolyrics.com/its-ok-live-at-jones-beach-ny-lyrics-pearl-jam.htmlhttps://www.metrolyrics.com/the-end-lyrics-pearl-jam.htmlhttps://www.metrolyrics.com/youve-got-to-hide-your-love-away-lyrics-pearl-jam.htmlhttps://www.metrolyrics.com/go-lyrics-pearl-jam.htmlhttps://www.metrolyrics.com/hitchhiker-lyrics-pearl-jam.htmlhttps://www.metrolyrics.com/footsteps-lyrics-pearl-jam.htmlhttps://www.metrolyrics.com/spin-the-black-circle-lyrics-pearl-jam.htmlhttps://www.metrolyrics.com/present-tense-lyrics-pearl-jam.htmlhttps://www.metrolyrics.com/light-years-lyrics-pearl-jam.htmlhttps://www.metrolyrics.com/i-got-shit-lyrics-pearl-jam.htmlhttps://www.metrolyrics.com/rearviewmirror-lyrics-pearl-jam.htmlhttps://www.metrolyrics.com/wish-you-were-here-pink-floyd-cover-lyrics-pearl-jam.htmlhttps://www.metrolyrics.com/sad-lyrics-pearl-jam.htmlhttps://www.metrolyrics.com/saying-no-lyrics-pearl-jam.htmlhttps://www.metrolyrics.com/education-lyrics-pearl-jam.htmlhttps://www.metrolyrics.com/in-hiding-lyrics-pearl-jam.htmlhttps://www.metrolyrics.com/hail-hail-lyrics-pearl-jam.htmlhttps://www.metrolyrics.com/why-go-lyrics-pearl-jam.htmlhttps://www.metrolyrics.com/dirty-frank-lyrics-pearl-jam.htmlhttps://www.metrolyrics.com/stupid-mop-lyrics-pearl-jam.htmlhttps://www.metrolyrics.com/tremor-christ-lyrics-pearl-jam.htmlhttps://www.metrolyrics.com/angel-lyrics-pearl-jam.htmlhttps://www.metrolyrics.com/where-oh-where-could-my-baby-be-lyrics-pearl-jam.htmlhttps://www.metrolyrics.com/just-breathe-lyrics-pearl-jam.htmlhttps://www.metrolyrics.com/black-lyrics-pearl-jam.htmlhttps://www.metrolyrics.com/yellow-ledbetter-lyrics-pearl-jam.htmlhttps://www.metrolyrics.com/jeremy-lyrics-pearl-jam.htmlhttps://www.metrolyrics.com/even-flow-lyrics-pearl-jam.htmlhttps://www.metrolyrics.com/better-man-lyrics-pearl-jam.htmlhttps://www.metrolyrics.com/alive-lyrics-pearl-jam.htmlhttps://www.metrolyrics.com/last-kiss-lyrics-pearl-jam.htmlhttps://www.metrolyrics.com/release-lyrics-pearl-jam.htmlhttps://www.metrolyrics.com/untitled-lyrics-pearl-jam.htmlhttps://www.metrolyrics.com/elderly-woman-behind-the-counter-in-a-small-town-lyrics-pearl-jam.htmlhttps://www.metrolyrics.com/daughter-lyrics-pearl-jam.htmlhttps://www.metrolyrics.com/corduroy-lyrics-pearl-jam.htmlhttps://www.metrolyrics.com/given-to-fly-lyrics-pearl-jam.htmlhttps://www.metrolyrics.com/future-days-lyrics-pearl-jam.htmlhttps://www.metrolyrics.com/state-of-love-and-trust-lyrics-pearl-jam.htmlhttps://www.metrolyrics.com/sirens-lyrics-pearl-jam.htmlhttps://www.metrolyrics.com/oceans-lyrics-pearl-jam.htmlhttps://www.metrolyrics.com/wishlist-lyrics-pearl-jam.htmlhttps://www.metrolyrics.com/nothingman-lyrics-pearl-jam.htmlhttps://www.metrolyrics.com/come-back-lyrics-pearl-jam.htmlhttps://www.metrolyrics.com/i-am-mine-lyrics-pearl-jam.htmlhttps://www.metrolyrics.com/hunger-strike-lyrics-pearl-jam.htmlhttps://www.metrolyrics.com/off-he-goes-lyrics-pearl-jam.htmlhttps://www.metrolyrics.com/porch-lyrics-pearl-jam.htmlhttps://www.metrolyrics.com/leatherman-lyrics-pearl-jam.htmlhttps://www.metrolyrics.com/immortality-lyrics-pearl-jam.htmlhttps://www.metrolyrics.com/garden-lyrics-pearl-jam.htmlhttps://www.metrolyrics.com/rearview-mirror-lyrics-pearl-jam.htmlhttps://www.metrolyrics.com/indifference-lyrics-pearl-jam.htmlhttps://www.metrolyrics.com/man-of-the-hour-lyrics-pearl-jam.htmlhttps://www.metrolyrics.com/i-got-id-lyrics-pearl-jam.htmlhttps://www.metrolyrics.com/last-exit-lyrics-pearl-jam.htmlhttps://www.metrolyrics.com/breath-lyrics-pearl-jam.htmlhttps://www.metrolyrics.com/cant-deny-me-lyrics-pearl-jam.htmlhttps://www.metrolyrics.com/not-for-you-lyrics-pearl-jam.htmlhttps://www.metrolyrics.com/crazy-mary-lyrics-pearl-jam.htmlhttps://www.metrolyrics.com/do-the-evolution-lyrics-pearl-jam.htmlhttps://www.metrolyrics.com/glorified-g-lyrics-pearl-jam.htmlhttps://www.metrolyrics.com/out-of-my-mind-lyrics-pearl-jam.htmlhttps://www.metrolyrics.com/daughter-its-ok-jones-beach-ny-lyrics-pearl-jam.htmlhttps://www.metrolyrics.com/the-fixer-lyrics-pearl-jam.htmlhttps://www.metrolyrics.com/dissident-lyrics-pearl-jam.htmlhttps://www.metrolyrics.com/nothing-as-it-seems-lyrics-pearl-jam.htmlhttps://www.metrolyrics.com/pendulum-lyrics-pearl-jam.htmlhttps://www.metrolyrics.com/long-road-lyrics-pearl-jam.htmlhttps://www.metrolyrics.com/once-lyrics-pearl-jam.htmlhttps://www.metrolyrics.com/ive-got-a-feeling-lyrics-pearl-jam.htmlhttps://www.metrolyrics.com/inside-job-lyrics-pearl-jam.htmlhttps://www.metrolyrics.com/smile-lyrics-pearl-jam.htmlhttps://www.metrolyrics.com/unthought-known-lyrics-pearl-jam.htmlhttps://www.metrolyrics.com/lukin-lyrics-pearl-jam.htmlhttps://www.metrolyrics.com/its-ok-live-at-jones-beach-ny-lyrics-pearl-jam.htmlhttps://www.metrolyrics.com/the-end-lyrics-pearl-jam.htmlhttps://www.metrolyrics.com/youve-got-to-hide-your-love-away-lyrics-pearl-jam.htmlhttps://www.metrolyrics.com/go-lyrics-pearl-jam.htmlhttps://www.metrolyrics.com/hitchhiker-lyrics-pearl-jam.htmlhttps://www.metrolyrics.com/footsteps-lyrics-pearl-jam.htmlhttps://www.metrolyrics.com/spin-the-black-circle-lyrics-pearl-jam.htmlhttps://www.metrolyrics.com/present-tense-lyrics-pearl-jam.htmlhttps://www.metrolyrics.com/light-years-lyrics-pearl-jam.htmlhttps://www.metrolyrics.com/i-got-shit-lyrics-pearl-jam.htmlhttps://www.metrolyrics.com/rearviewmirror-lyrics-pearl-jam.htmlhttps://www.metrolyrics.com/wish-you-were-here-pink-floyd-cover-lyrics-pearl-jam.htmlhttps://www.metrolyrics.com/sad-lyrics-pearl-jam.htmlhttps://www.metrolyrics.com/saying-no-lyrics-pearl-jam.htmlhttps://www.metrolyrics.com/education-lyrics-pearl-jam.htmlhttps://www.metrolyrics.com/in-hiding-lyrics-pearl-jam.htmlhttps://www.metrolyrics.com/hail-hail-lyrics-pearl-jam.htmlhttps://www.metrolyrics.com/why-go-lyrics-pearl-jam.htmlhttps://www.metrolyrics.com/dirty-frank-lyrics-pearl-jam.htmlhttps://www.metrolyrics.com/stupid-mop-lyrics-pearl-jam.htmlhttps://www.metrolyrics.com/tremor-christ-lyrics-pearl-jam.htmlhttps://www.metrolyrics.com/angel-lyrics-pearl-jam.htmlhttps://www.metrolyrics.com/where-oh-where-could-my-baby-be-lyrics-pearl-jam.htmlhttps://www.metrolyrics.com/just-breathe-lyrics-pearl-jam.htmlhttps://www.metrolyrics.com/black-lyrics-pearl-jam.htmlhttps://www.metrolyrics.com/yellow-ledbetter-lyrics-pearl-jam.htmlhttps://www.metrolyrics.com/jeremy-lyrics-pearl-jam.htmlhttps://www.metrolyrics.com/even-flow-lyrics-pearl-jam.htmlhttps://www.metrolyrics.com/better-man-lyrics-pearl-jam.htmlhttps://www.metrolyrics.com/alive-lyrics-pearl-jam.htmlhttps://www.metrolyrics.com/last-kiss-lyrics-pearl-jam.htmlhttps://www.metrolyrics.com/release-lyrics-pearl-jam.htmlhttps://www.metrolyrics.com/untitled-lyrics-pearl-jam.htmlhttps://www.metrolyrics.com/elderly-woman-behind-the-counter-in-a-small-town-lyrics-pearl-jam.htmlhttps://www.metrolyrics.com/daughter-lyrics-pearl-jam.htmlhttps://www.metrolyrics.com/corduroy-lyrics-pearl-jam.htmlhttps://www.metrolyrics.com/given-to-fly-lyrics-pearl-jam.htmlhttps://www.metrolyrics.com/future-days-lyrics-pearl-jam.htmlhttps://www.metrolyrics.com/state-of-love-and-trust-lyrics-pearl-jam.htmlhttps://www.metrolyrics.com/sirens-lyrics-pearl-jam.htmlhttps://www.metrolyrics.com/oceans-lyrics-pearl-jam.htmlhttps://www.metrolyrics.com/wishlist-lyrics-pearl-jam.htmlhttps://www.metrolyrics.com/nothingman-lyrics-pearl-jam.htmlhttps://www.metrolyrics.com/come-back-lyrics-pearl-jam.htmlhttps://www.metrolyrics.com/i-am-mine-lyrics-pearl-jam.htmlhttps://www.metrolyrics.com/hunger-strike-lyrics-pearl-jam.htmlhttps://www.metrolyrics.com/off-he-goes-lyrics-pearl-jam.htmlhttps://www.metrolyrics.com/porch-lyrics-pearl-jam.htmlhttps://www.metrolyrics.com/leatherman-lyrics-pearl-jam.htmlhttps://www.metrolyrics.com/immortality-lyrics-pearl-jam.htmlhttps://www.metrolyrics.com/garden-lyrics-pearl-jam.htmlhttps://www.metrolyrics.com/rearview-mirror-lyrics-pearl-jam.htmlhttps://www.metrolyrics.com/indifference-lyrics-pearl-jam.htmlhttps://www.metrolyrics.com/man-of-the-hour-lyrics-pearl-jam.htmlhttps://www.metrolyrics.com/i-got-id-lyrics-pearl-jam.htmlhttps://www.metrolyrics.com/last-exit-lyrics-pearl-jam.htmlhttps://www.metrolyrics.com/breath-lyrics-pearl-jam.htmlhttps://www.metrolyrics.com/cant-deny-me-lyrics-pearl-jam.htmlhttps://www.metrolyrics.com/not-for-you-lyrics-pearl-jam.htmlhttps://www.metrolyrics.com/crazy-mary-lyrics-pearl-jam.htmlhttps://www.metrolyrics.com/do-the-evolution-lyrics-pearl-jam.htmlhttps://www.metrolyrics.com/glorified-g-lyrics-pearl-jam.htmlhttps://www.metrolyrics.com/out-of-my-mind-lyrics-pearl-jam.htmlhttps://www.metrolyrics.com/daughter-its-ok-jones-beach-ny-lyrics-pearl-jam.htmlhttps://www.metrolyrics.com/the-fixer-lyrics-pearl-jam.htmlhttps://www.metrolyrics.com/dissident-lyrics-pearl-jam.htmlhttps://www.metrolyrics.com/nothing-as-it-seems-lyrics-pearl-jam.htmlhttps://www.metrolyrics.com/pendulum-lyrics-pearl-jam.htmlhttps://www.metrolyrics.com/long-road-lyrics-pearl-jam.htmlhttps://www.metrolyrics.com/once-lyrics-pearl-jam.htmlhttps://www.metrolyrics.com/ive-got-a-feeling-lyrics-pearl-jam.htmlhttps://www.metrolyrics.com/inside-job-lyrics-pearl-jam.htmlhttps://www.metrolyrics.com/smile-lyrics-pearl-jam.htmlhttps://www.metrolyrics.com/unthought-known-lyrics-pearl-jam.htmlhttps://www.metrolyrics.com/lukin-lyrics-pearl-jam.htmlhttps://www.metrolyrics.com/its-ok-live-at-jones-beach-ny-lyrics-pearl-jam.htmlhttps://www.metrolyrics.com/the-end-lyrics-pearl-jam.htmlhttps://www.metrolyrics.com/youve-got-to-hide-your-love-away-lyrics-pearl-jam.htmlhttps://www.metrolyrics.com/go-lyrics-pearl-jam.htmlhttps://www.metrolyrics.com/hitchhiker-lyrics-pearl-jam.htmlhttps://www.metrolyrics.com/footsteps-lyrics-pearl-jam.htmlhttps://www.metrolyrics.com/spin-the-black-circle-lyrics-pearl-jam.htmlhttps://www.metrolyrics.com/present-tense-lyrics-pearl-jam.htmlhttps://www.metrolyrics.com/light-years-lyrics-pearl-jam.htmlhttps://www.metrolyrics.com/i-got-shit-lyrics-pearl-jam.htmlhttps://www.metrolyrics.com/rearviewmirror-lyrics-pearl-jam.htmlhttps://www.metrolyrics.com/wish-you-were-here-pink-floyd-cover-lyrics-pearl-jam.htmlhttps://www.metrolyrics.com/sad-lyrics-pearl-jam.htmlhttps://www.metrolyrics.com/saying-no-lyrics-pearl-jam.htmlhttps://www.metrolyrics.com/education-lyrics-pearl-jam.htmlhttps://www.metrolyrics.com/in-hiding-lyrics-pearl-jam.htmlhttps://www.metrolyrics.com/hail-hail-lyrics-pearl-jam.htmlhttps://www.metrolyrics.com/why-go-lyrics-pearl-jam.htmlhttps://www.metrolyrics.com/dirty-frank-lyrics-pearl-jam.htmlhttps://www.metrolyrics.com/stupid-mop-lyrics-pearl-jam.htmlhttps://www.metrolyrics.com/tremor-christ-lyrics-pearl-jam.htmlhttps://www.metrolyrics.com/angel-lyrics-pearl-jam.htmlhttps://www.metrolyrics.com/where-oh-where-could-my-baby-be-lyrics-pearl-jam.htmlhttps://www.metrolyrics.com/just-breathe-lyrics-pearl-jam.htmlhttps://www.metrolyrics.com/black-lyrics-pearl-jam.htmlhttps://www.metrolyrics.com/yellow-ledbetter-lyrics-pearl-jam.htmlhttps://www.metrolyrics.com/jeremy-lyrics-pearl-jam.htmlhttps://www.metrolyrics.com/even-flow-lyrics-pearl-jam.htmlhttps://www.metrolyrics.com/better-man-lyrics-pearl-jam.htmlhttps://www.metrolyrics.com/alive-lyrics-pearl-jam.htmlhttps://www.metrolyrics.com/last-kiss-lyrics-pearl-jam.htmlhttps://www.metrolyrics.com/release-lyrics-pearl-jam.htmlhttps://www.metrolyrics.com/untitled-lyrics-pearl-jam.htmlhttps://www.metrolyrics.com/elderly-woman-behind-the-counter-in-a-small-town-lyrics-pearl-jam.htmlhttps://www.metrolyrics.com/daughter-lyrics-pearl-jam.htmlhttps://www.metrolyrics.com/corduroy-lyrics-pearl-jam.htmlhttps://www.metrolyrics.com/given-to-fly-lyrics-pearl-jam.htmlhttps://www.metrolyrics.com/future-days-lyrics-pearl-jam.htmlhttps://www.metrolyrics.com/state-of-love-and-trust-lyrics-pearl-jam.htmlhttps://www.metrolyrics.com/sirens-lyrics-pearl-jam.htmlhttps://www.metrolyrics.com/oceans-lyrics-pearl-jam.htmlhttps://www.metrolyrics.com/wishlist-lyrics-pearl-jam.htmlhttps://www.metrolyrics.com/nothingman-lyrics-pearl-jam.htmlhttps://www.metrolyrics.com/come-back-lyrics-pearl-jam.htmlhttps://www.metrolyrics.com/i-am-mine-lyrics-pearl-jam.htmlhttps://www.metrolyrics.com/hunger-strike-lyrics-pearl-jam.htmlhttps://www.metrolyrics.com/off-he-goes-lyrics-pearl-jam.htmlhttps://www.metrolyrics.com/porch-lyrics-pearl-jam.htmlhttps://www.metrolyrics.com/leatherman-lyrics-pearl-jam.htmlhttps://www.metrolyrics.com/immortality-lyrics-pearl-jam.htmlhttps://www.metrolyrics.com/garden-lyrics-pearl-jam.htmlhttps://www.metrolyrics.com/rearview-mirror-lyrics-pearl-jam.htmlhttps://www.metrolyrics.com/indifference-lyrics-pearl-jam.htmlhttps://www.metrolyrics.com/man-of-the-hour-lyrics-pearl-jam.htmlhttps://www.metrolyrics.com/i-got-id-lyrics-pearl-jam.htmlhttps://www.metrolyrics.com/last-exit-lyrics-pearl-jam.htmlhttps://www.metrolyrics.com/breath-lyrics-pearl-jam.htmlhttps://www.metrolyrics.com/cant-deny-me-lyrics-pearl-jam.htmlhttps://www.metrolyrics.com/not-for-you-lyrics-pearl-jam.htmlhttps://www.metrolyrics.com/crazy-mary-lyrics-pearl-jam.htmlhttps://www.metrolyrics.com/do-the-evolution-lyrics-pearl-jam.htmlhttps://www.metrolyrics.com/glorified-g-lyrics-pearl-jam.htmlhttps://www.metrolyrics.com/out-of-my-mind-lyrics-pearl-jam.htmlhttps://www.metrolyrics.com/daughter-its-ok-jones-beach-ny-lyrics-pearl-jam.htmlhttps://www.metrolyrics.com/the-fixer-lyrics-pearl-jam.htmlhttps://www.metrolyrics.com/dissident-lyrics-pearl-jam.htmlhttps://www.metrolyrics.com/nothing-as-it-seems-lyrics-pearl-jam.htmlhttps://www.metrolyrics.com/pendulum-lyrics-pearl-jam.htmlhttps://www.metrolyrics.com/long-road-lyrics-pearl-jam.htmlhttps://www.metrolyrics.com/once-lyrics-pearl-jam.htmlhttps://www.metrolyrics.com/ive-got-a-feeling-lyrics-pearl-jam.htmlhttps://www.metrolyrics.com/inside-job-lyrics-pearl-jam.htmlhttps://www.metrolyrics.com/smile-lyrics-pearl-jam.htmlhttps://www.metrolyrics.com/unthought-known-lyrics-pearl-jam.htmlhttps://www.metrolyrics.com/lukin-lyrics-pearl-jam.htmlhttps://www.metrolyrics.com/its-ok-live-at-jones-beach-ny-lyrics-pearl-jam.htmlhttps://www.metrolyrics.com/the-end-lyrics-pearl-jam.htmlhttps://www.metrolyrics.com/youve-got-to-hide-your-love-away-lyrics-pearl-jam.htmlhttps://www.metrolyrics.com/go-lyrics-pearl-jam.htmlhttps://www.metrolyrics.com/hitchhiker-lyrics-pearl-jam.htmlhttps://www.metrolyrics.com/footsteps-lyrics-pearl-jam.htmlhttps://www.metrolyrics.com/spin-the-black-circle-lyrics-pearl-jam.htmlhttps://www.metrolyrics.com/present-tense-lyrics-pearl-jam.htmlhttps://www.metrolyrics.com/light-years-lyrics-pearl-jam.htmlhttps://www.metrolyrics.com/i-got-shit-lyrics-pearl-jam.htmlhttps://www.metrolyrics.com/rearviewmirror-lyrics-pearl-jam.htmlhttps://www.metrolyrics.com/wish-you-were-here-pink-floyd-cover-lyrics-pearl-jam.htmlhttps://www.metrolyrics.com/sad-lyrics-pearl-jam.htmlhttps://www.metrolyrics.com/saying-no-lyrics-pearl-jam.htmlhttps://www.metrolyrics.com/education-lyrics-pearl-jam.htmlhttps://www.metrolyrics.com/in-hiding-lyrics-pearl-jam.htmlhttps://www.metrolyrics.com/hail-hail-lyrics-pearl-jam.htmlhttps://www.metrolyrics.com/why-go-lyrics-pearl-jam.htmlhttps://www.metrolyrics.com/dirty-frank-lyrics-pearl-jam.htmlhttps://www.metrolyrics.com/stupid-mop-lyrics-pearl-jam.htmlhttps://www.metrolyrics.com/tremor-christ-lyrics-pearl-jam.htmlhttps://www.metrolyrics.com/angel-lyrics-pearl-jam.html']"
      ]
     },
     "execution_count": 98,
     "metadata": {},
     "output_type": "execute_result"
    }
   ],
   "source": [
    "x"
   ]
  },
  {
   "cell_type": "code",
   "execution_count": 96,
   "metadata": {},
   "outputs": [
    {
     "ename": "MissingSchema",
     "evalue": "Invalid URL '0': No schema supplied. Perhaps you meant http://0?",
     "output_type": "error",
     "traceback": [
      "\u001b[0;31m---------------------------------------------------------------------------\u001b[0m",
      "\u001b[0;31mMissingSchema\u001b[0m                             Traceback (most recent call last)",
      "\u001b[0;32m<ipython-input-96-4360fc99dfad>\u001b[0m in \u001b[0;36m<module>\u001b[0;34m\u001b[0m\n\u001b[1;32m      3\u001b[0m \u001b[0;32mfor\u001b[0m \u001b[0mi\u001b[0m \u001b[0;32min\u001b[0m \u001b[0mrange\u001b[0m\u001b[0;34m(\u001b[0m\u001b[0mlen\u001b[0m\u001b[0;34m(\u001b[0m\u001b[0mx\u001b[0m\u001b[0;34m)\u001b[0m\u001b[0;34m)\u001b[0m\u001b[0;34m:\u001b[0m\u001b[0;34m\u001b[0m\u001b[0;34m\u001b[0m\u001b[0m\n\u001b[1;32m      4\u001b[0m     \u001b[0mlyrics_text\u001b[0m \u001b[0;34m=\u001b[0m \u001b[0;34m[\u001b[0m\u001b[0;34m]\u001b[0m\u001b[0;34m\u001b[0m\u001b[0;34m\u001b[0m\u001b[0m\n\u001b[0;32m----> 5\u001b[0;31m     \u001b[0mpj\u001b[0m \u001b[0;34m=\u001b[0m \u001b[0mrequests\u001b[0m\u001b[0;34m.\u001b[0m\u001b[0mget\u001b[0m\u001b[0;34m(\u001b[0m\u001b[0mi\u001b[0m\u001b[0;34m)\u001b[0m\u001b[0;34m\u001b[0m\u001b[0;34m\u001b[0m\u001b[0m\n\u001b[0m\u001b[1;32m      6\u001b[0m     \u001b[0mparser\u001b[0m \u001b[0;34m=\u001b[0m \u001b[0mBeautifulSoup\u001b[0m\u001b[0;34m(\u001b[0m\u001b[0mpj\u001b[0m\u001b[0;34m.\u001b[0m\u001b[0mtext\u001b[0m\u001b[0;34m,\u001b[0m \u001b[0;34m'html.parser'\u001b[0m\u001b[0;34m)\u001b[0m\u001b[0;34m\u001b[0m\u001b[0;34m\u001b[0m\u001b[0m\n\u001b[1;32m      7\u001b[0m     \u001b[0mlyrics\u001b[0m \u001b[0;34m=\u001b[0m \u001b[0mparser\u001b[0m\u001b[0;34m.\u001b[0m\u001b[0mfind_all\u001b[0m\u001b[0;34m(\u001b[0m\u001b[0mattrs\u001b[0m \u001b[0;34m=\u001b[0m \u001b[0;34m{\u001b[0m\u001b[0;34m'id'\u001b[0m\u001b[0;34m:\u001b[0m\u001b[0;34m'lyrics-body-text'\u001b[0m\u001b[0;34m}\u001b[0m\u001b[0;34m)\u001b[0m\u001b[0;34m[\u001b[0m\u001b[0;36m0\u001b[0m\u001b[0;34m]\u001b[0m\u001b[0;34m.\u001b[0m\u001b[0mfind_all\u001b[0m\u001b[0;34m(\u001b[0m\u001b[0mattrs\u001b[0m \u001b[0;34m=\u001b[0m \u001b[0;34m{\u001b[0m\u001b[0;34m'class'\u001b[0m \u001b[0;34m:\u001b[0m \u001b[0;34m'verse'\u001b[0m\u001b[0;34m}\u001b[0m\u001b[0;34m)\u001b[0m\u001b[0;34m\u001b[0m\u001b[0;34m\u001b[0m\u001b[0m\n",
      "\u001b[0;32m/anaconda3/lib/python3.7/site-packages/requests/api.py\u001b[0m in \u001b[0;36mget\u001b[0;34m(url, params, **kwargs)\u001b[0m\n\u001b[1;32m     73\u001b[0m \u001b[0;34m\u001b[0m\u001b[0m\n\u001b[1;32m     74\u001b[0m     \u001b[0mkwargs\u001b[0m\u001b[0;34m.\u001b[0m\u001b[0msetdefault\u001b[0m\u001b[0;34m(\u001b[0m\u001b[0;34m'allow_redirects'\u001b[0m\u001b[0;34m,\u001b[0m \u001b[0;32mTrue\u001b[0m\u001b[0;34m)\u001b[0m\u001b[0;34m\u001b[0m\u001b[0;34m\u001b[0m\u001b[0m\n\u001b[0;32m---> 75\u001b[0;31m     \u001b[0;32mreturn\u001b[0m \u001b[0mrequest\u001b[0m\u001b[0;34m(\u001b[0m\u001b[0;34m'get'\u001b[0m\u001b[0;34m,\u001b[0m \u001b[0murl\u001b[0m\u001b[0;34m,\u001b[0m \u001b[0mparams\u001b[0m\u001b[0;34m=\u001b[0m\u001b[0mparams\u001b[0m\u001b[0;34m,\u001b[0m \u001b[0;34m**\u001b[0m\u001b[0mkwargs\u001b[0m\u001b[0;34m)\u001b[0m\u001b[0;34m\u001b[0m\u001b[0;34m\u001b[0m\u001b[0m\n\u001b[0m\u001b[1;32m     76\u001b[0m \u001b[0;34m\u001b[0m\u001b[0m\n\u001b[1;32m     77\u001b[0m \u001b[0;34m\u001b[0m\u001b[0m\n",
      "\u001b[0;32m/anaconda3/lib/python3.7/site-packages/requests/api.py\u001b[0m in \u001b[0;36mrequest\u001b[0;34m(method, url, **kwargs)\u001b[0m\n\u001b[1;32m     58\u001b[0m     \u001b[0;31m# cases, and look like a memory leak in others.\u001b[0m\u001b[0;34m\u001b[0m\u001b[0;34m\u001b[0m\u001b[0;34m\u001b[0m\u001b[0m\n\u001b[1;32m     59\u001b[0m     \u001b[0;32mwith\u001b[0m \u001b[0msessions\u001b[0m\u001b[0;34m.\u001b[0m\u001b[0mSession\u001b[0m\u001b[0;34m(\u001b[0m\u001b[0;34m)\u001b[0m \u001b[0;32mas\u001b[0m \u001b[0msession\u001b[0m\u001b[0;34m:\u001b[0m\u001b[0;34m\u001b[0m\u001b[0;34m\u001b[0m\u001b[0m\n\u001b[0;32m---> 60\u001b[0;31m         \u001b[0;32mreturn\u001b[0m \u001b[0msession\u001b[0m\u001b[0;34m.\u001b[0m\u001b[0mrequest\u001b[0m\u001b[0;34m(\u001b[0m\u001b[0mmethod\u001b[0m\u001b[0;34m=\u001b[0m\u001b[0mmethod\u001b[0m\u001b[0;34m,\u001b[0m \u001b[0murl\u001b[0m\u001b[0;34m=\u001b[0m\u001b[0murl\u001b[0m\u001b[0;34m,\u001b[0m \u001b[0;34m**\u001b[0m\u001b[0mkwargs\u001b[0m\u001b[0;34m)\u001b[0m\u001b[0;34m\u001b[0m\u001b[0;34m\u001b[0m\u001b[0m\n\u001b[0m\u001b[1;32m     61\u001b[0m \u001b[0;34m\u001b[0m\u001b[0m\n\u001b[1;32m     62\u001b[0m \u001b[0;34m\u001b[0m\u001b[0m\n",
      "\u001b[0;32m/anaconda3/lib/python3.7/site-packages/requests/sessions.py\u001b[0m in \u001b[0;36mrequest\u001b[0;34m(self, method, url, params, data, headers, cookies, files, auth, timeout, allow_redirects, proxies, hooks, stream, verify, cert, json)\u001b[0m\n\u001b[1;32m    517\u001b[0m             \u001b[0mhooks\u001b[0m\u001b[0;34m=\u001b[0m\u001b[0mhooks\u001b[0m\u001b[0;34m,\u001b[0m\u001b[0;34m\u001b[0m\u001b[0;34m\u001b[0m\u001b[0m\n\u001b[1;32m    518\u001b[0m         )\n\u001b[0;32m--> 519\u001b[0;31m         \u001b[0mprep\u001b[0m \u001b[0;34m=\u001b[0m \u001b[0mself\u001b[0m\u001b[0;34m.\u001b[0m\u001b[0mprepare_request\u001b[0m\u001b[0;34m(\u001b[0m\u001b[0mreq\u001b[0m\u001b[0;34m)\u001b[0m\u001b[0;34m\u001b[0m\u001b[0;34m\u001b[0m\u001b[0m\n\u001b[0m\u001b[1;32m    520\u001b[0m \u001b[0;34m\u001b[0m\u001b[0m\n\u001b[1;32m    521\u001b[0m         \u001b[0mproxies\u001b[0m \u001b[0;34m=\u001b[0m \u001b[0mproxies\u001b[0m \u001b[0;32mor\u001b[0m \u001b[0;34m{\u001b[0m\u001b[0;34m}\u001b[0m\u001b[0;34m\u001b[0m\u001b[0;34m\u001b[0m\u001b[0m\n",
      "\u001b[0;32m/anaconda3/lib/python3.7/site-packages/requests/sessions.py\u001b[0m in \u001b[0;36mprepare_request\u001b[0;34m(self, request)\u001b[0m\n\u001b[1;32m    460\u001b[0m             \u001b[0mauth\u001b[0m\u001b[0;34m=\u001b[0m\u001b[0mmerge_setting\u001b[0m\u001b[0;34m(\u001b[0m\u001b[0mauth\u001b[0m\u001b[0;34m,\u001b[0m \u001b[0mself\u001b[0m\u001b[0;34m.\u001b[0m\u001b[0mauth\u001b[0m\u001b[0;34m)\u001b[0m\u001b[0;34m,\u001b[0m\u001b[0;34m\u001b[0m\u001b[0;34m\u001b[0m\u001b[0m\n\u001b[1;32m    461\u001b[0m             \u001b[0mcookies\u001b[0m\u001b[0;34m=\u001b[0m\u001b[0mmerged_cookies\u001b[0m\u001b[0;34m,\u001b[0m\u001b[0;34m\u001b[0m\u001b[0;34m\u001b[0m\u001b[0m\n\u001b[0;32m--> 462\u001b[0;31m             \u001b[0mhooks\u001b[0m\u001b[0;34m=\u001b[0m\u001b[0mmerge_hooks\u001b[0m\u001b[0;34m(\u001b[0m\u001b[0mrequest\u001b[0m\u001b[0;34m.\u001b[0m\u001b[0mhooks\u001b[0m\u001b[0;34m,\u001b[0m \u001b[0mself\u001b[0m\u001b[0;34m.\u001b[0m\u001b[0mhooks\u001b[0m\u001b[0;34m)\u001b[0m\u001b[0;34m,\u001b[0m\u001b[0;34m\u001b[0m\u001b[0;34m\u001b[0m\u001b[0m\n\u001b[0m\u001b[1;32m    463\u001b[0m         )\n\u001b[1;32m    464\u001b[0m         \u001b[0;32mreturn\u001b[0m \u001b[0mp\u001b[0m\u001b[0;34m\u001b[0m\u001b[0;34m\u001b[0m\u001b[0m\n",
      "\u001b[0;32m/anaconda3/lib/python3.7/site-packages/requests/models.py\u001b[0m in \u001b[0;36mprepare\u001b[0;34m(self, method, url, headers, files, data, params, auth, cookies, hooks, json)\u001b[0m\n\u001b[1;32m    311\u001b[0m \u001b[0;34m\u001b[0m\u001b[0m\n\u001b[1;32m    312\u001b[0m         \u001b[0mself\u001b[0m\u001b[0;34m.\u001b[0m\u001b[0mprepare_method\u001b[0m\u001b[0;34m(\u001b[0m\u001b[0mmethod\u001b[0m\u001b[0;34m)\u001b[0m\u001b[0;34m\u001b[0m\u001b[0;34m\u001b[0m\u001b[0m\n\u001b[0;32m--> 313\u001b[0;31m         \u001b[0mself\u001b[0m\u001b[0;34m.\u001b[0m\u001b[0mprepare_url\u001b[0m\u001b[0;34m(\u001b[0m\u001b[0murl\u001b[0m\u001b[0;34m,\u001b[0m \u001b[0mparams\u001b[0m\u001b[0;34m)\u001b[0m\u001b[0;34m\u001b[0m\u001b[0;34m\u001b[0m\u001b[0m\n\u001b[0m\u001b[1;32m    314\u001b[0m         \u001b[0mself\u001b[0m\u001b[0;34m.\u001b[0m\u001b[0mprepare_headers\u001b[0m\u001b[0;34m(\u001b[0m\u001b[0mheaders\u001b[0m\u001b[0;34m)\u001b[0m\u001b[0;34m\u001b[0m\u001b[0;34m\u001b[0m\u001b[0m\n\u001b[1;32m    315\u001b[0m         \u001b[0mself\u001b[0m\u001b[0;34m.\u001b[0m\u001b[0mprepare_cookies\u001b[0m\u001b[0;34m(\u001b[0m\u001b[0mcookies\u001b[0m\u001b[0;34m)\u001b[0m\u001b[0;34m\u001b[0m\u001b[0;34m\u001b[0m\u001b[0m\n",
      "\u001b[0;32m/anaconda3/lib/python3.7/site-packages/requests/models.py\u001b[0m in \u001b[0;36mprepare_url\u001b[0;34m(self, url, params)\u001b[0m\n\u001b[1;32m    385\u001b[0m             \u001b[0merror\u001b[0m \u001b[0;34m=\u001b[0m \u001b[0merror\u001b[0m\u001b[0;34m.\u001b[0m\u001b[0mformat\u001b[0m\u001b[0;34m(\u001b[0m\u001b[0mto_native_string\u001b[0m\u001b[0;34m(\u001b[0m\u001b[0murl\u001b[0m\u001b[0;34m,\u001b[0m \u001b[0;34m'utf8'\u001b[0m\u001b[0;34m)\u001b[0m\u001b[0;34m)\u001b[0m\u001b[0;34m\u001b[0m\u001b[0;34m\u001b[0m\u001b[0m\n\u001b[1;32m    386\u001b[0m \u001b[0;34m\u001b[0m\u001b[0m\n\u001b[0;32m--> 387\u001b[0;31m             \u001b[0;32mraise\u001b[0m \u001b[0mMissingSchema\u001b[0m\u001b[0;34m(\u001b[0m\u001b[0merror\u001b[0m\u001b[0;34m)\u001b[0m\u001b[0;34m\u001b[0m\u001b[0;34m\u001b[0m\u001b[0m\n\u001b[0m\u001b[1;32m    388\u001b[0m \u001b[0;34m\u001b[0m\u001b[0m\n\u001b[1;32m    389\u001b[0m         \u001b[0;32mif\u001b[0m \u001b[0;32mnot\u001b[0m \u001b[0mhost\u001b[0m\u001b[0;34m:\u001b[0m\u001b[0;34m\u001b[0m\u001b[0;34m\u001b[0m\u001b[0m\n",
      "\u001b[0;31mMissingSchema\u001b[0m: Invalid URL '0': No schema supplied. Perhaps you meant http://0?"
     ]
    }
   ],
   "source": [
    "#Change this with a for loop that takes all the songs from an artist\n",
    "\n",
    "for i in range(len(x)):\n",
    "    lyrics_text = []\n",
    "    pj = requests.get(i)\n",
    "    parser = BeautifulSoup(pj.text, 'html.parser')\n",
    "    lyrics = parser.find_all(attrs = {'id':'lyrics-body-text'})[0].find_all(attrs = {'class' : 'verse'})\n",
    "    for i in range(len(lyrics)):\n",
    "        verse = parser.find_all(attrs = {'id':'lyrics-body-text'})[0].find_all(attrs = {'class' : 'verse'})[i].get_text()\n",
    "        lyrics_text.append(verse)\n",
    "        song_name = element[0].split('/')[3].split('.htm')[0]\n",
    "        file1 = open(f'{song_name}.txt',\"a\") \n",
    "        for i in range(len(lyrics_text)):\n",
    "            file1.write(lyrics_text[i])\n",
    "        file1.close()"
   ]
  },
  {
   "cell_type": "code",
   "execution_count": 86,
   "metadata": {},
   "outputs": [],
   "source": [
    "pj = requests.get(element)\n",
    "parser = BeautifulSoup(pj.text, 'html.parser')"
   ]
  },
  {
   "cell_type": "code",
   "execution_count": 87,
   "metadata": {},
   "outputs": [
    {
     "data": {
      "text/plain": [
       "<html><head>\n",
       "<title>Bad Request</title>\n",
       "</head><body>\n",
       "<h1>Bad Request</h1>\n",
       "Your browser sent a request that this server could not understand.<p>\n",
       "Reference #7.14f21b59.1583758288.0\n",
       "</p></body>\n",
       "</html>"
      ]
     },
     "execution_count": 87,
     "metadata": {},
     "output_type": "execute_result"
    }
   ],
   "source": [
    "parser"
   ]
  },
  {
   "cell_type": "code",
   "execution_count": null,
   "metadata": {},
   "outputs": [],
   "source": []
  },
  {
   "cell_type": "code",
   "execution_count": 3,
   "metadata": {},
   "outputs": [],
   "source": [
    "parser = BeautifulSoup(abba.text, 'html.parser')"
   ]
  },
  {
   "cell_type": "code",
   "execution_count": 6,
   "metadata": {},
   "outputs": [],
   "source": [
    "lyrics = parser.find_all(attrs = {'id':'lyrics-body-text'})[0].find_all(attrs = {'class' : 'verse'})"
   ]
  },
  {
   "cell_type": "code",
   "execution_count": 13,
   "metadata": {},
   "outputs": [],
   "source": [
    "\n",
    "for i in range(len(lyrics)):\n",
    "    verse = parser.find_all(attrs = {'id':'lyrics-body-text'})[0].find_all(attrs = {'class' : 'verse'})[i].get_text()\n",
    "    lyrics_text.append(verse)\n",
    "    "
   ]
  },
  {
   "cell_type": "code",
   "execution_count": 70,
   "metadata": {},
   "outputs": [
    {
     "data": {
      "text/plain": [
       "[\"Honey honey, how you thrill me, ah-hah, honey honey\\nHoney honey, nearly kill me, ah-hah, honey honey\\nI'd heard about you before\\nI wanted to know some more\\nAnd now I know what they mean, you're a love machine\\nOh, you make me dizzy\",\n",
       " \"Honey honey, let me feel it, ah-hah, honey honey\\nHoney honey, don't conceal it, ah-hah, honey honey\\nThe way that you kiss goodnight\\n(The way that you kiss me goodnight)\\nThe way that you hold me tight\\n(The way that you're holding me tight)\\nI feel like I wanna sing when you do your thing\",\n",
       " \"I don't wanna hurt you, baby, I don't wanna see you cry\\nSo stay on the ground, girl, you better not get too high\\nBut I'm gonna stick to you, boy, you'll never get rid of me\\nThere's no other place in this world where I rather would be\",\n",
       " \"Honey honey, touch me, baby, ah-hah, honey honey\\nHoney honey, hold me, baby, ah-hah, honey honey\\nYou look like a movie star\\n(You look like a movie star)\\nBut I know just who you are\\n(I know just who you are)\\nAnd, honey, to say the least, you're a dog-gone beast\",\n",
       " \"So stay on the ground, girl, you better not get too high\\nThere's no other place in this world where I rather would be\\nHoney honey, how you thrill me, ah-hah, honey honey\\nHoney honey, nearly kill me, ah-hah, honey honey\\nI heard about you before.\"]"
      ]
     },
     "execution_count": 70,
     "metadata": {},
     "output_type": "execute_result"
    }
   ],
   "source": [
    "lyrics_text"
   ]
  },
  {
   "cell_type": "code",
   "execution_count": 71,
   "metadata": {},
   "outputs": [],
   "source": [
    "htm = ['https://www.metrolyrics.com/honey-honey-lyrics-abba.htm']"
   ]
  },
  {
   "cell_type": "code",
   "execution_count": 74,
   "metadata": {},
   "outputs": [
    {
     "data": {
      "text/plain": [
       "['https:', '', 'www.metrolyrics.com', 'honey-honey-lyrics-abba.htm']"
      ]
     },
     "execution_count": 74,
     "metadata": {},
     "output_type": "execute_result"
    }
   ],
   "source": [
    "htm[0].split('/')     "
   ]
  },
  {
   "cell_type": "code",
   "execution_count": 75,
   "metadata": {},
   "outputs": [
    {
     "data": {
      "text/plain": [
       "['honey-honey-lyrics-abba', '']"
      ]
     },
     "execution_count": 75,
     "metadata": {},
     "output_type": "execute_result"
    }
   ],
   "source": [
    "htm[0].split('/')[3].split('.htm')"
   ]
  },
  {
   "cell_type": "code",
   "execution_count": 77,
   "metadata": {},
   "outputs": [],
   "source": [
    "song_name = htm[0].split('/')[3].split('.htm')[0]"
   ]
  },
  {
   "cell_type": "code",
   "execution_count": 80,
   "metadata": {},
   "outputs": [],
   "source": [
    "file1 = open(f'{song_name}.txt',\"a\") \n",
    "for i in range(len(lyrics_text)):\n",
    "    file1.write(lyrics_text[i])\n",
    "file1.close()"
   ]
  },
  {
   "cell_type": "code",
   "execution_count": 54,
   "metadata": {},
   "outputs": [
    {
     "data": {
      "text/plain": [
       "[None, None, None, None, None]"
      ]
     },
     "execution_count": 54,
     "metadata": {},
     "output_type": "execute_result"
    }
   ],
   "source": []
  },
  {
   "cell_type": "code",
   "execution_count": null,
   "metadata": {},
   "outputs": [],
   "source": []
  }
 ],
 "metadata": {
  "kernelspec": {
   "display_name": "Python 3",
   "language": "python",
   "name": "python3"
  },
  "language_info": {
   "codemirror_mode": {
    "name": "ipython",
    "version": 3
   },
   "file_extension": ".py",
   "mimetype": "text/x-python",
   "name": "python",
   "nbconvert_exporter": "python",
   "pygments_lexer": "ipython3",
   "version": "3.7.3"
  }
 },
 "nbformat": 4,
 "nbformat_minor": 2
}
