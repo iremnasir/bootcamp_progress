{
 "cells": [
  {
   "cell_type": "code",
   "execution_count": 1,
   "metadata": {},
   "outputs": [],
   "source": [
    "import requests\n",
    "from bs4 import BeautifulSoup"
   ]
  },
  {
   "cell_type": "code",
   "execution_count": 2,
   "metadata": {},
   "outputs": [],
   "source": [
    "abba = requests.get('https://www.metrolyrics.com/honey-honey-lyrics-abba.html')"
   ]
  },
  {
   "cell_type": "code",
   "execution_count": 3,
   "metadata": {},
   "outputs": [
    {
     "data": {
      "text/plain": [
       "<Response [200]>"
      ]
     },
     "execution_count": 3,
     "metadata": {},
     "output_type": "execute_result"
    }
   ],
   "source": [
    "abba"
   ]
  },
  {
   "cell_type": "code",
   "execution_count": 4,
   "metadata": {},
   "outputs": [
    {
     "data": {
      "text/plain": [
       "'<!DOCTYPE html>\\n<!--[if lt IE 7]><html lang=\"en\" xmlns=\"https://www.w3.org/1999/xhtml\" xmlns:fb=\"https://www.facebook.com/2008/fbml\" class=\"no-js lt-ie9 lt-ie8 lt-ie7\"><![endif]-->\\n<!--[if IE 7]><html lang=\"en\" xmlns=\"https://www.w3.org/1999/xhtml\" xmlns:fb=\"https://www.facebook.com/2008/fbml\" class=\"no-js lt-ie9 lt-ie8\"><![endif]-->\\n<!--[if IE 8]><html lang=\"en\" xmlns=\"https://www.w3.org/1999/xhtml\" xmlns:fb=\"https://www.facebook.com/2008/fbml\" class=\"no-js lt-ie9\"><![endif]-->\\n<!--[if gt IE 8]><!-->\\n<html lang=\"en\" xmlns=\"https://www.w3.org/1999/xhtml\" xmlns:fb=\"https://www.facebook.com/2008/fbml\" class=\"no-js\"><!--<![endif]-->\\n<head>\\n<meta charset=\"utf-8\">\\n<!-- OneTrust CMP -->\\n<script src=\"https://cdn.cookielaw.org/scripttemplates/otSDKStub.js\" charset=\"UTF-8\" data-domain-script=\"cdc6bdca-d22e-4e6d-afba-590f9fd3d7b1\"></script>\\n<!-- optanon - standardized api for OneTrust -->\\n<script src=\"//production-cmp.isgprivacy.cbsi.com/dist/optanon.js\" async></script>\\n<!-- optanon api bootstrap -->\\n<script>!function(n){var o=window,a=\"cbsoptanon\",c=\"cmd\",d=\"config\";o[a]=o[a]?o[a]:{},o[a][c]=o[a][c]?o[a][c]:[],o[a][d]=o[a][d]?o[a][d]:[],[\"onIframesReady\",\"onFormsReady\",\"onScriptsReady\",\"onAdsReady\"].forEach(function(n){o[a][n]=o[a][n]||function(){var d=arguments;o[a][c].push(function(){o[a][n].apply(o[a],d)})}})}();</script>\\n<meta http-equiv=\"X-UA-Compatible\" content=\"IE=edge,chrome=1\">\\n<meta name=\"description\" content=\"Lyrics to \\'Honey Honey\\' by ABBA. Honey honey, how you thrill me, ah-hah, honey honey\\nHoney honey, nearly kill me, ah-hah, honey honey\\nI\\'d heard about you before\\nI wanted to know some more\\nAnd now I know what they mean, you\\'re a love machine\"/>\\n<meta property=\"og:image\" content=\"https://netstorage.metrolyrics.com/artists/profile/maf.jpg\"/>\\n<meta name=\"viewport\" content=\"width=device-width, maximum-scale=1.0\"/>\\n<title>ABBA - Honey Honey Lyrics | MetroLyrics</title>\\n<link rel=\"icon\" href=\"/favicon.ico\" type=\"image/x-icon\">\\n<link rel=\"search\" type=\"application/opensearchdescription+xml\" title=\"metrolyrics\" href=\"/tools/ff_search_bar.xml\">\\n<link rel=\"canonical\" href=\"https://www.metrolyrics.com/honey-honey-lyrics-abba.html\"/>\\n<link pagespeed_no_defer=\"\" rel=\"stylesheet\" href=\"https://www.metrolyrics.com/css/desktop/lyrics-v9.9.0.css\">\\n<script pagespeed_no_defer=\"\" src=\"https://www.metrolyrics.com/js/vendor/uuid.min-v9.9.0.js\"></script>\\n<script src=\"https://www.metrolyrics.com/js/vendor/modernizr-2.6.2.min.js\"></script>\\n<script pagespeed_no_defer=\"\">var ml=ml||{\"v\":\"9.9.0\",\"eC\":\"Artist Lyric Specific\",\"theme\":\"desktop\",\"isDev\":false,\"USOnly\":\"No\",\"ursLive\":true,\"HTTPS_ON\":true,\"offlineSchedules\":false,\"secure_url\":\"https:\\\\/\\\\/secure.metrolyrics.com\\\\/\",\"full_url\":\"https:\\\\/\\\\/www.metrolyrics.com\\\\/\",\"sdkUrl\":\"https:\\\\/\\\\/urs.metrolyrics.com\\\\/sdk\\\\/urs\",\"ftags\":{\"social\":{\"facebook\":\"MLY93028fc\",\"twitter\":\"MLY2b7d662\",\"google\":\"MLY74539b5\"}},\"lyricfindid\":\"001-26576132\",\"hasbody\":2,\"lyricid\":14155,\"lyricLocked\":1,\"artistid\":176,\"searcht\":\"honey-honey-lyrics-abba\",\"mmbacklink\":\"https:\\\\/\\\\/www.musixmatch.com\\\\/lyrics\\\\/ABBA\\\\/Honey-Honey?utm_source=application&utm_campaign=api&utm_medium=CBS+Interactive%3A1409615412502\",\"shareImage\":\"https:\\\\/\\\\/netstorage.metrolyrics.com\\\\/artists\\\\/profile\\\\/maf.jpg\",\"lyricLength\":33,\"lyricName\":\"ABBA - Honey Honey\",\"constants\":{\"USER_CLOSE\":\"user.close\",\"USER_LOGGED_IN\":\"user.loggedin\",\"USER_LOGGED_OUT\":\"user.loggedout\",\"NOTIFICATIONS_DONE\":\"notifications.done\",\"ANGULAR_LOADED\":\"angular.init\"},\"encodedLyric\":{\"title\":\"Honey%20Honey\",\"artist\":\"ABBA\"},\"user\":{\"TypeEnum-verifiedArtist\":\"Verified\",\"TypeEnum-metrolyrics\":\"Metrolyrics\",\"SubTypeEnum-publisher\":\"Publisher\",\"SubTypeEnum-songwriter\":\"Song Writer\",\"SubTypeEnum-mlEditor\":\"Editor\",\"SubTypeEnum-artist\":\"Artist\"},\"alert\":{\"network\":\"We are sorry but we were unable to connect to the server.\",\"required\":\"This field is required.\"}},vguid=uuid.v1(),googletag=googletag||{};googletag.cmd=googletag.cmd||[];ml.adData={isSkin:false,isBlank:true,skinType:\"null\"};ml.ev=function(eA,eL,eV){var keys=[\\'eA\\',\\'eL\\',\\'eV\\'],data={\\'event\\':\\'ge\\',\\'eC\\':ml.eC};for(var i=0;i<arguments.length;i++){data[keys[i]]=arguments[i];};if(typeof om!=\\'undefined\\'&&typeof om.trackClick===\\'function\\'){om.trackClick({\\'item\\':eA+\\'|\\'+eL});}if(\\'undefined\\'!==typeof dataLayer){return dataLayer.push(data);}else{return;}};ml.cookieDomain=\\'metrolyrics.com\\';window.ev=ml.ev;document.cookie=\"s_tagEnv=live; path=/\";</script>\\n<script type=\"text/plain\" class=\"optanon-category-3\">\\n\\tvar dataLayer = dataLayer || [];\\n\\n\\t(function(w,d,s,l,i){w[l]=w[l]||[];w[l].push({\\'gtm.start\\':\\n\\tnew Date().getTime(),event:\\'gtm.js\\'});var f=d.getElementsByTagName(s)[0],\\n\\tj=d.createElement(s),dl=l!=\\'dataLayer\\'?\\'&l=\\'+l:\\'\\';j.async=true;j.src=\\n\\t\\'//www.googletagmanager.com/gtm.js?id=\\'+i+dl;f.parentNode.insertBefore(j,f);\\n\\t})(window,document,\\'script\\',\\'dataLayer\\',\\'GTM-6QP2\\');\\n</script>\\n<script src=\"https://native.sharethrough.com/assets/tag.js\" type=\"text/plain\" class=\"optanon-category-3\"></script>\\n<script src=\"https://z.moatads.com/cbsprebidheader506831276743/yield.js\" type=\"text/plain\" class=\"optanon-category-4\"></script>\\n<script src=\"https://js-sec.indexww.com/ht/ls-metrolyrics.js\" type=\"text/plain\" class=\"optanon-category-4\"></script>\\n<script src=\"https://mtrx.go.sonobi.com/morpheus.cbsi.media.1655.js\" type=\"text/plain\" class=\"optanon-category-4\"></script>\\n<script>var gads=document.createElement(\\'script\\');gads.async=true;gads.type=\\'text/javascript\\';var useSSL=\\'https:\\'==document.location.protocol;gads.src=(useSSL?\\'https:\\':\\'http:\\')+\\'//www.googletagservices.com/tag/js/gpt.js\\';var node=document.getElementsByTagName(\\'script\\')[0];node.parentNode.insertBefore(gads,node);setMoatPrebidData=function(adSlot){if(window.moatPrebidApi&&typeof window.moatPrebidApi.enableLogging===\\'function\\'){window.moatPrebidApi.enableLogging();}if(window.moatPrebidApi&&typeof window.moatPrebidApi.slotDataAvailable===\\'function\\'&&window.moatPrebidApi.slotDataAvailable()){if(typeof adSlot!=\"undefined\"){console.log(\"MYI:  Slot level data added to one slot!\");return window.moatPrebidApi.setMoatTargetingForSlot(adSlot);}else{console.log(\"MYI: slot level data added to all slots!\");return window.moatPrebidApi.setMoatTargetingForAllSlots();}}else{console.log(\"MYI: slot level data not available.\");return false;}}\\nfunction moatYieldReady(){setMoatPrebidData();}googletag.CBSigetCookieValue=function(ckNm){var name=ckNm+\"=\";var decodedCookie=decodeURIComponent(document.cookie);var ca=decodedCookie.split(\\';\\');for(var i=0;i<ca.length;i++){var c=ca[i];while(c.charAt(0)==\\' \\'){c=c.substring(1);}if(c.indexOf(name)==0){return c.substring(name.length,c.length);}}return\"\";};googletag.CBSiisEDT=function(dt){var edtStart=new Date(dt.getFullYear(),2,1);edtStart=Date.UTC(edtStart.getUTCFullYear(),2,14-(edtStart.getUTCDay()+13)%7,5);var edtEnd=new Date(dt.getFullYear(),10,1);edtEnd=Date.UTC(edtEnd.getUTCFullYear(),10,7-(edtEnd.getUTCDay()+6)%7,4);return dt.getTime()>=edtStart&&dt.getTime()<edtEnd;};googletag.CBSiaddPageView=function(){var pv=1;var cookiename=\"pv\";if(document.cookie.indexOf(cookiename)!=-1){pv=parseInt(googletag.CBSigetCookieValue(cookiename));if(isNaN(pv)){pv=1;}else{pv+=1;}}var dt=new Date();var exp=Date.UTC(dt.getUTCFullYear(),dt.getUTCMonth(),dt.getUTCDate(),googletag.CBSiisEDT(dt)?4:5);exp+=exp>dt.getTime()?0:24*60*60*1000;exp=new Date(exp).toUTCString();var domainArr=document.domain.split(\\'.\\').reverse();var l2domain=document.domain;if(domainArr[1]!=null){l2domain=domainArr[1]+\".\"+domainArr[0];}document.cookie=cookiename+\"=\"+pv+\";path=/;domain=\"+l2domain+\";expires=\"+exp;googletag.pubads().setTargeting(\"pv\",\"\"+pv);};googletag.cmd.push(function(){window.dfpSlots=[];window.dfpSlots.push(googletag.defineOutOfPageSlot(\"/8264/aw-metrolyrics/artist/lyrics/gn\",\"out-of-page\").addService(googletag.pubads()));if(ml.eC!==\"Homepage\"){window.lb_slot=googletag.defineSlot(\\'/8264/aw-metrolyrics/artist/lyrics/gn\\',[[728,90],[970,66],[970,250],[728,91]],\\'div-gpt-ad-leaderboard\\').addService(googletag.pubads()).setTargeting(\"pos\",\"top\");window.dfpSlots.push(window.lb_slot);window.setMoatPrebidData(\\'div-gpt-ad-leaderboard\\');}window.dfpSlots.push(googletag.defineSlot(\\'/8264/aw-metrolyrics/artist/lyrics/gn\\',[[300,250],[300,500],[300,600]],\\'div-gpt-ad-mpu\\').addService(googletag.pubads()).setTargeting(\"pos\",\"top\"));window.setMoatPrebidData(\\'div-gpt-ad-mpu\\');window.dfpSlots.push(googletag.defineSlot(\\'/8264/aw-metrolyrics/artist/lyrics/gn\\',[[300,250]],\\'div-gpt-ad-mpu_middle\\').addService(googletag.pubads()).setTargeting(\"pos\",\"middle\"));window.setMoatPrebidData(\\'div-gpt-ad-mpu_middle\\');window.dfpSlots.push(googletag.defineSlot(\\'/8264/aw-metrolyrics/artist/lyrics/gn\\',[[300,250]],\\'div-gpt-ad-mpu_middle2\\').addService(googletag.pubads()).setTargeting(\"pos\",\"middle2\"));window.setMoatPrebidData(\\'div-gpt-ad-mpu_middle2\\');window.dfpSlots.push(googletag.defineSlot(\\'/8264/aw-metrolyrics/artist/lyrics/gn\\',[[300,250]],\\'div-gpt-ad-mpu_bottom\\').addService(googletag.pubads()).setTargeting(\"pos\",\"bottom\"));window.setMoatPrebidData(\\'div-gpt-ad-mpu_bottom\\');window.dfpSlots.push(googletag.defineSlot(\\'/8264/aw-metrolyrics/artist/lyrics/gn\\',[[11,11],\"fluid\"],\\'div-gpt-ad-strnative\\').addService(googletag.pubads()).setTargeting(\"strnativekey\",\"c4c33433\").setTargeting(\"pos\",\"top\"));window.setMoatPrebidData(\\'div-gpt-ad-strnative\\');window.dfpSlots.push(googletag.defineSlot(\\'/8264/aw-metrolyrics/artist/lyrics/gn\\',[[728,90],[970,66],[728,92],[970,250]],\\'div-gpt-ad-leaderboard_bottom\\').addService(googletag.pubads()).setTargeting(\"pos\",\"bottom\"));window.setMoatPrebidData(\\'div-gpt-ad-leaderboard_bottom\\');googletag.pubads().setTargeting(\\'vguid\\',vguid).setTargeting(\"ptype\",\"lyrics_lyric\").setTargeting(\"inskin\",\"yes\").setTargeting(\"ar\",[\"abba\",\"frida\",\"agnethafaeltskog\",\"donnasummer\",\"boneym\",\"baccara\",\"bucksfizz\",\"madonna\",\"queen\",\"beegees\",\"eltonjohn\"]).setTargeting(\"track\",\"HoneyHoney\").setTargeting(\"explicit\",\"0\").setTargeting(\"tag\",\"Pop\").setTargeting(\"top50\",\"0\").setTargeting(\"top100\",\"0\").setTargeting(\"cid\",\"14155\").setTargeting(\"artist\",\"abba\");var ftag=false,ftagHash=false,ftagSession=localStorage.getItem(\\'ftagSession\\')||false;if(window.location.hash.indexOf(\\'ftag=\\')!=-1){ftagHash=window.location.hash.substring(window.location.hash.indexOf(\\'ftag=\\')+5);}if(ftag!=false){localStorage.setItem(\\'ftagSession\\',ftag)\\ngoogletag.pubads().setTargeting(\\'ftag\\',ftag);}else if(ftagHash!=false){localStorage.setItem(\\'ftagSession\\',ftagHash)\\ngoogletag.pubads().setTargeting(\\'ftag\\',ftagHash);}else if(ftagSession!=false){googletag.pubads().setTargeting(\\'ftag\\',ftagSession);}googletag.CBSiaddPageView();googletag.pubads().enableSingleRequest();googletag.pubads().collapseEmptyDivs();googletag.pubads().disableInitialLoad();googletag.pubads().addEventListener(\\'slotRenderEnded\\',function(event){if(typeof(lb_slot)!==\\'undefined\\'&&event.slot===lb_slot){if(event.size[1]>90){document.getElementById(\\'related-video\\').style.backgroundColor=\"rgba(0,0,0,0.9)\";}}});googletag.enableServices()});window.mlAds={queueAction:function(command){googletag.cmd.push(function(){command(window.dfpSlots);});},displayAds:function(slots){googletag.pubads().refresh(slots);let result=setMoatPrebidData();googletag.display(\\'div-gpt-ad-leaderboard\\');googletag.display(\\'div-gpt-ad-mpu\\');googletag.display(\\'div-gpt-ad-mpu_middle\\');googletag.display(\\'div-gpt-ad-mpu_middle2\\');googletag.display(\\'div-gpt-ad-mpu_bottom\\');googletag.display(\\'div-gpt-ad-strnative\\');googletag.display(\\'div-gpt-ad-leaderboard_bottom\\');googletag.display(\\'out-of-page\\');},refreshAds:function(slots){googletag.pubads().refresh(slots,{changeCorrelator:!0});},finishLoading:function(){return true;}};window.cbsoptanon.onAdsReady(function(_cbsoptanon,adOpts){window.mlAds.queueAction(window.mlAds.displayAds);});function renderAdCallback(adData){ml.adData=adData;var sticker=document.getElementsByClassName(\\'sticker\\')[0];if(sticker){sticker.style.display=\\'none\\';}if(ml.eC===\"Homepage\"&&adData.isSkin&&!adData.isBlank){var lbh=document.getElementById(\\'div-gpt-ad-leaderboard_homepage\\');document.getElementById(\\'div-gpt-ad-leaderboard\\').innerHTML=lbh.innerHTML;lbh.parentNode.removeChild(lbh);document.getElementsByClassName(\\'top-sponsor\\')[0].style.display=\\'block\\';}}</script>\\n<script type=\"text/plain\" class=\"optanon-category-4\">\\n            /* Taboola Ad Header */\\n\\n        window._taboola = window._taboola || [];\\n            _taboola.push({other: \\'auto\\'});\\n        !function (e, f, u, i) {\\n        if (!document.getElementById(i)) {\\n            e.async = 1;\\n            e.src = u;\\n            e.id = i;\\n            f.parentNode.insertBefore(e, f);\\n        }\\n    }(document.createElement(\\'script\\'),\\n        document.getElementsByTagName(\\'script\\')[0],\\n        \\'//cdn.taboola.com/libtrc/cbsinteractive-metrolyrics/loader.js\\',\\n        \\'tb_loader_script\\');\\n\\n    </script>\\n<script type=\"text/plain\" class=\"optanon-category-4\">\\n                window._taboola = window._taboola || [];\\n            _taboola.push({flush: true});\\n    </script>\\n<script type=\"text/plain\" class=\"optanon-category-2\">\\n    //<![CDATA[\\n    var AKSB = AKSB || {};\\n    AKSB.q = [];\\n    AKSB.mark = function(c, b) {\\n        AKSB.q.push([\"mark\", c, b || (new Date).getTime()])\\n    };\\n    AKSB.measure = function(c, b, a) {\\n        AKSB.q.push([\"measure\", c, b, a || (new Date).getTime()])\\n    };\\n    AKSB.done = function(c) {\\n        AKSB.q.push([\"done\", c])\\n    };\\n    AKSB.mark(\"firstbyte\", (new Date).getTime());\\n    AKSB.prof = {\\n        origin: true,\\n        custid: \"363014\",\\n        beaconrate: 10\\n    };\\n    (function(b) {\\n        var a = document.createElement(\"iframe\");\\n        a.src = \"javascript:false\";\\n        (a.frameElement || a).style.cssText = \"width: 0; height: 0; border: 0; display: none\";\\n        var c = document.getElementsByTagName(\"script\"),\\n            c = c[c.length - 1];\\n        c.parentNode.insertBefore(a, c);\\n        a = a.contentWindow.document;\\n        a.open().write(\"<body onload=\\\\\"var js = document.createElement(\\'script\\');js.id = \\'aksb-ifr\\';js.src = \\'\" + b + \"\\';document.body.appendChild(js);\\\\\">\");\\n        a.close()\\n    })((\"https:\" === document.location.protocol ? \"https:\" : \"http:\") + \"//ds-aksb-a.akamaihd.net/363014/aksb-a/aksb.min.js\");\\n    //]]>\\n</script>\\n<link rel=dns-prefetch href=\"//cn.cbsimg.net\">\\n<link rel=dns-prefetch href=\"//c.compete.com\">\\n<link rel=dns-prefetch href=\"//edge.quantserve.com\">\\n<link rel=dns-prefetch href=\"//tcr.tynt.com\">\\n<link rel=dns-prefetch href=\"//c9.static.nrcdn.com\">\\n</head>\\n<body itemscope itemtype=\"https://schema.org/WebPage\"><noscript><meta HTTP-EQUIV=\"refresh\" content=\"0;url=\\'http://www.metrolyrics.com/honey-honey-lyrics-abba.html?PageSpeed=noscript\\'\" /><style><!--table,div,span,font,p{display:none} --></style><div style=\"display:block\">Please click <a href=\"http://www.metrolyrics.com/honey-honey-lyrics-abba.html?PageSpeed=noscript\">here</a> if you are not redirected within a few seconds.</div></noscript>\\n<script>window.cbsoptanon.onScriptsReady(function(){var utag_data={\"siteSection\":\"artist\",\"pageType\":\"lyrics_lyric\",\"musicSongTitle\":\"Honey Honey\",\"musicArtistName\":\"ABBA\",\"musicSongId\":\"ml-lyric-14155\",\"musicArtistId\":\"ml-artist-176\",\"lyricLength\":33,\"assetSourceType\":\"licensed\",\"siteHier\":[\"Artist Page\",\"Lyrics\"],\"mediaPartnerId\":\"metrolyrics\",\"musicAlbumId\":\"ml-album-10943\",\"musicAlbumTitle\":\"Waterloo\",\"siteType\":\"desktop web\",\"deviceType\":\"desktop\",\"bkPath\":\"\\\\/8264\\\\/aw-metrolyrics\\\\/artist\\\\/lyrics\\\\/gn\",\"bkAr\":\"abba,frida,agnethafaeltskog,donnasummer,boneym,baccara,bucksfizz,madonna,queen,beegees,eltonjohn\",\"bkTag\":\"Pop\"}||{},findingMethod=\\'External\\';if(document.referrer&&document.referrer.indexOf(window.location.host)!=-1){if(document.cookie.match(\\'mlFindingMethod=(.+?);\\')){findingMethod=document.cookie.match(\\'mlFindingMethod=(.+?);\\')[1];findingMethod=decodeURIComponent(findingMethod.replace(/\\\\+/g,\\' \\'));}}utag_data.pageFindingMethod=findingMethod;if(typeof(vguid)!==\"undefined\"){utag_data.pageViewGuid=vguid;}window.utag_data=utag_data;(function(a,b,c,d){a=\\'//tags.tiqcdn.com/utag/cbsi/metrolyricssite/prod/utag.js\\';b=document;c=\\'script\\';d=b.createElement(c);d.src=a;d.type=\\'text/java\\'+c;d.async=true;a=b.getElementsByTagName(c)[0];a.parentNode.insertBefore(d,a);})();});</script>\\n<div class=\"lightbox-container\">\\n<div class=\"lightboxed\"></div>\\n</div>\\n<div class=\"page-wrap\" id=\"page\">\\n<header class=\"page-header\" header-bar>\\n<a href=\"https://www.metrolyrics.com/\" onmousedown=\"ev(\\'Header\\',\\'Logo\\');\" title=\"Metrolyrics Homepage\" class=\"logo\">\\n<!--<img src=\"/img/white/logo-mobile.svg\"/>-->\\n</a>\\n<div class=\"btn-search\"></div>\\n<nav>\\n<ul>\\n<li>\\n<a href=\"https://www.metrolyrics.com/top100.html\" onmousedown=\"ev(\\'Header\\',\\'Lyrics\\');\">Top Songs</a>\\n<!--Submenu Start-->\\n<ul class=\"submenu\">\\n<li class=\"top\">\\n<a href=\"https://www.metrolyrics.com/darkness-lyrics-eminem.html\">\\n<span><strong>Darkness</strong>Eminem</span>\\n</a>\\n</li>\\n<li>\\n<a href=\"https://www.metrolyrics.com/what-a-man-gotta-do-lyrics-jonas-brothers.html\">\\n<span><strong>What a Man Gotta Do</strong>Jonas Brothers</span>\\n</a>\\n</li>\\n<li>\\n<a href=\"https://www.metrolyrics.com/yummy-lyrics-justin-bieber.html\">\\n<span><strong>Yummy</strong>Justin Bieber</span>\\n</a>\\n</li>\\n<li>\\n<a href=\"https://www.metrolyrics.com/rare-lyrics-selena-gomez.html\">\\n<span><strong>Rare</strong>Selena Gomez</span>\\n</a>\\n</li>\\n<li>\\n<a href=\"https://www.metrolyrics.com/juro-que-lyrics-rosalia.html\">\\n<span><strong>Juro Que</strong>RosalÃ\\xada</span>\\n</a>\\n</li>\\n<li>\\n<a href=\"https://www.metrolyrics.com/top100.html\" onmousedown=\"ev(\\'Header\\',\\'Lyrics\\');\" class=\"more\">\\n<span>More Top Songs</span>\\n</a>\\n</li>\\n</ul>\\n<!--Submenu End-->\\n</li>\\n<li>\\n<a href=\"https://www.metrolyrics.com/videos.html\" onmousedown=\"ev(\\'Header\\',\\'Videos\\');\">Videos</a>\\n<!--Submenu Start-->\\n<ul class=\"submenu\">\\n<li class=\"top\">\\n<a href=\"https://www.metrolyrics.com/song-drake-ml-video-jon.html\">\\n<div class=\"img-wrap\">\\n<script data-pagespeed-no-defer>//<![CDATA[\\n(function(){for(var g=\"function\"==typeof Object.defineProperties?Object.defineProperty:function(b,c,a){if(a.get||a.set)throw new TypeError(\"ES3 does not support getters and setters.\");b!=Array.prototype&&b!=Object.prototype&&(b[c]=a.value)},h=\"undefined\"!=typeof window&&window===this?this:\"undefined\"!=typeof global&&null!=global?global:this,k=[\"String\",\"prototype\",\"repeat\"],l=0;l<k.length-1;l++){var m=k[l];m in h||(h[m]={});h=h[m]}var n=k[k.length-1],p=h[n],q=p?p:function(b){var c;if(null==this)throw new TypeError(\"The \\'this\\' value for String.prototype.repeat must not be null or undefined\");c=this+\"\";if(0>b||1342177279<b)throw new RangeError(\"Invalid count value\");b|=0;for(var a=\"\";b;)if(b&1&&(a+=c),b>>>=1)c+=c;return a};q!=p&&null!=q&&g(h,n,{configurable:!0,writable:!0,value:q});var t=this;function u(b,c){var a=b.split(\".\"),d=t;a[0]in d||!d.execScript||d.execScript(\"var \"+a[0]);for(var e;a.length&&(e=a.shift());)a.length||void 0===c?d[e]?d=d[e]:d=d[e]={}:d[e]=c};function v(b){var c=b.length;if(0<c){for(var a=Array(c),d=0;d<c;d++)a[d]=b[d];return a}return[]};function w(b){var c=window;if(c.addEventListener)c.addEventListener(\"load\",b,!1);else if(c.attachEvent)c.attachEvent(\"onload\",b);else{var a=c.onload;c.onload=function(){b.call(this);a&&a.call(this)}}};var x;function y(b,c,a,d,e){this.h=b;this.j=c;this.l=a;this.f=e;this.g={height:window.innerHeight||document.documentElement.clientHeight||document.body.clientHeight,width:window.innerWidth||document.documentElement.clientWidth||document.body.clientWidth};this.i=d;this.b={};this.a=[];this.c={}}function z(b,c){var a,d,e=c.getAttribute(\"data-pagespeed-url-hash\");if(a=e&&!(e in b.c))if(0>=c.offsetWidth&&0>=c.offsetHeight)a=!1;else{d=c.getBoundingClientRect();var f=document.body;a=d.top+(\"pageYOffset\"in window?window.pageYOffset:(document.documentElement||f.parentNode||f).scrollTop);d=d.left+(\"pageXOffset\"in window?window.pageXOffset:(document.documentElement||f.parentNode||f).scrollLeft);f=a.toString()+\",\"+d;b.b.hasOwnProperty(f)?a=!1:(b.b[f]=!0,a=a<=b.g.height&&d<=b.g.width)}a&&(b.a.push(e),b.c[e]=!0)}y.prototype.checkImageForCriticality=function(b){b.getBoundingClientRect&&z(this,b)};u(\"pagespeed.CriticalImages.checkImageForCriticality\",function(b){x.checkImageForCriticality(b)});u(\"pagespeed.CriticalImages.checkCriticalImages\",function(){A(x)});function A(b){b.b={};for(var c=[\"IMG\",\"INPUT\"],a=[],d=0;d<c.length;++d)a=a.concat(v(document.getElementsByTagName(c[d])));if(a.length&&a[0].getBoundingClientRect){for(d=0;c=a[d];++d)z(b,c);a=\"oh=\"+b.l;b.f&&(a+=\"&n=\"+b.f);if(c=!!b.a.length)for(a+=\"&ci=\"+encodeURIComponent(b.a[0]),d=1;d<b.a.length;++d){var e=\",\"+encodeURIComponent(b.a[d]);131072>=a.length+e.length&&(a+=e)}b.i&&(e=\"&rd=\"+encodeURIComponent(JSON.stringify(B())),131072>=a.length+e.length&&(a+=e),c=!0);C=a;if(c){d=b.h;b=b.j;var f;if(window.XMLHttpRequest)f=new XMLHttpRequest;else if(window.ActiveXObject)try{f=new ActiveXObject(\"Msxml2.XMLHTTP\")}catch(r){try{f=new ActiveXObject(\"Microsoft.XMLHTTP\")}catch(D){}}f&&(f.open(\"POST\",d+(-1==d.indexOf(\"?\")?\"?\":\"&\")+\"url=\"+encodeURIComponent(b)),f.setRequestHeader(\"Content-Type\",\"application/x-www-form-urlencoded\"),f.send(a))}}}function B(){var b={},c;c=document.getElementsByTagName(\"IMG\");if(!c.length)return{};var a=c[0];if(!(\"naturalWidth\"in a&&\"naturalHeight\"in a))return{};for(var d=0;a=c[d];++d){var e=a.getAttribute(\"data-pagespeed-url-hash\");e&&(!(e in b)&&0<a.width&&0<a.height&&0<a.naturalWidth&&0<a.naturalHeight||e in b&&a.width>=b[e].o&&a.height>=b[e].m)&&(b[e]={rw:a.width,rh:a.height,ow:a.naturalWidth,oh:a.naturalHeight})}return b}var C=\"\";u(\"pagespeed.CriticalImages.getBeaconData\",function(){return C});u(\"pagespeed.CriticalImages.Run\",function(b,c,a,d,e,f){var r=new y(b,c,a,e,f);x=r;d&&w(function(){window.setTimeout(function(){A(r)},0)})});})();pagespeed.CriticalImages.Run(\\'/mod_pagespeed_beacon\\',\\'http://www.metrolyrics.com/honey-honey-lyrics-abba.html\\',\\'K0qd0KOmeS\\',true,false,\\'c4VZT7Jltgc\\');\\n//]]></script><img src=\"https://thumbnails.cbsig.net/CBS_Production_MetroLyrics_VMS/2016/06/27/713822275601/drake-videothumb2_1085232_200x150.jpg\" alt=\"8 Things You Didn\\'t Know About Drake\" data-pagespeed-url-hash=\"3628277537\" onload=\"pagespeed.CriticalImages.checkImageForCriticality(this);\"/>\\n</div>\\n<span><strong>8 Things You Didn\\'t Know About Drake</strong></span>\\n</a>\\n</li>\\n<li>\\n<a href=\"https://www.metrolyrics.com/sad-xxxtentacion-ml-video-vsf.html\">\\n<span><strong>XXXTENTACION - SAD! (Official Music Video)</strong></span>\\n</a>\\n</li>\\n<li>\\n<a href=\"https://www.metrolyrics.com/song-ml-video-xxb.html\">\\n<span><strong>What\\'s That Line? Misheard Lyrics</strong></span>\\n</a>\\n</li>\\n<li>\\n<a href=\"https://www.metrolyrics.com/videos.html\" onmousedown=\"ev(\\'Header\\',\\'Videos\\');\" class=\"more\">\\n<span>More Videos</span>\\n</a>\\n</li>\\n</ul>\\n<!--Submenu End-->\\n</li>\\n<li>\\n<a href=\"https://www.metrolyrics.com/news.html\" onmousedown=\"ev(\\'Header\\',\\'News\\');\">Features</a>\\n<!--Submenu Start-->\\n<ul class=\"submenu\">\\n<li class=\"top\">\\n<a href=\"https://www.metrolyrics.com/news-story-watch-will-smith-perform-to-iconic-song-prince-ali-fr.html\">\\n<div class=\"img-wrap\">\\n<img src=\"https://netstorage.metrolyrics.com/editorials/watch-will-smith-perform-to-iconic-song-prince-ali-from-aladdin/featured.jpg\" alt=\"Watch Will Smith perform to iconic song \\'Prince Ali\\' from Aladdi\" data-pagespeed-url-hash=\"4088685625\" onload=\"pagespeed.CriticalImages.checkImageForCriticality(this);\"/>\\n</div>\\n<span><strong>Watch Will Smith perform to iconic song \\'Prince Ali\\' from Aladdi</strong></span>\\n</a>\\n</li>\\n<li>\\n<a href=\"https://www.metrolyrics.com/news-story-new-album-xxxtentacion-bad-vibes-forever-tracklist.html\">\\n<span><strong>NEW ALBUM: XXXTENTACION - \\'Bad Vibes Forever\\' - Track-List!</strong></span>\\n</a>\\n</li>\\n<li>\\n<a href=\"https://www.metrolyrics.com/news-story-news-chicago-rapper-juice-wrld-is-dead-at-21.html\">\\n<span><strong>NEWS: Chicago Rapper Juice WRLD is dead at 21!</strong></span>\\n</a>\\n</li>\\n<li>\\n<a href=\"https://www.metrolyrics.com/news.html\" onmousedown=\"ev(\\'Header\\',\\'News\\');\" class=\"more\">\\n<span>More News</span>\\n</a>\\n</li>\\n</ul>\\n<!--Submenu End-->\\n</li>\\n<li>\\n<a href=\"https://www.metrolyrics.com/top-artists.html\" onmousedown=\"ev(\\'Header\\',\\'Artists\\');\">Artists</a>\\n<!--Submenu Start-->\\n<ul class=\"submenu\">\\n<li class=\"top\">\\n<a href=\"https://www.metrolyrics.com/youngboy-never-broke-again-lyrics.html\">\\n<span><strong>YoungBoy Never Broke Again</strong></span>\\n</a>\\n</li>\\n<li>\\n<a href=\"https://www.metrolyrics.com/taylor-swift-lyrics.html\">\\n<span><strong>Taylor Swift</strong></span>\\n</a>\\n</li>\\n<li>\\n<a href=\"https://www.metrolyrics.com/billie-eilish-lyrics.html\">\\n<span><strong>Billie Eilish</strong></span>\\n</a>\\n</li>\\n<li>\\n<a href=\"https://www.metrolyrics.com/eminem-lyrics.html\">\\n<span><strong>Eminem</strong></span>\\n</a>\\n</li>\\n<li>\\n<a href=\"https://www.metrolyrics.com/lewis-capaldi-lyrics.html\">\\n<span><strong>Lewis Capaldi</strong></span>\\n</a>\\n</li>\\n<li>\\n<a href=\"https://www.metrolyrics.com/top-artists.html\" onmousedown=\"ev(\\'Header\\',\\'Artists\\');\" class=\"more\">\\n<span>More Top Artists</span>\\n</a>\\n</li>\\n</ul>\\n<!--Submenu End-->\\n</li>\\n<li>\\n</li>\\n</ul>\\n</nav>\\n<div id=\\'js-searchbar\\' class=\"lightboxed\">\\n<div class=\"search-container\">\\n<div class=\"search\">\\n<div class=\"input-container\">\\n<input id=\\'js-searchBox\\' class=\"search-input\" type=\"text\" placeholder=\"Search for song, artist or lyrics...\"/>\\n<input id=\\'js-searchButton\\' class=\"search-submit\" type=\"submit\" value=\"Search\"/>\\n</div>\\n<ul class=\"trending\">\\n<li>\\nPopular searches right now...\\n</li>\\n<li>\\n<a href=\"https://www.metrolyrics.com/search.html.html?search=despacito\">despacito</a>\\n</li>\\n<li>\\n<a href=\"https://www.metrolyrics.com/search.html.html?search=look+what+you+made+me+do\">look what you made me do</a>\\n</li>\\n<li>\\n<a href=\"https://www.metrolyrics.com/search.html.html?search=shape+of+you\">shape of you</a>\\n</li>\\n<li>\\n<a href=\"https://www.metrolyrics.com/search.html.html?search=attention\">attention</a>\\n</li>\\n<li>\\n<a href=\"https://www.metrolyrics.com/search.html.html?search=taylor+swift\">taylor swift</a>\\n</li>\\n</ul>\\n</div>\\n</div>\\n</div>\\n</header>\\n<div id=\"mantle_skin\">\\n<!--\\nIGNORE ALL EMBEDDED IMAGES AS THEY ARE PLACEHOLDERS\\nEVERY IMAGE SHOULD BE DYNAMIC, NO STATIC IMAGES HAVE BEEN USED FOR LAYOUT ASIDE FROM LOGO\\n-->\\n<!--\\t<!-- header -->\\n<!--EMCOMPASSES THE ENTIRE PAGE HEADING, INCLUDING SHARING-->\\n<div class=\"banner-wrap\">\\n<div class=\"img-wrap\">\\n<img src=\"https://netstorage.metrolyrics.com/artists/profile/maf.jpg\" alt=\"ABBA lyrics\" class=\"banner-bg\" data-pagespeed-url-hash=\"2811043768\" onload=\"pagespeed.CriticalImages.checkImageForCriticality(this);\"/> <!--THIS IS THE SAME ARTIST IMAGE AS THE THUMBNAIL IN SHARING-->\\n</div>\\n<div class=\"banner\">\\n<div class=\"banner-heading\">\\n<h1>ABBA - Honey Honey Lyrics</h1>\\n<h2><a href=\"https://www.metrolyrics.com/abba-lyrics.html\">ABBA</a></h2>\\n</div>\\n</div>\\n<!--WIDGET - SOCIAL SHARING-->\\n<ul class=\"sharing\">\\n<li>\\n<a class=\"js-socialbar-btn facebook\" popup-href=\"https://www.metrolyrics.com/honey-honey-lyrics-abba.html?ftag=MLY04e0c32\" popup-title=\"\\'Honey Honey\\' by ABBA\" popup-height=\"300\" popup-type=\"facebook\" onmousedown=\"ev(\\'Share\\',\\'Facebook\\');om.trackSocialClick({\\'id\\':2});\"></a>\\n</li>\\n<li>\\n<a class=\"js-socialbar-btn twitter\" popup-href=\"https://twitter.com/intent/tweet?original_referer=https%3A%2F%2Fwww.metrolyrics.com%2Fhoney-honey-lyrics-abba.html%3Fftag%3DMLY4a3a6dc&url=https%3A%2F%2Fwww.metrolyrics.com%2Fhoney-honey-lyrics-abba.html%3Fftag%3DMLY4a3a6dc&text=%22Honey+Honey%22+by+ABBA&tw_p=tweetbutton\" popup-height=\"270\" popup-type=\"twitter\" onmousedown=\"ev(\\'Share\\',\\'Twitter\\');om.trackSocialClick({\\'id\\':8});\"></a>\\n</li>\\n</ul>\\n<!--END WIDGET - SOCIAL SHARING-->\\n<!--EDIT AND PRINT-->\\n<span class=\"edit\"><a id=\"js-lyric-correction\" class=\"js-lyric-correction\" href=\"#\">Edit lyrics</a></span>\\n<span class=\"print\">\\n<a href=\"https://www.metrolyrics.com/printlyric/honey-honey-lyrics-abba.html\" target=\"_blank\" alt=\"Print\" rel=\"nofollow\" onmousedown=\"ev(\\'Lyrics Toolbar\\',\\'Print\\'); om.trackSocialClick({\\'id\\':15});\">\\nPrint Lyrics\\n</a>\\n</span>\\n</div>\\n<!--LEADERBOARD AD, KEEP CONTAINER, REPLACE TEMP IMAGE ONMLY-->\\n<section class=\"ad leaderboard top\">\\n<div class=\\'js-sponsor-wrapper\\'>\\n<div class=\"js-top-sponsor top-sponsor\">\\n<div id=\\'div-gpt-ad-leaderboard\\' data-ad=\\'leaderboard\\'></div>\\t</div>\\n</div>\\n</section>\\n<section class=\"content\">\\n<div class=\"col js-col1\">\\n<!-- START: Discussions container (class:discuss-container) -->\\n<div id=\\'js-col-expand\\' ng-class=\"{\\'column-expand\\' : $root.fpo.popOut == 1}\">\\n<!--CLOSE BUTTON FOR COLLAPSING DISCUSSION-->\\n<a class=\"column-close\" ng-click=\"$root.fpo.close()\"></a>\\n<div id=\"js-fpoContainer\" class=\"lightboxed\" ng-cloak>\\n<div id=\"fpo\" class=\"ng-hide fpo\" ng-controller=\"fpOverlayCtrl\" ng-show=\"$root.fpo.visible\" fpo-monitor>\\n<ng-include id=\"fpo-template\" ng-show=\"$root.fpo.visible\" src=\"$root.fpo.templateUrl\">\\n</ng-include>\\n<iframe class=\"ng-hide\" ng-show=\"$root.fpo.iframeVisible\" id=\"js-fpo-iframe\" frameborder=\"0\"></iframe>\\n</div>\\n</div>\\n<div class=\"discuss\">\\n<div ng-hide=\"$root.fpo.visible\">\\n</div>\\n</div>\\n<!-- END: Discussions container -->\\n</div>\\n<!--WIDGET - TOP SONGS / THEME LIST-->\\n<div class=\"hot-list\">\\n<h4>Popular Right Now</h4>\\n<ul>\\n<li>\\n<a href=\"https://www.metrolyrics.com/i-love-me-lyrics-demi-lovato.html\" class=\"thumb\" onmousedown=\"ev(\\'Hot Songs Module\\',\\'Top Lyrics Item\\');\">\\n<img src=\"https://lastfm-img2.akamaized.net/i/u/174s/2a96cbd8b46e442fc41c2b86b821562f.png\" data-pagespeed-url-hash=\"2675216521\" onload=\"pagespeed.CriticalImages.checkImageForCriticality(this);\"/>\\n</a>\\n<a href=\"https://www.metrolyrics.com/i-love-me-lyrics-demi-lovato.html\" class=\"title\" onmousedown=\"ev(\\'Hot Songs Module\\',\\'Top Lyrics Item\\');\">\\n<span><strong>I Love Me</strong>Demi Lovato</span>\\n</a>\\n</li>\\n<li>\\n<a href=\"https://www.metrolyrics.com/streets-lyrics-doja-cat.html\" class=\"thumb\" onmousedown=\"ev(\\'Hot Songs Module\\',\\'Top Lyrics Item\\');\">\\n<img src=\"https://lastfm-img2.akamaized.net/i/u/174s/2a96cbd8b46e442fc41c2b86b821562f.png\" data-pagespeed-url-hash=\"2675216521\" onload=\"pagespeed.CriticalImages.checkImageForCriticality(this);\"/>\\n</a>\\n<a href=\"https://www.metrolyrics.com/streets-lyrics-doja-cat.html\" class=\"title\" onmousedown=\"ev(\\'Hot Songs Module\\',\\'Top Lyrics Item\\');\">\\n<span><strong>Streets</strong>Doja Cat</span>\\n</a>\\n</li>\\n<li>\\n<a href=\"https://www.metrolyrics.com/deen-assalam-lyrics-sabyan-gambus.html\" class=\"thumb\" onmousedown=\"ev(\\'Hot Songs Module\\',\\'Top Lyrics Item\\');\">\\n<img src=\"https://lastfm-img2.akamaized.net/i/u/174s/2a96cbd8b46e442fc41c2b86b821562f.png\" data-pagespeed-url-hash=\"2675216521\" onload=\"pagespeed.CriticalImages.checkImageForCriticality(this);\"/>\\n</a>\\n<a href=\"https://www.metrolyrics.com/deen-assalam-lyrics-sabyan-gambus.html\" class=\"title\" onmousedown=\"ev(\\'Hot Songs Module\\',\\'Top Lyrics Item\\');\">\\n<span><strong>Deen Assalam</strong>Sabyan Gambus</span>\\n</a>\\n</li>\\n<li>\\n<a href=\"https://www.metrolyrics.com/beautiful-in-white-lyrics-westlife.html\" class=\"thumb\" onmousedown=\"ev(\\'Hot Songs Module\\',\\'Top Lyrics Item\\');\">\\n<img src=\"https://lastfm-img2.akamaized.net/i/u/174s/2a96cbd8b46e442fc41c2b86b821562f.png\" data-pagespeed-url-hash=\"2675216521\" onload=\"pagespeed.CriticalImages.checkImageForCriticality(this);\"/>\\n</a>\\n<a href=\"https://www.metrolyrics.com/beautiful-in-white-lyrics-westlife.html\" class=\"title\" onmousedown=\"ev(\\'Hot Songs Module\\',\\'Top Lyrics Item\\');\">\\n<span><strong>Beautiful In White</strong>Westlife</span>\\n</a>\\n</li>\\n<li>\\n<a href=\"https://www.metrolyrics.com/in-my-feelings-lyrics-drake.html\" class=\"thumb\" onmousedown=\"ev(\\'Hot Songs Module\\',\\'Top Lyrics Item\\');\">\\n<img src=\"https://lastfm-img2.akamaized.net/i/u/174s/2a96cbd8b46e442fc41c2b86b821562f.png\" data-pagespeed-url-hash=\"2675216521\" onload=\"pagespeed.CriticalImages.checkImageForCriticality(this);\"/>\\n</a>\\n<a href=\"https://www.metrolyrics.com/in-my-feelings-lyrics-drake.html\" class=\"title\" onmousedown=\"ev(\\'Hot Songs Module\\',\\'Top Lyrics Item\\');\">\\n<span><strong>In My Feelings</strong>Drake</span>\\n</a>\\n</li>\\n<li>\\n<a href=\"https://www.metrolyrics.com/high-rated-gabru-lyrics-guru-randhawa.html\" class=\"thumb\" onmousedown=\"ev(\\'Hot Songs Module\\',\\'Top Lyrics Item\\');\">\\n<img src=\"https://lastfm-img2.akamaized.net/i/u/174s/2a96cbd8b46e442fc41c2b86b821562f.png\" data-pagespeed-url-hash=\"2675216521\" onload=\"pagespeed.CriticalImages.checkImageForCriticality(this);\"/>\\n</a>\\n<a href=\"https://www.metrolyrics.com/high-rated-gabru-lyrics-guru-randhawa.html\" class=\"title\" onmousedown=\"ev(\\'Hot Songs Module\\',\\'Top Lyrics Item\\');\">\\n<span><strong>High Rated Gabru</strong>Guru Randhawa</span>\\n</a>\\n</li>\\n<li>\\n<a href=\"https://www.metrolyrics.com/mercy-lyrics-brett-young.html\" class=\"thumb\" onmousedown=\"ev(\\'Hot Songs Module\\',\\'Top Lyrics Item\\');\">\\n<img src=\"https://lastfm-img2.akamaized.net/i/u/174s/2a96cbd8b46e442fc41c2b86b821562f.png\" data-pagespeed-url-hash=\"2675216521\" onload=\"pagespeed.CriticalImages.checkImageForCriticality(this);\"/>\\n</a>\\n<a href=\"https://www.metrolyrics.com/mercy-lyrics-brett-young.html\" class=\"title\" onmousedown=\"ev(\\'Hot Songs Module\\',\\'Top Lyrics Item\\');\">\\n<span><strong>Mercy</strong>Brett Young</span>\\n</a>\\n</li>\\n</ul>\\n</div>\\n<!--END WIDGET - TOP SONGS / THEME LIST-->\\n<!--WIDGET - MUSIXMATCH-->\\n<div class=\"lyricfind\">\\n<h4>Writers & Publishers</h4>\\n<div class=\"lyricfind-body\">\\n<div class=\"image-container\" onmousedown=\"top.location.href=\\'https://www.metrolyrics.com/abba-albums-list-4.html#waterloo-album-abba\\'\">\\n<img src=\"https://netstorage.metrolyrics.com/albums/10943-abba-waterloo.jpg\" data-pagespeed-url-hash=\"238628774\" onload=\"pagespeed.CriticalImages.checkImageForCriticality(this);\">\\n</div>\\n<div class=\"content-container\">\\n<p>from the album <a href=\\'https://www.metrolyrics.com/abba-albums-list-4.html#waterloo-album-abba\\'><strong>Waterloo</strong></a> Â·\\nCopyright: Writer(s): Benny Goran Bror Andersson, Bjoern K. Ulvaeus, Stig Anderson <a href=\"https://legalterms.cbsinteractive.com/terms-of-use\" class=\"terms\" target=\"_blank\">Lyrics Terms of Use\\n<a href=\"https://www.musixmatch.com/lyrics/ABBA/Honey-Honey?utm_source=application&utm_campaign=api&utm_medium=CBS+Interactive%3A1409615412502\" target=\"_blank\" rel=\"nofollow\">\\n<img src=\"img/white/musixmatch.svg\" class=\"logo-small\" data-pagespeed-url-hash=\"142822327\" onload=\"pagespeed.CriticalImages.checkImageForCriticality(this);\"/>\\n</a>\\n</a>\\n</p>\\n</div>\\n</div>\\n</div>\\n<!--WIDGET - MUSIXMATCH-->\\n</div>\\n<div class=\"col-wide js-col-2\">\\n<!-- Ringtone -->\\n<style>\\n\\t\\t\\t\\t\\t\\t\\t#cf_async_963376748 {margin-left:-8px;}\\n\\t\\t\\t\\t#cf_async_963376748 table { margin: 10px 0 0 0; }\\n\\t\\t\\t\\t#cf_async_963376748 td {border-bottom:none;padding:0 !important;vertical-align:middle;}\\n\\t\\t\\t\\t#cf_async_963376748 span {font-family: proxnov-sbold,arial,sans-serif !important;font-style: normal !important;font-weight: normal !important;color: #0495d2 !important;}\\n\\t\\t\\t\\t#cf_async_963376748 span:hover {color: #0371a0 !important;}\\n\\t\\t\\t\\t\\t</style>\\n<script>(function(){var opts={artist:\"ABBA\",song:\"Honey Honey\",adunit_id:39382551,div_id:\"cf_async_963376748\",};document.write(\\'<div class=\"MLringtones \" id=\"cf_async_963376748\" onmousedown=\"ev(\\\\\\'Ringtone\\\\\\',\\\\\\'Click\\\\\\');om.trackSongRingtoneGet();\"></div>\\');var c=function(){cf.showAsyncAd(opts);};if(window.cf)c();else{cf_async=!0;var r=document.createElement(\"script\"),s=document.getElementsByTagName(\"script\")[0];r.async=!0;r.src=\"//srv.clickfuse.com/showads/showad.js\";r.readyState?r.onreadystatechange=function(){if(\"loaded\"==r.readyState||\"complete\"==r.readyState)r.onreadystatechange=null,c()}:r.onload=c;s.parentNode.insertBefore(r,s)};})();</script>\\n<!--EMCOMPASSES THE ENTIRE PAGE HEADING, INCLUDING SHARING-->\\n<div id=\"videoContainer\" class=\"video-container-inline\">\\n<div class=\"video-title\">\\n<span>Last.fm\\'s Current Most Loved Pop Tracks</span>\\n<div class=\\'js-video-close video-close\\'>X</div>\\n</div>\\n<div id=\"mlVideoContainer\" data-videoid=\"OkZWxXCZ8NRy\" data-autoplay=\"true\" data-provider=\"cbs\" data-providerId=\"rgtL_icY7KNI\" data-previewimage=\"http://thumbnails.cbsig.net/CBS_Production_CBS_Music_VMS/2018/10/10/1341022275605/pop_1680420_200x150.jpg\" data-songTitle=\"Last.fm\\'s Current Most Loved Pop Tracks\" data-videoDuration=\"-1\">\\n</div>\\n</div>\\n<script>ml.autoplayVideo=\\'<iframe \\tframeborder=\\\\\\'0\\\\\\' \\tid=\\\\\\'canplayer-iframe\\\\\\' \\tsrc=\\\\\\'/iframes/canplayer/364185/1\\\\\\' \\tallowtransparency=\\\\\\'yes\\\\\\' scrolling=\\\\\\'no\\\\\\' \\tstyle=\\\\\\'width:400px;height:248px;display:block\\\\\\' \\tname=\\\\\\'canplayer\\\\\\' ></iframe>\\';ml.videoProvider=\\'cbs\\';</script>\\n<!--END WIDGET - VIDEO HEADER-->\\n<script src=\\'//imasdk.googleapis.com/js/sdkloader/ima3.js\\'></script>\\n<script src=\\'https://vidtech.cbsinteractive.com/uvpjs/2.9.1/CBSI-PLAYER.js\\'></script>\\t<!-- End Ringtone -->\\n<!-- BIG BOX AD - TOP POSITION-->\\n<div class=\"big-box top\">\\n<div id=\\'div-gpt-ad-mpu\\' data-ad=\\'mpu\\'></div>\\t</div>\\n<!--WIDE COLUMN ADD-->\\n<sd-lyricbody id=\"lyrics-body\">\\n<sd-toolbar class=\"js-sd-toolbar small\"></sd-toolbar>\\n<sd-highlight></sd-highlight>\\n<!-- ng-show=\"$root.fpo.popOut\" ng-bind-html=\"DiscussionService.highlightDisc\" ng-style=\"{top: DiscussionService.highlightOffsetTop + \\'px\\'}\" style = \"pointer-events: none;\"-->\\n<div class=\"lyrics-body\">\\n<!-- Lyric messages -->\\n<div id=\"lyrics-body-text\" class=\"js-lyric-text\">\\n<!-- First Section -->\\n<p class=\\'verse\\'>Honey honey, how you thrill me, ah-hah, honey honey<br>\\nHoney honey, nearly kill me, ah-hah, honey honey<br>\\nI\\'d heard about you before<br>\\nI wanted to know some more<br>\\nAnd now I know what they mean, you\\'re a love machine<br>\\nOh, you make me dizzy</p><p class=\\'verse\\'>Honey honey, let me feel it, ah-hah, honey honey<br>\\nHoney honey, don\\'t conceal it, ah-hah, honey honey<br>\\nThe way that you kiss goodnight<br>\\n(The way that you kiss me goodnight)<br>\\nThe way that you hold me tight<br>\\n(The way that you\\'re holding me tight)<br>\\nI feel like I wanna sing when you do your thing</p>\\n<!--WIDGET - RELATED-->\\n<div class=\"driver-related\">\\n<h4>Related</h4>\\n<div class=\"related-container\">\\n<ul>\\n<li>\\n<div class=\"bt-container\">\\n<div id=\\'div-gpt-ad-strnative\\' data-ad=\\'strnative\\'></div> </div>\\n</li>\\n<li>\\n<a href=\"http://www.metrolyrics.com/news-gallery-the-best-karaoke-songs-ever.html\">\\n<div class=\"img-wrap\">\\n<img src=\"https://netstorage.metrolyrics.com/drivers/10904/karaokesongs-list-56f16bb6-image.jpg\" data-pagespeed-url-hash=\"2121570738\" onload=\"pagespeed.CriticalImages.checkImageForCriticality(this);\"/>\\n</div>\\n<span class=\"title\">The Best Karaoke Songs Ever, Ranked</span>\\n</a>\\n</li>\\n<li>\\n<a href=\"https://www.metrolyrics.com/i-love-me-lyrics-demi-lovato.html\">\\n<div class=\"img-wrap\">\\n<img src=\"https://netstorage.metrolyrics.com/editorials/new-song-demi-lovato-i-love-me-lyrics/small-image.jpg\" data-pagespeed-url-hash=\"4254791223\" onload=\"pagespeed.CriticalImages.checkImageForCriticality(this);\"/>\\n</div>\\n<span class=\"title\">NEW SONG: Demi Lovato - \\'I Love Me\\' - LYRICS</span>\\n</a>\\n</li>\\n<li>\\n<a href=\"https://www.metrolyrics.com/never-worn-white-lyrics-katy-perry.html\">\\n<div class=\"img-wrap\">\\n<img src=\"https://netstorage.metrolyrics.com/editorials/hot-song-katy-perry-never-worn-white-lyrics/small-image.jpg\" data-pagespeed-url-hash=\"3915553895\" onload=\"pagespeed.CriticalImages.checkImageForCriticality(this);\"/>\\n</div>\\n<span class=\"title\">HOT SONG: Katy Perry - \\'Never Worn White\\' - LYRICS</span>\\n</a>\\n</li>\\n</ul>\\n</div>\\n<!-- BIG BOX AD - middle POSITION-->\\n<div class=\"big-box\" style=\"margin-bottom:28px\">\\n<div id=\\'div-gpt-ad-mpu_middle\\' data-ad=\\'mpu_middle\\'></div> </div>\\n</div> <!--END WIDGET - RELATED-->\\n<!-- Second Section -->\\n<p class=\\'verse\\'>I don\\'t wanna hurt you, baby, I don\\'t wanna see you cry<br>\\nSo stay on the ground, girl, you better not get too high<br>\\nBut I\\'m gonna stick to you, boy, you\\'ll never get rid of me<br>\\nThere\\'s no other place in this world where I rather would be</p><p class=\\'verse\\'>Honey honey, touch me, baby, ah-hah, honey honey<br>\\nHoney honey, hold me, baby, ah-hah, honey honey<br>\\nYou look like a movie star<br>\\n(You look like a movie star)<br>\\nBut I know just who you are<br>\\n(I know just who you are)<br>\\nAnd, honey, to say the least, you\\'re a dog-gone beast</p>\\n<div style=\"height:23px; background-color: transparent;\"></div>\\n<!--WIDGET - PHOTOS-->\\n<div class=\"\">\\n<div class=\"driver-photos\">\\n<div class=\"related-container\">\\n</div>\\n<!-- BIG BOX AD - middle2 POSITION-->\\n<div class=\"big-box\">\\n<div id=\\'div-gpt-ad-mpu_middle2\\' data-ad=\\'mpu_middle2\\'></div> </div>\\n</div>\\n</div>\\n<!--END WIDGET - PHOTOS-->\\n<!-- Third Section -->\\n<p class=\\'verse\\'>So stay on the ground, girl, you better not get too high<br>\\nThere\\'s no other place in this world where I rather would be<br>\\nHoney honey, how you thrill me, ah-hah, honey honey<br>\\nHoney honey, nearly kill me, ah-hah, honey honey<br>\\nI heard about you before.</p>\\n<!--BOTTOM MPU-->\\n<div class=\"bottom-mpu\">\\n<!-- BIG BOX AD - BOTTOM POSITION-->\\n<div class=\"big-box bottom\">\\n<div id=\\'div-gpt-ad-mpu_bottom\\' data-ad=\\'mpu_bottom\\'></div>\\t</div>\\n</div>\\n<!--END BOTTOM MPU-->\\n<div style=\"height:276px; background-color: transparent;\"></div>\\n</div>\\n</div>\\n</sd-lyricbody>\\n<!-- Ringtone -->\\n<style>\\n\\t\\t\\t\\t\\t\\t\\t#cf_async_318105633 {margin-left:-8px;}\\n\\t\\t\\t\\t#cf_async_318105633 table { margin: 10px 0 0 0; }\\n\\t\\t\\t\\t#cf_async_318105633 td {border-bottom:none;padding:0 !important;vertical-align:middle;}\\n\\t\\t\\t\\t#cf_async_318105633 span {font-family: proxnov-sbold,arial,sans-serif !important;font-style: normal !important;font-weight: normal !important;color: #0495d2 !important;}\\n\\t\\t\\t\\t#cf_async_318105633 span:hover {color: #0371a0 !important;}\\n\\t\\t\\t\\t\\t</style>\\n<script>(function(){var opts={artist:\"ABBA\",song:\"Honey Honey\",adunit_id:39382552,div_id:\"cf_async_\"+Math.floor((Math.random()*999999999))};document.write(\\'<div id=\"\\'+opts.div_id+\\'\"></div>\\');var c=function(){cf.showAsyncAd(opts)};if(typeof window.cf!==\\'undefined\\')c();else{cf_async=!0;var r=document.createElement(\"script\"),s=document.getElementsByTagName(\"script\")[0];r.async=!0;r.src=\"//srv.clickfuse.com/showads/showad.js\";r.readyState?r.onreadystatechange=function(){if(\"loaded\"==r.readyState||\"complete\"==r.readyState)r.onreadystatechange=null,c()}:r.onload=c;s.parentNode.insertBefore(r,s)};})();</script>\\n<!-- End Ringtone -->\\n</div>\\n</section>\\n<!--WIDGET - MID SONG YOU GOTTA CHECK OUT-->\\n<div class=\"mid-song-wrap\">\\n<h4>You gotta check out</h4>\\n<!--Taboola code -->\\n<div id=\"taboola-below-article-thumbnails\"></div>\\n<script>window._taboola=window._taboola||[];_taboola.push({mode:\\'thumbnails-e\\',container:\\'taboola-below-article-thumbnails\\',placement:\\'Below Article Thumbnails - Lyrics Redesign\\',target_type:\\'mix\\'});</script>\\n<!-- taboola code end -->\\n<a href=\"http://www.metrolyrics.com/news-story-11-delicious-misheard-lyrics-about-food.html\" class=\"mid-song-link-wrapper\">\\n<div class=\"mid-song-image\">\\n<h3>11 Delicious Misheard Lyrics About Food</h3>\\n<img src=\"https://netstorage.metrolyrics.com/drivers/edc35/misheard-driver-image2-5570d5ec-image.jpg\" class=\"background\" data-pagespeed-url-hash=\"1287202047\" onload=\"pagespeed.CriticalImages.checkImageForCriticality(this);\"/>\\n</div>\\n</a>\\n</div>\\n<!--WIDGET - MID SONG YOU GOTTA CHECK OUT-->\\n<script src=\\'https://tracking.musixmatch.com/t1.0/m_js/e_0/sn_0/l_12065133/su_0/tr_oHn5AHXjQUUp-Hw6xoY6qX5JtUEUQlpvqi0hISBge5E6mCSvnXDmFWuhnsR8QUrasQbat1JKEGsZQ_rvy5C8CDKrlZf13a-d2EbSGsqfWnGhrvB4E38VwWl8awxuRM2tu8zFXjf2ls4FYuuJZuGynrm9Rws2JxsxSkOiIlxJgx5lswWDS4Rj5qCiegQL0yCGlXQ4QBuvDb1lMeCCHRNDPU-Fmj8Emqy9vfJs7_UsGx6pYOGIzb14OX8H6_nEiuQfQ6yDSy5NBmWn-oiyStGMS7eyvJ0R7WTcK9jwaDH-yaGMEaFDRfG1klNc1lbq73_cnfnG_TDduNSRT0SJdHTrnA/ \\'></script>\\n</div>\\n</div>\\n<!--LEADERBOARD AD - KEEP CONTAINER-->\\n<section class=\"ad leaderboard bottom\">\\n<div class=\"bottom-ad\">\\n<div id=\\'div-gpt-ad-leaderboard_bottom\\' data-ad=\\'leaderboard_bottom\\'></div> </div>\\n</section>\\n<footer>\\n<div class=\"row\">\\n<div class=\"logo-container\">\\n<img src=\"/img/white/logo.svg\" data-pagespeed-url-hash=\"2941063523\" onload=\"pagespeed.CriticalImages.checkImageForCriticality(this);\"/>\\n</div>\\n<ul class=\"social\">\\n<li><a href=\"https://www.facebook.com/metrolyrics\" class=\"facebook\" target=\\'_blank\\'></a></li>\\n<li><a href=\"https://twitter.com/metrolyrics\" class=\"twitter\" target=\\'_blank\\'></a></li>\\n<li><a href=\"https://plus.google.com/+metrolyrics\" target=\\'_blank\\' class=\"gplus\"></a></li>\\n</ul>\\n</div>\\n<hr/>\\n<div class=\"row\">\\n<ul class=\"menu\">\\n<li><a href=\"https://www.metrolyrics.com/add.html\">Submit a Song</a></li>\\n<li><a href=\"https://www.metrolyrics.com/about.html\">About Us</a></li>\\n<li><a href=\"https://www.cbsinteractive.com/advertise\" target=\\'_blank\\'>Advertise</a></li>\\n<li><a href=\"https://www.metrolyrics.com/contactus.html\">Contact Us</a></li>\\n<li><a href=\"https://legalterms.cbsinteractive.com/privacy\" target=\\'_blank\\'>Privacy Policy</a></li>\\n<li><a href=\"https://legalterms.cbsinteractive.com/terms-of-use\" target=\\'_blank\\'>Terms of Use</a></li>\\n<li><a href=\"https://www.cbsinteractive.com/careers\" target=\\'_blank\\'>Jobs At CBSi</a></li>\\n</ul>\\n<p class=\"copyright\"><a href=\"https://www.last.fm/\" target=\"_blank\">Last.fm Music</a> | Copyright &copy; 2020 CBS Interactive Inc. / All rights reserved.</p>\\n</div>\\n</footer>\\n</div>\\n<div id=\"out-of-page\" style=\"display:none\"></div>\\n<script pagespeed_no_defer=\"\" id=\\'req-config\\'>var requirejs={paths:{baseUrl:\\'/js/desktop\\',lib:\\'/js/lib\\',vendor:\\'/js/vendor\\',jquery:\\'//ajax.googleapis.com/ajax/libs/jquery/2.1.0/jquery.min\\',facebook:\\'//connect.facebook.net/en_US/all\\',youtube:\\'https://www.youtube.com/iframe_api?noext\\',angular:\\'//ajax.googleapis.com/ajax/libs/angularjs/1.2.18/angular.min\\',ngSanitize:\\'//ajax.googleapis.com/ajax/libs/angularjs/1.2.18/angular-sanitize.min\\',urs:\"https://urs.metrolyrics.com/sdk/urs\"},shim:{\\'facebook\\':{exports:\\'FB\\'},\\'youtube\\':{exports:\\'YT\\'},\\'domReady\\':{exports:\\'domReady\\'},\\'angular\\':{deps:[\\'jquery\\'],exports:\\'angular\\'},\\'ngSanitize\\':{deps:[\\'jquery\\',\\'angular\\'],exports:\\'ngSanitize\\'},\\'vendor/jquery.slimscroll\\':{deps:[\\'jquery\\'],exports:\\'jQuery.fn.slimScroll\\'},\\'urs\\':{exports:\\'window.URS\\'}},waitSeconds:45};</script>\\n<script pagespeed_no_defer=\"\" src=\"https://www.metrolyrics.com/js/vendor/require-v9.9.0.min.js\"></script>\\n<script src=\"https://www.metrolyrics.com/js/desktop/lyrics-v9.9.0.min.js\"></script>\\n<script type=\\'text/x-gubedml\\' id=\\'gubedml\\'>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</script>\\n</body>\\n</html>\\n'"
      ]
     },
     "execution_count": 4,
     "metadata": {},
     "output_type": "execute_result"
    }
   ],
   "source": [
    "abba.text"
   ]
  },
  {
   "cell_type": "code",
   "execution_count": 5,
   "metadata": {},
   "outputs": [],
   "source": [
    "parser = BeautifulSoup(abba.text, 'html.parser')"
   ]
  },
  {
   "cell_type": "code",
   "execution_count": 7,
   "metadata": {},
   "outputs": [
    {
     "data": {
      "text/plain": [
       "bs4.BeautifulSoup"
      ]
     },
     "execution_count": 7,
     "metadata": {},
     "output_type": "execute_result"
    }
   ],
   "source": [
    "type(parser)"
   ]
  },
  {
   "cell_type": "code",
   "execution_count": 10,
   "metadata": {},
   "outputs": [
    {
     "data": {
      "text/plain": [
       "bs4.element.ResultSet"
      ]
     },
     "execution_count": 10,
     "metadata": {},
     "output_type": "execute_result"
    }
   ],
   "source": [
    "type(parser.find_all('body'))# ask for a tag by its name IT IS more or less a list"
   ]
  },
  {
   "cell_type": "code",
   "execution_count": 13,
   "metadata": {},
   "outputs": [
    {
     "data": {
      "text/plain": [
       "[<p>from the album <a href=\"https://www.metrolyrics.com/abba-albums-list-4.html#waterloo-album-abba\"><strong>Waterloo</strong></a> Â·\n",
       " Copyright: Writer(s): Benny Goran Bror Andersson, Bjoern K. Ulvaeus, Stig Anderson <a class=\"terms\" href=\"https://legalterms.cbsinteractive.com/terms-of-use\" target=\"_blank\">Lyrics Terms of Use\n",
       " <a href=\"https://www.musixmatch.com/lyrics/ABBA/Honey-Honey?utm_source=application&amp;utm_campaign=api&amp;utm_medium=CBS+Interactive%3A1409615412502\" rel=\"nofollow\" target=\"_blank\">\n",
       " <img class=\"logo-small\" data-pagespeed-url-hash=\"142822327\" onload=\"pagespeed.CriticalImages.checkImageForCriticality(this);\" src=\"img/white/musixmatch.svg\">\n",
       " </img></a>\n",
       " </a>\n",
       " </p>,\n",
       " <p class=\"verse\">Honey honey, how you thrill me, ah-hah, honey honey<br/>\n",
       " Honey honey, nearly kill me, ah-hah, honey honey<br/>\n",
       " I'd heard about you before<br/>\n",
       " I wanted to know some more<br/>\n",
       " And now I know what they mean, you're a love machine<br/>\n",
       " Oh, you make me dizzy</p>,\n",
       " <p class=\"verse\">Honey honey, let me feel it, ah-hah, honey honey<br/>\n",
       " Honey honey, don't conceal it, ah-hah, honey honey<br/>\n",
       " The way that you kiss goodnight<br/>\n",
       " (The way that you kiss me goodnight)<br/>\n",
       " The way that you hold me tight<br/>\n",
       " (The way that you're holding me tight)<br/>\n",
       " I feel like I wanna sing when you do your thing</p>,\n",
       " <p class=\"verse\">I don't wanna hurt you, baby, I don't wanna see you cry<br/>\n",
       " So stay on the ground, girl, you better not get too high<br/>\n",
       " But I'm gonna stick to you, boy, you'll never get rid of me<br/>\n",
       " There's no other place in this world where I rather would be</p>,\n",
       " <p class=\"verse\">Honey honey, touch me, baby, ah-hah, honey honey<br/>\n",
       " Honey honey, hold me, baby, ah-hah, honey honey<br/>\n",
       " You look like a movie star<br/>\n",
       " (You look like a movie star)<br/>\n",
       " But I know just who you are<br/>\n",
       " (I know just who you are)<br/>\n",
       " And, honey, to say the least, you're a dog-gone beast</p>,\n",
       " <p class=\"verse\">So stay on the ground, girl, you better not get too high<br/>\n",
       " There's no other place in this world where I rather would be<br/>\n",
       " Honey honey, how you thrill me, ah-hah, honey honey<br/>\n",
       " Honey honey, nearly kill me, ah-hah, honey honey<br/>\n",
       " I heard about you before.</p>,\n",
       " <p class=\"copyright\"><a href=\"https://www.last.fm/\" target=\"_blank\">Last.fm Music</a> | Copyright © 2020 CBS Interactive Inc. / All rights reserved.</p>]"
      ]
     },
     "execution_count": 13,
     "metadata": {},
     "output_type": "execute_result"
    }
   ],
   "source": [
    "parser.find_all('body')[0].find_all('p') # This is also a list\n"
   ]
  },
  {
   "cell_type": "code",
   "execution_count": 14,
   "metadata": {},
   "outputs": [
    {
     "data": {
      "text/plain": [
       "<p>from the album <a href=\"https://www.metrolyrics.com/abba-albums-list-4.html#waterloo-album-abba\"><strong>Waterloo</strong></a> Â·\n",
       "Copyright: Writer(s): Benny Goran Bror Andersson, Bjoern K. Ulvaeus, Stig Anderson <a class=\"terms\" href=\"https://legalterms.cbsinteractive.com/terms-of-use\" target=\"_blank\">Lyrics Terms of Use\n",
       "<a href=\"https://www.musixmatch.com/lyrics/ABBA/Honey-Honey?utm_source=application&amp;utm_campaign=api&amp;utm_medium=CBS+Interactive%3A1409615412502\" rel=\"nofollow\" target=\"_blank\">\n",
       "<img class=\"logo-small\" data-pagespeed-url-hash=\"142822327\" onload=\"pagespeed.CriticalImages.checkImageForCriticality(this);\" src=\"img/white/musixmatch.svg\">\n",
       "</img></a>\n",
       "</a>\n",
       "</p>"
      ]
     },
     "execution_count": 14,
     "metadata": {},
     "output_type": "execute_result"
    }
   ],
   "source": [
    "parser.find_all('body')[0].find_all('p')[0]"
   ]
  },
  {
   "cell_type": "code",
   "execution_count": 16,
   "metadata": {},
   "outputs": [
    {
     "data": {
      "text/plain": [
       "[<div class=\"js-lyric-text\" id=\"lyrics-body-text\">\n",
       " <!-- First Section -->\n",
       " <p class=\"verse\">Honey honey, how you thrill me, ah-hah, honey honey<br/>\n",
       " Honey honey, nearly kill me, ah-hah, honey honey<br/>\n",
       " I'd heard about you before<br/>\n",
       " I wanted to know some more<br/>\n",
       " And now I know what they mean, you're a love machine<br/>\n",
       " Oh, you make me dizzy</p><p class=\"verse\">Honey honey, let me feel it, ah-hah, honey honey<br/>\n",
       " Honey honey, don't conceal it, ah-hah, honey honey<br/>\n",
       " The way that you kiss goodnight<br/>\n",
       " (The way that you kiss me goodnight)<br/>\n",
       " The way that you hold me tight<br/>\n",
       " (The way that you're holding me tight)<br/>\n",
       " I feel like I wanna sing when you do your thing</p>\n",
       " <!--WIDGET - RELATED-->\n",
       " <div class=\"driver-related\">\n",
       " <h4>Related</h4>\n",
       " <div class=\"related-container\">\n",
       " <ul>\n",
       " <li>\n",
       " <div class=\"bt-container\">\n",
       " <div data-ad=\"strnative\" id=\"div-gpt-ad-strnative\"></div> </div>\n",
       " </li>\n",
       " <li>\n",
       " <a href=\"http://www.metrolyrics.com/news-gallery-the-best-karaoke-songs-ever.html\">\n",
       " <div class=\"img-wrap\">\n",
       " <img data-pagespeed-url-hash=\"2121570738\" onload=\"pagespeed.CriticalImages.checkImageForCriticality(this);\" src=\"https://netstorage.metrolyrics.com/drivers/10904/karaokesongs-list-56f16bb6-image.jpg\"/>\n",
       " </div>\n",
       " <span class=\"title\">The Best Karaoke Songs Ever, Ranked</span>\n",
       " </a>\n",
       " </li>\n",
       " <li>\n",
       " <a href=\"https://www.metrolyrics.com/i-love-me-lyrics-demi-lovato.html\">\n",
       " <div class=\"img-wrap\">\n",
       " <img data-pagespeed-url-hash=\"4254791223\" onload=\"pagespeed.CriticalImages.checkImageForCriticality(this);\" src=\"https://netstorage.metrolyrics.com/editorials/new-song-demi-lovato-i-love-me-lyrics/small-image.jpg\"/>\n",
       " </div>\n",
       " <span class=\"title\">NEW SONG: Demi Lovato - 'I Love Me' - LYRICS</span>\n",
       " </a>\n",
       " </li>\n",
       " <li>\n",
       " <a href=\"https://www.metrolyrics.com/never-worn-white-lyrics-katy-perry.html\">\n",
       " <div class=\"img-wrap\">\n",
       " <img data-pagespeed-url-hash=\"3915553895\" onload=\"pagespeed.CriticalImages.checkImageForCriticality(this);\" src=\"https://netstorage.metrolyrics.com/editorials/hot-song-katy-perry-never-worn-white-lyrics/small-image.jpg\"/>\n",
       " </div>\n",
       " <span class=\"title\">HOT SONG: Katy Perry - 'Never Worn White' - LYRICS</span>\n",
       " </a>\n",
       " </li>\n",
       " </ul>\n",
       " </div>\n",
       " <!-- BIG BOX AD - middle POSITION-->\n",
       " <div class=\"big-box\" style=\"margin-bottom:28px\">\n",
       " <div data-ad=\"mpu_middle\" id=\"div-gpt-ad-mpu_middle\"></div> </div>\n",
       " </div> <!--END WIDGET - RELATED-->\n",
       " <!-- Second Section -->\n",
       " <p class=\"verse\">I don't wanna hurt you, baby, I don't wanna see you cry<br/>\n",
       " So stay on the ground, girl, you better not get too high<br/>\n",
       " But I'm gonna stick to you, boy, you'll never get rid of me<br/>\n",
       " There's no other place in this world where I rather would be</p><p class=\"verse\">Honey honey, touch me, baby, ah-hah, honey honey<br/>\n",
       " Honey honey, hold me, baby, ah-hah, honey honey<br/>\n",
       " You look like a movie star<br/>\n",
       " (You look like a movie star)<br/>\n",
       " But I know just who you are<br/>\n",
       " (I know just who you are)<br/>\n",
       " And, honey, to say the least, you're a dog-gone beast</p>\n",
       " <div style=\"height:23px; background-color: transparent;\"></div>\n",
       " <!--WIDGET - PHOTOS-->\n",
       " <div class=\"\">\n",
       " <div class=\"driver-photos\">\n",
       " <div class=\"related-container\">\n",
       " </div>\n",
       " <!-- BIG BOX AD - middle2 POSITION-->\n",
       " <div class=\"big-box\">\n",
       " <div data-ad=\"mpu_middle2\" id=\"div-gpt-ad-mpu_middle2\"></div> </div>\n",
       " </div>\n",
       " </div>\n",
       " <!--END WIDGET - PHOTOS-->\n",
       " <!-- Third Section -->\n",
       " <p class=\"verse\">So stay on the ground, girl, you better not get too high<br/>\n",
       " There's no other place in this world where I rather would be<br/>\n",
       " Honey honey, how you thrill me, ah-hah, honey honey<br/>\n",
       " Honey honey, nearly kill me, ah-hah, honey honey<br/>\n",
       " I heard about you before.</p>\n",
       " <!--BOTTOM MPU-->\n",
       " <div class=\"bottom-mpu\">\n",
       " <!-- BIG BOX AD - BOTTOM POSITION-->\n",
       " <div class=\"big-box bottom\">\n",
       " <div data-ad=\"mpu_bottom\" id=\"div-gpt-ad-mpu_bottom\"></div> </div>\n",
       " </div>\n",
       " <!--END BOTTOM MPU-->\n",
       " <div style=\"height:276px; background-color: transparent;\"></div>\n",
       " </div>]"
      ]
     },
     "execution_count": 16,
     "metadata": {},
     "output_type": "execute_result"
    }
   ],
   "source": [
    "parser.find_all(attrs = {'id':'lyrics-body-text'}) #better solution, ask for data by asking for attribute info"
   ]
  },
  {
   "cell_type": "code",
   "execution_count": 17,
   "metadata": {},
   "outputs": [
    {
     "data": {
      "text/plain": [
       "1"
      ]
     },
     "execution_count": 17,
     "metadata": {},
     "output_type": "execute_result"
    }
   ],
   "source": [
    "len(parser.find_all(attrs = {'id':'lyrics-body-text'}))"
   ]
  },
  {
   "cell_type": "code",
   "execution_count": 18,
   "metadata": {},
   "outputs": [
    {
     "data": {
      "text/plain": [
       "<div class=\"js-lyric-text\" id=\"lyrics-body-text\">\n",
       "<!-- First Section -->\n",
       "<p class=\"verse\">Honey honey, how you thrill me, ah-hah, honey honey<br/>\n",
       "Honey honey, nearly kill me, ah-hah, honey honey<br/>\n",
       "I'd heard about you before<br/>\n",
       "I wanted to know some more<br/>\n",
       "And now I know what they mean, you're a love machine<br/>\n",
       "Oh, you make me dizzy</p><p class=\"verse\">Honey honey, let me feel it, ah-hah, honey honey<br/>\n",
       "Honey honey, don't conceal it, ah-hah, honey honey<br/>\n",
       "The way that you kiss goodnight<br/>\n",
       "(The way that you kiss me goodnight)<br/>\n",
       "The way that you hold me tight<br/>\n",
       "(The way that you're holding me tight)<br/>\n",
       "I feel like I wanna sing when you do your thing</p>\n",
       "<!--WIDGET - RELATED-->\n",
       "<div class=\"driver-related\">\n",
       "<h4>Related</h4>\n",
       "<div class=\"related-container\">\n",
       "<ul>\n",
       "<li>\n",
       "<div class=\"bt-container\">\n",
       "<div data-ad=\"strnative\" id=\"div-gpt-ad-strnative\"></div> </div>\n",
       "</li>\n",
       "<li>\n",
       "<a href=\"http://www.metrolyrics.com/news-gallery-the-best-karaoke-songs-ever.html\">\n",
       "<div class=\"img-wrap\">\n",
       "<img data-pagespeed-url-hash=\"2121570738\" onload=\"pagespeed.CriticalImages.checkImageForCriticality(this);\" src=\"https://netstorage.metrolyrics.com/drivers/10904/karaokesongs-list-56f16bb6-image.jpg\"/>\n",
       "</div>\n",
       "<span class=\"title\">The Best Karaoke Songs Ever, Ranked</span>\n",
       "</a>\n",
       "</li>\n",
       "<li>\n",
       "<a href=\"https://www.metrolyrics.com/i-love-me-lyrics-demi-lovato.html\">\n",
       "<div class=\"img-wrap\">\n",
       "<img data-pagespeed-url-hash=\"4254791223\" onload=\"pagespeed.CriticalImages.checkImageForCriticality(this);\" src=\"https://netstorage.metrolyrics.com/editorials/new-song-demi-lovato-i-love-me-lyrics/small-image.jpg\"/>\n",
       "</div>\n",
       "<span class=\"title\">NEW SONG: Demi Lovato - 'I Love Me' - LYRICS</span>\n",
       "</a>\n",
       "</li>\n",
       "<li>\n",
       "<a href=\"https://www.metrolyrics.com/never-worn-white-lyrics-katy-perry.html\">\n",
       "<div class=\"img-wrap\">\n",
       "<img data-pagespeed-url-hash=\"3915553895\" onload=\"pagespeed.CriticalImages.checkImageForCriticality(this);\" src=\"https://netstorage.metrolyrics.com/editorials/hot-song-katy-perry-never-worn-white-lyrics/small-image.jpg\"/>\n",
       "</div>\n",
       "<span class=\"title\">HOT SONG: Katy Perry - 'Never Worn White' - LYRICS</span>\n",
       "</a>\n",
       "</li>\n",
       "</ul>\n",
       "</div>\n",
       "<!-- BIG BOX AD - middle POSITION-->\n",
       "<div class=\"big-box\" style=\"margin-bottom:28px\">\n",
       "<div data-ad=\"mpu_middle\" id=\"div-gpt-ad-mpu_middle\"></div> </div>\n",
       "</div> <!--END WIDGET - RELATED-->\n",
       "<!-- Second Section -->\n",
       "<p class=\"verse\">I don't wanna hurt you, baby, I don't wanna see you cry<br/>\n",
       "So stay on the ground, girl, you better not get too high<br/>\n",
       "But I'm gonna stick to you, boy, you'll never get rid of me<br/>\n",
       "There's no other place in this world where I rather would be</p><p class=\"verse\">Honey honey, touch me, baby, ah-hah, honey honey<br/>\n",
       "Honey honey, hold me, baby, ah-hah, honey honey<br/>\n",
       "You look like a movie star<br/>\n",
       "(You look like a movie star)<br/>\n",
       "But I know just who you are<br/>\n",
       "(I know just who you are)<br/>\n",
       "And, honey, to say the least, you're a dog-gone beast</p>\n",
       "<div style=\"height:23px; background-color: transparent;\"></div>\n",
       "<!--WIDGET - PHOTOS-->\n",
       "<div class=\"\">\n",
       "<div class=\"driver-photos\">\n",
       "<div class=\"related-container\">\n",
       "</div>\n",
       "<!-- BIG BOX AD - middle2 POSITION-->\n",
       "<div class=\"big-box\">\n",
       "<div data-ad=\"mpu_middle2\" id=\"div-gpt-ad-mpu_middle2\"></div> </div>\n",
       "</div>\n",
       "</div>\n",
       "<!--END WIDGET - PHOTOS-->\n",
       "<!-- Third Section -->\n",
       "<p class=\"verse\">So stay on the ground, girl, you better not get too high<br/>\n",
       "There's no other place in this world where I rather would be<br/>\n",
       "Honey honey, how you thrill me, ah-hah, honey honey<br/>\n",
       "Honey honey, nearly kill me, ah-hah, honey honey<br/>\n",
       "I heard about you before.</p>\n",
       "<!--BOTTOM MPU-->\n",
       "<div class=\"bottom-mpu\">\n",
       "<!-- BIG BOX AD - BOTTOM POSITION-->\n",
       "<div class=\"big-box bottom\">\n",
       "<div data-ad=\"mpu_bottom\" id=\"div-gpt-ad-mpu_bottom\"></div> </div>\n",
       "</div>\n",
       "<!--END BOTTOM MPU-->\n",
       "<div style=\"height:276px; background-color: transparent;\"></div>\n",
       "</div>"
      ]
     },
     "execution_count": 18,
     "metadata": {},
     "output_type": "execute_result"
    }
   ],
   "source": [
    "parser.find_all(attrs = {'id':'lyrics-body-text'})[0]"
   ]
  },
  {
   "cell_type": "code",
   "execution_count": 21,
   "metadata": {},
   "outputs": [
    {
     "data": {
      "text/plain": [
       "\"Honey honey, how you thrill me, ah-hah, honey honey\\nHoney honey, nearly kill me, ah-hah, honey honey\\nI'd heard about you before\\nI wanted to know some more\\nAnd now I know what they mean, you're a love machine\\nOh, you make me dizzy\""
      ]
     },
     "execution_count": 21,
     "metadata": {},
     "output_type": "execute_result"
    }
   ],
   "source": [
    "parser.find_all(attrs = {'id':'lyrics-body-text'})[0].find_all('p')[0].text"
   ]
  },
  {
   "cell_type": "code",
   "execution_count": 25,
   "metadata": {},
   "outputs": [
    {
     "data": {
      "text/plain": [
       "<p class=\"verse\">Honey honey, how you thrill me, ah-hah, honey honey<br/>\n",
       "Honey honey, nearly kill me, ah-hah, honey honey<br/>\n",
       "I'd heard about you before<br/>\n",
       "I wanted to know some more<br/>\n",
       "And now I know what they mean, you're a love machine<br/>\n",
       "Oh, you make me dizzy</p>"
      ]
     },
     "execution_count": 25,
     "metadata": {},
     "output_type": "execute_result"
    }
   ],
   "source": [
    "parser.find_all(attrs = {'id':'lyrics-body-text'})[0].find_all(attrs = {'class' : 'verse'})"
   ]
  },
  {
   "cell_type": "code",
   "execution_count": 26,
   "metadata": {},
   "outputs": [
    {
     "data": {
      "text/plain": [
       "5"
      ]
     },
     "execution_count": 26,
     "metadata": {},
     "output_type": "execute_result"
    }
   ],
   "source": [
    "len(parser.find_all(attrs = {'id':'lyrics-body-text'})[0].find_all(attrs = {'class' : 'verse'}))"
   ]
  },
  {
   "cell_type": "code",
   "execution_count": 29,
   "metadata": {},
   "outputs": [
    {
     "data": {
      "text/plain": [
       "<p class=\"verse\">Honey honey, how you thrill me, ah-hah, honey honey<br/>\n",
       "Honey honey, nearly kill me, ah-hah, honey honey<br/>\n",
       "I'd heard about you before<br/>\n",
       "I wanted to know some more<br/>\n",
       "And now I know what they mean, you're a love machine<br/>\n",
       "Oh, you make me dizzy</p>"
      ]
     },
     "execution_count": 29,
     "metadata": {},
     "output_type": "execute_result"
    }
   ],
   "source": [
    "parser.find_all(attrs = {'id':'lyrics-body-text'})[0].find_all(attrs = {'class' : 'verse'})[0]"
   ]
  },
  {
   "cell_type": "code",
   "execution_count": 30,
   "metadata": {},
   "outputs": [
    {
     "data": {
      "text/plain": [
       "<p class=\"verse\">Honey honey, let me feel it, ah-hah, honey honey<br/>\n",
       "Honey honey, don't conceal it, ah-hah, honey honey<br/>\n",
       "The way that you kiss goodnight<br/>\n",
       "(The way that you kiss me goodnight)<br/>\n",
       "The way that you hold me tight<br/>\n",
       "(The way that you're holding me tight)<br/>\n",
       "I feel like I wanna sing when you do your thing</p>"
      ]
     },
     "execution_count": 30,
     "metadata": {},
     "output_type": "execute_result"
    }
   ],
   "source": [
    "parser.find_all(attrs = {'id':'lyrics-body-text'})[0].find_all(attrs = {'class' : 'verse'})[1]"
   ]
  },
  {
   "cell_type": "code",
   "execution_count": 31,
   "metadata": {},
   "outputs": [
    {
     "ename": "TypeError",
     "evalue": "'NoneType' object is not callable",
     "output_type": "error",
     "traceback": [
      "\u001b[0;31m---------------------------------------------------------------------------\u001b[0m",
      "\u001b[0;31mTypeError\u001b[0m                                 Traceback (most recent call last)",
      "\u001b[0;32m<ipython-input-31-5ef218148f6b>\u001b[0m in \u001b[0;36m<module>\u001b[0;34m\u001b[0m\n\u001b[0;32m----> 1\u001b[0;31m \u001b[0mparser\u001b[0m\u001b[0;34m.\u001b[0m\u001b[0mfind_all\u001b[0m\u001b[0;34m(\u001b[0m\u001b[0mattrs\u001b[0m \u001b[0;34m=\u001b[0m \u001b[0;34m{\u001b[0m\u001b[0;34m'id'\u001b[0m\u001b[0;34m:\u001b[0m\u001b[0;34m'lyrics-body-text'\u001b[0m\u001b[0;34m}\u001b[0m\u001b[0;34m)\u001b[0m\u001b[0;34m[\u001b[0m\u001b[0;36m0\u001b[0m\u001b[0;34m]\u001b[0m\u001b[0;34m.\u001b[0m\u001b[0mfind_all\u001b[0m\u001b[0;34m(\u001b[0m\u001b[0mattrs\u001b[0m \u001b[0;34m=\u001b[0m \u001b[0;34m{\u001b[0m\u001b[0;34m'class'\u001b[0m \u001b[0;34m:\u001b[0m \u001b[0;34m'verse'\u001b[0m\u001b[0;34m}\u001b[0m\u001b[0;34m)\u001b[0m\u001b[0;34m[\u001b[0m\u001b[0;36m0\u001b[0m\u001b[0;34m]\u001b[0m\u001b[0;34m.\u001b[0m\u001b[0msplit\u001b[0m\u001b[0;34m(\u001b[0m\u001b[0;34m'</br>'\u001b[0m\u001b[0;34m)\u001b[0m\u001b[0;34m\u001b[0m\u001b[0;34m\u001b[0m\u001b[0m\n\u001b[0m",
      "\u001b[0;31mTypeError\u001b[0m: 'NoneType' object is not callable"
     ]
    }
   ],
   "source": [
    "parser.find_all(attrs = {'id':'lyrics-body-text'})[0].find_all(attrs = {'class' : 'verse'})[0]"
   ]
  },
  {
   "cell_type": "code",
   "execution_count": 33,
   "metadata": {},
   "outputs": [
    {
     "data": {
      "text/plain": [
       "\"Honey honey, how you thrill me, ah-hah, honey honey\\nHoney honey, nearly kill me, ah-hah, honey honey\\nI'd heard about you before\\nI wanted to know some more\\nAnd now I know what they mean, you're a love machine\\nOh, you make me dizzy\""
      ]
     },
     "execution_count": 33,
     "metadata": {},
     "output_type": "execute_result"
    }
   ],
   "source": [
    "parser.find_all(attrs = {'id':'lyrics-body-text'})[0].find_all(attrs = {'class' : 'verse'})[0].get_text()"
   ]
  },
  {
   "cell_type": "code",
   "execution_count": 34,
   "metadata": {},
   "outputs": [
    {
     "data": {
      "text/plain": [
       "str"
      ]
     },
     "execution_count": 34,
     "metadata": {},
     "output_type": "execute_result"
    }
   ],
   "source": [
    "type(parser.find_all(attrs = {'id':'lyrics-body-text'})[0].find_all(attrs = {'class' : 'verse'})[0].get_text())"
   ]
  },
  {
   "cell_type": "code",
   "execution_count": 61,
   "metadata": {},
   "outputs": [],
   "source": [
    "lyrics_text = []\n",
    "for i in range(len(parser.find_all(attrs = {'id':'lyrics-body-text'})[0].find_all(attrs = {'class' : 'verse'}))):\n",
    "    verse = parser.find_all(attrs = {'id':'lyrics-body-text'})[0].find_all(attrs = {'class' : 'verse'})[i].get_text()\n",
    "    lyrics_text.append(verse)\n",
    "    "
   ]
  },
  {
   "cell_type": "code",
   "execution_count": 64,
   "metadata": {},
   "outputs": [
    {
     "data": {
      "text/plain": [
       "\"Honey honey, let me feel it, ah-hah, honey honey\\nHoney honey, don't conceal it, ah-hah, honey honey\\nThe way that you kiss goodnight\\n(The way that you kiss me goodnight)\\nThe way that you hold me tight\\n(The way that you're holding me tight)\\nI feel like I wanna sing when you do your thing\""
      ]
     },
     "execution_count": 64,
     "metadata": {},
     "output_type": "execute_result"
    }
   ],
   "source": [
    "lyrics_text[1]"
   ]
  },
  {
   "cell_type": "code",
   "execution_count": 52,
   "metadata": {},
   "outputs": [
    {
     "data": {
      "text/plain": [
       "<p class=\"verse\">So stay on the ground, girl, you better not get too high<br/>\n",
       "There's no other place in this world where I rather would be<br/>\n",
       "Honey honey, how you thrill me, ah-hah, honey honey<br/>\n",
       "Honey honey, nearly kill me, ah-hah, honey honey<br/>\n",
       "I heard about you before.</p>"
      ]
     },
     "execution_count": 52,
     "metadata": {},
     "output_type": "execute_result"
    }
   ],
   "source": []
  },
  {
   "cell_type": "code",
   "execution_count": null,
   "metadata": {},
   "outputs": [],
   "source": []
  }
 ],
 "metadata": {
  "kernelspec": {
   "display_name": "Python 3",
   "language": "python",
   "name": "python3"
  },
  "language_info": {
   "codemirror_mode": {
    "name": "ipython",
    "version": 3
   },
   "file_extension": ".py",
   "mimetype": "text/x-python",
   "name": "python",
   "nbconvert_exporter": "python",
   "pygments_lexer": "ipython3",
   "version": "3.7.3"
  }
 },
 "nbformat": 4,
 "nbformat_minor": 2
}
