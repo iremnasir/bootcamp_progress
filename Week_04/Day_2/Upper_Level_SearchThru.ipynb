{
 "cells": [
  {
   "cell_type": "code",
   "execution_count": 399,
   "metadata": {},
   "outputs": [],
   "source": [
    "import requests\n",
    "from bs4 import BeautifulSoup\n",
    "import re\n",
    "import pandas as pd\n",
    "import pickle\n",
    "import json"
   ]
  },
  {
   "cell_type": "code",
   "execution_count": 400,
   "metadata": {},
   "outputs": [],
   "source": [
    "queen_song_links = requests.get('https://www.metrolyrics.com/queen-lyrics.html')\n",
    "queen = BeautifulSoup(queen_song_links.text, 'html.parser')\n"
   ]
  },
  {
   "cell_type": "code",
   "execution_count": 401,
   "metadata": {},
   "outputs": [],
   "source": [
    "http_range = []\n",
    "for i in range(len(queen.find_all(attrs={'class': 'pages'})[0].find_all('a'))):\n",
    "    http_range.append(queen.find_all(attrs={'class': 'pages'})[0].find_all('a')[i].get('href'))\n",
    "    "
   ]
  },
  {
   "cell_type": "code",
   "execution_count": 402,
   "metadata": {},
   "outputs": [
    {
     "data": {
      "text/plain": [
       "['https://www.metrolyrics.com/queen-alpage-1.html',\n",
       " 'https://www.metrolyrics.com/queen-alpage-2.html',\n",
       " 'https://www.metrolyrics.com/queen-alpage-3.html',\n",
       " 'https://www.metrolyrics.com/queen-alpage-4.html',\n",
       " 'https://www.metrolyrics.com/queen-alpage-5.html']"
      ]
     },
     "execution_count": 402,
     "metadata": {},
     "output_type": "execute_result"
    }
   ],
   "source": [
    "http_range"
   ]
  },
  {
   "cell_type": "code",
   "execution_count": 403,
   "metadata": {},
   "outputs": [],
   "source": [
    "#Collect all song https\n",
    "song_http = []\n",
    "for address in http_range:\n",
    "    queen_songs_pg = requests.get(address)\n",
    "    pg = BeautifulSoup(queen_songs_pg.text, 'html.parser')\n",
    "    titles = pg.find_all(attrs = {'class': 'page-content tabs-wrapper clearfix'})[0].find_all(attrs = {'class':'title'})\n",
    "    for i in range(len(titles)):\n",
    "        song_http.append(titles[i].get('href'))\n",
    "    "
   ]
  },
  {
   "cell_type": "code",
   "execution_count": 404,
   "metadata": {},
   "outputs": [],
   "source": [
    "with open(f'./PJ_songlist.txt', 'w') as f:\n",
    "        json.dump(song_http, f)"
   ]
  },
  {
   "cell_type": "code",
   "execution_count": 391,
   "metadata": {},
   "outputs": [],
   "source": [
    "for link in song_http:\n",
    "    pj = requests.get(link)\n",
    "    parser = BeautifulSoup(pj.text, 'html.parser')\n",
    "    song_name = link.split('/')[3].split('.htm')[0]\n",
    "    lyrics = parser.find_all(attrs = {'id':'lyrics-body-text'})[0]\n",
    "    verse = lyrics.find_all(attrs = {'class' : 'verse'})\n",
    "    lyrics_text = []\n",
    "    for i in range(len(verse)):\n",
    "        a = verse[i].get_text()\n",
    "        lyrics_text.append(a)\n",
    "        #re.sub(r'\\n', '\\s', lyrics_text) # to replace\n",
    "    with open(f'./Pearl_Jam/{song_name}.txt', 'w') as f:\n",
    "        json.dump(lyrics_text, f)\n"
   ]
  },
  {
   "cell_type": "code",
   "execution_count": 332,
   "metadata": {},
   "outputs": [
    {
     "data": {
      "text/plain": [
       "2"
      ]
     },
     "execution_count": 332,
     "metadata": {},
     "output_type": "execute_result"
    }
   ],
   "source": []
  },
  {
   "cell_type": "code",
   "execution_count": null,
   "metadata": {},
   "outputs": [],
   "source": []
  }
 ],
 "metadata": {
  "kernelspec": {
   "display_name": "Python 3",
   "language": "python",
   "name": "python3"
  },
  "language_info": {
   "codemirror_mode": {
    "name": "ipython",
    "version": 3
   },
   "file_extension": ".py",
   "mimetype": "text/x-python",
   "name": "python",
   "nbconvert_exporter": "python",
   "pygments_lexer": "ipython3",
   "version": "3.7.3"
  }
 },
 "nbformat": 4,
 "nbformat_minor": 2
}
