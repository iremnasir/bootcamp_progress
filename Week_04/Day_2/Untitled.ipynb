{
 "cells": [
  {
   "cell_type": "code",
   "execution_count": 1,
   "metadata": {},
   "outputs": [
    {
     "name": "stdout",
     "output_type": "stream",
     "text": [
      "Collecting scrapy\n",
      "  Downloading Scrapy-2.0.0-py2.py3-none-any.whl (241 kB)\n",
      "\u001b[K     |████████████████████████████████| 241 kB 1.9 MB/s eta 0:00:01\n",
      "\u001b[?25hCollecting parsel>=1.5.0\n",
      "  Downloading parsel-1.5.2-py2.py3-none-any.whl (12 kB)\n",
      "Collecting service-identity>=16.0.0\n",
      "  Downloading service_identity-18.1.0-py2.py3-none-any.whl (11 kB)\n",
      "Collecting lxml>=3.5.0\n",
      "  Downloading lxml-4.5.0-cp37-cp37m-macosx_10_9_x86_64.whl (4.5 MB)\n",
      "\u001b[K     |████████████████████████████████| 4.5 MB 23.8 MB/s eta 0:00:01\n",
      "\u001b[?25hCollecting Twisted>=17.9.0\n",
      "  Downloading Twisted-19.10.0.tar.bz2 (3.1 MB)\n",
      "\u001b[K     |████████████████████████████████| 3.1 MB 31.2 MB/s eta 0:00:01     |██████▏                         | 604 kB 31.2 MB/s eta 0:00:01\n",
      "\u001b[?25hCollecting cryptography>=2.0\n",
      "  Downloading cryptography-2.8-cp34-abi3-macosx_10_6_intel.whl (1.6 MB)\n",
      "\u001b[K     |████████████████████████████████| 1.6 MB 16.7 MB/s eta 0:00:01\n",
      "\u001b[?25hCollecting w3lib>=1.17.0\n",
      "  Downloading w3lib-1.21.0-py2.py3-none-any.whl (20 kB)\n",
      "Collecting zope.interface>=4.1.3\n",
      "  Downloading zope.interface-4.7.2-cp37-cp37m-macosx_10_9_x86_64.whl (131 kB)\n",
      "\u001b[K     |████████████████████████████████| 131 kB 33.3 MB/s eta 0:00:01\n",
      "\u001b[?25hCollecting queuelib>=1.4.2\n",
      "  Downloading queuelib-1.5.0-py2.py3-none-any.whl (13 kB)\n",
      "Collecting cssselect>=0.9.1\n",
      "  Downloading cssselect-1.1.0-py2.py3-none-any.whl (16 kB)\n",
      "Collecting PyDispatcher>=2.0.5\n",
      "  Downloading PyDispatcher-2.0.5.tar.gz (34 kB)\n",
      "Collecting pyOpenSSL>=16.2.0\n",
      "  Downloading pyOpenSSL-19.1.0-py2.py3-none-any.whl (53 kB)\n",
      "\u001b[K     |████████████████████████████████| 53 kB 6.4 MB/s  eta 0:00:01\n",
      "\u001b[?25hCollecting protego>=0.1.15\n",
      "  Downloading Protego-0.1.16.tar.gz (3.2 MB)\n",
      "\u001b[K     |████████████████████████████████| 3.2 MB 20.9 MB/s eta 0:00:01\n",
      "\u001b[?25hRequirement already satisfied: six>=1.5.2 in /anaconda3/envs/scrapy/lib/python3.7/site-packages (from parsel>=1.5.0->scrapy) (1.14.0)\n",
      "Collecting pyasn1\n",
      "  Downloading pyasn1-0.4.8-py2.py3-none-any.whl (77 kB)\n",
      "\u001b[K     |████████████████████████████████| 77 kB 10.1 MB/s eta 0:00:01\n",
      "\u001b[?25hCollecting pyasn1-modules\n",
      "  Downloading pyasn1_modules-0.2.8-py2.py3-none-any.whl (155 kB)\n",
      "\u001b[K     |████████████████████████████████| 155 kB 39.7 MB/s eta 0:00:01\n",
      "\u001b[?25hRequirement already satisfied: attrs>=16.0.0 in /anaconda3/envs/scrapy/lib/python3.7/site-packages (from service-identity>=16.0.0->scrapy) (19.3.0)\n",
      "Collecting constantly>=15.1\n",
      "  Downloading constantly-15.1.0-py2.py3-none-any.whl (7.9 kB)\n",
      "Collecting incremental>=16.10.1\n",
      "  Using cached incremental-17.5.0-py2.py3-none-any.whl (16 kB)\n",
      "Collecting Automat>=0.3.0\n",
      "  Downloading Automat-20.2.0-py2.py3-none-any.whl (31 kB)\n",
      "Collecting hyperlink>=17.1.1\n",
      "  Downloading hyperlink-19.0.0-py2.py3-none-any.whl (38 kB)\n",
      "Collecting PyHamcrest>=1.9.0\n",
      "  Downloading PyHamcrest-2.0.2-py3-none-any.whl (52 kB)\n",
      "\u001b[K     |████████████████████████████████| 52 kB 2.1 MB/s  eta 0:00:01\n",
      "\u001b[?25hCollecting cffi!=1.11.3,>=1.8\n",
      "  Downloading cffi-1.14.0-cp37-cp37m-macosx_10_9_x86_64.whl (174 kB)\n",
      "\u001b[K     |████████████████████████████████| 174 kB 29.5 MB/s eta 0:00:01\n",
      "\u001b[?25hRequirement already satisfied: setuptools in /anaconda3/envs/scrapy/lib/python3.7/site-packages (from zope.interface>=4.1.3->scrapy) (46.0.0.post20200309)\n",
      "Collecting idna>=2.5\n",
      "  Downloading idna-2.9-py2.py3-none-any.whl (58 kB)\n",
      "\u001b[K     |████████████████████████████████| 58 kB 13.0 MB/s eta 0:00:01\n",
      "\u001b[?25hCollecting pycparser\n",
      "  Downloading pycparser-2.20-py2.py3-none-any.whl (112 kB)\n",
      "\u001b[K     |████████████████████████████████| 112 kB 13.7 MB/s eta 0:00:01\n",
      "\u001b[?25hBuilding wheels for collected packages: Twisted, PyDispatcher, protego\n",
      "  Building wheel for Twisted (setup.py) ... \u001b[?25ldone\n",
      "\u001b[?25h  Created wheel for Twisted: filename=Twisted-19.10.0-cp37-cp37m-macosx_10_9_x86_64.whl size=3043216 sha256=b0c8198c24a83df334a2cab7155bad819a52234ab0909ad4dea4bb6dcbac9e42\n",
      "  Stored in directory: /Users/iremn/Library/Caches/pip/wheels/ab/e7/3a/77f0f7f4a490cffea5f6fd6865e152be4bc8adeebd0b679c3a\n",
      "  Building wheel for PyDispatcher (setup.py) ... \u001b[?25ldone\n",
      "\u001b[?25h  Created wheel for PyDispatcher: filename=PyDispatcher-2.0.5-py3-none-any.whl size=11515 sha256=2dd3b8d04abbf6e9d59f4eee76d5f1dcc6fa59a1a6861decc01f45113e6e8e71\n",
      "  Stored in directory: /Users/iremn/Library/Caches/pip/wheels/dc/d0/bf/0cc715c01fce0bace63b46283acf5cc630d5e5dbb4602c54e5\n",
      "  Building wheel for protego (setup.py) ... \u001b[?25ldone\n",
      "\u001b[?25h  Created wheel for protego: filename=Protego-0.1.16-py3-none-any.whl size=7765 sha256=f7c347107dde8aab1fac54c4dd3e90dc71787aa20f52c73aea2b22ad3ec68807\n",
      "  Stored in directory: /Users/iremn/Library/Caches/pip/wheels/ca/44/01/3592ccfbcfaee4ab297c4097e6e9dbe1c7697e3531a39877ab\n",
      "Successfully built Twisted PyDispatcher protego\n",
      "Installing collected packages: lxml, cssselect, w3lib, parsel, pyasn1, pyasn1-modules, pycparser, cffi, cryptography, service-identity, zope.interface, constantly, incremental, Automat, idna, hyperlink, PyHamcrest, Twisted, queuelib, PyDispatcher, pyOpenSSL, protego, scrapy\n",
      "Successfully installed Automat-20.2.0 PyDispatcher-2.0.5 PyHamcrest-2.0.2 Twisted-19.10.0 cffi-1.14.0 constantly-15.1.0 cryptography-2.8 cssselect-1.1.0 hyperlink-19.0.0 idna-2.9 incremental-17.5.0 lxml-4.5.0 parsel-1.5.2 protego-0.1.16 pyOpenSSL-19.1.0 pyasn1-0.4.8 pyasn1-modules-0.2.8 pycparser-2.20 queuelib-1.5.0 scrapy-2.0.0 service-identity-18.1.0 w3lib-1.21.0 zope.interface-4.7.2\n"
     ]
    }
   ],
   "source": [
    "!pip install scrapy"
   ]
  },
  {
   "cell_type": "code",
   "execution_count": null,
   "metadata": {},
   "outputs": [],
   "source": []
  }
 ],
 "metadata": {
  "kernelspec": {
   "display_name": "Python 3",
   "language": "python",
   "name": "python3"
  },
  "language_info": {
   "codemirror_mode": {
    "name": "ipython",
    "version": 3
   },
   "file_extension": ".py",
   "mimetype": "text/x-python",
   "name": "python",
   "nbconvert_exporter": "python",
   "pygments_lexer": "ipython3",
   "version": "3.7.6"
  }
 },
 "nbformat": 4,
 "nbformat_minor": 4
}
