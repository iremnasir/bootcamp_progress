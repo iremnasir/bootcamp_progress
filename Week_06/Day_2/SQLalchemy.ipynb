{
 "cells": [
  {
   "cell_type": "code",
   "execution_count": 1,
   "metadata": {},
   "outputs": [
    {
     "name": "stdout",
     "output_type": "stream",
     "text": [
      "Requirement already satisfied: SQLAlchemy in /anaconda3/lib/python3.7/site-packages (1.3.1)\n"
     ]
    }
   ],
   "source": [
    "!pip install SQLAlchemy"
   ]
  },
  {
   "cell_type": "code",
   "execution_count": 13,
   "metadata": {},
   "outputs": [
    {
     "name": "stdout",
     "output_type": "stream",
     "text": [
      "Collecting psycopg2\n",
      "  Downloading psycopg2-2.8.4.tar.gz (377 kB)\n",
      "\u001b[K     |████████████████████████████████| 377 kB 1.1 MB/s \n",
      "\u001b[?25hBuilding wheels for collected packages: psycopg2\n",
      "  Building wheel for psycopg2 (setup.py) ... \u001b[?25ldone\n",
      "\u001b[?25h  Created wheel for psycopg2: filename=psycopg2-2.8.4-cp37-cp37m-macosx_10_7_x86_64.whl size=139296 sha256=0db3bf162936007d91eff68c434e81f6bec12a7ad05d73975b272f4ab6f83ced\n",
      "  Stored in directory: /Users/iremn/Library/Caches/pip/wheels/e5/95/7b/9065a4dfe97a9b0e458215ea04fa87c169e20c9bddf49f766a\n",
      "Successfully built psycopg2\n",
      "Installing collected packages: psycopg2\n",
      "Successfully installed psycopg2-2.8.4\n"
     ]
    }
   ],
   "source": [
    "!pip install psycopg2"
   ]
  },
  {
   "cell_type": "code",
   "execution_count": 14,
   "metadata": {},
   "outputs": [
    {
     "name": "stdout",
     "output_type": "stream",
     "text": [
      "Collecting psycopg2-binary\n",
      "  Downloading psycopg2_binary-2.8.4-cp37-cp37m-macosx_10_6_intel.macosx_10_9_intel.macosx_10_9_x86_64.macosx_10_10_intel.macosx_10_10_x86_64.whl (1.5 MB)\n",
      "\u001b[K     |████████████████████████████████| 1.5 MB 578 kB/s \n",
      "\u001b[?25hInstalling collected packages: psycopg2-binary\n",
      "Successfully installed psycopg2-binary-2.8.4\n"
     ]
    }
   ],
   "source": [
    "!pip install psycopg2-binary"
   ]
  },
  {
   "cell_type": "code",
   "execution_count": 15,
   "metadata": {},
   "outputs": [],
   "source": [
    "from sqlalchemy import create_engine\n"
   ]
  },
  {
   "cell_type": "code",
   "execution_count": 16,
   "metadata": {},
   "outputs": [],
   "source": [
    "HOST = 'localhost'\n",
    "PORT = '5432'\n",
    "USERNAME = 'iremn'\n",
    "PASSWORD = 'SpicyChicken'\n",
    "DB = 'northwind'"
   ]
  },
  {
   "cell_type": "code",
   "execution_count": 17,
   "metadata": {},
   "outputs": [],
   "source": [
    "conn_string = f'postgres://{USERNAME}:{PASSWORD}@{HOST}:{PORT}/{DB}'\n",
    "conn_string_mac = f'postgres://{HOST}:{PORT}/{DB}'"
   ]
  },
  {
   "cell_type": "code",
   "execution_count": 18,
   "metadata": {},
   "outputs": [
    {
     "data": {
      "text/plain": [
       "'postgres://localhost:5432/northwind'"
      ]
     },
     "execution_count": 18,
     "metadata": {},
     "output_type": "execute_result"
    }
   ],
   "source": [
    "conn_string_mac"
   ]
  },
  {
   "cell_type": "code",
   "execution_count": 20,
   "metadata": {},
   "outputs": [],
   "source": [
    "engine = create_engine(conn_string_mac)"
   ]
  },
  {
   "cell_type": "code",
   "execution_count": 21,
   "metadata": {},
   "outputs": [
    {
     "data": {
      "text/plain": [
       "<sqlalchemy.engine.result.ResultProxy at 0x10b9f9198>"
      ]
     },
     "execution_count": 21,
     "metadata": {},
     "output_type": "execute_result"
    }
   ],
   "source": [
    "query =  \"\"\"\n",
    "\n",
    "CREATE TABLE newtable(\n",
    "col_1 VARCHAR(50),\n",
    "col_2 INT,\n",
    "col_3 REAL\n",
    ");\n",
    "\"\"\"\n",
    "engine.execute(query)"
   ]
  },
  {
   "cell_type": "code",
   "execution_count": 22,
   "metadata": {},
   "outputs": [],
   "source": [
    "import pandas as pd"
   ]
  },
  {
   "cell_type": "code",
   "execution_count": 23,
   "metadata": {},
   "outputs": [],
   "source": [
    "df = pd.read_csv('/Users/iremn/PythonClass/Spiced/Personal_Projects/Northwind/northwind_data_clean/data/orders.csv')"
   ]
  },
  {
   "cell_type": "code",
   "execution_count": 25,
   "metadata": {},
   "outputs": [
    {
     "data": {
      "text/html": [
       "<div>\n",
       "<style scoped>\n",
       "    .dataframe tbody tr th:only-of-type {\n",
       "        vertical-align: middle;\n",
       "    }\n",
       "\n",
       "    .dataframe tbody tr th {\n",
       "        vertical-align: top;\n",
       "    }\n",
       "\n",
       "    .dataframe thead th {\n",
       "        text-align: right;\n",
       "    }\n",
       "</style>\n",
       "<table border=\"1\" class=\"dataframe\">\n",
       "  <thead>\n",
       "    <tr style=\"text-align: right;\">\n",
       "      <th></th>\n",
       "      <th>orderID</th>\n",
       "      <th>customerID</th>\n",
       "      <th>employeeID</th>\n",
       "      <th>orderDate</th>\n",
       "      <th>requiredDate</th>\n",
       "      <th>shippedDate</th>\n",
       "      <th>shipVia</th>\n",
       "      <th>freight</th>\n",
       "      <th>shipName</th>\n",
       "      <th>shipAddress</th>\n",
       "      <th>shipCity</th>\n",
       "      <th>shipRegion</th>\n",
       "      <th>shipPostalCode</th>\n",
       "      <th>shipCountry</th>\n",
       "    </tr>\n",
       "  </thead>\n",
       "  <tbody>\n",
       "    <tr>\n",
       "      <th>0</th>\n",
       "      <td>10248</td>\n",
       "      <td>VINET</td>\n",
       "      <td>5</td>\n",
       "      <td>1996-07-04 00:00:00.000</td>\n",
       "      <td>1996-08-01 00:00:00.000</td>\n",
       "      <td>1996-07-16 00:00:00.000</td>\n",
       "      <td>3</td>\n",
       "      <td>32.38</td>\n",
       "      <td>Vins et alcools Chevalier</td>\n",
       "      <td>59 rue de l'Abbaye</td>\n",
       "      <td>Reims</td>\n",
       "      <td>NaN</td>\n",
       "      <td>51100</td>\n",
       "      <td>France</td>\n",
       "    </tr>\n",
       "    <tr>\n",
       "      <th>1</th>\n",
       "      <td>10249</td>\n",
       "      <td>TOMSP</td>\n",
       "      <td>6</td>\n",
       "      <td>1996-07-05 00:00:00.000</td>\n",
       "      <td>1996-08-16 00:00:00.000</td>\n",
       "      <td>1996-07-10 00:00:00.000</td>\n",
       "      <td>1</td>\n",
       "      <td>11.61</td>\n",
       "      <td>Toms Spezialitäten</td>\n",
       "      <td>Luisenstr. 48</td>\n",
       "      <td>Münster</td>\n",
       "      <td>NaN</td>\n",
       "      <td>44087</td>\n",
       "      <td>Germany</td>\n",
       "    </tr>\n",
       "    <tr>\n",
       "      <th>2</th>\n",
       "      <td>10250</td>\n",
       "      <td>HANAR</td>\n",
       "      <td>4</td>\n",
       "      <td>1996-07-08 00:00:00.000</td>\n",
       "      <td>1996-08-05 00:00:00.000</td>\n",
       "      <td>1996-07-12 00:00:00.000</td>\n",
       "      <td>2</td>\n",
       "      <td>65.83</td>\n",
       "      <td>Hanari Carnes</td>\n",
       "      <td>Rua do Paço 67</td>\n",
       "      <td>Rio de Janeiro</td>\n",
       "      <td>RJ</td>\n",
       "      <td>05454-876</td>\n",
       "      <td>Brazil</td>\n",
       "    </tr>\n",
       "    <tr>\n",
       "      <th>3</th>\n",
       "      <td>10251</td>\n",
       "      <td>VICTE</td>\n",
       "      <td>3</td>\n",
       "      <td>1996-07-08 00:00:00.000</td>\n",
       "      <td>1996-08-05 00:00:00.000</td>\n",
       "      <td>1996-07-15 00:00:00.000</td>\n",
       "      <td>1</td>\n",
       "      <td>41.34</td>\n",
       "      <td>Victuailles en stock</td>\n",
       "      <td>2 rue du Commerce</td>\n",
       "      <td>Lyon</td>\n",
       "      <td>NaN</td>\n",
       "      <td>69004</td>\n",
       "      <td>France</td>\n",
       "    </tr>\n",
       "    <tr>\n",
       "      <th>4</th>\n",
       "      <td>10252</td>\n",
       "      <td>SUPRD</td>\n",
       "      <td>4</td>\n",
       "      <td>1996-07-09 00:00:00.000</td>\n",
       "      <td>1996-08-06 00:00:00.000</td>\n",
       "      <td>1996-07-11 00:00:00.000</td>\n",
       "      <td>2</td>\n",
       "      <td>51.30</td>\n",
       "      <td>Suprêmes délices</td>\n",
       "      <td>Boulevard Tirou 255</td>\n",
       "      <td>Charleroi</td>\n",
       "      <td>NaN</td>\n",
       "      <td>B-6000</td>\n",
       "      <td>Belgium</td>\n",
       "    </tr>\n",
       "  </tbody>\n",
       "</table>\n",
       "</div>"
      ],
      "text/plain": [
       "   orderID customerID  employeeID                orderDate  \\\n",
       "0    10248      VINET           5  1996-07-04 00:00:00.000   \n",
       "1    10249      TOMSP           6  1996-07-05 00:00:00.000   \n",
       "2    10250      HANAR           4  1996-07-08 00:00:00.000   \n",
       "3    10251      VICTE           3  1996-07-08 00:00:00.000   \n",
       "4    10252      SUPRD           4  1996-07-09 00:00:00.000   \n",
       "\n",
       "              requiredDate              shippedDate  shipVia  freight  \\\n",
       "0  1996-08-01 00:00:00.000  1996-07-16 00:00:00.000        3    32.38   \n",
       "1  1996-08-16 00:00:00.000  1996-07-10 00:00:00.000        1    11.61   \n",
       "2  1996-08-05 00:00:00.000  1996-07-12 00:00:00.000        2    65.83   \n",
       "3  1996-08-05 00:00:00.000  1996-07-15 00:00:00.000        1    41.34   \n",
       "4  1996-08-06 00:00:00.000  1996-07-11 00:00:00.000        2    51.30   \n",
       "\n",
       "                    shipName          shipAddress        shipCity shipRegion  \\\n",
       "0  Vins et alcools Chevalier   59 rue de l'Abbaye           Reims        NaN   \n",
       "1         Toms Spezialitäten        Luisenstr. 48         Münster        NaN   \n",
       "2              Hanari Carnes       Rua do Paço 67  Rio de Janeiro         RJ   \n",
       "3       Victuailles en stock    2 rue du Commerce            Lyon        NaN   \n",
       "4           Suprêmes délices  Boulevard Tirou 255       Charleroi        NaN   \n",
       "\n",
       "  shipPostalCode shipCountry  \n",
       "0          51100      France  \n",
       "1          44087     Germany  \n",
       "2      05454-876      Brazil  \n",
       "3          69004      France  \n",
       "4         B-6000     Belgium  "
      ]
     },
     "execution_count": 25,
     "metadata": {},
     "output_type": "execute_result"
    }
   ],
   "source": [
    "df.head()"
   ]
  },
  {
   "cell_type": "code",
   "execution_count": 26,
   "metadata": {},
   "outputs": [],
   "source": [
    "df.to_sql('orders_pandas', engine)"
   ]
  },
  {
   "cell_type": "code",
   "execution_count": 41,
   "metadata": {},
   "outputs": [],
   "source": [
    "timestamp_cols = ['orderDate', 'requiredDate', 'shippedDate']"
   ]
  },
  {
   "cell_type": "code",
   "execution_count": 42,
   "metadata": {},
   "outputs": [],
   "source": [
    "for cols in timestamp_cols:\n",
    "    query2 = f\"\"\"\n",
    "    ALTER TABLE orders_pandas ALTER COLUMN \"{cols}\" TYPE TIMESTAMP without TIME ZONE USING \"{cols}\"::timestamp without time zone;\n",
    "    \"\"\"\n",
    "    engine.execute(query2)"
   ]
  },
  {
   "cell_type": "code",
   "execution_count": 40,
   "metadata": {},
   "outputs": [
    {
     "data": {
      "text/plain": [
       "<sqlalchemy.engine.result.ResultProxy at 0x11dcd3f60>"
      ]
     },
     "execution_count": 40,
     "metadata": {},
     "output_type": "execute_result"
    }
   ],
   "source": []
  },
  {
   "cell_type": "code",
   "execution_count": null,
   "metadata": {},
   "outputs": [],
   "source": []
  }
 ],
 "metadata": {
  "kernelspec": {
   "display_name": "Python 3",
   "language": "python",
   "name": "python3"
  },
  "language_info": {
   "codemirror_mode": {
    "name": "ipython",
    "version": 3
   },
   "file_extension": ".py",
   "mimetype": "text/x-python",
   "name": "python",
   "nbconvert_exporter": "python",
   "pygments_lexer": "ipython3",
   "version": "3.7.3"
  }
 },
 "nbformat": 4,
 "nbformat_minor": 2
}
