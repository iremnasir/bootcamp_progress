{
 "cells": [
  {
   "cell_type": "markdown",
   "metadata": {
    "slideshow": {
     "slide_type": "slide"
    }
   },
   "source": [
    "# Project Supermarket Introduction"
   ]
  },
  {
   "cell_type": "markdown",
   "metadata": {
    "slideshow": {
     "slide_type": "slide"
    }
   },
   "source": [
    "## Project Goal\n",
    "\n",
    "Write a program that simulates and visualizes customer behavior in a supermarket. (eg. https://github.com/win-times-win/supermarket_simulation) and use this to\n",
    "- Compare the simulated with the real data\n",
    "- Visualize the simulation (increases understandability)\n",
    "- Formulate business questions and answer them using the simulation.\n",
    "   - How many checkout-counters have to be open at the same time to make sure the queue does not get longer than x people? or\n",
    "   - How many customers can be allowed to enter a supermarket at the same time so that no area is visited by more than y customers at the same time?"
   ]
  },
  {
   "cell_type": "markdown",
   "metadata": {
    "slideshow": {
     "slide_type": "slide"
    }
   },
   "source": [
    "## Subtasks\n",
    "\n",
    "- Analyze the data and calculate the transition probability matrix for the Markov-Chain\n",
    "- Implement a Markov-Chain based data generator\n",
    "- Implement customer and supermarket classes (object oriented programing)\n",
    "- Simulate customer behavior and the supermarket environment (Monte Carlo Simulation)\n",
    "- Visualize the simulated customer movement\n",
    "- Answer your questions"
   ]
  },
  {
   "cell_type": "markdown",
   "metadata": {},
   "source": [
    "## Concepts\n",
    "\n",
    "1. Monte Carlo Methods\n",
    "2. Markov Chains\n",
    "3. Object-oriented programming (Classes)\n",
    "4. Programming techniques (Program Design, Structuring Programs)\n",
    "\n",
    "Let's talk about more about the first two of these concepts"
   ]
  },
  {
   "cell_type": "markdown",
   "metadata": {},
   "source": [
    "### 1) Monte Carlo Methods\n",
    "\n",
    "A class of computational algorithms that rely on repeated random sampling to obtain numerical results.\n",
    "\n",
    "For example, in order to answer the question about the necessary number of open checkout-counters we can (and will) randomly draw samples from the probability distribution given by the customer behavior.\n",
    "\n",
    "The following question arises: **How do we model customer behavior?** To answer this question we introduce the concept of Markov Chains."
   ]
  },
  {
   "cell_type": "markdown",
   "metadata": {},
   "source": [
    "### 2) Markov Chains\n",
    "\n",
    "- A Markov Chain is a stochastic process that has the Markov property.\n",
    "- \"Markov chains, named after Andrey Markov, are mathematical systems that hop from one \"state\" (a situation or set of values) to another.\" https://setosa.io/blog/2014/07/26/markov-chains/index.html\n",
    "\n",
    "#### Markov Property\n",
    "\n",
    "A stochastic process has the Markov Property, if knowledge of the current state is all that is necessary to determine the probability distribution of future states. The stochastic process is said to be memoryless.\n",
    "\n",
    "#### Assumptions\n",
    "\n",
    "1. Markov Property: Knowledge of the current state is all that is necessary to determine the probability distribution of future states.\n",
    "- Finite State Space: `states = []`\n",
    "- No Hidden States: all states are known and observable\n",
    "- Discrete time: time is measured in discrete steps\n",
    "- Time-homogenous: transition probabilities do not change with time\n",
    "\n",
    "#### Characteristics\n",
    "\n",
    "A Markov Chain can be characterized by three elements:\n",
    "\n",
    "- State space (all possible states)\n",
    "- Initial state or initial probability distribution\n",
    "- Transition probabilities"
   ]
  },
  {
   "cell_type": "code",
   "execution_count": 2,
   "metadata": {},
   "outputs": [
    {
     "name": "stdout",
     "output_type": "stream",
     "text": [
      "Collecting pandas\n",
      "  Downloading pandas-1.0.3-cp37-cp37m-manylinux1_x86_64.whl (10.0 MB)\n",
      "\u001b[K     |████████████████████████████████| 10.0 MB 1.2 MB/s eta 0:00:01    |██████▎                         | 2.0 MB 388 kB/s eta 0:00:21\n",
      "\u001b[?25hCollecting pytz>=2017.2\n",
      "  Using cached pytz-2019.3-py2.py3-none-any.whl (509 kB)\n",
      "Requirement already satisfied: python-dateutil>=2.6.1 in /home/tommu/anaconda3/envs/torch/lib/python3.7/site-packages (from pandas) (2.8.1)\n",
      "Requirement already satisfied: numpy>=1.13.3 in /home/tommu/anaconda3/envs/torch/lib/python3.7/site-packages (from pandas) (1.18.2)\n",
      "Requirement already satisfied: six>=1.5 in /home/tommu/anaconda3/envs/torch/lib/python3.7/site-packages (from python-dateutil>=2.6.1->pandas) (1.14.0)\n",
      "Installing collected packages: pytz, pandas\n",
      "Successfully installed pandas-1.0.3 pytz-2019.3\n"
     ]
    }
   ],
   "source": [
    "!pip install pandas"
   ]
  },
  {
   "cell_type": "code",
   "execution_count": 3,
   "metadata": {},
   "outputs": [],
   "source": [
    "import random\n",
    "import pandas as pd\n",
    "import numpy as np"
   ]
  },
  {
   "cell_type": "markdown",
   "metadata": {},
   "source": [
    "![](./markov_weather.png)"
   ]
  },
  {
   "cell_type": "code",
   "execution_count": 4,
   "metadata": {},
   "outputs": [
    {
     "data": {
      "text/plain": [
       "['snow', 'snow', 'sun', 'snow', 'snow', 'sun', 'snow', 'sun', 'sun']"
      ]
     },
     "execution_count": 4,
     "metadata": {},
     "output_type": "execute_result"
    }
   ],
   "source": [
    "# Let's store that information\n",
    "weather = ['snow', 'snow', 'sun', 'snow', 'snow', 'sun', 'snow', 'sun', 'sun']\n",
    "weather"
   ]
  },
  {
   "cell_type": "markdown",
   "metadata": {},
   "source": [
    "## How can we calculate the transition matrix?\n",
    "\n",
    "The transition matrix $P$ has the element $p_{ij}$, with rows $i$ and columns $j$, such that:\n",
    "\n",
    "$$\n",
    "p_{ij} = P(Y_t = y_j | Y_{t-1} = y_i)\n",
    "$$\n",
    "\n",
    "For example $p_{0,1} = p_{snow, sun}$ is the probability of a sunny day when it was snowing the day before. "
   ]
  },
  {
   "cell_type": "code",
   "execution_count": 5,
   "metadata": {},
   "outputs": [
    {
     "data": {
      "text/html": [
       "<div>\n",
       "<style scoped>\n",
       "    .dataframe tbody tr th:only-of-type {\n",
       "        vertical-align: middle;\n",
       "    }\n",
       "\n",
       "    .dataframe tbody tr th {\n",
       "        vertical-align: top;\n",
       "    }\n",
       "\n",
       "    .dataframe thead th {\n",
       "        text-align: right;\n",
       "    }\n",
       "</style>\n",
       "<table border=\"1\" class=\"dataframe\">\n",
       "  <thead>\n",
       "    <tr style=\"text-align: right;\">\n",
       "      <th></th>\n",
       "      <th>time</th>\n",
       "      <th>weather</th>\n",
       "    </tr>\n",
       "  </thead>\n",
       "  <tbody>\n",
       "    <tr>\n",
       "      <th>0</th>\n",
       "      <td>1</td>\n",
       "      <td>snow</td>\n",
       "    </tr>\n",
       "    <tr>\n",
       "      <th>1</th>\n",
       "      <td>2</td>\n",
       "      <td>snow</td>\n",
       "    </tr>\n",
       "    <tr>\n",
       "      <th>2</th>\n",
       "      <td>3</td>\n",
       "      <td>sun</td>\n",
       "    </tr>\n",
       "    <tr>\n",
       "      <th>3</th>\n",
       "      <td>4</td>\n",
       "      <td>snow</td>\n",
       "    </tr>\n",
       "    <tr>\n",
       "      <th>4</th>\n",
       "      <td>5</td>\n",
       "      <td>snow</td>\n",
       "    </tr>\n",
       "    <tr>\n",
       "      <th>5</th>\n",
       "      <td>6</td>\n",
       "      <td>sun</td>\n",
       "    </tr>\n",
       "    <tr>\n",
       "      <th>6</th>\n",
       "      <td>7</td>\n",
       "      <td>snow</td>\n",
       "    </tr>\n",
       "    <tr>\n",
       "      <th>7</th>\n",
       "      <td>8</td>\n",
       "      <td>sun</td>\n",
       "    </tr>\n",
       "    <tr>\n",
       "      <th>8</th>\n",
       "      <td>9</td>\n",
       "      <td>sun</td>\n",
       "    </tr>\n",
       "  </tbody>\n",
       "</table>\n",
       "</div>"
      ],
      "text/plain": [
       "   time weather\n",
       "0     1    snow\n",
       "1     2    snow\n",
       "2     3     sun\n",
       "3     4    snow\n",
       "4     5    snow\n",
       "5     6     sun\n",
       "6     7    snow\n",
       "7     8     sun\n",
       "8     9     sun"
      ]
     },
     "execution_count": 5,
     "metadata": {},
     "output_type": "execute_result"
    }
   ],
   "source": [
    "weather = pd.DataFrame({'time': range(1,len(weather)+1), 'weather': weather})\n",
    "weather"
   ]
  },
  {
   "cell_type": "code",
   "execution_count": 6,
   "metadata": {},
   "outputs": [
    {
     "data": {
      "text/html": [
       "<div>\n",
       "<style scoped>\n",
       "    .dataframe tbody tr th:only-of-type {\n",
       "        vertical-align: middle;\n",
       "    }\n",
       "\n",
       "    .dataframe tbody tr th {\n",
       "        vertical-align: top;\n",
       "    }\n",
       "\n",
       "    .dataframe thead th {\n",
       "        text-align: right;\n",
       "    }\n",
       "</style>\n",
       "<table border=\"1\" class=\"dataframe\">\n",
       "  <thead>\n",
       "    <tr style=\"text-align: right;\">\n",
       "      <th></th>\n",
       "      <th>time</th>\n",
       "      <th>weather</th>\n",
       "      <th>transition</th>\n",
       "    </tr>\n",
       "  </thead>\n",
       "  <tbody>\n",
       "    <tr>\n",
       "      <th>0</th>\n",
       "      <td>1</td>\n",
       "      <td>snow</td>\n",
       "      <td>snow</td>\n",
       "    </tr>\n",
       "    <tr>\n",
       "      <th>1</th>\n",
       "      <td>2</td>\n",
       "      <td>snow</td>\n",
       "      <td>sun</td>\n",
       "    </tr>\n",
       "    <tr>\n",
       "      <th>2</th>\n",
       "      <td>3</td>\n",
       "      <td>sun</td>\n",
       "      <td>snow</td>\n",
       "    </tr>\n",
       "    <tr>\n",
       "      <th>3</th>\n",
       "      <td>4</td>\n",
       "      <td>snow</td>\n",
       "      <td>snow</td>\n",
       "    </tr>\n",
       "    <tr>\n",
       "      <th>4</th>\n",
       "      <td>5</td>\n",
       "      <td>snow</td>\n",
       "      <td>sun</td>\n",
       "    </tr>\n",
       "    <tr>\n",
       "      <th>5</th>\n",
       "      <td>6</td>\n",
       "      <td>sun</td>\n",
       "      <td>snow</td>\n",
       "    </tr>\n",
       "    <tr>\n",
       "      <th>6</th>\n",
       "      <td>7</td>\n",
       "      <td>snow</td>\n",
       "      <td>sun</td>\n",
       "    </tr>\n",
       "    <tr>\n",
       "      <th>7</th>\n",
       "      <td>8</td>\n",
       "      <td>sun</td>\n",
       "      <td>sun</td>\n",
       "    </tr>\n",
       "    <tr>\n",
       "      <th>8</th>\n",
       "      <td>9</td>\n",
       "      <td>sun</td>\n",
       "      <td>NaN</td>\n",
       "    </tr>\n",
       "  </tbody>\n",
       "</table>\n",
       "</div>"
      ],
      "text/plain": [
       "   time weather transition\n",
       "0     1    snow       snow\n",
       "1     2    snow        sun\n",
       "2     3     sun       snow\n",
       "3     4    snow       snow\n",
       "4     5    snow        sun\n",
       "5     6     sun       snow\n",
       "6     7    snow        sun\n",
       "7     8     sun        sun\n",
       "8     9     sun        NaN"
      ]
     },
     "execution_count": 6,
     "metadata": {},
     "output_type": "execute_result"
    }
   ],
   "source": [
    "weather['transition'] = weather['weather'].shift(-1)\n",
    "weather"
   ]
  },
  {
   "cell_type": "code",
   "execution_count": 7,
   "metadata": {},
   "outputs": [
    {
     "data": {
      "text/html": [
       "<div>\n",
       "<style scoped>\n",
       "    .dataframe tbody tr th:only-of-type {\n",
       "        vertical-align: middle;\n",
       "    }\n",
       "\n",
       "    .dataframe tbody tr th {\n",
       "        vertical-align: top;\n",
       "    }\n",
       "\n",
       "    .dataframe thead th {\n",
       "        text-align: right;\n",
       "    }\n",
       "</style>\n",
       "<table border=\"1\" class=\"dataframe\">\n",
       "  <thead>\n",
       "    <tr style=\"text-align: right;\">\n",
       "      <th></th>\n",
       "      <th></th>\n",
       "      <th>time</th>\n",
       "    </tr>\n",
       "    <tr>\n",
       "      <th>weather</th>\n",
       "      <th>transition</th>\n",
       "      <th></th>\n",
       "    </tr>\n",
       "  </thead>\n",
       "  <tbody>\n",
       "    <tr>\n",
       "      <th rowspan=\"2\" valign=\"top\">snow</th>\n",
       "      <th>snow</th>\n",
       "      <td>2</td>\n",
       "    </tr>\n",
       "    <tr>\n",
       "      <th>sun</th>\n",
       "      <td>3</td>\n",
       "    </tr>\n",
       "    <tr>\n",
       "      <th rowspan=\"2\" valign=\"top\">sun</th>\n",
       "      <th>snow</th>\n",
       "      <td>2</td>\n",
       "    </tr>\n",
       "    <tr>\n",
       "      <th>sun</th>\n",
       "      <td>1</td>\n",
       "    </tr>\n",
       "  </tbody>\n",
       "</table>\n",
       "</div>"
      ],
      "text/plain": [
       "                    time\n",
       "weather transition      \n",
       "snow    snow           2\n",
       "        sun            3\n",
       "sun     snow           2\n",
       "        sun            1"
      ]
     },
     "execution_count": 7,
     "metadata": {},
     "output_type": "execute_result"
    }
   ],
   "source": [
    "weather.groupby(['weather', 'transition']).count()"
   ]
  },
  {
   "cell_type": "code",
   "execution_count": 8,
   "metadata": {},
   "outputs": [
    {
     "data": {
      "text/plain": [
       "weather  transition\n",
       "snow     sun           0.600000\n",
       "         snow          0.400000\n",
       "sun      snow          0.666667\n",
       "         sun           0.333333\n",
       "Name: transition, dtype: float64"
      ]
     },
     "execution_count": 8,
     "metadata": {},
     "output_type": "execute_result"
    }
   ],
   "source": [
    "weather.groupby('weather')['transition'].value_counts(normalize=True)"
   ]
  },
  {
   "cell_type": "code",
   "execution_count": 9,
   "metadata": {},
   "outputs": [],
   "source": [
    "P = pd.crosstab(weather['weather'], weather['transition'], normalize=0)"
   ]
  },
  {
   "cell_type": "markdown",
   "metadata": {},
   "source": [
    "## Creating a state diagram with [`pygraphviz`](http://pygraphviz.github.io/documentation/pygraphviz-1.5/)"
   ]
  },
  {
   "cell_type": "code",
   "execution_count": 10,
   "metadata": {},
   "outputs": [
    {
     "ename": "ModuleNotFoundError",
     "evalue": "No module named 'pygraphviz'",
     "output_type": "error",
     "traceback": [
      "\u001b[0;31m---------------------------------------------------------------------------\u001b[0m",
      "\u001b[0;31mModuleNotFoundError\u001b[0m                       Traceback (most recent call last)",
      "\u001b[0;32m<ipython-input-10-9f572658b145>\u001b[0m in \u001b[0;36m<module>\u001b[0;34m\u001b[0m\n\u001b[0;32m----> 1\u001b[0;31m \u001b[0;32mimport\u001b[0m \u001b[0mpygraphviz\u001b[0m \u001b[0;32mas\u001b[0m \u001b[0mpgv\u001b[0m\u001b[0;34m\u001b[0m\u001b[0;34m\u001b[0m\u001b[0m\n\u001b[0m\u001b[1;32m      2\u001b[0m \u001b[0;34m\u001b[0m\u001b[0m\n\u001b[1;32m      3\u001b[0m \u001b[0mstates\u001b[0m \u001b[0;34m=\u001b[0m \u001b[0;34m[\u001b[0m\u001b[0;34m'snow'\u001b[0m\u001b[0;34m,\u001b[0m \u001b[0;34m'sun'\u001b[0m\u001b[0;34m]\u001b[0m\u001b[0;34m\u001b[0m\u001b[0;34m\u001b[0m\u001b[0m\n\u001b[1;32m      4\u001b[0m \u001b[0mG\u001b[0m \u001b[0;34m=\u001b[0m \u001b[0mpgv\u001b[0m\u001b[0;34m.\u001b[0m\u001b[0mAGraph\u001b[0m\u001b[0;34m(\u001b[0m\u001b[0mdirected\u001b[0m\u001b[0;34m=\u001b[0m\u001b[0;32mTrue\u001b[0m\u001b[0;34m)\u001b[0m\u001b[0;34m\u001b[0m\u001b[0;34m\u001b[0m\u001b[0m\n\u001b[1;32m      5\u001b[0m \u001b[0;32mfor\u001b[0m \u001b[0mstate_from\u001b[0m \u001b[0;32min\u001b[0m \u001b[0mstates\u001b[0m\u001b[0;34m:\u001b[0m\u001b[0;34m\u001b[0m\u001b[0;34m\u001b[0m\u001b[0m\n",
      "\u001b[0;31mModuleNotFoundError\u001b[0m: No module named 'pygraphviz'"
     ]
    }
   ],
   "source": [
    "import pygraphviz as pgv\n",
    "\n",
    "states = ['snow', 'sun']\n",
    "G = pgv.AGraph(directed=True)\n",
    "for state_from in states:\n",
    "    for state_to in states:\n",
    "        G.add_edge(state_from, state_to, label=np.round(P.loc[state_from, state_to],2))\n",
    "G.draw('transition.png', prog='dot')"
   ]
  },
  {
   "cell_type": "markdown",
   "metadata": {},
   "source": [
    "## So we have\n",
    "\n",
    "$$\n",
    "P(Y_{t+1}=0| Y_{t}=0) = 0.4\n",
    "$$\n",
    "$$\n",
    "P(Y_{t+1}=0| Y_{t}=1) = 0.67\n",
    "$$\n",
    "$$\n",
    "P(Y_{t+1}=1| Y_{t}=0) = 0.60\n",
    "$$\n",
    "$$\n",
    "P(Y_{t+1}=1| Y_{t}=1) = 0.33\n",
    "$$\n",
    "\n",
    "What is the probability of a third day of sun given that the two previous days where sunny as well (Markov property!)?\n",
    "\n",
    "$$\n",
    "P(Y_{3}=1|Y_{2}=1, Y_{1}=1) = P(Y_{3}=1|Y_{2}=1) = 0.33\n",
    "$$\n",
    "\n",
    "What is the probability of a sunny third day given that the first day was sunny and we know nothing about the second day? \n",
    "\n",
    "$$\n",
    "P(Y_{3}=1|Y_{1}=1) = P(Y_{3}=1| Y_{2}=1)P(Y_{2}=1|Y_{1}=1) + P(Y_{3}=1| Y_{2}=0)P(Y_{2}=0|Y_{1}=1) = 0.33*0.33 + 0.6*0.67 = 0.51\n",
    "$$\n",
    "\n",
    "In general we can write:\n",
    "\n",
    "$$\n",
    "P(Y_{t+1} = y_{t+1} | Y_{1}=y_{1}) = P(Y_{0}=y_{0})P^t\n",
    "$$\n",
    "\n",
    "where $P(Y_{0})$ is the given initial distribution."
   ]
  },
  {
   "cell_type": "code",
   "execution_count": 11,
   "metadata": {},
   "outputs": [
    {
     "data": {
      "text/plain": [
       "array([[0.4       , 0.6       ],\n",
       "       [0.66666667, 0.33333333]])"
      ]
     },
     "execution_count": 11,
     "metadata": {},
     "output_type": "execute_result"
    }
   ],
   "source": [
    "# next state probabilities given the initial state\n",
    "P = P.values\n",
    "P"
   ]
  },
  {
   "cell_type": "code",
   "execution_count": 30,
   "metadata": {},
   "outputs": [
    {
     "data": {
      "text/plain": [
       "array([[0.4       , 0.6       ],\n",
       "       [0.66666667, 0.33333333]])"
      ]
     },
     "execution_count": 30,
     "metadata": {},
     "output_type": "execute_result"
    }
   ],
   "source": [
    "P"
   ]
  },
  {
   "cell_type": "code",
   "execution_count": 28,
   "metadata": {},
   "outputs": [
    {
     "data": {
      "text/plain": [
       "array([0.66666667, 0.33333333])"
      ]
     },
     "execution_count": 28,
     "metadata": {},
     "output_type": "execute_result"
    }
   ],
   "source": [
    "one_day_ahead"
   ]
  },
  {
   "cell_type": "code",
   "execution_count": 31,
   "metadata": {},
   "outputs": [
    {
     "data": {
      "text/plain": [
       "0.511100889"
      ]
     },
     "execution_count": 31,
     "metadata": {},
     "output_type": "execute_result"
    }
   ],
   "source": [
    "val1 = (0.4 * 0.66667) + (0.66667 * 0.3333) \n",
    "val2 = (0.6 * 0.66667) + (0.3333 * 0.33333)\n",
    "val2"
   ]
  },
  {
   "cell_type": "code",
   "execution_count": null,
   "metadata": {},
   "outputs": [],
   "source": [
    "pd.Series"
   ]
  },
  {
   "cell_type": "code",
   "execution_count": null,
   "metadata": {},
   "outputs": [],
   "source": [
    "dataframe = rows = # of aisles\n",
    "            cols = # of aisles\n",
    "            values = #probability of moving from row position - col position\n",
    "dairy    = [0,1] #these have to sum to one\n",
    "checkout = [0,0]"
   ]
  },
  {
   "cell_type": "code",
   "execution_count": 25,
   "metadata": {},
   "outputs": [
    {
     "data": {
      "text/plain": [
       "array([0.48888889, 0.51111111])"
      ]
     },
     "execution_count": 25,
     "metadata": {},
     "output_type": "execute_result"
    }
   ],
   "source": [
    "two_day_ahead"
   ]
  },
  {
   "cell_type": "code",
   "execution_count": 17,
   "metadata": {},
   "outputs": [
    {
     "data": {
      "text/plain": [
       "array([0.66666667, 0.33333333])"
      ]
     },
     "execution_count": 17,
     "metadata": {},
     "output_type": "execute_result"
    }
   ],
   "source": [
    "current_state = np.array([0, 1])\n",
    "one_day_ahead = current_state.dot(P)\n",
    "one_day_ahead"
   ]
  },
  {
   "cell_type": "code",
   "execution_count": 19,
   "metadata": {},
   "outputs": [
    {
     "data": {
      "text/plain": [
       "(2,)"
      ]
     },
     "execution_count": 19,
     "metadata": {},
     "output_type": "execute_result"
    }
   ],
   "source": [
    "one_day_ahead.shape"
   ]
  },
  {
   "cell_type": "code",
   "execution_count": 13,
   "metadata": {},
   "outputs": [],
   "source": [
    "two_day_ahead = one_day_ahead.dot(P)"
   ]
  },
  {
   "cell_type": "code",
   "execution_count": 14,
   "metadata": {},
   "outputs": [
    {
     "data": {
      "text/plain": [
       "array([0.48888889, 0.51111111])"
      ]
     },
     "execution_count": 14,
     "metadata": {},
     "output_type": "execute_result"
    }
   ],
   "source": [
    "two_day_ahead"
   ]
  },
  {
   "cell_type": "code",
   "execution_count": 25,
   "metadata": {},
   "outputs": [
    {
     "data": {
      "text/plain": [
       "array([[0.56      , 0.44      ],\n",
       "       [0.48888889, 0.51111111]])"
      ]
     },
     "execution_count": 25,
     "metadata": {},
     "output_type": "execute_result"
    }
   ],
   "source": [
    "# state probabilities two days ahead P^2\n",
    "P.dot(P)"
   ]
  },
  {
   "cell_type": "code",
   "execution_count": 23,
   "metadata": {},
   "outputs": [
    {
     "data": {
      "text/plain": [
       "array([[0.52627037, 0.47372963],\n",
       "       [0.52636626, 0.47363374]])"
      ]
     },
     "execution_count": 23,
     "metadata": {},
     "output_type": "execute_result"
    }
   ],
   "source": [
    "# stationary distribution\n",
    "P.dot(P).dot(P).dot(P).dot(P).dot(P).dot(P)"
   ]
  },
  {
   "cell_type": "markdown",
   "metadata": {},
   "source": [
    "#### How can we characterize the Markov Chain in the supermarket project?"
   ]
  },
  {
   "cell_type": "code",
   "execution_count": null,
   "metadata": {},
   "outputs": [],
   "source": [
    "initial_state\n",
    "transition_probabilities\n",
    "states = ['fruit', 'dairy', 'drinks', 'spices', 'checkout']"
   ]
  }
 ],
 "metadata": {
  "kernelspec": {
   "display_name": "Python 3",
   "language": "python",
   "name": "python3"
  },
  "language_info": {
   "codemirror_mode": {
    "name": "ipython",
    "version": 3
   },
   "file_extension": ".py",
   "mimetype": "text/x-python",
   "name": "python",
   "nbconvert_exporter": "python",
   "pygments_lexer": "ipython3",
   "version": "3.7.3"
  }
 },
 "nbformat": 4,
 "nbformat_minor": 4
}
