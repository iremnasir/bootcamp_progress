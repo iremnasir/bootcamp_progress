{
 "cells": [
  {
   "cell_type": "code",
   "execution_count": 693,
   "metadata": {},
   "outputs": [],
   "source": [
    "from sklearn.datasets import make_moons\n",
    "import numpy as np\n",
    "import matplotlib.pyplot as plt\n",
    "from sklearn.metrics import accuracy_score\n"
   ]
  },
  {
   "cell_type": "code",
   "execution_count": 694,
   "metadata": {},
   "outputs": [],
   "source": [
    "X, y = make_moons(n_samples=50, noise=0.2, random_state=42)"
   ]
  },
  {
   "cell_type": "code",
   "execution_count": 695,
   "metadata": {},
   "outputs": [],
   "source": [
    "#X = np.hstack([X, np.ones((X.shape[0], 1))])"
   ]
  },
  {
   "cell_type": "code",
   "execution_count": 696,
   "metadata": {},
   "outputs": [],
   "source": [
    "def sigmoid(x):\n",
    "    y = 1/(1 + np.exp(-x)) \n",
    "    return y"
   ]
  },
  {
   "cell_type": "code",
   "execution_count": 697,
   "metadata": {},
   "outputs": [],
   "source": [
    "def feed_forward_1(X, weights):\n",
    "    outputs = []\n",
    "    x_copy = X.copy()\n",
    "    x_copy = x_copy[:, :-1]\n",
    "    for w in weights:\n",
    "        x_inp = np.hstack([x_copy, np.ones((x_copy.shape[0], 1))])\n",
    "        output = sigmoid(np.dot(x_inp, w))\n",
    "        outputs.append(output) \n",
    "        x_copy = output\n",
    "    return outputs"
   ]
  },
  {
   "cell_type": "code",
   "execution_count": 698,
   "metadata": {},
   "outputs": [],
   "source": [
    "def log_loss(ytrue, ypred):\n",
    "    loss = -((ytrue*np.log(ypred)) + ((1 - ytrue)*np.log(1 - ypred)))\n",
    "    return loss\n"
   ]
  },
  {
   "cell_type": "code",
   "execution_count": 699,
   "metadata": {},
   "outputs": [],
   "source": [
    "def backprop(weights,output1,output2,ytrue,X_input, LR_O, LR_H):\n",
    "    #separate learning rates for outer and inner weights.\n",
    "    wH = weights[0]\n",
    "    w0 = weights[1]\n",
    "    #STEP A:\n",
    "    ytrue = ytrue.reshape(-1, 1)\n",
    "    error = (output2.reshape(-1,1) - ytrue) * log_loss(ytrue , output2.reshape(-1,1))\n",
    "    #STEP B: \n",
    "    sig_deriv = output2 * ( 1 - output2)\n",
    "    #derivative of the sigmoid function with respect to the hidden output * weights\n",
    "    y_grad = sig_deriv * error\n",
    "    #STEP C:\n",
    "    hidden_out_with_bias = np.hstack([output1,np.ones((output1.shape[0] ,1))]) #don't forget the bias!\n",
    "    delta_wo = np.dot(-y_grad.transpose(), hidden_out_with_bias ) * LR_O\n",
    "    #and finally, old weights + delta weights -> new weights!\n",
    "    w0_new = w0 + delta_wo.transpose()\n",
    "    #STEP D:\n",
    "    sig_deriv_2 = output1 * ( 1 - output1)\n",
    "    H_grad = sig_deriv_2 * np.dot(y_grad , w0_new[:2].transpose())\n",
    "    #exclude the bias (3rd column) of the outer weights, since it is not backpropagated!\n",
    "    #STEP E:\n",
    "    delta_wH = np.dot(-H_grad.transpose(), X_input ) * LR_H # with or without bias?\n",
    "    wH_new = wH + delta_wH.transpose() #old weights + delta weights -> new weights!\n",
    "    return wH_new, w0_new"
   ]
  },
  {
   "cell_type": "code",
   "execution_count": 700,
   "metadata": {},
   "outputs": [],
   "source": [
    "# Initialize the weights\n",
    "\n",
    "w_1 = np.random.rand(X.shape[1],2)\n",
    "w_2 = np.random.rand(3,1)\n",
    "wx = [w_1, w_2]"
   ]
  },
  {
   "cell_type": "code",
   "execution_count": 701,
   "metadata": {},
   "outputs": [],
   "source": [
    "LOSS_VEC = []\n",
    "for i in range(500):\n",
    "    out1, out2 = feed_forward_1(X, wx)\n",
    "    LOSS_VEC.append(sum(log_loss(y, out2))[0])\n",
    "    new_weights = backprop(wx, out1, out2, y, X, .01,.5)\n",
    "    wx = new_weights"
   ]
  },
  {
   "cell_type": "code",
   "execution_count": 702,
   "metadata": {},
   "outputs": [
    {
     "data": {
      "text/plain": [
       "[<matplotlib.lines.Line2D at 0x1a21e2af98>]"
      ]
     },
     "execution_count": 702,
     "metadata": {},
     "output_type": "execute_result"
    },
    {
     "data": {
      "image/png": "[encoded data removed]",
      "text/plain": [
       "<Figure size 432x288 with 1 Axes>"
      ]
     },
     "metadata": {
      "needs_background": "light"
     },
     "output_type": "display_data"
    }
   ],
   "source": [
    "plt.plot(LOSS_VEC)#calculate accuracy"
   ]
  },
  {
   "cell_type": "code",
   "execution_count": 703,
   "metadata": {},
   "outputs": [
    {
     "data": {
      "text/plain": [
       "[43.485548091807544,\n",
       " 43.49587532243576,\n",
       " 43.50618298156659,\n",
       " 43.516471139365734,\n",
       " 43.526739865662925,\n",
       " 43.53698922995404,\n",
       " 43.54721930140274,\n",
       " 43.55743014884258,\n",
       " 43.567621840778685,\n",
       " 43.57779444538962]"
      ]
     },
     "execution_count": 703,
     "metadata": {},
     "output_type": "execute_result"
    }
   ],
   "source": [
    "LOSS_VEC[-10:]"
   ]
  },
  {
   "cell_type": "code",
   "execution_count": 704,
   "metadata": {},
   "outputs": [],
   "source": [
    "out2_r = np.round(out2)"
   ]
  },
  {
   "cell_type": "code",
   "execution_count": 705,
   "metadata": {},
   "outputs": [
    {
     "data": {
      "text/plain": [
       "0.74"
      ]
     },
     "execution_count": 705,
     "metadata": {},
     "output_type": "execute_result"
    }
   ],
   "source": [
    "accuracy_score(y, out2_r)"
   ]
  },
  {
   "cell_type": "code",
   "execution_count": 707,
   "metadata": {},
   "outputs": [
    {
     "data": {
      "text/plain": [
       "array([[0.5645129 , 0.84080545, 0.84080545, ..., 0.5645129 , 0.84080545,\n",
       "        0.84080545],\n",
       "       [0.73360028, 0.6542671 , 0.6542671 , ..., 0.73360028, 0.6542671 ,\n",
       "        0.6542671 ],\n",
       "       [0.56490064, 0.84029456, 0.84029456, ..., 0.56490064, 0.84029456,\n",
       "        0.84029456],\n",
       "       ...,\n",
       "       [0.56450871, 0.84081098, 0.84081098, ..., 0.56450871, 0.84081098,\n",
       "        0.84081098],\n",
       "       [0.5647296 , 0.84051987, 0.84051987, ..., 0.5647296 , 0.84051987,\n",
       "        0.84051987],\n",
       "       [0.9235173 , 0.50603676, 0.50603676, ..., 0.9235173 , 0.50603676,\n",
       "        0.50603676]])"
      ]
     },
     "execution_count": 707,
     "metadata": {},
     "output_type": "execute_result"
    }
   ],
   "source": [
    "log_loss(y, out2)"
   ]
  },
  {
   "cell_type": "code",
   "execution_count": null,
   "metadata": {},
   "outputs": [],
   "source": []
  }
 ],
 "metadata": {
  "kernelspec": {
   "display_name": "Python 3",
   "language": "python",
   "name": "python3"
  },
  "language_info": {
   "codemirror_mode": {
    "name": "ipython",
    "version": 3
   },
   "file_extension": ".py",
   "mimetype": "text/x-python",
   "name": "python",
   "nbconvert_exporter": "python",
   "pygments_lexer": "ipython3",
   "version": "3.7.3"
  }
 },
 "nbformat": 4,
 "nbformat_minor": 2
}
