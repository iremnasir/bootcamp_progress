{
 "cells": [
  {
   "cell_type": "code",
   "execution_count": 61,
   "metadata": {},
   "outputs": [],
   "source": [
    "import matplotlib.pyplot as plt\n",
    "\n",
    "import numpy as np\n",
    "from sklearn.datasets import make_moons\n",
    "import math\n",
    "from sklearn.metrics import accuracy_score\n",
    "\n",
    "X,y = make_moons(n_samples=50, noise=0.2, random_state=42)\n",
    "\n",
    "def sigmoid(x):\n",
    "    return 1/(1+np.exp(-x))\n"
   ]
  },
  {
   "cell_type": "code",
   "execution_count": 62,
   "metadata": {},
   "outputs": [],
   "source": [
    "def ffnn (X, w0, w1):\n",
    "    '''\n",
    "    Feed-Forward Neural Network\n",
    "    Input needed:\n",
    "        X: data\n",
    "        w0: weights of the first layer\n",
    "        w1: weights of the second layer\n",
    "    Output:\n",
    "        ypred0: results from the first layer\n",
    "        ypred: results from the final layer\n",
    "    '''\n",
    "    input_layer = np.hstack((X,np.ones((X.shape[0],1)))) # shape (50,3)\n",
    "    weight_matrix_layer = w0 # shape (3,2)\n",
    "    dot_product1 = np.dot(input_layer,weight_matrix_layer) # shape (50,2)\n",
    "    hidden_layer =  np.hstack((sigmoid(dot_product1),np.ones((X.shape[0],1)))) # shape (50,3)\n",
    "    weight_matrix_layer_2 = w1 # shape (3,1)\n",
    "    dot_product2 = np.dot(hidden_layer,weight_matrix_layer_2) # shape (50,1)\n",
    "    output_layer = sigmoid(dot_product2) # shape (50,1)\n",
    "    ypred0 = hidden_layer # shape (50,3)\n",
    "    ypred = output_layer # shape (50,1)\n",
    "\n",
    "    return ypred0, ypred"
   ]
  },
  {
   "cell_type": "code",
   "execution_count": 63,
   "metadata": {},
   "outputs": [],
   "source": [
    "\n"
   ]
  },
  {
   "cell_type": "code",
   "execution_count": 64,
   "metadata": {},
   "outputs": [],
   "source": [
    "def backprop(weights,output1,output2,ytrue,X_input, LR_O, LR_H):\n",
    "    #separate learning rates for outer and inner weights.\n",
    "    wH = weights[0]\n",
    "    w0 = weights[1]\n",
    "    #STEP A:\n",
    "    ytrue = ytrue.reshape(-1, 1)\n",
    "    error = (output2.reshape(-1,1) - ytrue) * loss(ytrue , output2.reshape(-1,1))\n",
    "    #STEP B: may have to reshape or not\n",
    "    sig_deriv = output2 * ( 1 - output2)\n",
    "    #derivative of the sigmoid function with respect to the hidden output * weights\n",
    "    y_grad = sig_deriv * error\n",
    "    #STEP C:\n",
    "    hidden_out_with_bias = np.hstack([output1,np.ones((output1.shape[0] ,1))]) #don't forget the bias!\n",
    "    delta_wo = np.dot( -y_grad.transpose(), hidden_out_with_bias ) * LR_O\n",
    "    #and finally, old weights + delta weights -> new weights!\n",
    "    w0_new = w0 + delta_wo.transpose()\n",
    "    #STEP D:\n",
    "    sig_deriv_2 = output1 * ( 1 - output1)\n",
    "    H_grad = sig_deriv_2 * np.dot(y_grad , w0_new[:2].transpose())\n",
    "    #exclude the bias (3rd column) of the outer weights, since it is not backpropagated!\n",
    "    #STEP E:\n",
    "    delta_wH = np.dot(-H_grad.transpose(), X_input ) * LR_H # with or without bias?\n",
    "    wH_new = wH + delta_wH.transpose() #old weights + delta weights -> new weights!\n",
    "    return wH_new, w0_new"
   ]
  },
  {
   "cell_type": "code",
   "execution_count": 68,
   "metadata": {},
   "outputs": [],
   "source": [
    "# Intial random weights instansiation\n",
    "w0 = np.random.random([3,2])\n",
    "w1 = np.random.random([3,1])\n",
    "w = [w0, w1]"
   ]
  },
  {
   "cell_type": "code",
   "execution_count": 69,
   "metadata": {},
   "outputs": [],
   "source": [
    "# Predict with the initial random weights\n",
    "ypred0 = ffnn(X,w0,w1)[0]\n",
    "ypred = ffnn(X,w0,w1)[1]"
   ]
  },
  {
   "cell_type": "code",
   "execution_count": 70,
   "metadata": {},
   "outputs": [
    {
     "ename": "ValueError",
     "evalue": "operands could not be broadcast together with shapes (50,1) (100,1) ",
     "output_type": "error",
     "traceback": [
      "\u001b[0;31m---------------------------------------------------------------------------\u001b[0m",
      "\u001b[0;31mValueError\u001b[0m                                Traceback (most recent call last)",
      "\u001b[0;32m<ipython-input-70-afb39bb9bee0>\u001b[0m in \u001b[0;36m<module>\u001b[0;34m\u001b[0m\n\u001b[1;32m      4\u001b[0m     \u001b[0mypred0\u001b[0m\u001b[0;34m,\u001b[0m \u001b[0mypred\u001b[0m \u001b[0;34m=\u001b[0m \u001b[0mffnn\u001b[0m\u001b[0;34m(\u001b[0m\u001b[0mX\u001b[0m\u001b[0;34m,\u001b[0m \u001b[0mw0\u001b[0m\u001b[0;34m,\u001b[0m \u001b[0mw1\u001b[0m\u001b[0;34m)\u001b[0m\u001b[0;34m\u001b[0m\u001b[0;34m\u001b[0m\u001b[0m\n\u001b[1;32m      5\u001b[0m     \u001b[0mLOSS_VEC\u001b[0m\u001b[0;34m.\u001b[0m\u001b[0mappend\u001b[0m\u001b[0;34m(\u001b[0m\u001b[0mnp\u001b[0m\u001b[0;34m.\u001b[0m\u001b[0msum\u001b[0m\u001b[0;34m(\u001b[0m\u001b[0mloss\u001b[0m\u001b[0;34m(\u001b[0m\u001b[0my\u001b[0m\u001b[0;34m,\u001b[0m \u001b[0mypred\u001b[0m\u001b[0;34m)\u001b[0m\u001b[0;34m)\u001b[0m\u001b[0;34m)\u001b[0m\u001b[0;34m\u001b[0m\u001b[0;34m\u001b[0m\u001b[0m\n\u001b[0;32m----> 6\u001b[0;31m     \u001b[0mw1\u001b[0m \u001b[0;34m=\u001b[0m \u001b[0mbackprop\u001b[0m\u001b[0;34m(\u001b[0m\u001b[0mw\u001b[0m\u001b[0;34m,\u001b[0m \u001b[0mypred0\u001b[0m\u001b[0;34m,\u001b[0m \u001b[0mypred\u001b[0m\u001b[0;34m,\u001b[0m \u001b[0mX\u001b[0m\u001b[0;34m,\u001b[0m \u001b[0my\u001b[0m\u001b[0;34m,\u001b[0m \u001b[0;36m0.1\u001b[0m\u001b[0;34m,\u001b[0m \u001b[0;36m0.01\u001b[0m\u001b[0;34m)\u001b[0m\u001b[0;34m\u001b[0m\u001b[0;34m\u001b[0m\u001b[0m\n\u001b[0m\u001b[1;32m      7\u001b[0m \u001b[0;34m\u001b[0m\u001b[0m\n\u001b[1;32m      8\u001b[0m \u001b[0;34m\u001b[0m\u001b[0m\n",
      "\u001b[0;32m<ipython-input-64-bc79bbf16459>\u001b[0m in \u001b[0;36mbackprop\u001b[0;34m(weights, output1, output2, ytrue, X_input, LR_O, LR_H)\u001b[0m\n\u001b[1;32m      5\u001b[0m     \u001b[0;31m#STEP A:\u001b[0m\u001b[0;34m\u001b[0m\u001b[0;34m\u001b[0m\u001b[0;34m\u001b[0m\u001b[0m\n\u001b[1;32m      6\u001b[0m     \u001b[0mytrue\u001b[0m \u001b[0;34m=\u001b[0m \u001b[0mytrue\u001b[0m\u001b[0;34m.\u001b[0m\u001b[0mreshape\u001b[0m\u001b[0;34m(\u001b[0m\u001b[0;34m-\u001b[0m\u001b[0;36m1\u001b[0m\u001b[0;34m,\u001b[0m \u001b[0;36m1\u001b[0m\u001b[0;34m)\u001b[0m\u001b[0;34m\u001b[0m\u001b[0;34m\u001b[0m\u001b[0m\n\u001b[0;32m----> 7\u001b[0;31m     \u001b[0merror\u001b[0m \u001b[0;34m=\u001b[0m \u001b[0;34m(\u001b[0m\u001b[0moutput2\u001b[0m\u001b[0;34m.\u001b[0m\u001b[0mreshape\u001b[0m\u001b[0;34m(\u001b[0m\u001b[0;34m-\u001b[0m\u001b[0;36m1\u001b[0m\u001b[0;34m,\u001b[0m\u001b[0;36m1\u001b[0m\u001b[0;34m)\u001b[0m \u001b[0;34m-\u001b[0m \u001b[0mytrue\u001b[0m\u001b[0;34m)\u001b[0m \u001b[0;34m*\u001b[0m \u001b[0mloss\u001b[0m\u001b[0;34m(\u001b[0m\u001b[0mytrue\u001b[0m \u001b[0;34m,\u001b[0m \u001b[0moutput2\u001b[0m\u001b[0;34m.\u001b[0m\u001b[0mreshape\u001b[0m\u001b[0;34m(\u001b[0m\u001b[0;34m-\u001b[0m\u001b[0;36m1\u001b[0m\u001b[0;34m,\u001b[0m\u001b[0;36m1\u001b[0m\u001b[0;34m)\u001b[0m\u001b[0;34m)\u001b[0m\u001b[0;34m\u001b[0m\u001b[0;34m\u001b[0m\u001b[0m\n\u001b[0m\u001b[1;32m      8\u001b[0m     \u001b[0;31m#STEP B: may have to reshape or not\u001b[0m\u001b[0;34m\u001b[0m\u001b[0;34m\u001b[0m\u001b[0;34m\u001b[0m\u001b[0m\n\u001b[1;32m      9\u001b[0m     \u001b[0msig_deriv\u001b[0m \u001b[0;34m=\u001b[0m \u001b[0moutput2\u001b[0m \u001b[0;34m*\u001b[0m \u001b[0;34m(\u001b[0m \u001b[0;36m1\u001b[0m \u001b[0;34m-\u001b[0m \u001b[0moutput2\u001b[0m\u001b[0;34m)\u001b[0m\u001b[0;34m\u001b[0m\u001b[0;34m\u001b[0m\u001b[0m\n",
      "\u001b[0;31mValueError\u001b[0m: operands could not be broadcast together with shapes (50,1) (100,1) "
     ]
    }
   ],
   "source": [
    "# Loop and store all calculated loss results\n",
    "LOSS_VEC = []\n",
    "for i in range(500):\n",
    "    ypred0, ypred = ffnn(X, w0, w1)\n",
    "    LOSS_VEC.append(np.sum(loss(y, ypred)))\n",
    "    w1 = backprop(w, ypred0, ypred, X, y, 0.1, 0.01)\n",
    "\n",
    "\n",
    "plt.plot(LOSS_VEC)\n",
    "plt.title('Loss values over time')\n"
   ]
  },
  {
   "cell_type": "code",
   "execution_count": null,
   "metadata": {},
   "outputs": [],
   "source": []
  },
  {
   "cell_type": "code",
   "execution_count": null,
   "metadata": {},
   "outputs": [],
   "source": []
  }
 ],
 "metadata": {
  "kernelspec": {
   "display_name": "Python 3",
   "language": "python",
   "name": "python3"
  },
  "language_info": {
   "codemirror_mode": {
    "name": "ipython",
    "version": 3
   },
   "file_extension": ".py",
   "mimetype": "text/x-python",
   "name": "python",
   "nbconvert_exporter": "python",
   "pygments_lexer": "ipython3",
   "version": "3.7.3"
  }
 },
 "nbformat": 4,
 "nbformat_minor": 2
}
