{
 "cells": [
  {
   "cell_type": "code",
   "execution_count": 1,
   "metadata": {},
   "outputs": [],
   "source": [
    "from sklearn.datasets import make_moons\n",
    "import numpy as np\n",
    "import matplotlib.pyplot as plt"
   ]
  },
  {
   "cell_type": "code",
   "execution_count": 2,
   "metadata": {},
   "outputs": [],
   "source": [
    "X, y = make_moons(n_samples=50, noise=0.2, random_state=42)"
   ]
  },
  {
   "cell_type": "code",
   "execution_count": 3,
   "metadata": {},
   "outputs": [
    {
     "data": {
      "text/plain": [
       "(50, 2)"
      ]
     },
     "execution_count": 3,
     "metadata": {},
     "output_type": "execute_result"
    }
   ],
   "source": [
    "X.shape"
   ]
  },
  {
   "cell_type": "code",
   "execution_count": 4,
   "metadata": {},
   "outputs": [
    {
     "data": {
      "text/plain": [
       "<matplotlib.collections.PathCollection at 0x1a19adc0f0>"
      ]
     },
     "execution_count": 4,
     "metadata": {},
     "output_type": "execute_result"
    },
    {
     "data": {
      "image/png": "[encoded data removed]",
      "text/plain": [
       "<Figure size 432x288 with 1 Axes>"
      ]
     },
     "metadata": {
      "needs_background": "light"
     },
     "output_type": "display_data"
    }
   ],
   "source": [
    "plt.scatter(X[:,0], X[:,1], c = y) "
   ]
  },
  {
   "cell_type": "code",
   "execution_count": 5,
   "metadata": {},
   "outputs": [],
   "source": [
    "# Add bias\n",
    "X = np.hstack([X, np.ones((X.shape[0], 1))])"
   ]
  },
  {
   "cell_type": "code",
   "execution_count": null,
   "metadata": {},
   "outputs": [],
   "source": [
    "X.shape"
   ]
  },
  {
   "cell_type": "code",
   "execution_count": null,
   "metadata": {},
   "outputs": [],
   "source": [
    "#Define a sigmoid function"
   ]
  },
  {
   "cell_type": "code",
   "execution_count": 13,
   "metadata": {},
   "outputs": [],
   "source": [
    "def sigmoid(x):\n",
    "    y = 1/(1 + np.exp(-x)) \n",
    "    return y"
   ]
  },
  {
   "cell_type": "code",
   "execution_count": null,
   "metadata": {},
   "outputs": [],
   "source": []
  },
  {
   "cell_type": "code",
   "execution_count": null,
   "metadata": {},
   "outputs": [],
   "source": [
    "a = np.array([-10.0, -1.0, 0.0, 1.0, 10.0])\n",
    "expected = np.array([0.0, 0.27, 0.5, 0.73, 1.0])\n",
    "assert np.all(sigmoid(a).round(2) == expected)"
   ]
  },
  {
   "cell_type": "code",
   "execution_count": null,
   "metadata": {},
   "outputs": [],
   "source": [
    "# Initialize the weights\n",
    "\n",
    "w_1 = np.random.rand(X.shape[1],2)\n",
    "w_2 = np.random.rand(3,1)"
   ]
  },
  {
   "cell_type": "code",
   "execution_count": null,
   "metadata": {},
   "outputs": [],
   "source": []
  },
  {
   "cell_type": "code",
   "execution_count": null,
   "metadata": {},
   "outputs": [],
   "source": []
  },
  {
   "cell_type": "code",
   "execution_count": 25,
   "metadata": {},
   "outputs": [],
   "source": [
    "def feed_forward(X,weights):\n",
    "    \n",
    "    \"\"\"\n",
    "\n",
    "    1. Calculate the dot product of X\n",
    "       and the weights of the first layer.\n",
    "       \n",
    "\n",
    "    2. Apply the sigmoid function on the result.\n",
    "\n",
    "    3. Append an extra column of ones to the result (i.e. the bias).\n",
    "\n",
    "    4. Calculate the dot product of the previous step\n",
    "       with the weights of the second (i.e. outer) layer.\n",
    "\n",
    "    5. Apply the sigmoid function on the result.\n",
    "\n",
    "    6. Return all intermediate results (i.e. anything that is outputted\n",
    "       by an activation function).\n",
    "    \"\"\"\n",
    "    output1 = sigmoid(np.dot(X, weights[0]))\n",
    "    hl_1 = np.hstack([output1, np.ones((output1.shape[0], 1))])\n",
    "    output2 = sigmoid(np.dot(hl_1, weights[1]))\n",
    "    \n",
    "    return output1, output2"
   ]
  },
  {
   "cell_type": "code",
   "execution_count": 7,
   "metadata": {},
   "outputs": [],
   "source": [
    "def feed_forward_1(X, weights):\n",
    "    outputs = []\n",
    "    x_copy = X.copy()\n",
    "    x_copy = x_copy[:, :-1]\n",
    "    for w in weights:\n",
    "        x_inp = np.hstack([x_copy, np.ones((x_copy.shape[0], 1))])\n",
    "        output = sigmoid(np.dot(x_inp, w))\n",
    "        outputs.append(output) \n",
    "        x_copy = output\n",
    "    return outputs"
   ]
  },
  {
   "cell_type": "code",
   "execution_count": null,
   "metadata": {},
   "outputs": [],
   "source": [
    "wx = [w_1, w_2]"
   ]
  },
  {
   "cell_type": "markdown",
   "metadata": {},
   "source": [
    "# Backpropagation"
   ]
  },
  {
   "cell_type": "code",
   "execution_count": 67,
   "metadata": {},
   "outputs": [],
   "source": [
    "def log_loss(ytrue, ypred):\n",
    "    loss = -((ytrue*np.log(ypred)) + ((1 - ytrue)*np.log(1 - ypred)))\n",
    "    return loss\n",
    "\n"
   ]
  },
  {
   "cell_type": "code",
   "execution_count": 68,
   "metadata": {},
   "outputs": [],
   "source": [
    "#ytrue = np.array([0.0, 0.0, 1.0, 1.0])\n",
    "#ypred = np.array([0.01, 0.99, 0.01, 0.99])\n",
    "#expected = np.array([0.01, 4.61, 4.61, 0.01])"
   ]
  },
  {
   "cell_type": "code",
   "execution_count": 69,
   "metadata": {},
   "outputs": [
    {
     "ename": "NameError",
     "evalue": "name 'ytrue' is not defined",
     "output_type": "error",
     "traceback": [
      "\u001b[0;31m---------------------------------------------------------------------------\u001b[0m",
      "\u001b[0;31mNameError\u001b[0m                                 Traceback (most recent call last)",
      "\u001b[0;32m<ipython-input-69-e7d3ca2ae22b>\u001b[0m in \u001b[0;36m<module>\u001b[0;34m\u001b[0m\n\u001b[0;32m----> 1\u001b[0;31m \u001b[0;32massert\u001b[0m \u001b[0mnp\u001b[0m\u001b[0;34m.\u001b[0m\u001b[0mall\u001b[0m\u001b[0;34m(\u001b[0m\u001b[0mlog_loss\u001b[0m\u001b[0;34m(\u001b[0m\u001b[0mytrue\u001b[0m\u001b[0;34m,\u001b[0m \u001b[0mypred\u001b[0m\u001b[0;34m)\u001b[0m\u001b[0;34m.\u001b[0m\u001b[0mround\u001b[0m\u001b[0;34m(\u001b[0m\u001b[0;36m2\u001b[0m\u001b[0;34m)\u001b[0m \u001b[0;34m==\u001b[0m \u001b[0mexpected\u001b[0m\u001b[0;34m)\u001b[0m\u001b[0;34m\u001b[0m\u001b[0;34m\u001b[0m\u001b[0m\n\u001b[0m",
      "\u001b[0;31mNameError\u001b[0m: name 'ytrue' is not defined"
     ]
    }
   ],
   "source": [
    "assert np.all(log_loss(ytrue, ypred).round(2) == expected)"
   ]
  },
  {
   "cell_type": "code",
   "execution_count": 82,
   "metadata": {},
   "outputs": [],
   "source": [
    "out1, out2 = feed_forward(X, wx)\n",
    "ytrue = y.reshape(-1, 1)\n",
    "ypred = out2.reshape(-1,1)\n",
    "loss = log_loss(ytrue, ypred) #which arrays do we need to compare?\n"
   ]
  },
  {
   "cell_type": "code",
   "execution_count": 83,
   "metadata": {},
   "outputs": [],
   "source": [
    "assert loss.shape == ytrue.shape == ypred.shape"
   ]
  },
  {
   "cell_type": "code",
   "execution_count": 75,
   "metadata": {},
   "outputs": [],
   "source": [
    "def backprop(weights,output1,output2,ytrue,X_input, LR_O, LR_H):\n",
    "    #separate learning rates for outer and inner weights.\n",
    "    wH = weights[0]\n",
    "    w0 = weights[1]\n",
    "    #STEP A:\n",
    "    ytrue = ytrue.reshape(-1, 1)\n",
    "    error = (output2.reshape(-1,1) - ytrue) * log_loss(ytrue , output2.reshape(-1,1))\n",
    "    #STEP B: may have to reshape or not\n",
    "    sig_deriv = output2 * ( 1 - output2)\n",
    "    #derivative of the sigmoid function with respect to the hidden output * weights\n",
    "    y_grad = sig_deriv * error\n",
    "    #STEP C:\n",
    "    hidden_out_with_bias = np.hstack([output1,np.ones((output1.shape[0] ,1))]) #don't forget the bias!\n",
    "    delta_wo = np.dot( -y_grad.transpose(), hidden_out_with_bias ) * LR_O\n",
    "    #and finally, old weights + delta weights -> new weights!\n",
    "    w0_new = w0 + delta_wo.transpose()\n",
    "    #STEP D:\n",
    "    sig_deriv_2 = output1 * ( 1 - output1)\n",
    "    H_grad = sig_deriv_2 * np.dot(y_grad , w0_new[:2].transpose())\n",
    "    #exclude the bias (3rd column) of the outer weights, since it is not backpropagated!\n",
    "    #STEP E:\n",
    "    delta_wH = np.dot(-H_grad.transpose(), X_input ) * LR_H # with or without bias?\n",
    "    wH_new = wH + delta_wH.transpose() #old weights + delta weights -> new weights!\n",
    "    return wH_new, w0_new"
   ]
  },
  {
   "cell_type": "code",
   "execution_count": null,
   "metadata": {},
   "outputs": [],
   "source": []
  },
  {
   "cell_type": "code",
   "execution_count": 76,
   "metadata": {},
   "outputs": [],
   "source": [
    "# Initialize the weights\n",
    "\n",
    "w_1 = np.random.rand(X.shape[1],2)\n",
    "w_2 = np.random.rand(3,1)\n",
    "wx = [w_1, w_2]"
   ]
  },
  {
   "cell_type": "code",
   "execution_count": 77,
   "metadata": {},
   "outputs": [
    {
     "name": "stdout",
     "output_type": "stream",
     "text": [
      "(3, 2) (3, 1)\n"
     ]
    }
   ],
   "source": [
    "wH_new, w0_new = backprop(wx, out1, out2, y, X, 0.1, 5.0)\n",
    "new_weights = [wH_new, w0_new]\n",
    "print(new_weights[0].shape, new_weights[1].shape)"
   ]
  },
  {
   "cell_type": "code",
   "execution_count": 78,
   "metadata": {},
   "outputs": [
    {
     "name": "stdout",
     "output_type": "stream",
     "text": [
      "(3, 2) (3, 1)\n"
     ]
    }
   ],
   "source": [
    "print(wx[0].shape,wx[1].shape)"
   ]
  },
  {
   "cell_type": "code",
   "execution_count": 79,
   "metadata": {},
   "outputs": [],
   "source": [
    "LOSS_VEC = []\n",
    "for i in range(1000):\n",
    "    out1, out2 = feed_forward_1(X, wx)\n",
    "    LOSS_VEC.append(sum(log_loss(y, out2))[0])\n",
    "    new_weights = backprop(wx, out1, out2, y, X, .1,.1)\n",
    "    wx = new_weights"
   ]
  },
  {
   "cell_type": "code",
   "execution_count": 80,
   "metadata": {},
   "outputs": [
    {
     "data": {
      "text/plain": [
       "[<matplotlib.lines.Line2D at 0x1a1a14e5c0>]"
      ]
     },
     "execution_count": 80,
     "metadata": {},
     "output_type": "execute_result"
    },
    {
     "data": {
      "image/png": "[encoded data removed]",
      "text/plain": [
       "<Figure size 432x288 with 1 Axes>"
      ]
     },
     "metadata": {
      "needs_background": "light"
     },
     "output_type": "display_data"
    }
   ],
   "source": [
    "plt.plot(LOSS_VEC)#calculate accuracy"
   ]
  },
  {
   "cell_type": "code",
   "execution_count": 81,
   "metadata": {},
   "outputs": [
    {
     "data": {
      "text/plain": [
       "(array([[-0.74407657,  0.45748795],\n",
       "        [ 1.13559315, -1.34748904],\n",
       "        [ 0.95249534,  0.59542156]]), array([[-1.87776501],\n",
       "        [ 3.45000118],\n",
       "        [-0.86767978]]))"
      ]
     },
     "execution_count": 81,
     "metadata": {},
     "output_type": "execute_result"
    }
   ],
   "source": [
    "wx"
   ]
  },
  {
   "cell_type": "code",
   "execution_count": null,
   "metadata": {},
   "outputs": [],
   "source": []
  }
 ],
 "metadata": {
  "kernelspec": {
   "display_name": "Python 3",
   "language": "python",
   "name": "python3"
  },
  "language_info": {
   "codemirror_mode": {
    "name": "ipython",
    "version": 3
   },
   "file_extension": ".py",
   "mimetype": "text/x-python",
   "name": "python",
   "nbconvert_exporter": "python",
   "pygments_lexer": "ipython3",
   "version": "3.7.3"
  }
 },
 "nbformat": 4,
 "nbformat_minor": 2
}
