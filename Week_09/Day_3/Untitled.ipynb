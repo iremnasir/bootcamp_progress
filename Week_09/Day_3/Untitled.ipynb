{
 "cells": [
  {
   "cell_type": "markdown",
   "metadata": {},
   "source": [
    "## Convolutional Kernel"
   ]
  },
  {
   "cell_type": "markdown",
   "metadata": {},
   "source": [
    "- Convolutional Kernel:\n",
    "- 3x3 max 5x5 matrix\n",
    "- Values are initialized randomly\n",
    "- this matrix is then overlaid with input image\n",
    "- Dot product of each element and sum, slide the matrix (stride = hyperparam)\n",
    "- What you get out of this is a feature map\n",
    "\n",
    "**Captures edges etc**"
   ]
  },
  {
   "cell_type": "markdown",
   "metadata": {},
   "source": [
    "## Max Pooling"
   ]
  },
  {
   "cell_type": "markdown",
   "metadata": {},
   "source": [
    "- 2x2/ 3x3 sliding window to the feature map\n",
    "- It will taake the max value of the window and insert it as the element\n",
    "- You may ir may not go step by step (sliding)\n",
    "- Stride can be chosen differently for h or v movement \n",
    "- Common for 2 x2 stride 2 x 2 (hyperparam)\n",
    "\n"
   ]
  },
  {
   "cell_type": "markdown",
   "metadata": {},
   "source": [
    "## Activation "
   ]
  },
  {
   "cell_type": "markdown",
   "metadata": {},
   "source": [
    "- Apply ReLu : This turns everything below 0 to 0\n"
   ]
  },
  {
   "cell_type": "markdown",
   "metadata": {},
   "source": [
    "## Final Layer "
   ]
  },
  {
   "cell_type": "markdown",
   "metadata": {},
   "source": [
    "- Final layer is fully connected and consists of one neuron of sigmoid function\n"
   ]
  },
  {
   "cell_type": "markdown",
   "metadata": {},
   "source": [
    "### PAdding "
   ]
  },
  {
   "cell_type": "markdown",
   "metadata": {},
   "source": [
    "- To be able to not lose info to the edges, padding\n",
    "- Always add it"
   ]
  },
  {
   "cell_type": "markdown",
   "metadata": {},
   "source": [
    "## Hyperparameters of the Convolutional Architecture"
   ]
  },
  {
   "cell_type": "markdown",
   "metadata": {},
   "source": [
    "- Padding : yes if possible\n",
    "- Number of kernels: Increase the number of kernels for each layer from inside out\n",
    "- Size of kernels: 3x3 or 5x5 can be bigger but not necessary\n",
    "- Stride of the kernels: \n",
    "    - Conv kernel : 1v1h less freq (2x2)\n",
    "- Size of Max Pooling : 2x2 or 3x3\n",
    "    - There is also average pooling but not so commonly used\n",
    "- Stride of Max-Pooling layer:\n",
    "    - 2v2h (or 3x3)\n",
    "- Activation Function : ReLu\n",
    "- No of convolutional layers\n",
    "  "
   ]
  },
  {
   "cell_type": "markdown",
   "metadata": {},
   "source": [
    "### Reduce feature - increase the kernel size and so on"
   ]
  },
  {
   "cell_type": "markdown",
   "metadata": {},
   "source": [
    "## Transfer Learning"
   ]
  },
  {
   "cell_type": "markdown",
   "metadata": {},
   "source": [
    "1. Chop off and customize the other layer\n",
    "2. Freeze the weights of the MobileNet - learnt model\n",
    "3. Prepare your images for (MobileNet)\n",
    "4. Train and test"
   ]
  },
  {
   "cell_type": "code",
   "execution_count": null,
   "metadata": {},
   "outputs": [],
   "source": []
  }
 ],
 "metadata": {
  "kernelspec": {
   "display_name": "Python 3",
   "language": "python",
   "name": "python3"
  },
  "language_info": {
   "codemirror_mode": {
    "name": "ipython",
    "version": 3
   },
   "file_extension": ".py",
   "mimetype": "text/x-python",
   "name": "python",
   "nbconvert_exporter": "python",
   "pygments_lexer": "ipython3",
   "version": "3.7.7"
  }
 },
 "nbformat": 4,
 "nbformat_minor": 4
}
