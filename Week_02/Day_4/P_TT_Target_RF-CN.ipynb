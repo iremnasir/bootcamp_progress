{
 "cells": [
  {
   "cell_type": "markdown",
   "metadata": {},
   "source": [
    "- Implement the numerical data\n",
    "- improved marginally\n",
    "- Try to impute year built\n",
    "- Imputation also does not improve much 74% with good agrement CV\n",
    "- Remove thr < 0.05 feature selection\n",
    "\n",
    "\n",
    "## Notes of what I have done in the prev version ##\n",
    "- Do the random forest on the selected categorical data and try variations (aka small unique vals vs large - LARGE wins)\n",
    "- Based on the importance, i kicked out many and left with 4. My score went down only at decimal but data burden is gone\n",
    "- Changed the params of the random forest - score went down\n",
    "- Added the plot for estimate importance\n",
    "\n",
    "\n"
   ]
  },
  {
   "cell_type": "code",
   "execution_count": 40,
   "metadata": {},
   "outputs": [],
   "source": [
    "import pandas as pd\n",
    "import seaborn as sns\n",
    "import matplotlib.pyplot as plt\n",
    "from sklearn.datasets import make_moons\n",
    "from sklearn.linear_model import LogisticRegression\n",
    "from sklearn.model_selection import train_test_split\n",
    "from sklearn.model_selection import cross_val_score\n",
    "from sklearn.tree import DecisionTreeClassifier\n",
    "from sklearn.ensemble import RandomForestClassifier\n",
    "from sklearn.metrics import accuracy_score,confusion_matrix, roc_auc_score, roc_curve"
   ]
  },
  {
   "cell_type": "code",
   "execution_count": 41,
   "metadata": {},
   "outputs": [],
   "source": [
    "#Read two data sets and put them into two different DFs\n",
    "df_p = pd.read_csv('pumps.csv', index_col = 0)\n",
    "df_py = pd.read_csv('pumps_y.csv', index_col = 0)"
   ]
  },
  {
   "cell_type": "code",
   "execution_count": 42,
   "metadata": {},
   "outputs": [],
   "source": [
    "#Check shapes\n",
    "\n",
    "if len(df_p) != len(df_py):\n",
    "    print(\"DataFrames aren't of equal length\")\n"
   ]
  },
  {
   "cell_type": "code",
   "execution_count": 43,
   "metadata": {},
   "outputs": [],
   "source": [
    "#Merging pumps_y as a new column on pumps\n",
    "df_p['status_group'] = df_py['status_group']"
   ]
  },
  {
   "cell_type": "code",
   "execution_count": 44,
   "metadata": {},
   "outputs": [],
   "source": [
    "#Do train/test split\n",
    "Xtrain, Xtest, ytrain, ytest = train_test_split(df_p.loc[:,'amount_tsh':'waterpoint_type_group'], df_p.loc[:,'status_group'], test_size = 0.2, random_state = 42)\n",
    "Xtrain.to_csv('Xtrain.csv', index_label = 'id')\n",
    "Xtest.to_csv('Xtest.csv', index_label = 'id')\n",
    "ytrain.to_csv('ytrain.csv', header = False, index_label =  'id')\n",
    "ytest.to_csv('ytest.csv',header = False, index_label =  'id')"
   ]
  },
  {
   "cell_type": "markdown",
   "metadata": {},
   "source": [
    "# This is the point where Feature Engineering Starts. \n",
    "# After model building, replace Xtrain by Xtest and so on for y"
   ]
  },
  {
   "cell_type": "code",
   "execution_count": 47,
   "metadata": {},
   "outputs": [],
   "source": [
    "#Read-in split data\n",
    "X_train = pd.read_csv('Xtrain.csv', index_col = 0)\n",
    "ytrain = pd.read_csv('ytrain.csv', header = None, index_col = 0)"
   ]
  },
  {
   "cell_type": "code",
   "execution_count": 48,
   "metadata": {},
   "outputs": [],
   "source": [
    "#Check the sizes\n",
    "\n",
    "if len(X_train) != len(ytrain):\n",
    "    print(\"DataFrames aren't of equal length\")\n"
   ]
  },
  {
   "cell_type": "code",
   "execution_count": 69,
   "metadata": {},
   "outputs": [],
   "source": [
    "#Merge the training data back together\n",
    "df_p = pd.concat([Xtrain, ytrain], axis = 1)"
   ]
  },
  {
   "cell_type": "code",
   "execution_count": 70,
   "metadata": {},
   "outputs": [],
   "source": [
    "#Rename the merged target group column name\n",
    "df_p.rename(columns = {1:'status_group'}, inplace = True)\n"
   ]
  },
  {
   "cell_type": "code",
   "execution_count": 71,
   "metadata": {},
   "outputs": [
    {
     "name": "stdout",
     "output_type": "stream",
     "text": [
      "Fraction of functional pipes is: 0.5429713804713805 \n",
      " Fraction of non-functional pipes is: 0.4570286195286195\n"
     ]
    }
   ],
   "source": [
    "#Replace \"functional needs repair\" by \"non functional\"\n",
    "#The rationale behind it is simply we don't want a bad shape pump go under the radar\n",
    "\n",
    "df_p['status_group'] = df_p['status_group'].str.replace('functional needs repair', 'non functional')\n",
    "print ('Fraction of functional pipes is:',df_p['status_group'].value_counts(1)[0], '\\n',\n",
    "       'Fraction of non-functional pipes is:',df_p['status_group'].value_counts(1)[1])"
   ]
  },
  {
   "cell_type": "code",
   "execution_count": 72,
   "metadata": {},
   "outputs": [
    {
     "data": {
      "text/plain": [
       "amount_tsh                   0\n",
       "date_recorded                0\n",
       "funder                    2876\n",
       "gps_height                   0\n",
       "installer                 2889\n",
       "longitude                    0\n",
       "latitude                     0\n",
       "wpt_name                     0\n",
       "num_private                  0\n",
       "basin                        0\n",
       "subvillage                 296\n",
       "region                       0\n",
       "region_code                  0\n",
       "district_code                0\n",
       "lga                          0\n",
       "ward                         0\n",
       "population                   0\n",
       "public_meeting            2689\n",
       "recorded_by                  0\n",
       "scheme_management         3102\n",
       "scheme_name              22523\n",
       "permit                    2439\n",
       "construction_year            0\n",
       "extraction_type              0\n",
       "extraction_type_group        0\n",
       "extraction_type_class        0\n",
       "management                   0\n",
       "management_group             0\n",
       "payment                      0\n",
       "payment_type                 0\n",
       "water_quality                0\n",
       "quality_group                0\n",
       "quantity                     0\n",
       "quantity_group               0\n",
       "source                       0\n",
       "source_type                  0\n",
       "source_class                 0\n",
       "waterpoint_type              0\n",
       "waterpoint_type_group        0\n",
       "status_group                 0\n",
       "dtype: int64"
      ]
     },
     "execution_count": 72,
     "metadata": {},
     "output_type": "execute_result"
    }
   ],
   "source": [
    "#Missing Values\n",
    "#Notice when you split train/test this has changed\n",
    "df_p.isnull().sum() # number of missing values "
   ]
  },
  {
   "cell_type": "code",
   "execution_count": 73,
   "metadata": {},
   "outputs": [
    {
     "name": "stdout",
     "output_type": "stream",
     "text": [
      "Removing scheme_name and date_recorded from the data frame ...\n"
     ]
    }
   ],
   "source": [
    "#Remove scheme_name and date_recorded because \n",
    "#scheme_name is mostly empty and date_recorded is something that cant be correlated\n",
    "print ('Removing scheme_name and date_recorded from the data frame ...')\n",
    "df_p = df_p.drop(['scheme_name', 'date_recorded'], axis=1)\n"
   ]
  },
  {
   "cell_type": "code",
   "execution_count": 75,
   "metadata": {},
   "outputs": [
    {
     "name": "stdout",
     "output_type": "stream",
     "text": [
      "Slicing out numerical and categorical columns...\n"
     ]
    }
   ],
   "source": [
    "#Divide df into numeric and categorical\n",
    "#Numeric df\n",
    "#Get rid of num_private\n",
    "print('Slicing out numerical and categorical columns...')\n",
    "df_num = df_p[['amount_tsh', 'gps_height', 'longitude', 'latitude', 'region_code', 'district_code', 'population', 'construction_year']]"
   ]
  },
  {
   "cell_type": "code",
   "execution_count": 76,
   "metadata": {},
   "outputs": [],
   "source": [
    "#Categorical df\n",
    "\n",
    "df_cat = df_p[['funder', 'installer', 'wpt_name', 'basin', 'subvillage', 'region', 'lga', 'ward', 'public_meeting', 'recorded_by', 'scheme_management', 'permit', 'extraction_type', 'extraction_type_group', 'extraction_type_class', 'management', 'management_group', 'payment', 'payment_type', 'water_quality', 'quality_group', 'quantity', 'quantity_group', 'source', 'source_type', 'source_class', 'waterpoint_type', 'waterpoint_type_group', 'status_group']]"
   ]
  },
  {
   "cell_type": "code",
   "execution_count": 77,
   "metadata": {},
   "outputs": [
    {
     "name": "stdout",
     "output_type": "stream",
     "text": [
      "Imputing construction_year with the most frequent value after 0...\n"
     ]
    }
   ],
   "source": [
    "#Imputation with mean, median and most frequent\n",
    "print ('Imputing construction_year with the most frequent value after 0...')\n",
    "#Construction_Year\n",
    "year_to_replace_with = df_num['construction_year'].value_counts()\n",
    "year_to_replace_with.index[1]\n",
    "df_num['construction_year'].replace(0, year_to_replace_with.index[1], inplace = True)\n",
    "\n",
    "#Population\n",
    "#population_to_replace_with = df_num['population'].median()\n",
    "#df_num['population'].replace(0, population_to_replace_with, inplace = True)\n",
    "\n",
    "#amount_tsh\n",
    "#amount_to_replace_with = round(df_num['amount_tsh'].mean())\n",
    "#df_num['amount_tsh'].replace(0, amount_to_replace_with, inplace = True)"
   ]
  },
  {
   "cell_type": "code",
   "execution_count": 64,
   "metadata": {},
   "outputs": [
    {
     "data": {
      "text/html": [
       "<div>\n",
       "<style scoped>\n",
       "    .dataframe tbody tr th:only-of-type {\n",
       "        vertical-align: middle;\n",
       "    }\n",
       "\n",
       "    .dataframe tbody tr th {\n",
       "        vertical-align: top;\n",
       "    }\n",
       "\n",
       "    .dataframe thead th {\n",
       "        text-align: right;\n",
       "    }\n",
       "</style>\n",
       "<table border=\"1\" class=\"dataframe\">\n",
       "  <thead>\n",
       "    <tr style=\"text-align: right;\">\n",
       "      <th></th>\n",
       "      <th>amount_tsh</th>\n",
       "      <th>gps_height</th>\n",
       "      <th>longitude</th>\n",
       "      <th>latitude</th>\n",
       "      <th>region_code</th>\n",
       "      <th>district_code</th>\n",
       "      <th>population</th>\n",
       "      <th>construction_year</th>\n",
       "    </tr>\n",
       "  </thead>\n",
       "  <tbody>\n",
       "    <tr>\n",
       "      <th>454</th>\n",
       "      <td>50.0</td>\n",
       "      <td>2092</td>\n",
       "      <td>35.426020</td>\n",
       "      <td>-4.227446</td>\n",
       "      <td>21</td>\n",
       "      <td>1</td>\n",
       "      <td>160</td>\n",
       "      <td>1998</td>\n",
       "    </tr>\n",
       "    <tr>\n",
       "      <th>510</th>\n",
       "      <td>0.0</td>\n",
       "      <td>0</td>\n",
       "      <td>35.510074</td>\n",
       "      <td>-5.724555</td>\n",
       "      <td>1</td>\n",
       "      <td>6</td>\n",
       "      <td>0</td>\n",
       "      <td>2010</td>\n",
       "    </tr>\n",
       "    <tr>\n",
       "      <th>14146</th>\n",
       "      <td>0.0</td>\n",
       "      <td>0</td>\n",
       "      <td>32.499866</td>\n",
       "      <td>-9.081222</td>\n",
       "      <td>12</td>\n",
       "      <td>6</td>\n",
       "      <td>0</td>\n",
       "      <td>2010</td>\n",
       "    </tr>\n",
       "    <tr>\n",
       "      <th>47410</th>\n",
       "      <td>0.0</td>\n",
       "      <td>0</td>\n",
       "      <td>34.060484</td>\n",
       "      <td>-8.830208</td>\n",
       "      <td>12</td>\n",
       "      <td>7</td>\n",
       "      <td>0</td>\n",
       "      <td>2010</td>\n",
       "    </tr>\n",
       "    <tr>\n",
       "      <th>1288</th>\n",
       "      <td>300.0</td>\n",
       "      <td>1023</td>\n",
       "      <td>37.032690</td>\n",
       "      <td>-6.040787</td>\n",
       "      <td>5</td>\n",
       "      <td>1</td>\n",
       "      <td>120</td>\n",
       "      <td>1997</td>\n",
       "    </tr>\n",
       "  </tbody>\n",
       "</table>\n",
       "</div>"
      ],
      "text/plain": [
       "       amount_tsh  gps_height  longitude  latitude  region_code  \\\n",
       "454          50.0        2092  35.426020 -4.227446           21   \n",
       "510           0.0           0  35.510074 -5.724555            1   \n",
       "14146         0.0           0  32.499866 -9.081222           12   \n",
       "47410         0.0           0  34.060484 -8.830208           12   \n",
       "1288        300.0        1023  37.032690 -6.040787            5   \n",
       "\n",
       "       district_code  population  construction_year  \n",
       "454                1         160               1998  \n",
       "510                6           0               2010  \n",
       "14146              6           0               2010  \n",
       "47410              7           0               2010  \n",
       "1288               1         120               1997  "
      ]
     },
     "execution_count": 64,
     "metadata": {},
     "output_type": "execute_result"
    }
   ],
   "source": [
    "df_num.head()"
   ]
  },
  {
   "cell_type": "code",
   "execution_count": 65,
   "metadata": {},
   "outputs": [
    {
     "data": {
      "text/plain": [
       "funder                    1698\n",
       "installer                 1923\n",
       "wpt_name                 30742\n",
       "basin                        9\n",
       "subvillage               17232\n",
       "region                      21\n",
       "lga                        125\n",
       "ward                      2076\n",
       "public_meeting               2\n",
       "recorded_by                  1\n",
       "scheme_management           12\n",
       "permit                       2\n",
       "extraction_type             18\n",
       "extraction_type_group       13\n",
       "extraction_type_class        7\n",
       "management                  12\n",
       "management_group             5\n",
       "payment                      7\n",
       "payment_type                 7\n",
       "water_quality                8\n",
       "quality_group                6\n",
       "quantity                     5\n",
       "quantity_group               5\n",
       "source                      10\n",
       "source_type                  7\n",
       "source_class                 3\n",
       "waterpoint_type              7\n",
       "waterpoint_type_group        6\n",
       "status_group                 2\n",
       "dtype: int64"
      ]
     },
     "execution_count": 65,
     "metadata": {},
     "output_type": "execute_result"
    }
   ],
   "source": [
    "df_cat.nunique()"
   ]
  },
  {
   "cell_type": "code",
   "execution_count": 78,
   "metadata": {},
   "outputs": [
    {
     "name": "stdout",
     "output_type": "stream",
     "text": [
      "Filling NaNs with a \"not available\" statement...\n"
     ]
    }
   ],
   "source": [
    "#Fill all NaNs with 'no data'\n",
    "print ('Filling NaNs with a \"not available\" statement...')\n",
    "df_cat_fillna = df_cat.fillna('not available')"
   ]
  },
  {
   "cell_type": "code",
   "execution_count": 67,
   "metadata": {},
   "outputs": [
    {
     "data": {
      "text/html": [
       "<div>\n",
       "<style scoped>\n",
       "    .dataframe tbody tr th:only-of-type {\n",
       "        vertical-align: middle;\n",
       "    }\n",
       "\n",
       "    .dataframe tbody tr th {\n",
       "        vertical-align: top;\n",
       "    }\n",
       "\n",
       "    .dataframe thead th {\n",
       "        text-align: right;\n",
       "    }\n",
       "</style>\n",
       "<table border=\"1\" class=\"dataframe\">\n",
       "  <thead>\n",
       "    <tr style=\"text-align: right;\">\n",
       "      <th></th>\n",
       "      <th>funder</th>\n",
       "      <th>installer</th>\n",
       "      <th>wpt_name</th>\n",
       "      <th>basin</th>\n",
       "      <th>subvillage</th>\n",
       "      <th>region</th>\n",
       "      <th>lga</th>\n",
       "      <th>ward</th>\n",
       "      <th>public_meeting</th>\n",
       "      <th>recorded_by</th>\n",
       "      <th>...</th>\n",
       "      <th>water_quality</th>\n",
       "      <th>quality_group</th>\n",
       "      <th>quantity</th>\n",
       "      <th>quantity_group</th>\n",
       "      <th>source</th>\n",
       "      <th>source_type</th>\n",
       "      <th>source_class</th>\n",
       "      <th>waterpoint_type</th>\n",
       "      <th>waterpoint_type_group</th>\n",
       "      <th>status_group</th>\n",
       "    </tr>\n",
       "  </thead>\n",
       "  <tbody>\n",
       "    <tr>\n",
       "      <th>454</th>\n",
       "      <td>Dmdd</td>\n",
       "      <td>DMDD</td>\n",
       "      <td>Narmo</td>\n",
       "      <td>Internal</td>\n",
       "      <td>Bashnet Kati</td>\n",
       "      <td>Manyara</td>\n",
       "      <td>Babati</td>\n",
       "      <td>Bashinet</td>\n",
       "      <td>True</td>\n",
       "      <td>GeoData Consultants Ltd</td>\n",
       "      <td>...</td>\n",
       "      <td>soft</td>\n",
       "      <td>good</td>\n",
       "      <td>insufficient</td>\n",
       "      <td>insufficient</td>\n",
       "      <td>spring</td>\n",
       "      <td>spring</td>\n",
       "      <td>groundwater</td>\n",
       "      <td>communal standpipe</td>\n",
       "      <td>communal standpipe</td>\n",
       "      <td>functional</td>\n",
       "    </tr>\n",
       "    <tr>\n",
       "      <th>510</th>\n",
       "      <td>Cmsr</td>\n",
       "      <td>Gove</td>\n",
       "      <td>Lukali</td>\n",
       "      <td>Internal</td>\n",
       "      <td>Lukali</td>\n",
       "      <td>Dodoma</td>\n",
       "      <td>Bahi</td>\n",
       "      <td>Lamaiti</td>\n",
       "      <td>True</td>\n",
       "      <td>GeoData Consultants Ltd</td>\n",
       "      <td>...</td>\n",
       "      <td>soft</td>\n",
       "      <td>good</td>\n",
       "      <td>enough</td>\n",
       "      <td>enough</td>\n",
       "      <td>shallow well</td>\n",
       "      <td>shallow well</td>\n",
       "      <td>groundwater</td>\n",
       "      <td>hand pump</td>\n",
       "      <td>hand pump</td>\n",
       "      <td>functional</td>\n",
       "    </tr>\n",
       "    <tr>\n",
       "      <th>14146</th>\n",
       "      <td>Kkkt</td>\n",
       "      <td>KKKT</td>\n",
       "      <td>Mahakama</td>\n",
       "      <td>Lake Rukwa</td>\n",
       "      <td>Chawalikozi</td>\n",
       "      <td>Mbeya</td>\n",
       "      <td>Mbozi</td>\n",
       "      <td>Ndalambo</td>\n",
       "      <td>True</td>\n",
       "      <td>GeoData Consultants Ltd</td>\n",
       "      <td>...</td>\n",
       "      <td>soft</td>\n",
       "      <td>good</td>\n",
       "      <td>enough</td>\n",
       "      <td>enough</td>\n",
       "      <td>shallow well</td>\n",
       "      <td>shallow well</td>\n",
       "      <td>groundwater</td>\n",
       "      <td>other</td>\n",
       "      <td>other</td>\n",
       "      <td>non functional</td>\n",
       "    </tr>\n",
       "    <tr>\n",
       "      <th>47410</th>\n",
       "      <td>not available</td>\n",
       "      <td>not available</td>\n",
       "      <td>Shule Ya Msingi Chosi A</td>\n",
       "      <td>Rufiji</td>\n",
       "      <td>Shuleni</td>\n",
       "      <td>Mbeya</td>\n",
       "      <td>Mbarali</td>\n",
       "      <td>Chimala</td>\n",
       "      <td>True</td>\n",
       "      <td>GeoData Consultants Ltd</td>\n",
       "      <td>...</td>\n",
       "      <td>soft</td>\n",
       "      <td>good</td>\n",
       "      <td>insufficient</td>\n",
       "      <td>insufficient</td>\n",
       "      <td>river</td>\n",
       "      <td>river/lake</td>\n",
       "      <td>surface</td>\n",
       "      <td>communal standpipe</td>\n",
       "      <td>communal standpipe</td>\n",
       "      <td>non functional</td>\n",
       "    </tr>\n",
       "    <tr>\n",
       "      <th>1288</th>\n",
       "      <td>Ki</td>\n",
       "      <td>Ki</td>\n",
       "      <td>Kwa Mjowe</td>\n",
       "      <td>Wami / Ruvu</td>\n",
       "      <td>Ngholong</td>\n",
       "      <td>Morogoro</td>\n",
       "      <td>Kilosa</td>\n",
       "      <td>Chakwale</td>\n",
       "      <td>True</td>\n",
       "      <td>GeoData Consultants Ltd</td>\n",
       "      <td>...</td>\n",
       "      <td>salty</td>\n",
       "      <td>salty</td>\n",
       "      <td>enough</td>\n",
       "      <td>enough</td>\n",
       "      <td>shallow well</td>\n",
       "      <td>shallow well</td>\n",
       "      <td>groundwater</td>\n",
       "      <td>other</td>\n",
       "      <td>other</td>\n",
       "      <td>non functional</td>\n",
       "    </tr>\n",
       "  </tbody>\n",
       "</table>\n",
       "<p>5 rows × 29 columns</p>\n",
       "</div>"
      ],
      "text/plain": [
       "              funder      installer                 wpt_name        basin  \\\n",
       "454             Dmdd           DMDD                    Narmo     Internal   \n",
       "510             Cmsr           Gove                   Lukali     Internal   \n",
       "14146           Kkkt           KKKT                 Mahakama   Lake Rukwa   \n",
       "47410  not available  not available  Shule Ya Msingi Chosi A       Rufiji   \n",
       "1288              Ki             Ki                Kwa Mjowe  Wami / Ruvu   \n",
       "\n",
       "         subvillage    region      lga      ward public_meeting  \\\n",
       "454    Bashnet Kati   Manyara   Babati  Bashinet           True   \n",
       "510          Lukali    Dodoma     Bahi   Lamaiti           True   \n",
       "14146   Chawalikozi     Mbeya    Mbozi  Ndalambo           True   \n",
       "47410       Shuleni     Mbeya  Mbarali   Chimala           True   \n",
       "1288       Ngholong  Morogoro   Kilosa  Chakwale           True   \n",
       "\n",
       "                   recorded_by  ... water_quality quality_group      quantity  \\\n",
       "454    GeoData Consultants Ltd  ...          soft          good  insufficient   \n",
       "510    GeoData Consultants Ltd  ...          soft          good        enough   \n",
       "14146  GeoData Consultants Ltd  ...          soft          good        enough   \n",
       "47410  GeoData Consultants Ltd  ...          soft          good  insufficient   \n",
       "1288   GeoData Consultants Ltd  ...         salty         salty        enough   \n",
       "\n",
       "      quantity_group        source   source_type source_class  \\\n",
       "454     insufficient        spring        spring  groundwater   \n",
       "510           enough  shallow well  shallow well  groundwater   \n",
       "14146         enough  shallow well  shallow well  groundwater   \n",
       "47410   insufficient         river    river/lake      surface   \n",
       "1288          enough  shallow well  shallow well  groundwater   \n",
       "\n",
       "          waterpoint_type waterpoint_type_group    status_group  \n",
       "454    communal standpipe    communal standpipe      functional  \n",
       "510             hand pump             hand pump      functional  \n",
       "14146               other                 other  non functional  \n",
       "47410  communal standpipe    communal standpipe  non functional  \n",
       "1288                other                 other  non functional  \n",
       "\n",
       "[5 rows x 29 columns]"
      ]
     },
     "execution_count": 67,
     "metadata": {},
     "output_type": "execute_result"
    }
   ],
   "source": [
    "df_cat_fillna.head(5)"
   ]
  },
  {
   "cell_type": "code",
   "execution_count": 79,
   "metadata": {},
   "outputs": [
    {
     "data": {
      "text/plain": [
       "funder                   0\n",
       "installer                0\n",
       "wpt_name                 0\n",
       "basin                    0\n",
       "subvillage               0\n",
       "region                   0\n",
       "lga                      0\n",
       "ward                     0\n",
       "public_meeting           0\n",
       "recorded_by              0\n",
       "scheme_management        0\n",
       "permit                   0\n",
       "extraction_type          0\n",
       "extraction_type_group    0\n",
       "extraction_type_class    0\n",
       "management               0\n",
       "management_group         0\n",
       "payment                  0\n",
       "payment_type             0\n",
       "water_quality            0\n",
       "quality_group            0\n",
       "quantity                 0\n",
       "quantity_group           0\n",
       "source                   0\n",
       "source_type              0\n",
       "source_class             0\n",
       "waterpoint_type          0\n",
       "waterpoint_type_group    0\n",
       "status_group             0\n",
       "dtype: int64"
      ]
     },
     "execution_count": 79,
     "metadata": {},
     "output_type": "execute_result"
    }
   ],
   "source": [
    "#Check NaNs in here\n",
    "#Check the NaNs - num\n",
    "df_cat_fillna.isnull().sum()"
   ]
  },
  {
   "cell_type": "code",
   "execution_count": 80,
   "metadata": {},
   "outputs": [
    {
     "name": "stdout",
     "output_type": "stream",
     "text": [
      "Dummifying the status_group (a.k.a target variable)\n"
     ]
    }
   ],
   "source": [
    "#Dummify the target\n",
    "print ('Dummifying the status_group (a.k.a target variable)')\n",
    "dummy_target_var = pd.get_dummies(df_cat_fillna['status_group'])"
   ]
  },
  {
   "cell_type": "code",
   "execution_count": 81,
   "metadata": {},
   "outputs": [
    {
     "data": {
      "text/html": [
       "<div>\n",
       "<style scoped>\n",
       "    .dataframe tbody tr th:only-of-type {\n",
       "        vertical-align: middle;\n",
       "    }\n",
       "\n",
       "    .dataframe tbody tr th {\n",
       "        vertical-align: top;\n",
       "    }\n",
       "\n",
       "    .dataframe thead th {\n",
       "        text-align: right;\n",
       "    }\n",
       "</style>\n",
       "<table border=\"1\" class=\"dataframe\">\n",
       "  <thead>\n",
       "    <tr style=\"text-align: right;\">\n",
       "      <th></th>\n",
       "      <th>functional</th>\n",
       "      <th>non functional</th>\n",
       "    </tr>\n",
       "  </thead>\n",
       "  <tbody>\n",
       "    <tr>\n",
       "      <th>454</th>\n",
       "      <td>1</td>\n",
       "      <td>0</td>\n",
       "    </tr>\n",
       "    <tr>\n",
       "      <th>510</th>\n",
       "      <td>1</td>\n",
       "      <td>0</td>\n",
       "    </tr>\n",
       "    <tr>\n",
       "      <th>14146</th>\n",
       "      <td>0</td>\n",
       "      <td>1</td>\n",
       "    </tr>\n",
       "    <tr>\n",
       "      <th>47410</th>\n",
       "      <td>0</td>\n",
       "      <td>1</td>\n",
       "    </tr>\n",
       "    <tr>\n",
       "      <th>1288</th>\n",
       "      <td>0</td>\n",
       "      <td>1</td>\n",
       "    </tr>\n",
       "  </tbody>\n",
       "</table>\n",
       "</div>"
      ],
      "text/plain": [
       "       functional  non functional\n",
       "454             1               0\n",
       "510             1               0\n",
       "14146           0               1\n",
       "47410           0               1\n",
       "1288            0               1"
      ]
     },
     "execution_count": 81,
     "metadata": {},
     "output_type": "execute_result"
    }
   ],
   "source": [
    "#Check the dummy\n",
    "dummy_target_var.head()"
   ]
  },
  {
   "cell_type": "code",
   "execution_count": 82,
   "metadata": {},
   "outputs": [
    {
     "name": "stdout",
     "output_type": "stream",
     "text": [
      "Concatenating the categorical and target columns\n"
     ]
    },
    {
     "data": {
      "text/html": [
       "<div>\n",
       "<style scoped>\n",
       "    .dataframe tbody tr th:only-of-type {\n",
       "        vertical-align: middle;\n",
       "    }\n",
       "\n",
       "    .dataframe tbody tr th {\n",
       "        vertical-align: top;\n",
       "    }\n",
       "\n",
       "    .dataframe thead th {\n",
       "        text-align: right;\n",
       "    }\n",
       "</style>\n",
       "<table border=\"1\" class=\"dataframe\">\n",
       "  <thead>\n",
       "    <tr style=\"text-align: right;\">\n",
       "      <th></th>\n",
       "      <th>funder</th>\n",
       "      <th>installer</th>\n",
       "      <th>wpt_name</th>\n",
       "      <th>basin</th>\n",
       "      <th>subvillage</th>\n",
       "      <th>region</th>\n",
       "      <th>lga</th>\n",
       "      <th>ward</th>\n",
       "      <th>public_meeting</th>\n",
       "      <th>recorded_by</th>\n",
       "      <th>...</th>\n",
       "      <th>quantity</th>\n",
       "      <th>quantity_group</th>\n",
       "      <th>source</th>\n",
       "      <th>source_type</th>\n",
       "      <th>source_class</th>\n",
       "      <th>waterpoint_type</th>\n",
       "      <th>waterpoint_type_group</th>\n",
       "      <th>status_group</th>\n",
       "      <th>functional</th>\n",
       "      <th>non functional</th>\n",
       "    </tr>\n",
       "  </thead>\n",
       "  <tbody>\n",
       "    <tr>\n",
       "      <th>454</th>\n",
       "      <td>Dmdd</td>\n",
       "      <td>DMDD</td>\n",
       "      <td>Narmo</td>\n",
       "      <td>Internal</td>\n",
       "      <td>Bashnet Kati</td>\n",
       "      <td>Manyara</td>\n",
       "      <td>Babati</td>\n",
       "      <td>Bashinet</td>\n",
       "      <td>True</td>\n",
       "      <td>GeoData Consultants Ltd</td>\n",
       "      <td>...</td>\n",
       "      <td>insufficient</td>\n",
       "      <td>insufficient</td>\n",
       "      <td>spring</td>\n",
       "      <td>spring</td>\n",
       "      <td>groundwater</td>\n",
       "      <td>communal standpipe</td>\n",
       "      <td>communal standpipe</td>\n",
       "      <td>functional</td>\n",
       "      <td>1</td>\n",
       "      <td>0</td>\n",
       "    </tr>\n",
       "    <tr>\n",
       "      <th>510</th>\n",
       "      <td>Cmsr</td>\n",
       "      <td>Gove</td>\n",
       "      <td>Lukali</td>\n",
       "      <td>Internal</td>\n",
       "      <td>Lukali</td>\n",
       "      <td>Dodoma</td>\n",
       "      <td>Bahi</td>\n",
       "      <td>Lamaiti</td>\n",
       "      <td>True</td>\n",
       "      <td>GeoData Consultants Ltd</td>\n",
       "      <td>...</td>\n",
       "      <td>enough</td>\n",
       "      <td>enough</td>\n",
       "      <td>shallow well</td>\n",
       "      <td>shallow well</td>\n",
       "      <td>groundwater</td>\n",
       "      <td>hand pump</td>\n",
       "      <td>hand pump</td>\n",
       "      <td>functional</td>\n",
       "      <td>1</td>\n",
       "      <td>0</td>\n",
       "    </tr>\n",
       "    <tr>\n",
       "      <th>14146</th>\n",
       "      <td>Kkkt</td>\n",
       "      <td>KKKT</td>\n",
       "      <td>Mahakama</td>\n",
       "      <td>Lake Rukwa</td>\n",
       "      <td>Chawalikozi</td>\n",
       "      <td>Mbeya</td>\n",
       "      <td>Mbozi</td>\n",
       "      <td>Ndalambo</td>\n",
       "      <td>True</td>\n",
       "      <td>GeoData Consultants Ltd</td>\n",
       "      <td>...</td>\n",
       "      <td>enough</td>\n",
       "      <td>enough</td>\n",
       "      <td>shallow well</td>\n",
       "      <td>shallow well</td>\n",
       "      <td>groundwater</td>\n",
       "      <td>other</td>\n",
       "      <td>other</td>\n",
       "      <td>non functional</td>\n",
       "      <td>0</td>\n",
       "      <td>1</td>\n",
       "    </tr>\n",
       "  </tbody>\n",
       "</table>\n",
       "<p>3 rows × 31 columns</p>\n",
       "</div>"
      ],
      "text/plain": [
       "      funder installer  wpt_name       basin    subvillage   region     lga  \\\n",
       "454     Dmdd      DMDD     Narmo    Internal  Bashnet Kati  Manyara  Babati   \n",
       "510     Cmsr      Gove    Lukali    Internal        Lukali   Dodoma    Bahi   \n",
       "14146   Kkkt      KKKT  Mahakama  Lake Rukwa   Chawalikozi    Mbeya   Mbozi   \n",
       "\n",
       "           ward public_meeting              recorded_by  ...      quantity  \\\n",
       "454    Bashinet           True  GeoData Consultants Ltd  ...  insufficient   \n",
       "510     Lamaiti           True  GeoData Consultants Ltd  ...        enough   \n",
       "14146  Ndalambo           True  GeoData Consultants Ltd  ...        enough   \n",
       "\n",
       "      quantity_group        source   source_type source_class  \\\n",
       "454     insufficient        spring        spring  groundwater   \n",
       "510           enough  shallow well  shallow well  groundwater   \n",
       "14146         enough  shallow well  shallow well  groundwater   \n",
       "\n",
       "          waterpoint_type waterpoint_type_group    status_group functional  \\\n",
       "454    communal standpipe    communal standpipe      functional          1   \n",
       "510             hand pump             hand pump      functional          1   \n",
       "14146               other                 other  non functional          0   \n",
       "\n",
       "      non functional  \n",
       "454                0  \n",
       "510                0  \n",
       "14146              1  \n",
       "\n",
       "[3 rows x 31 columns]"
      ]
     },
     "execution_count": 82,
     "metadata": {},
     "output_type": "execute_result"
    }
   ],
   "source": [
    "#Concat original cat df and dummified target\n",
    "print('Concatenating the categorical and target columns')\n",
    "df_cat_fillna_dummy_target = pd.concat([df_cat_fillna, dummy_target_var], axis = 1)\n",
    "df_cat_fillna_dummy_target.head(3)"
   ]
  },
  {
   "cell_type": "code",
   "execution_count": 84,
   "metadata": {},
   "outputs": [
    {
     "name": "stdout",
     "output_type": "stream",
     "text": [
      "Target encoding a subset of categorical columns ['extraction_type', 'payment', 'quantity', 'waterpoint_type']\n"
     ]
    },
    {
     "data": {
      "text/html": [
       "<div>\n",
       "<style scoped>\n",
       "    .dataframe tbody tr th:only-of-type {\n",
       "        vertical-align: middle;\n",
       "    }\n",
       "\n",
       "    .dataframe tbody tr th {\n",
       "        vertical-align: top;\n",
       "    }\n",
       "\n",
       "    .dataframe thead th {\n",
       "        text-align: right;\n",
       "    }\n",
       "</style>\n",
       "<table border=\"1\" class=\"dataframe\">\n",
       "  <thead>\n",
       "    <tr style=\"text-align: right;\">\n",
       "      <th></th>\n",
       "      <th>funder</th>\n",
       "      <th>installer</th>\n",
       "      <th>wpt_name</th>\n",
       "      <th>basin</th>\n",
       "      <th>subvillage</th>\n",
       "      <th>region</th>\n",
       "      <th>lga</th>\n",
       "      <th>ward</th>\n",
       "      <th>public_meeting</th>\n",
       "      <th>recorded_by</th>\n",
       "      <th>...</th>\n",
       "      <th>source_class</th>\n",
       "      <th>waterpoint_type</th>\n",
       "      <th>waterpoint_type_group</th>\n",
       "      <th>status_group</th>\n",
       "      <th>functional</th>\n",
       "      <th>non functional</th>\n",
       "      <th>extraction_type_func</th>\n",
       "      <th>payment_func</th>\n",
       "      <th>quantity_func</th>\n",
       "      <th>waterpoint_type_func</th>\n",
       "    </tr>\n",
       "  </thead>\n",
       "  <tbody>\n",
       "    <tr>\n",
       "      <th>454</th>\n",
       "      <td>Dmdd</td>\n",
       "      <td>DMDD</td>\n",
       "      <td>Narmo</td>\n",
       "      <td>Internal</td>\n",
       "      <td>Bashnet Kati</td>\n",
       "      <td>Manyara</td>\n",
       "      <td>Babati</td>\n",
       "      <td>Bashinet</td>\n",
       "      <td>True</td>\n",
       "      <td>GeoData Consultants Ltd</td>\n",
       "      <td>...</td>\n",
       "      <td>groundwater</td>\n",
       "      <td>communal standpipe</td>\n",
       "      <td>communal standpipe</td>\n",
       "      <td>functional</td>\n",
       "      <td>1</td>\n",
       "      <td>0</td>\n",
       "      <td>0.599438</td>\n",
       "      <td>0.677281</td>\n",
       "      <td>0.524537</td>\n",
       "      <td>0.622646</td>\n",
       "    </tr>\n",
       "    <tr>\n",
       "      <th>510</th>\n",
       "      <td>Cmsr</td>\n",
       "      <td>Gove</td>\n",
       "      <td>Lukali</td>\n",
       "      <td>Internal</td>\n",
       "      <td>Lukali</td>\n",
       "      <td>Dodoma</td>\n",
       "      <td>Bahi</td>\n",
       "      <td>Lamaiti</td>\n",
       "      <td>True</td>\n",
       "      <td>GeoData Consultants Ltd</td>\n",
       "      <td>...</td>\n",
       "      <td>groundwater</td>\n",
       "      <td>hand pump</td>\n",
       "      <td>hand pump</td>\n",
       "      <td>functional</td>\n",
       "      <td>1</td>\n",
       "      <td>0</td>\n",
       "      <td>0.604167</td>\n",
       "      <td>0.449503</td>\n",
       "      <td>0.652461</td>\n",
       "      <td>0.615505</td>\n",
       "    </tr>\n",
       "    <tr>\n",
       "      <th>14146</th>\n",
       "      <td>Kkkt</td>\n",
       "      <td>KKKT</td>\n",
       "      <td>Mahakama</td>\n",
       "      <td>Lake Rukwa</td>\n",
       "      <td>Chawalikozi</td>\n",
       "      <td>Mbeya</td>\n",
       "      <td>Mbozi</td>\n",
       "      <td>Ndalambo</td>\n",
       "      <td>True</td>\n",
       "      <td>GeoData Consultants Ltd</td>\n",
       "      <td>...</td>\n",
       "      <td>groundwater</td>\n",
       "      <td>other</td>\n",
       "      <td>other</td>\n",
       "      <td>non functional</td>\n",
       "      <td>0</td>\n",
       "      <td>1</td>\n",
       "      <td>0.161942</td>\n",
       "      <td>0.449503</td>\n",
       "      <td>0.652461</td>\n",
       "      <td>0.132013</td>\n",
       "    </tr>\n",
       "    <tr>\n",
       "      <th>47410</th>\n",
       "      <td>not available</td>\n",
       "      <td>not available</td>\n",
       "      <td>Shule Ya Msingi Chosi A</td>\n",
       "      <td>Rufiji</td>\n",
       "      <td>Shuleni</td>\n",
       "      <td>Mbeya</td>\n",
       "      <td>Mbarali</td>\n",
       "      <td>Chimala</td>\n",
       "      <td>True</td>\n",
       "      <td>GeoData Consultants Ltd</td>\n",
       "      <td>...</td>\n",
       "      <td>surface</td>\n",
       "      <td>communal standpipe</td>\n",
       "      <td>communal standpipe</td>\n",
       "      <td>non functional</td>\n",
       "      <td>0</td>\n",
       "      <td>1</td>\n",
       "      <td>0.599438</td>\n",
       "      <td>0.661089</td>\n",
       "      <td>0.524537</td>\n",
       "      <td>0.622646</td>\n",
       "    </tr>\n",
       "    <tr>\n",
       "      <th>1288</th>\n",
       "      <td>Ki</td>\n",
       "      <td>Ki</td>\n",
       "      <td>Kwa Mjowe</td>\n",
       "      <td>Wami / Ruvu</td>\n",
       "      <td>Ngholong</td>\n",
       "      <td>Morogoro</td>\n",
       "      <td>Kilosa</td>\n",
       "      <td>Chakwale</td>\n",
       "      <td>True</td>\n",
       "      <td>GeoData Consultants Ltd</td>\n",
       "      <td>...</td>\n",
       "      <td>groundwater</td>\n",
       "      <td>other</td>\n",
       "      <td>other</td>\n",
       "      <td>non functional</td>\n",
       "      <td>0</td>\n",
       "      <td>1</td>\n",
       "      <td>0.161942</td>\n",
       "      <td>0.617945</td>\n",
       "      <td>0.652461</td>\n",
       "      <td>0.132013</td>\n",
       "    </tr>\n",
       "  </tbody>\n",
       "</table>\n",
       "<p>5 rows × 35 columns</p>\n",
       "</div>"
      ],
      "text/plain": [
       "              funder      installer                 wpt_name        basin  \\\n",
       "454             Dmdd           DMDD                    Narmo     Internal   \n",
       "510             Cmsr           Gove                   Lukali     Internal   \n",
       "14146           Kkkt           KKKT                 Mahakama   Lake Rukwa   \n",
       "47410  not available  not available  Shule Ya Msingi Chosi A       Rufiji   \n",
       "1288              Ki             Ki                Kwa Mjowe  Wami / Ruvu   \n",
       "\n",
       "         subvillage    region      lga      ward public_meeting  \\\n",
       "454    Bashnet Kati   Manyara   Babati  Bashinet           True   \n",
       "510          Lukali    Dodoma     Bahi   Lamaiti           True   \n",
       "14146   Chawalikozi     Mbeya    Mbozi  Ndalambo           True   \n",
       "47410       Shuleni     Mbeya  Mbarali   Chimala           True   \n",
       "1288       Ngholong  Morogoro   Kilosa  Chakwale           True   \n",
       "\n",
       "                   recorded_by  ... source_class     waterpoint_type  \\\n",
       "454    GeoData Consultants Ltd  ...  groundwater  communal standpipe   \n",
       "510    GeoData Consultants Ltd  ...  groundwater           hand pump   \n",
       "14146  GeoData Consultants Ltd  ...  groundwater               other   \n",
       "47410  GeoData Consultants Ltd  ...      surface  communal standpipe   \n",
       "1288   GeoData Consultants Ltd  ...  groundwater               other   \n",
       "\n",
       "      waterpoint_type_group    status_group functional non functional  \\\n",
       "454      communal standpipe      functional          1              0   \n",
       "510               hand pump      functional          1              0   \n",
       "14146                 other  non functional          0              1   \n",
       "47410    communal standpipe  non functional          0              1   \n",
       "1288                  other  non functional          0              1   \n",
       "\n",
       "      extraction_type_func payment_func quantity_func waterpoint_type_func  \n",
       "454               0.599438     0.677281      0.524537             0.622646  \n",
       "510               0.604167     0.449503      0.652461             0.615505  \n",
       "14146             0.161942     0.449503      0.652461             0.132013  \n",
       "47410             0.599438     0.661089      0.524537             0.622646  \n",
       "1288              0.161942     0.617945      0.652461             0.132013  \n",
       "\n",
       "[5 rows x 35 columns]"
      ]
     },
     "execution_count": 84,
     "metadata": {},
     "output_type": "execute_result"
    }
   ],
   "source": [
    "#Target Encoding a Subset of columns\n",
    "print ('Target encoding a subset of categorical columns', f'{column_list_to_target_encode}')\n",
    "#all_cols = ['funder', 'installer', 'wpt_name', 'basin', 'subvillage', 'region', 'lga', 'ward', 'public_meeting', 'recorded_by', 'scheme_management', 'permit', 'extraction_type', 'extraction_type_group', 'extraction_type_class', 'management', 'management_group', 'payment', 'payment_type', 'water_quality', 'quality_group', 'quantity', 'quantity_group', 'source', 'source_type', 'source_class', 'waterpoint_type', 'waterpoint_type_group', 'status_group']\n",
    "\n",
    "#Large variable list\n",
    "#column_list_to_target_encode = ['basin', 'public_meeting', 'recorded_by', 'permit', 'extraction_type', 'management', 'payment', 'water_quality', 'quantity', 'source', 'waterpoint_type']\n",
    "\n",
    "#Subset of large var list\n",
    "column_list_to_target_encode = ['extraction_type', 'payment', 'quantity', 'waterpoint_type']\n",
    "\n",
    "\n",
    "#Small variable list\n",
    "#column_list_to_target_encode = ['basin', 'public_meeting', 'recorded_by', 'permit', 'extraction_type_class', 'management_group', 'payment_type', 'quality_group', 'quantity_group', 'source_class', 'waterpoint_type_group']\n",
    "\n",
    "\n",
    "for column in column_list_to_target_encode:\n",
    "    target_means = df_cat_fillna_dummy_target.groupby(column).mean()\n",
    "    df_cat_fillna_dummy_target[f'{column}_func'] = df_cat_fillna_dummy_target[column].replace(target_means['functional'])\n",
    "    #df_cat_fillna_dummy_target[f'{column}_nonfunc'] = df_cat_fillna_dummy_target[column].replace(target_means['non functional'])\n",
    "#df['cat_nonf'] = df['cat'].replace(target_means['nonf'])\n",
    "df_cat_fillna_dummy_target.head()"
   ]
  },
  {
   "cell_type": "code",
   "execution_count": 85,
   "metadata": {},
   "outputs": [
    {
     "data": {
      "text/plain": [
       "(47520, 35)"
      ]
     },
     "execution_count": 85,
     "metadata": {},
     "output_type": "execute_result"
    }
   ],
   "source": [
    "#Check the shape\n",
    "df_cat_fillna_dummy_target.shape"
   ]
  },
  {
   "cell_type": "code",
   "execution_count": 86,
   "metadata": {},
   "outputs": [
    {
     "name": "stdout",
     "output_type": "stream",
     "text": [
      "Concatenating with numerical column construction_year\n"
     ]
    }
   ],
   "source": [
    "# merge with numerical df\n",
    "print('Concatenating with numerical column construction_year')\n",
    "num_dumm_cat = pd.concat([df_cat_fillna_dummy_target,df_num], axis = 1)"
   ]
  },
  {
   "cell_type": "code",
   "execution_count": 87,
   "metadata": {},
   "outputs": [
    {
     "data": {
      "text/plain": [
       "Index(['funder', 'installer', 'wpt_name', 'basin', 'subvillage', 'region',\n",
       "       'lga', 'ward', 'public_meeting', 'recorded_by', 'scheme_management',\n",
       "       'permit', 'extraction_type', 'extraction_type_group',\n",
       "       'extraction_type_class', 'management', 'management_group', 'payment',\n",
       "       'payment_type', 'water_quality', 'quality_group', 'quantity',\n",
       "       'quantity_group', 'source', 'source_type', 'source_class',\n",
       "       'waterpoint_type', 'waterpoint_type_group', 'status_group',\n",
       "       'functional', 'non functional', 'extraction_type_func', 'payment_func',\n",
       "       'quantity_func', 'waterpoint_type_func', 'amount_tsh', 'gps_height',\n",
       "       'longitude', 'latitude', 'region_code', 'district_code', 'population',\n",
       "       'construction_year'],\n",
       "      dtype='object')"
      ]
     },
     "execution_count": 87,
     "metadata": {},
     "output_type": "execute_result"
    }
   ],
   "source": [
    "num_dumm_cat.columns"
   ]
  },
  {
   "cell_type": "code",
   "execution_count": 88,
   "metadata": {},
   "outputs": [
    {
     "name": "stdout",
     "output_type": "stream",
     "text": [
      "['extraction_type_func', 'payment_func', 'quantity_func', 'waterpoint_type_func', 'construction_year']\n"
     ]
    }
   ],
   "source": [
    "# List Extension and Comprehension\n",
    "\n",
    "#for functionals\n",
    "s_func = '_func'\n",
    "func_list = [x + s_func for x in column_list_to_target_encode]\n",
    "\n",
    "num_list = []\n",
    "num_list =['construction_year']\n",
    "func_list.extend(num_list)\n",
    "\n",
    "print(func_list)"
   ]
  },
  {
   "cell_type": "code",
   "execution_count": 89,
   "metadata": {},
   "outputs": [
    {
     "data": {
      "text/plain": [
       "Index(['funder', 'installer', 'wpt_name', 'basin', 'subvillage', 'region',\n",
       "       'lga', 'ward', 'public_meeting', 'recorded_by', 'scheme_management',\n",
       "       'permit', 'extraction_type', 'extraction_type_group',\n",
       "       'extraction_type_class', 'management', 'management_group', 'payment',\n",
       "       'payment_type', 'water_quality', 'quality_group', 'quantity',\n",
       "       'quantity_group', 'source', 'source_type', 'source_class',\n",
       "       'waterpoint_type', 'waterpoint_type_group', 'status_group',\n",
       "       'functional', 'non functional', 'extraction_type_func', 'payment_func',\n",
       "       'quantity_func', 'waterpoint_type_func', 'amount_tsh', 'gps_height',\n",
       "       'longitude', 'latitude', 'region_code', 'district_code', 'population',\n",
       "       'construction_year'],\n",
       "      dtype='object')"
      ]
     },
     "execution_count": 89,
     "metadata": {},
     "output_type": "execute_result"
    }
   ],
   "source": [
    "num_dumm_cat.columns"
   ]
  },
  {
   "cell_type": "code",
   "execution_count": 90,
   "metadata": {},
   "outputs": [],
   "source": [
    "#Define data and train sets\n",
    "X_func = num_dumm_cat.loc[:, func_list]\n",
    "#X_§nonfunc = num_dumm_cat.loc[:,nonfunc_list]\n",
    "y_func = num_dumm_cat.loc[:, 'functional']\n",
    "#y_nonfunc = num_dumm_cat.loc[:, 'non functional']\n"
   ]
  },
  {
   "cell_type": "code",
   "execution_count": 91,
   "metadata": {},
   "outputs": [
    {
     "data": {
      "text/plain": [
       "Index(['extraction_type_func', 'payment_func', 'quantity_func',\n",
       "       'waterpoint_type_func', 'construction_year'],\n",
       "      dtype='object')"
      ]
     },
     "execution_count": 91,
     "metadata": {},
     "output_type": "execute_result"
    }
   ],
   "source": [
    "#Check the arrays!!\n",
    "X_func.columns"
   ]
  },
  {
   "cell_type": "code",
   "execution_count": 92,
   "metadata": {},
   "outputs": [
    {
     "name": "stdout",
     "output_type": "stream",
     "text": [
      "Performing Random Forest...\n"
     ]
    },
    {
     "data": {
      "text/plain": [
       "0.7358164983164983"
      ]
     },
     "execution_count": 92,
     "metadata": {},
     "output_type": "execute_result"
    }
   ],
   "source": [
    "print('Performing Random Forest...')\n",
    "rf = RandomForestClassifier(n_estimators=100, max_depth=5)\n",
    "m_rf=rf.fit(X_func,y_func)\n",
    "y_pred_rf=m_rf.predict(X_func)\n",
    "#accuracy_score(y_func,y_pred_rf)"
   ]
  },
  {
   "cell_type": "code",
   "execution_count": 93,
   "metadata": {},
   "outputs": [
    {
     "name": "stdout",
     "output_type": "stream",
     "text": [
      "Accuracy for functional pump prediction is 0.7358164983164983\n"
     ]
    }
   ],
   "source": [
    "print('Accuracy for functional pump prediction is', accuracy_score(y_func,y_pred_rf)) # calculates the accuracy (% of correct points) for non_func\n"
   ]
  },
  {
   "cell_type": "code",
   "execution_count": 97,
   "metadata": {},
   "outputs": [
    {
     "name": "stdout",
     "output_type": "stream",
     "text": [
      "Performing 5-fold cross-validation\n",
      "Mean cross-validation score for functional-pumps: 0.734743411992412 \n",
      " St.dev of cross-validation score for functional-pumps: 0.004847856694368362\n"
     ]
    },
    {
     "ename": "TypeError",
     "evalue": "bar() missing 1 required positional argument: 'height'",
     "output_type": "error",
     "traceback": [
      "\u001b[0;31m---------------------------------------------------------------------------\u001b[0m",
      "\u001b[0;31mTypeError\u001b[0m                                 Traceback (most recent call last)",
      "\u001b[0;32m<ipython-input-97-1c79661fe07e>\u001b[0m in \u001b[0;36m<module>\u001b[0;34m\u001b[0m\n\u001b[1;32m     18\u001b[0m \u001b[0;31m#\"St.dev of cross-validation score for nonfunctional-pumps:\", std_nf,\u001b[0m\u001b[0;34m\u001b[0m\u001b[0;34m\u001b[0m\u001b[0;34m\u001b[0m\u001b[0m\n\u001b[1;32m     19\u001b[0m  \u001b[0;31m#   '\\n',)\u001b[0m\u001b[0;34m\u001b[0m\u001b[0;34m\u001b[0m\u001b[0;34m\u001b[0m\u001b[0m\n\u001b[0;32m---> 20\u001b[0;31m \u001b[0mplt\u001b[0m\u001b[0;34m.\u001b[0m\u001b[0mbar\u001b[0m\u001b[0;34m(\u001b[0m\u001b[0;34m[\u001b[0m\u001b[0maccuracy_score\u001b[0m\u001b[0;34m(\u001b[0m\u001b[0my_func\u001b[0m\u001b[0;34m,\u001b[0m\u001b[0my_pred_rf\u001b[0m\u001b[0;34m)\u001b[0m\u001b[0;34m,\u001b[0m \u001b[0mmean_func\u001b[0m\u001b[0;34m]\u001b[0m \u001b[0;34m)\u001b[0m\u001b[0;34m\u001b[0m\u001b[0;34m\u001b[0m\u001b[0m\n\u001b[0m",
      "\u001b[0;31mTypeError\u001b[0m: bar() missing 1 required positional argument: 'height'"
     ]
    }
   ],
   "source": [
    "import numpy as np\n",
    "\n",
    "print ('Performing 5-fold cross-validation')\n",
    "accuracy_func = cross_val_score(m_rf, X_func, y_func, cv=5, scoring='accuracy')\n",
    "#accuracy_nonfunc = cross_val_score(m_nf, X_nonfunc, y_nonfunc, cv=5, scoring='accuracy')\n",
    "\n",
    "mean_func = np.mean(accuracy_func)\n",
    "std_func = np.std(accuracy_func)\n",
    "#mean_nf = np.mean(accuracy_nonfunc)\n",
    "#std_nf = np.std(accuracy_nonfunc)\n",
    "\n",
    "print(\n",
    "\"Mean cross-validation score for functional-pumps:\", mean_func, '\\n',\n",
    "\"St.dev of cross-validation score for functional-pumps:\", std_func)#,   \n",
    "#    '\\n',\n",
    "#\"Mean cross-validation score for nonfunctional-pumps:\", mean_nf, \n",
    "#    '\\n',\n",
    "#\"St.dev of cross-validation score for nonfunctional-pumps:\", std_nf,   \n",
    " #   '\\n',)\n",
    "#plt.bar([accuracy_score(y_func,y_pred_rf), mean_func] )"
   ]
  },
  {
   "cell_type": "code",
   "execution_count": 98,
   "metadata": {},
   "outputs": [
    {
     "name": "stdout",
     "output_type": "stream",
     "text": [
      "Index(['extraction_type_func', 'payment_func', 'quantity_func',\n",
      "       'waterpoint_type_func', 'construction_year'],\n",
      "      dtype='object') [0.13849808 0.11196006 0.43848957 0.25297946 0.05807283]\n"
     ]
    }
   ],
   "source": [
    "feature_label = X_func.columns\n",
    "feature_importance =m_rf.feature_importances_\n",
    "\n",
    "print(feature_label,feature_importance)"
   ]
  },
  {
   "cell_type": "code",
   "execution_count": 99,
   "metadata": {},
   "outputs": [
    {
     "data": {
      "text/plain": [
       "([0, 1, 2, 3, 4], <a list of 5 Text xticklabel objects>)"
      ]
     },
     "execution_count": 99,
     "metadata": {},
     "output_type": "execute_result"
    },
    {
     "data": {
      "image/png": "[encoded data removed]",
      "text/plain": [
       "<Figure size 432x288 with 1 Axes>"
      ]
     },
     "metadata": {
      "needs_background": "light"
     },
     "output_type": "display_data"
    }
   ],
   "source": [
    "plt.bar(feature_label, feature_importance)\n",
    "plt.xticks(rotation=90)\n"
   ]
  },
  {
   "cell_type": "code",
   "execution_count": 37,
   "metadata": {},
   "outputs": [],
   "source": [
    "features = zip(feature_label, feature_importance)\n",
    "ft = list(features)\n",
    "ft\n",
    "feat = pd.DataFrame(ft, columns =  ['feature_label', 'feature_importance'], index = feature_label )"
   ]
  },
  {
   "cell_type": "code",
   "execution_count": 38,
   "metadata": {},
   "outputs": [],
   "source": [
    "imp_df =feat[['feature_importance']]"
   ]
  },
  {
   "cell_type": "code",
   "execution_count": 39,
   "metadata": {},
   "outputs": [
    {
     "data": {
      "text/html": [
       "<div>\n",
       "<style scoped>\n",
       "    .dataframe tbody tr th:only-of-type {\n",
       "        vertical-align: middle;\n",
       "    }\n",
       "\n",
       "    .dataframe tbody tr th {\n",
       "        vertical-align: top;\n",
       "    }\n",
       "\n",
       "    .dataframe thead th {\n",
       "        text-align: right;\n",
       "    }\n",
       "</style>\n",
       "<table border=\"1\" class=\"dataframe\">\n",
       "  <thead>\n",
       "    <tr style=\"text-align: right;\">\n",
       "      <th></th>\n",
       "      <th>feature_importance</th>\n",
       "    </tr>\n",
       "  </thead>\n",
       "  <tbody>\n",
       "    <tr>\n",
       "      <th>extraction_type_func</th>\n",
       "      <td>0.146842</td>\n",
       "    </tr>\n",
       "    <tr>\n",
       "      <th>payment_func</th>\n",
       "      <td>0.105729</td>\n",
       "    </tr>\n",
       "    <tr>\n",
       "      <th>quantity_func</th>\n",
       "      <td>0.441047</td>\n",
       "    </tr>\n",
       "    <tr>\n",
       "      <th>waterpoint_type_func</th>\n",
       "      <td>0.245355</td>\n",
       "    </tr>\n",
       "    <tr>\n",
       "      <th>construction_year</th>\n",
       "      <td>0.061027</td>\n",
       "    </tr>\n",
       "  </tbody>\n",
       "</table>\n",
       "</div>"
      ],
      "text/plain": [
       "                      feature_importance\n",
       "extraction_type_func            0.146842\n",
       "payment_func                    0.105729\n",
       "quantity_func                   0.441047\n",
       "waterpoint_type_func            0.245355\n",
       "construction_year               0.061027"
      ]
     },
     "execution_count": 39,
     "metadata": {},
     "output_type": "execute_result"
    }
   ],
   "source": [
    "imp_df"
   ]
  }
 ],
 "metadata": {
  "kernelspec": {
   "display_name": "Python 3",
   "language": "python",
   "name": "python3"
  },
  "language_info": {
   "codemirror_mode": {
    "name": "ipython",
    "version": 3
   },
   "file_extension": ".py",
   "mimetype": "text/x-python",
   "name": "python",
   "nbconvert_exporter": "python",
   "pygments_lexer": "ipython3",
   "version": "3.7.3"
  }
 },
 "nbformat": 4,
 "nbformat_minor": 2
}
