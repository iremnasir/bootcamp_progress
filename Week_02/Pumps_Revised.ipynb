{
 "cells": [
  {
   "cell_type": "code",
   "execution_count": 1,
   "metadata": {},
   "outputs": [
    {
     "name": "stderr",
     "output_type": "stream",
     "text": [
      "/anaconda3/lib/python3.7/site-packages/dask/config.py:168: YAMLLoadWarning: calling yaml.load() without Loader=... is deprecated, as the default Loader is unsafe. Please read https://msg.pyyaml.org/load for full details.\n",
      "  data = yaml.load(f.read()) or {}\n",
      "/anaconda3/lib/python3.7/site-packages/distributed/config.py:20: YAMLLoadWarning: calling yaml.load() without Loader=... is deprecated, as the default Loader is unsafe. Please read https://msg.pyyaml.org/load for full details.\n",
      "  defaults = yaml.load(f)\n"
     ]
    }
   ],
   "source": [
    "import numpy as np\n",
    "import pandas as pd\n",
    "import os\n",
    "import matplotlib.pyplot as plt\n",
    "from sklearn.impute import SimpleImputer\n",
    "from sklearn.preprocessing import RobustScaler, OneHotEncoder\n",
    "from imblearn.over_sampling import RandomOverSampler\n",
    "from sklearn.linear_model import LogisticRegression\n",
    "from sklearn.ensemble import RandomForestClassifier\n",
    "from xgboost import XGBClassifier\n",
    "from sklearn.model_selection import train_test_split, GridSearchCV\n",
    "from sklearn.metrics import accuracy_score,plot_confusion_matrix, precision_score, recall_score, precision_recall_curve, f1_score"
   ]
  },
  {
   "cell_type": "markdown",
   "metadata": {},
   "source": [
    "## Define the data path - Customize for your own data"
   ]
  },
  {
   "cell_type": "code",
   "execution_count": 2,
   "metadata": {},
   "outputs": [],
   "source": [
    "PATH = \"/Users/iremn/PythonClass/Spiced/gradient_garlic-code_Work/Week_02/Day_5\"\n",
    "FEATURES = \"pumps.csv\"\n",
    "TARGET = \"pumps_y.csv\""
   ]
  },
  {
   "cell_type": "code",
   "execution_count": 3,
   "metadata": {},
   "outputs": [],
   "source": [
    "#Join\n",
    "FEATURES = os.path.join(PATH, FEATURES)\n",
    "TARGET = os.path.join(PATH, TARGET)"
   ]
  },
  {
   "cell_type": "markdown",
   "metadata": {},
   "source": [
    "## Read the Pumps Data"
   ]
  },
  {
   "cell_type": "code",
   "execution_count": 4,
   "metadata": {},
   "outputs": [],
   "source": [
    "pumps_f = pd.read_csv(FEATURES, index_col = 0)\n",
    "pumps_y = pd.read_csv(TARGET, index_col = 0)\n"
   ]
  },
  {
   "cell_type": "markdown",
   "metadata": {},
   "source": [
    "## Train_Test Split"
   ]
  },
  {
   "cell_type": "code",
   "execution_count": 5,
   "metadata": {},
   "outputs": [],
   "source": [
    "X_train, X_test, y_train, y_test = train_test_split(pumps_f, pumps_y, test_size = 0.2, random_state=42)"
   ]
  },
  {
   "cell_type": "markdown",
   "metadata": {},
   "source": [
    "## Data Peek"
   ]
  },
  {
   "cell_type": "code",
   "execution_count": 6,
   "metadata": {},
   "outputs": [
    {
     "data": {
      "text/html": [
       "<div>\n",
       "<style scoped>\n",
       "    .dataframe tbody tr th:only-of-type {\n",
       "        vertical-align: middle;\n",
       "    }\n",
       "\n",
       "    .dataframe tbody tr th {\n",
       "        vertical-align: top;\n",
       "    }\n",
       "\n",
       "    .dataframe thead th {\n",
       "        text-align: right;\n",
       "    }\n",
       "</style>\n",
       "<table border=\"1\" class=\"dataframe\">\n",
       "  <thead>\n",
       "    <tr style=\"text-align: right;\">\n",
       "      <th></th>\n",
       "      <th>amount_tsh</th>\n",
       "      <th>date_recorded</th>\n",
       "      <th>funder</th>\n",
       "      <th>gps_height</th>\n",
       "      <th>installer</th>\n",
       "      <th>longitude</th>\n",
       "      <th>latitude</th>\n",
       "      <th>wpt_name</th>\n",
       "      <th>num_private</th>\n",
       "      <th>basin</th>\n",
       "      <th>...</th>\n",
       "      <th>payment_type</th>\n",
       "      <th>water_quality</th>\n",
       "      <th>quality_group</th>\n",
       "      <th>quantity</th>\n",
       "      <th>quantity_group</th>\n",
       "      <th>source</th>\n",
       "      <th>source_type</th>\n",
       "      <th>source_class</th>\n",
       "      <th>waterpoint_type</th>\n",
       "      <th>waterpoint_type_group</th>\n",
       "    </tr>\n",
       "    <tr>\n",
       "      <th>id</th>\n",
       "      <th></th>\n",
       "      <th></th>\n",
       "      <th></th>\n",
       "      <th></th>\n",
       "      <th></th>\n",
       "      <th></th>\n",
       "      <th></th>\n",
       "      <th></th>\n",
       "      <th></th>\n",
       "      <th></th>\n",
       "      <th></th>\n",
       "      <th></th>\n",
       "      <th></th>\n",
       "      <th></th>\n",
       "      <th></th>\n",
       "      <th></th>\n",
       "      <th></th>\n",
       "      <th></th>\n",
       "      <th></th>\n",
       "      <th></th>\n",
       "      <th></th>\n",
       "    </tr>\n",
       "  </thead>\n",
       "  <tbody>\n",
       "    <tr>\n",
       "      <th>454</th>\n",
       "      <td>50.0</td>\n",
       "      <td>2013-02-27</td>\n",
       "      <td>Dmdd</td>\n",
       "      <td>2092</td>\n",
       "      <td>DMDD</td>\n",
       "      <td>35.426020</td>\n",
       "      <td>-4.227446</td>\n",
       "      <td>Narmo</td>\n",
       "      <td>0</td>\n",
       "      <td>Internal</td>\n",
       "      <td>...</td>\n",
       "      <td>per bucket</td>\n",
       "      <td>soft</td>\n",
       "      <td>good</td>\n",
       "      <td>insufficient</td>\n",
       "      <td>insufficient</td>\n",
       "      <td>spring</td>\n",
       "      <td>spring</td>\n",
       "      <td>groundwater</td>\n",
       "      <td>communal standpipe</td>\n",
       "      <td>communal standpipe</td>\n",
       "    </tr>\n",
       "    <tr>\n",
       "      <th>510</th>\n",
       "      <td>0.0</td>\n",
       "      <td>2011-03-17</td>\n",
       "      <td>Cmsr</td>\n",
       "      <td>0</td>\n",
       "      <td>Gove</td>\n",
       "      <td>35.510074</td>\n",
       "      <td>-5.724555</td>\n",
       "      <td>Lukali</td>\n",
       "      <td>0</td>\n",
       "      <td>Internal</td>\n",
       "      <td>...</td>\n",
       "      <td>never pay</td>\n",
       "      <td>soft</td>\n",
       "      <td>good</td>\n",
       "      <td>enough</td>\n",
       "      <td>enough</td>\n",
       "      <td>shallow well</td>\n",
       "      <td>shallow well</td>\n",
       "      <td>groundwater</td>\n",
       "      <td>hand pump</td>\n",
       "      <td>hand pump</td>\n",
       "    </tr>\n",
       "    <tr>\n",
       "      <th>14146</th>\n",
       "      <td>0.0</td>\n",
       "      <td>2011-07-10</td>\n",
       "      <td>Kkkt</td>\n",
       "      <td>0</td>\n",
       "      <td>KKKT</td>\n",
       "      <td>32.499866</td>\n",
       "      <td>-9.081222</td>\n",
       "      <td>Mahakama</td>\n",
       "      <td>0</td>\n",
       "      <td>Lake Rukwa</td>\n",
       "      <td>...</td>\n",
       "      <td>never pay</td>\n",
       "      <td>soft</td>\n",
       "      <td>good</td>\n",
       "      <td>enough</td>\n",
       "      <td>enough</td>\n",
       "      <td>shallow well</td>\n",
       "      <td>shallow well</td>\n",
       "      <td>groundwater</td>\n",
       "      <td>other</td>\n",
       "      <td>other</td>\n",
       "    </tr>\n",
       "    <tr>\n",
       "      <th>47410</th>\n",
       "      <td>0.0</td>\n",
       "      <td>2011-04-12</td>\n",
       "      <td>NaN</td>\n",
       "      <td>0</td>\n",
       "      <td>NaN</td>\n",
       "      <td>34.060484</td>\n",
       "      <td>-8.830208</td>\n",
       "      <td>Shule Ya Msingi Chosi A</td>\n",
       "      <td>0</td>\n",
       "      <td>Rufiji</td>\n",
       "      <td>...</td>\n",
       "      <td>monthly</td>\n",
       "      <td>soft</td>\n",
       "      <td>good</td>\n",
       "      <td>insufficient</td>\n",
       "      <td>insufficient</td>\n",
       "      <td>river</td>\n",
       "      <td>river/lake</td>\n",
       "      <td>surface</td>\n",
       "      <td>communal standpipe</td>\n",
       "      <td>communal standpipe</td>\n",
       "    </tr>\n",
       "    <tr>\n",
       "      <th>1288</th>\n",
       "      <td>300.0</td>\n",
       "      <td>2011-04-05</td>\n",
       "      <td>Ki</td>\n",
       "      <td>1023</td>\n",
       "      <td>Ki</td>\n",
       "      <td>37.032690</td>\n",
       "      <td>-6.040787</td>\n",
       "      <td>Kwa Mjowe</td>\n",
       "      <td>0</td>\n",
       "      <td>Wami / Ruvu</td>\n",
       "      <td>...</td>\n",
       "      <td>on failure</td>\n",
       "      <td>salty</td>\n",
       "      <td>salty</td>\n",
       "      <td>enough</td>\n",
       "      <td>enough</td>\n",
       "      <td>shallow well</td>\n",
       "      <td>shallow well</td>\n",
       "      <td>groundwater</td>\n",
       "      <td>other</td>\n",
       "      <td>other</td>\n",
       "    </tr>\n",
       "  </tbody>\n",
       "</table>\n",
       "<p>5 rows × 39 columns</p>\n",
       "</div>"
      ],
      "text/plain": [
       "       amount_tsh date_recorded funder  gps_height installer  longitude  \\\n",
       "id                                                                        \n",
       "454          50.0    2013-02-27   Dmdd        2092      DMDD  35.426020   \n",
       "510           0.0    2011-03-17   Cmsr           0      Gove  35.510074   \n",
       "14146         0.0    2011-07-10   Kkkt           0      KKKT  32.499866   \n",
       "47410         0.0    2011-04-12    NaN           0       NaN  34.060484   \n",
       "1288        300.0    2011-04-05     Ki        1023        Ki  37.032690   \n",
       "\n",
       "       latitude                 wpt_name  num_private        basin  ...  \\\n",
       "id                                                                  ...   \n",
       "454   -4.227446                    Narmo            0     Internal  ...   \n",
       "510   -5.724555                   Lukali            0     Internal  ...   \n",
       "14146 -9.081222                 Mahakama            0   Lake Rukwa  ...   \n",
       "47410 -8.830208  Shule Ya Msingi Chosi A            0       Rufiji  ...   \n",
       "1288  -6.040787                Kwa Mjowe            0  Wami / Ruvu  ...   \n",
       "\n",
       "      payment_type water_quality  quality_group      quantity quantity_group  \\\n",
       "id                                                                             \n",
       "454     per bucket          soft           good  insufficient   insufficient   \n",
       "510      never pay          soft           good        enough         enough   \n",
       "14146    never pay          soft           good        enough         enough   \n",
       "47410      monthly          soft           good  insufficient   insufficient   \n",
       "1288    on failure         salty          salty        enough         enough   \n",
       "\n",
       "             source   source_type source_class     waterpoint_type  \\\n",
       "id                                                                   \n",
       "454          spring        spring  groundwater  communal standpipe   \n",
       "510    shallow well  shallow well  groundwater           hand pump   \n",
       "14146  shallow well  shallow well  groundwater               other   \n",
       "47410         river    river/lake      surface  communal standpipe   \n",
       "1288   shallow well  shallow well  groundwater               other   \n",
       "\n",
       "      waterpoint_type_group  \n",
       "id                           \n",
       "454      communal standpipe  \n",
       "510               hand pump  \n",
       "14146                 other  \n",
       "47410    communal standpipe  \n",
       "1288                  other  \n",
       "\n",
       "[5 rows x 39 columns]"
      ]
     },
     "execution_count": 6,
     "metadata": {},
     "output_type": "execute_result"
    }
   ],
   "source": [
    "X_train.head()"
   ]
  },
  {
   "cell_type": "code",
   "execution_count": 7,
   "metadata": {},
   "outputs": [
    {
     "data": {
      "text/plain": [
       "(47520, 39)"
      ]
     },
     "execution_count": 7,
     "metadata": {},
     "output_type": "execute_result"
    }
   ],
   "source": [
    "X_train.shape"
   ]
  },
  {
   "cell_type": "code",
   "execution_count": 8,
   "metadata": {},
   "outputs": [
    {
     "name": "stdout",
     "output_type": "stream",
     "text": [
      "<class 'pandas.core.frame.DataFrame'>\n",
      "Int64Index: 47520 entries, 454 to 23812\n",
      "Data columns (total 39 columns):\n",
      "amount_tsh               47520 non-null float64\n",
      "date_recorded            47520 non-null object\n",
      "funder                   44644 non-null object\n",
      "gps_height               47520 non-null int64\n",
      "installer                44631 non-null object\n",
      "longitude                47520 non-null float64\n",
      "latitude                 47520 non-null float64\n",
      "wpt_name                 47520 non-null object\n",
      "num_private              47520 non-null int64\n",
      "basin                    47520 non-null object\n",
      "subvillage               47224 non-null object\n",
      "region                   47520 non-null object\n",
      "region_code              47520 non-null int64\n",
      "district_code            47520 non-null int64\n",
      "lga                      47520 non-null object\n",
      "ward                     47520 non-null object\n",
      "population               47520 non-null int64\n",
      "public_meeting           44831 non-null object\n",
      "recorded_by              47520 non-null object\n",
      "scheme_management        44418 non-null object\n",
      "scheme_name              24997 non-null object\n",
      "permit                   45081 non-null object\n",
      "construction_year        47520 non-null int64\n",
      "extraction_type          47520 non-null object\n",
      "extraction_type_group    47520 non-null object\n",
      "extraction_type_class    47520 non-null object\n",
      "management               47520 non-null object\n",
      "management_group         47520 non-null object\n",
      "payment                  47520 non-null object\n",
      "payment_type             47520 non-null object\n",
      "water_quality            47520 non-null object\n",
      "quality_group            47520 non-null object\n",
      "quantity                 47520 non-null object\n",
      "quantity_group           47520 non-null object\n",
      "source                   47520 non-null object\n",
      "source_type              47520 non-null object\n",
      "source_class             47520 non-null object\n",
      "waterpoint_type          47520 non-null object\n",
      "waterpoint_type_group    47520 non-null object\n",
      "dtypes: float64(3), int64(6), object(30)\n",
      "memory usage: 14.5+ MB\n"
     ]
    }
   ],
   "source": [
    "X_train.info()"
   ]
  },
  {
   "cell_type": "code",
   "execution_count": 9,
   "metadata": {},
   "outputs": [
    {
     "data": {
      "text/plain": [
       "amount_tsh                  96\n",
       "date_recorded              351\n",
       "funder                    1698\n",
       "gps_height                2401\n",
       "installer                 1923\n",
       "longitude                46043\n",
       "latitude                 46044\n",
       "wpt_name                 30742\n",
       "num_private                 59\n",
       "basin                        9\n",
       "subvillage               17232\n",
       "region                      21\n",
       "region_code                 27\n",
       "district_code               20\n",
       "lga                        125\n",
       "ward                      2076\n",
       "population                 971\n",
       "public_meeting               2\n",
       "recorded_by                  1\n",
       "scheme_management           12\n",
       "scheme_name               2541\n",
       "permit                       2\n",
       "construction_year           55\n",
       "extraction_type             18\n",
       "extraction_type_group       13\n",
       "extraction_type_class        7\n",
       "management                  12\n",
       "management_group             5\n",
       "payment                      7\n",
       "payment_type                 7\n",
       "water_quality                8\n",
       "quality_group                6\n",
       "quantity                     5\n",
       "quantity_group               5\n",
       "source                      10\n",
       "source_type                  7\n",
       "source_class                 3\n",
       "waterpoint_type              7\n",
       "waterpoint_type_group        6\n",
       "dtype: int64"
      ]
     },
     "execution_count": 9,
     "metadata": {},
     "output_type": "execute_result"
    }
   ],
   "source": [
    "#Check the unique vals within those columns\n",
    "X_train.nunique()"
   ]
  },
  {
   "cell_type": "markdown",
   "metadata": {},
   "source": [
    "* Seems like there are some redundant columns such as \"quantity\" and \"quantity_group\" and so on. One can drop those columns\n",
    "* Split the categorical and numerical features\n",
    "* Do EDA, wrangle data but don't forget to do all with test data too"
   ]
  },
  {
   "cell_type": "code",
   "execution_count": 10,
   "metadata": {},
   "outputs": [],
   "source": [
    "pumps_num = X_train.select_dtypes(exclude ='object') \n",
    "pumps_cat = X_train.select_dtypes(include = 'object')"
   ]
  },
  {
   "cell_type": "code",
   "execution_count": 11,
   "metadata": {},
   "outputs": [
    {
     "data": {
      "text/html": [
       "<div>\n",
       "<style scoped>\n",
       "    .dataframe tbody tr th:only-of-type {\n",
       "        vertical-align: middle;\n",
       "    }\n",
       "\n",
       "    .dataframe tbody tr th {\n",
       "        vertical-align: top;\n",
       "    }\n",
       "\n",
       "    .dataframe thead th {\n",
       "        text-align: right;\n",
       "    }\n",
       "</style>\n",
       "<table border=\"1\" class=\"dataframe\">\n",
       "  <thead>\n",
       "    <tr style=\"text-align: right;\">\n",
       "      <th></th>\n",
       "      <th>amount_tsh</th>\n",
       "      <th>gps_height</th>\n",
       "      <th>longitude</th>\n",
       "      <th>latitude</th>\n",
       "      <th>num_private</th>\n",
       "      <th>region_code</th>\n",
       "      <th>district_code</th>\n",
       "      <th>population</th>\n",
       "      <th>construction_year</th>\n",
       "    </tr>\n",
       "    <tr>\n",
       "      <th>id</th>\n",
       "      <th></th>\n",
       "      <th></th>\n",
       "      <th></th>\n",
       "      <th></th>\n",
       "      <th></th>\n",
       "      <th></th>\n",
       "      <th></th>\n",
       "      <th></th>\n",
       "      <th></th>\n",
       "    </tr>\n",
       "  </thead>\n",
       "  <tbody>\n",
       "    <tr>\n",
       "      <th>454</th>\n",
       "      <td>50.0</td>\n",
       "      <td>2092</td>\n",
       "      <td>35.426020</td>\n",
       "      <td>-4.227446</td>\n",
       "      <td>0</td>\n",
       "      <td>21</td>\n",
       "      <td>1</td>\n",
       "      <td>160</td>\n",
       "      <td>1998</td>\n",
       "    </tr>\n",
       "    <tr>\n",
       "      <th>510</th>\n",
       "      <td>0.0</td>\n",
       "      <td>0</td>\n",
       "      <td>35.510074</td>\n",
       "      <td>-5.724555</td>\n",
       "      <td>0</td>\n",
       "      <td>1</td>\n",
       "      <td>6</td>\n",
       "      <td>0</td>\n",
       "      <td>0</td>\n",
       "    </tr>\n",
       "    <tr>\n",
       "      <th>14146</th>\n",
       "      <td>0.0</td>\n",
       "      <td>0</td>\n",
       "      <td>32.499866</td>\n",
       "      <td>-9.081222</td>\n",
       "      <td>0</td>\n",
       "      <td>12</td>\n",
       "      <td>6</td>\n",
       "      <td>0</td>\n",
       "      <td>0</td>\n",
       "    </tr>\n",
       "    <tr>\n",
       "      <th>47410</th>\n",
       "      <td>0.0</td>\n",
       "      <td>0</td>\n",
       "      <td>34.060484</td>\n",
       "      <td>-8.830208</td>\n",
       "      <td>0</td>\n",
       "      <td>12</td>\n",
       "      <td>7</td>\n",
       "      <td>0</td>\n",
       "      <td>0</td>\n",
       "    </tr>\n",
       "    <tr>\n",
       "      <th>1288</th>\n",
       "      <td>300.0</td>\n",
       "      <td>1023</td>\n",
       "      <td>37.032690</td>\n",
       "      <td>-6.040787</td>\n",
       "      <td>0</td>\n",
       "      <td>5</td>\n",
       "      <td>1</td>\n",
       "      <td>120</td>\n",
       "      <td>1997</td>\n",
       "    </tr>\n",
       "  </tbody>\n",
       "</table>\n",
       "</div>"
      ],
      "text/plain": [
       "       amount_tsh  gps_height  longitude  latitude  num_private  region_code  \\\n",
       "id                                                                             \n",
       "454          50.0        2092  35.426020 -4.227446            0           21   \n",
       "510           0.0           0  35.510074 -5.724555            0            1   \n",
       "14146         0.0           0  32.499866 -9.081222            0           12   \n",
       "47410         0.0           0  34.060484 -8.830208            0           12   \n",
       "1288        300.0        1023  37.032690 -6.040787            0            5   \n",
       "\n",
       "       district_code  population  construction_year  \n",
       "id                                                   \n",
       "454                1         160               1998  \n",
       "510                6           0                  0  \n",
       "14146              6           0                  0  \n",
       "47410              7           0                  0  \n",
       "1288               1         120               1997  "
      ]
     },
     "execution_count": 11,
     "metadata": {},
     "output_type": "execute_result"
    }
   ],
   "source": [
    "pumps_num.head()"
   ]
  },
  {
   "cell_type": "code",
   "execution_count": 12,
   "metadata": {},
   "outputs": [
    {
     "data": {
      "text/html": [
       "<div>\n",
       "<style scoped>\n",
       "    .dataframe tbody tr th:only-of-type {\n",
       "        vertical-align: middle;\n",
       "    }\n",
       "\n",
       "    .dataframe tbody tr th {\n",
       "        vertical-align: top;\n",
       "    }\n",
       "\n",
       "    .dataframe thead th {\n",
       "        text-align: right;\n",
       "    }\n",
       "</style>\n",
       "<table border=\"1\" class=\"dataframe\">\n",
       "  <thead>\n",
       "    <tr style=\"text-align: right;\">\n",
       "      <th></th>\n",
       "      <th>date_recorded</th>\n",
       "      <th>funder</th>\n",
       "      <th>installer</th>\n",
       "      <th>wpt_name</th>\n",
       "      <th>basin</th>\n",
       "      <th>subvillage</th>\n",
       "      <th>region</th>\n",
       "      <th>lga</th>\n",
       "      <th>ward</th>\n",
       "      <th>public_meeting</th>\n",
       "      <th>...</th>\n",
       "      <th>payment_type</th>\n",
       "      <th>water_quality</th>\n",
       "      <th>quality_group</th>\n",
       "      <th>quantity</th>\n",
       "      <th>quantity_group</th>\n",
       "      <th>source</th>\n",
       "      <th>source_type</th>\n",
       "      <th>source_class</th>\n",
       "      <th>waterpoint_type</th>\n",
       "      <th>waterpoint_type_group</th>\n",
       "    </tr>\n",
       "    <tr>\n",
       "      <th>id</th>\n",
       "      <th></th>\n",
       "      <th></th>\n",
       "      <th></th>\n",
       "      <th></th>\n",
       "      <th></th>\n",
       "      <th></th>\n",
       "      <th></th>\n",
       "      <th></th>\n",
       "      <th></th>\n",
       "      <th></th>\n",
       "      <th></th>\n",
       "      <th></th>\n",
       "      <th></th>\n",
       "      <th></th>\n",
       "      <th></th>\n",
       "      <th></th>\n",
       "      <th></th>\n",
       "      <th></th>\n",
       "      <th></th>\n",
       "      <th></th>\n",
       "      <th></th>\n",
       "    </tr>\n",
       "  </thead>\n",
       "  <tbody>\n",
       "    <tr>\n",
       "      <th>454</th>\n",
       "      <td>2013-02-27</td>\n",
       "      <td>Dmdd</td>\n",
       "      <td>DMDD</td>\n",
       "      <td>Narmo</td>\n",
       "      <td>Internal</td>\n",
       "      <td>Bashnet Kati</td>\n",
       "      <td>Manyara</td>\n",
       "      <td>Babati</td>\n",
       "      <td>Bashinet</td>\n",
       "      <td>True</td>\n",
       "      <td>...</td>\n",
       "      <td>per bucket</td>\n",
       "      <td>soft</td>\n",
       "      <td>good</td>\n",
       "      <td>insufficient</td>\n",
       "      <td>insufficient</td>\n",
       "      <td>spring</td>\n",
       "      <td>spring</td>\n",
       "      <td>groundwater</td>\n",
       "      <td>communal standpipe</td>\n",
       "      <td>communal standpipe</td>\n",
       "    </tr>\n",
       "    <tr>\n",
       "      <th>510</th>\n",
       "      <td>2011-03-17</td>\n",
       "      <td>Cmsr</td>\n",
       "      <td>Gove</td>\n",
       "      <td>Lukali</td>\n",
       "      <td>Internal</td>\n",
       "      <td>Lukali</td>\n",
       "      <td>Dodoma</td>\n",
       "      <td>Bahi</td>\n",
       "      <td>Lamaiti</td>\n",
       "      <td>True</td>\n",
       "      <td>...</td>\n",
       "      <td>never pay</td>\n",
       "      <td>soft</td>\n",
       "      <td>good</td>\n",
       "      <td>enough</td>\n",
       "      <td>enough</td>\n",
       "      <td>shallow well</td>\n",
       "      <td>shallow well</td>\n",
       "      <td>groundwater</td>\n",
       "      <td>hand pump</td>\n",
       "      <td>hand pump</td>\n",
       "    </tr>\n",
       "    <tr>\n",
       "      <th>14146</th>\n",
       "      <td>2011-07-10</td>\n",
       "      <td>Kkkt</td>\n",
       "      <td>KKKT</td>\n",
       "      <td>Mahakama</td>\n",
       "      <td>Lake Rukwa</td>\n",
       "      <td>Chawalikozi</td>\n",
       "      <td>Mbeya</td>\n",
       "      <td>Mbozi</td>\n",
       "      <td>Ndalambo</td>\n",
       "      <td>True</td>\n",
       "      <td>...</td>\n",
       "      <td>never pay</td>\n",
       "      <td>soft</td>\n",
       "      <td>good</td>\n",
       "      <td>enough</td>\n",
       "      <td>enough</td>\n",
       "      <td>shallow well</td>\n",
       "      <td>shallow well</td>\n",
       "      <td>groundwater</td>\n",
       "      <td>other</td>\n",
       "      <td>other</td>\n",
       "    </tr>\n",
       "    <tr>\n",
       "      <th>47410</th>\n",
       "      <td>2011-04-12</td>\n",
       "      <td>NaN</td>\n",
       "      <td>NaN</td>\n",
       "      <td>Shule Ya Msingi Chosi A</td>\n",
       "      <td>Rufiji</td>\n",
       "      <td>Shuleni</td>\n",
       "      <td>Mbeya</td>\n",
       "      <td>Mbarali</td>\n",
       "      <td>Chimala</td>\n",
       "      <td>True</td>\n",
       "      <td>...</td>\n",
       "      <td>monthly</td>\n",
       "      <td>soft</td>\n",
       "      <td>good</td>\n",
       "      <td>insufficient</td>\n",
       "      <td>insufficient</td>\n",
       "      <td>river</td>\n",
       "      <td>river/lake</td>\n",
       "      <td>surface</td>\n",
       "      <td>communal standpipe</td>\n",
       "      <td>communal standpipe</td>\n",
       "    </tr>\n",
       "    <tr>\n",
       "      <th>1288</th>\n",
       "      <td>2011-04-05</td>\n",
       "      <td>Ki</td>\n",
       "      <td>Ki</td>\n",
       "      <td>Kwa Mjowe</td>\n",
       "      <td>Wami / Ruvu</td>\n",
       "      <td>Ngholong</td>\n",
       "      <td>Morogoro</td>\n",
       "      <td>Kilosa</td>\n",
       "      <td>Chakwale</td>\n",
       "      <td>True</td>\n",
       "      <td>...</td>\n",
       "      <td>on failure</td>\n",
       "      <td>salty</td>\n",
       "      <td>salty</td>\n",
       "      <td>enough</td>\n",
       "      <td>enough</td>\n",
       "      <td>shallow well</td>\n",
       "      <td>shallow well</td>\n",
       "      <td>groundwater</td>\n",
       "      <td>other</td>\n",
       "      <td>other</td>\n",
       "    </tr>\n",
       "  </tbody>\n",
       "</table>\n",
       "<p>5 rows × 30 columns</p>\n",
       "</div>"
      ],
      "text/plain": [
       "      date_recorded funder installer                 wpt_name        basin  \\\n",
       "id                                                                           \n",
       "454      2013-02-27   Dmdd      DMDD                    Narmo     Internal   \n",
       "510      2011-03-17   Cmsr      Gove                   Lukali     Internal   \n",
       "14146    2011-07-10   Kkkt      KKKT                 Mahakama   Lake Rukwa   \n",
       "47410    2011-04-12    NaN       NaN  Shule Ya Msingi Chosi A       Rufiji   \n",
       "1288     2011-04-05     Ki        Ki                Kwa Mjowe  Wami / Ruvu   \n",
       "\n",
       "         subvillage    region      lga      ward public_meeting  ...  \\\n",
       "id                                                               ...   \n",
       "454    Bashnet Kati   Manyara   Babati  Bashinet           True  ...   \n",
       "510          Lukali    Dodoma     Bahi   Lamaiti           True  ...   \n",
       "14146   Chawalikozi     Mbeya    Mbozi  Ndalambo           True  ...   \n",
       "47410       Shuleni     Mbeya  Mbarali   Chimala           True  ...   \n",
       "1288       Ngholong  Morogoro   Kilosa  Chakwale           True  ...   \n",
       "\n",
       "      payment_type water_quality quality_group      quantity quantity_group  \\\n",
       "id                                                                            \n",
       "454     per bucket          soft          good  insufficient   insufficient   \n",
       "510      never pay          soft          good        enough         enough   \n",
       "14146    never pay          soft          good        enough         enough   \n",
       "47410      monthly          soft          good  insufficient   insufficient   \n",
       "1288    on failure         salty         salty        enough         enough   \n",
       "\n",
       "             source   source_type source_class     waterpoint_type  \\\n",
       "id                                                                   \n",
       "454          spring        spring  groundwater  communal standpipe   \n",
       "510    shallow well  shallow well  groundwater           hand pump   \n",
       "14146  shallow well  shallow well  groundwater               other   \n",
       "47410         river    river/lake      surface  communal standpipe   \n",
       "1288   shallow well  shallow well  groundwater               other   \n",
       "\n",
       "      waterpoint_type_group  \n",
       "id                           \n",
       "454      communal standpipe  \n",
       "510               hand pump  \n",
       "14146                 other  \n",
       "47410    communal standpipe  \n",
       "1288                  other  \n",
       "\n",
       "[5 rows x 30 columns]"
      ]
     },
     "execution_count": 12,
     "metadata": {},
     "output_type": "execute_result"
    }
   ],
   "source": [
    "pumps_cat.head()"
   ]
  },
  {
   "cell_type": "code",
   "execution_count": 13,
   "metadata": {},
   "outputs": [
    {
     "name": "stderr",
     "output_type": "stream",
     "text": [
      "/anaconda3/lib/python3.7/site-packages/ipykernel_launcher.py:1: SettingWithCopyWarning: \n",
      "A value is trying to be set on a copy of a slice from a DataFrame.\n",
      "Try using .loc[row_indexer,col_indexer] = value instead\n",
      "\n",
      "See the caveats in the documentation: http://pandas.pydata.org/pandas-docs/stable/indexing.html#indexing-view-versus-copy\n",
      "  \"\"\"Entry point for launching an IPython kernel.\n"
     ]
    }
   ],
   "source": [
    "pumps_num['date_recorded'] = pumps_cat['date_recorded']\n",
    "pumps_cat = pumps_cat.drop('date_recorded', axis = 1)"
   ]
  },
  {
   "cell_type": "markdown",
   "metadata": {},
   "source": [
    "### Work on the categorical columns"
   ]
  },
  {
   "cell_type": "code",
   "execution_count": 14,
   "metadata": {},
   "outputs": [
    {
     "data": {
      "text/html": [
       "<div>\n",
       "<style scoped>\n",
       "    .dataframe tbody tr th:only-of-type {\n",
       "        vertical-align: middle;\n",
       "    }\n",
       "\n",
       "    .dataframe tbody tr th {\n",
       "        vertical-align: top;\n",
       "    }\n",
       "\n",
       "    .dataframe thead th {\n",
       "        text-align: right;\n",
       "    }\n",
       "</style>\n",
       "<table border=\"1\" class=\"dataframe\">\n",
       "  <thead>\n",
       "    <tr style=\"text-align: right;\">\n",
       "      <th></th>\n",
       "      <th>funder</th>\n",
       "      <th>installer</th>\n",
       "      <th>wpt_name</th>\n",
       "      <th>basin</th>\n",
       "      <th>subvillage</th>\n",
       "      <th>region</th>\n",
       "      <th>lga</th>\n",
       "      <th>ward</th>\n",
       "      <th>public_meeting</th>\n",
       "      <th>recorded_by</th>\n",
       "      <th>...</th>\n",
       "      <th>payment_type</th>\n",
       "      <th>water_quality</th>\n",
       "      <th>quality_group</th>\n",
       "      <th>quantity</th>\n",
       "      <th>quantity_group</th>\n",
       "      <th>source</th>\n",
       "      <th>source_type</th>\n",
       "      <th>source_class</th>\n",
       "      <th>waterpoint_type</th>\n",
       "      <th>waterpoint_type_group</th>\n",
       "    </tr>\n",
       "    <tr>\n",
       "      <th>id</th>\n",
       "      <th></th>\n",
       "      <th></th>\n",
       "      <th></th>\n",
       "      <th></th>\n",
       "      <th></th>\n",
       "      <th></th>\n",
       "      <th></th>\n",
       "      <th></th>\n",
       "      <th></th>\n",
       "      <th></th>\n",
       "      <th></th>\n",
       "      <th></th>\n",
       "      <th></th>\n",
       "      <th></th>\n",
       "      <th></th>\n",
       "      <th></th>\n",
       "      <th></th>\n",
       "      <th></th>\n",
       "      <th></th>\n",
       "      <th></th>\n",
       "      <th></th>\n",
       "    </tr>\n",
       "  </thead>\n",
       "  <tbody>\n",
       "    <tr>\n",
       "      <th>454</th>\n",
       "      <td>Dmdd</td>\n",
       "      <td>DMDD</td>\n",
       "      <td>Narmo</td>\n",
       "      <td>Internal</td>\n",
       "      <td>Bashnet Kati</td>\n",
       "      <td>Manyara</td>\n",
       "      <td>Babati</td>\n",
       "      <td>Bashinet</td>\n",
       "      <td>True</td>\n",
       "      <td>GeoData Consultants Ltd</td>\n",
       "      <td>...</td>\n",
       "      <td>per bucket</td>\n",
       "      <td>soft</td>\n",
       "      <td>good</td>\n",
       "      <td>insufficient</td>\n",
       "      <td>insufficient</td>\n",
       "      <td>spring</td>\n",
       "      <td>spring</td>\n",
       "      <td>groundwater</td>\n",
       "      <td>communal standpipe</td>\n",
       "      <td>communal standpipe</td>\n",
       "    </tr>\n",
       "    <tr>\n",
       "      <th>510</th>\n",
       "      <td>Cmsr</td>\n",
       "      <td>Gove</td>\n",
       "      <td>Lukali</td>\n",
       "      <td>Internal</td>\n",
       "      <td>Lukali</td>\n",
       "      <td>Dodoma</td>\n",
       "      <td>Bahi</td>\n",
       "      <td>Lamaiti</td>\n",
       "      <td>True</td>\n",
       "      <td>GeoData Consultants Ltd</td>\n",
       "      <td>...</td>\n",
       "      <td>never pay</td>\n",
       "      <td>soft</td>\n",
       "      <td>good</td>\n",
       "      <td>enough</td>\n",
       "      <td>enough</td>\n",
       "      <td>shallow well</td>\n",
       "      <td>shallow well</td>\n",
       "      <td>groundwater</td>\n",
       "      <td>hand pump</td>\n",
       "      <td>hand pump</td>\n",
       "    </tr>\n",
       "    <tr>\n",
       "      <th>14146</th>\n",
       "      <td>Kkkt</td>\n",
       "      <td>KKKT</td>\n",
       "      <td>Mahakama</td>\n",
       "      <td>Lake Rukwa</td>\n",
       "      <td>Chawalikozi</td>\n",
       "      <td>Mbeya</td>\n",
       "      <td>Mbozi</td>\n",
       "      <td>Ndalambo</td>\n",
       "      <td>True</td>\n",
       "      <td>GeoData Consultants Ltd</td>\n",
       "      <td>...</td>\n",
       "      <td>never pay</td>\n",
       "      <td>soft</td>\n",
       "      <td>good</td>\n",
       "      <td>enough</td>\n",
       "      <td>enough</td>\n",
       "      <td>shallow well</td>\n",
       "      <td>shallow well</td>\n",
       "      <td>groundwater</td>\n",
       "      <td>other</td>\n",
       "      <td>other</td>\n",
       "    </tr>\n",
       "    <tr>\n",
       "      <th>47410</th>\n",
       "      <td>NaN</td>\n",
       "      <td>NaN</td>\n",
       "      <td>Shule Ya Msingi Chosi A</td>\n",
       "      <td>Rufiji</td>\n",
       "      <td>Shuleni</td>\n",
       "      <td>Mbeya</td>\n",
       "      <td>Mbarali</td>\n",
       "      <td>Chimala</td>\n",
       "      <td>True</td>\n",
       "      <td>GeoData Consultants Ltd</td>\n",
       "      <td>...</td>\n",
       "      <td>monthly</td>\n",
       "      <td>soft</td>\n",
       "      <td>good</td>\n",
       "      <td>insufficient</td>\n",
       "      <td>insufficient</td>\n",
       "      <td>river</td>\n",
       "      <td>river/lake</td>\n",
       "      <td>surface</td>\n",
       "      <td>communal standpipe</td>\n",
       "      <td>communal standpipe</td>\n",
       "    </tr>\n",
       "    <tr>\n",
       "      <th>1288</th>\n",
       "      <td>Ki</td>\n",
       "      <td>Ki</td>\n",
       "      <td>Kwa Mjowe</td>\n",
       "      <td>Wami / Ruvu</td>\n",
       "      <td>Ngholong</td>\n",
       "      <td>Morogoro</td>\n",
       "      <td>Kilosa</td>\n",
       "      <td>Chakwale</td>\n",
       "      <td>True</td>\n",
       "      <td>GeoData Consultants Ltd</td>\n",
       "      <td>...</td>\n",
       "      <td>on failure</td>\n",
       "      <td>salty</td>\n",
       "      <td>salty</td>\n",
       "      <td>enough</td>\n",
       "      <td>enough</td>\n",
       "      <td>shallow well</td>\n",
       "      <td>shallow well</td>\n",
       "      <td>groundwater</td>\n",
       "      <td>other</td>\n",
       "      <td>other</td>\n",
       "    </tr>\n",
       "  </tbody>\n",
       "</table>\n",
       "<p>5 rows × 29 columns</p>\n",
       "</div>"
      ],
      "text/plain": [
       "      funder installer                 wpt_name        basin    subvillage  \\\n",
       "id                                                                           \n",
       "454     Dmdd      DMDD                    Narmo     Internal  Bashnet Kati   \n",
       "510     Cmsr      Gove                   Lukali     Internal        Lukali   \n",
       "14146   Kkkt      KKKT                 Mahakama   Lake Rukwa   Chawalikozi   \n",
       "47410    NaN       NaN  Shule Ya Msingi Chosi A       Rufiji       Shuleni   \n",
       "1288      Ki        Ki                Kwa Mjowe  Wami / Ruvu      Ngholong   \n",
       "\n",
       "         region      lga      ward public_meeting              recorded_by  \\\n",
       "id                                                                           \n",
       "454     Manyara   Babati  Bashinet           True  GeoData Consultants Ltd   \n",
       "510      Dodoma     Bahi   Lamaiti           True  GeoData Consultants Ltd   \n",
       "14146     Mbeya    Mbozi  Ndalambo           True  GeoData Consultants Ltd   \n",
       "47410     Mbeya  Mbarali   Chimala           True  GeoData Consultants Ltd   \n",
       "1288   Morogoro   Kilosa  Chakwale           True  GeoData Consultants Ltd   \n",
       "\n",
       "       ... payment_type water_quality quality_group      quantity  \\\n",
       "id     ...                                                          \n",
       "454    ...   per bucket          soft          good  insufficient   \n",
       "510    ...    never pay          soft          good        enough   \n",
       "14146  ...    never pay          soft          good        enough   \n",
       "47410  ...      monthly          soft          good  insufficient   \n",
       "1288   ...   on failure         salty         salty        enough   \n",
       "\n",
       "      quantity_group        source   source_type source_class  \\\n",
       "id                                                              \n",
       "454     insufficient        spring        spring  groundwater   \n",
       "510           enough  shallow well  shallow well  groundwater   \n",
       "14146         enough  shallow well  shallow well  groundwater   \n",
       "47410   insufficient         river    river/lake      surface   \n",
       "1288          enough  shallow well  shallow well  groundwater   \n",
       "\n",
       "          waterpoint_type waterpoint_type_group  \n",
       "id                                               \n",
       "454    communal standpipe    communal standpipe  \n",
       "510             hand pump             hand pump  \n",
       "14146               other                 other  \n",
       "47410  communal standpipe    communal standpipe  \n",
       "1288                other                 other  \n",
       "\n",
       "[5 rows x 29 columns]"
      ]
     },
     "execution_count": 14,
     "metadata": {},
     "output_type": "execute_result"
    }
   ],
   "source": [
    "pumps_cat.head()"
   ]
  },
  {
   "cell_type": "code",
   "execution_count": 15,
   "metadata": {},
   "outputs": [
    {
     "name": "stdout",
     "output_type": "stream",
     "text": [
      "<class 'pandas.core.frame.DataFrame'>\n",
      "Int64Index: 47520 entries, 454 to 23812\n",
      "Data columns (total 29 columns):\n",
      "funder                   44644 non-null object\n",
      "installer                44631 non-null object\n",
      "wpt_name                 47520 non-null object\n",
      "basin                    47520 non-null object\n",
      "subvillage               47224 non-null object\n",
      "region                   47520 non-null object\n",
      "lga                      47520 non-null object\n",
      "ward                     47520 non-null object\n",
      "public_meeting           44831 non-null object\n",
      "recorded_by              47520 non-null object\n",
      "scheme_management        44418 non-null object\n",
      "scheme_name              24997 non-null object\n",
      "permit                   45081 non-null object\n",
      "extraction_type          47520 non-null object\n",
      "extraction_type_group    47520 non-null object\n",
      "extraction_type_class    47520 non-null object\n",
      "management               47520 non-null object\n",
      "management_group         47520 non-null object\n",
      "payment                  47520 non-null object\n",
      "payment_type             47520 non-null object\n",
      "water_quality            47520 non-null object\n",
      "quality_group            47520 non-null object\n",
      "quantity                 47520 non-null object\n",
      "quantity_group           47520 non-null object\n",
      "source                   47520 non-null object\n",
      "source_type              47520 non-null object\n",
      "source_class             47520 non-null object\n",
      "waterpoint_type          47520 non-null object\n",
      "waterpoint_type_group    47520 non-null object\n",
      "dtypes: object(29)\n",
      "memory usage: 10.9+ MB\n"
     ]
    }
   ],
   "source": [
    "pumps_cat.info()"
   ]
  },
  {
   "cell_type": "code",
   "execution_count": 16,
   "metadata": {},
   "outputs": [
    {
     "data": {
      "text/plain": [
       "funder                    1698\n",
       "installer                 1923\n",
       "wpt_name                 30742\n",
       "basin                        9\n",
       "subvillage               17232\n",
       "region                      21\n",
       "lga                        125\n",
       "ward                      2076\n",
       "public_meeting               2\n",
       "recorded_by                  1\n",
       "scheme_management           12\n",
       "scheme_name               2541\n",
       "permit                       2\n",
       "extraction_type             18\n",
       "extraction_type_group       13\n",
       "extraction_type_class        7\n",
       "management                  12\n",
       "management_group             5\n",
       "payment                      7\n",
       "payment_type                 7\n",
       "water_quality                8\n",
       "quality_group                6\n",
       "quantity                     5\n",
       "quantity_group               5\n",
       "source                      10\n",
       "source_type                  7\n",
       "source_class                 3\n",
       "waterpoint_type              7\n",
       "waterpoint_type_group        6\n",
       "dtype: int64"
      ]
     },
     "execution_count": 16,
     "metadata": {},
     "output_type": "execute_result"
    }
   ],
   "source": [
    "pumps_cat.nunique()"
   ]
  },
  {
   "cell_type": "markdown",
   "metadata": {},
   "source": [
    "Looks like \"recorded by\" has a single value - drop it"
   ]
  },
  {
   "cell_type": "code",
   "execution_count": 17,
   "metadata": {},
   "outputs": [],
   "source": [
    "pumps_cat = pumps_cat.drop('recorded_by', axis=1)"
   ]
  },
  {
   "cell_type": "markdown",
   "metadata": {},
   "source": [
    "### Fill cat NaNs with \"not available\""
   ]
  },
  {
   "cell_type": "code",
   "execution_count": 18,
   "metadata": {},
   "outputs": [],
   "source": [
    "pumps_cat = pumps_cat.fillna('not available')"
   ]
  },
  {
   "cell_type": "code",
   "execution_count": 19,
   "metadata": {},
   "outputs": [
    {
     "name": "stdout",
     "output_type": "stream",
     "text": [
      "<class 'pandas.core.frame.DataFrame'>\n",
      "Int64Index: 47520 entries, 454 to 23812\n",
      "Data columns (total 28 columns):\n",
      "funder                   47520 non-null object\n",
      "installer                47520 non-null object\n",
      "wpt_name                 47520 non-null object\n",
      "basin                    47520 non-null object\n",
      "subvillage               47520 non-null object\n",
      "region                   47520 non-null object\n",
      "lga                      47520 non-null object\n",
      "ward                     47520 non-null object\n",
      "public_meeting           47520 non-null object\n",
      "scheme_management        47520 non-null object\n",
      "scheme_name              47520 non-null object\n",
      "permit                   47520 non-null object\n",
      "extraction_type          47520 non-null object\n",
      "extraction_type_group    47520 non-null object\n",
      "extraction_type_class    47520 non-null object\n",
      "management               47520 non-null object\n",
      "management_group         47520 non-null object\n",
      "payment                  47520 non-null object\n",
      "payment_type             47520 non-null object\n",
      "water_quality            47520 non-null object\n",
      "quality_group            47520 non-null object\n",
      "quantity                 47520 non-null object\n",
      "quantity_group           47520 non-null object\n",
      "source                   47520 non-null object\n",
      "source_type              47520 non-null object\n",
      "source_class             47520 non-null object\n",
      "waterpoint_type          47520 non-null object\n",
      "waterpoint_type_group    47520 non-null object\n",
      "dtypes: object(28)\n",
      "memory usage: 10.5+ MB\n"
     ]
    }
   ],
   "source": [
    "pumps_cat.info()"
   ]
  },
  {
   "cell_type": "code",
   "execution_count": 20,
   "metadata": {},
   "outputs": [
    {
     "data": {
      "text/plain": [
       "funder                    1699\n",
       "installer                 1924\n",
       "wpt_name                 30742\n",
       "basin                        9\n",
       "subvillage               17233\n",
       "region                      21\n",
       "lga                        125\n",
       "ward                      2076\n",
       "public_meeting               3\n",
       "scheme_management           13\n",
       "scheme_name               2542\n",
       "permit                       3\n",
       "extraction_type             18\n",
       "extraction_type_group       13\n",
       "extraction_type_class        7\n",
       "management                  12\n",
       "management_group             5\n",
       "payment                      7\n",
       "payment_type                 7\n",
       "water_quality                8\n",
       "quality_group                6\n",
       "quantity                     5\n",
       "quantity_group               5\n",
       "source                      10\n",
       "source_type                  7\n",
       "source_class                 3\n",
       "waterpoint_type              7\n",
       "waterpoint_type_group        6\n",
       "dtype: int64"
      ]
     },
     "execution_count": 20,
     "metadata": {},
     "output_type": "execute_result"
    }
   ],
   "source": [
    "pumps_cat.nunique()"
   ]
  },
  {
   "cell_type": "markdown",
   "metadata": {},
   "source": [
    "### Remove Unnecessary Redundant Cols"
   ]
  },
  {
   "cell_type": "code",
   "execution_count": 21,
   "metadata": {},
   "outputs": [],
   "source": [
    "#Remove some categorical vars\n",
    "garbage_cat = ['extraction_type_group','extraction_type_class',\n",
    "               'waterpoint_type_group','source_type',\n",
    "              'payment_type','quality_group','quantity_group']"
   ]
  },
  {
   "cell_type": "code",
   "execution_count": 22,
   "metadata": {},
   "outputs": [],
   "source": [
    "pumps_cat = pumps_cat.drop(columns=garbage_cat)"
   ]
  },
  {
   "cell_type": "code",
   "execution_count": 23,
   "metadata": {},
   "outputs": [
    {
     "data": {
      "text/plain": [
       "Index(['funder', 'installer', 'wpt_name', 'basin', 'subvillage', 'region',\n",
       "       'lga', 'ward', 'public_meeting', 'scheme_management', 'scheme_name',\n",
       "       'permit', 'extraction_type', 'management', 'management_group',\n",
       "       'payment', 'water_quality', 'quantity', 'source', 'source_class',\n",
       "       'waterpoint_type'],\n",
       "      dtype='object')"
      ]
     },
     "execution_count": 23,
     "metadata": {},
     "output_type": "execute_result"
    }
   ],
   "source": [
    "pumps_cat.columns"
   ]
  },
  {
   "cell_type": "markdown",
   "metadata": {},
   "source": [
    "## Handle Numerical data"
   ]
  },
  {
   "cell_type": "code",
   "execution_count": 24,
   "metadata": {},
   "outputs": [
    {
     "data": {
      "text/html": [
       "<div>\n",
       "<style scoped>\n",
       "    .dataframe tbody tr th:only-of-type {\n",
       "        vertical-align: middle;\n",
       "    }\n",
       "\n",
       "    .dataframe tbody tr th {\n",
       "        vertical-align: top;\n",
       "    }\n",
       "\n",
       "    .dataframe thead th {\n",
       "        text-align: right;\n",
       "    }\n",
       "</style>\n",
       "<table border=\"1\" class=\"dataframe\">\n",
       "  <thead>\n",
       "    <tr style=\"text-align: right;\">\n",
       "      <th></th>\n",
       "      <th>amount_tsh</th>\n",
       "      <th>gps_height</th>\n",
       "      <th>longitude</th>\n",
       "      <th>latitude</th>\n",
       "      <th>num_private</th>\n",
       "      <th>region_code</th>\n",
       "      <th>district_code</th>\n",
       "      <th>population</th>\n",
       "      <th>construction_year</th>\n",
       "      <th>date_recorded</th>\n",
       "    </tr>\n",
       "    <tr>\n",
       "      <th>id</th>\n",
       "      <th></th>\n",
       "      <th></th>\n",
       "      <th></th>\n",
       "      <th></th>\n",
       "      <th></th>\n",
       "      <th></th>\n",
       "      <th></th>\n",
       "      <th></th>\n",
       "      <th></th>\n",
       "      <th></th>\n",
       "    </tr>\n",
       "  </thead>\n",
       "  <tbody>\n",
       "    <tr>\n",
       "      <th>454</th>\n",
       "      <td>50.0</td>\n",
       "      <td>2092</td>\n",
       "      <td>35.426020</td>\n",
       "      <td>-4.227446</td>\n",
       "      <td>0</td>\n",
       "      <td>21</td>\n",
       "      <td>1</td>\n",
       "      <td>160</td>\n",
       "      <td>1998</td>\n",
       "      <td>2013-02-27</td>\n",
       "    </tr>\n",
       "    <tr>\n",
       "      <th>510</th>\n",
       "      <td>0.0</td>\n",
       "      <td>0</td>\n",
       "      <td>35.510074</td>\n",
       "      <td>-5.724555</td>\n",
       "      <td>0</td>\n",
       "      <td>1</td>\n",
       "      <td>6</td>\n",
       "      <td>0</td>\n",
       "      <td>0</td>\n",
       "      <td>2011-03-17</td>\n",
       "    </tr>\n",
       "    <tr>\n",
       "      <th>14146</th>\n",
       "      <td>0.0</td>\n",
       "      <td>0</td>\n",
       "      <td>32.499866</td>\n",
       "      <td>-9.081222</td>\n",
       "      <td>0</td>\n",
       "      <td>12</td>\n",
       "      <td>6</td>\n",
       "      <td>0</td>\n",
       "      <td>0</td>\n",
       "      <td>2011-07-10</td>\n",
       "    </tr>\n",
       "    <tr>\n",
       "      <th>47410</th>\n",
       "      <td>0.0</td>\n",
       "      <td>0</td>\n",
       "      <td>34.060484</td>\n",
       "      <td>-8.830208</td>\n",
       "      <td>0</td>\n",
       "      <td>12</td>\n",
       "      <td>7</td>\n",
       "      <td>0</td>\n",
       "      <td>0</td>\n",
       "      <td>2011-04-12</td>\n",
       "    </tr>\n",
       "    <tr>\n",
       "      <th>1288</th>\n",
       "      <td>300.0</td>\n",
       "      <td>1023</td>\n",
       "      <td>37.032690</td>\n",
       "      <td>-6.040787</td>\n",
       "      <td>0</td>\n",
       "      <td>5</td>\n",
       "      <td>1</td>\n",
       "      <td>120</td>\n",
       "      <td>1997</td>\n",
       "      <td>2011-04-05</td>\n",
       "    </tr>\n",
       "  </tbody>\n",
       "</table>\n",
       "</div>"
      ],
      "text/plain": [
       "       amount_tsh  gps_height  longitude  latitude  num_private  region_code  \\\n",
       "id                                                                             \n",
       "454          50.0        2092  35.426020 -4.227446            0           21   \n",
       "510           0.0           0  35.510074 -5.724555            0            1   \n",
       "14146         0.0           0  32.499866 -9.081222            0           12   \n",
       "47410         0.0           0  34.060484 -8.830208            0           12   \n",
       "1288        300.0        1023  37.032690 -6.040787            0            5   \n",
       "\n",
       "       district_code  population  construction_year date_recorded  \n",
       "id                                                                 \n",
       "454                1         160               1998    2013-02-27  \n",
       "510                6           0                  0    2011-03-17  \n",
       "14146              6           0                  0    2011-07-10  \n",
       "47410              7           0                  0    2011-04-12  \n",
       "1288               1         120               1997    2011-04-05  "
      ]
     },
     "execution_count": 24,
     "metadata": {},
     "output_type": "execute_result"
    }
   ],
   "source": [
    "pumps_num.head()"
   ]
  },
  {
   "cell_type": "code",
   "execution_count": 25,
   "metadata": {},
   "outputs": [
    {
     "name": "stdout",
     "output_type": "stream",
     "text": [
      "<class 'pandas.core.frame.DataFrame'>\n",
      "Int64Index: 47520 entries, 454 to 23812\n",
      "Data columns (total 10 columns):\n",
      "amount_tsh           47520 non-null float64\n",
      "gps_height           47520 non-null int64\n",
      "longitude            47520 non-null float64\n",
      "latitude             47520 non-null float64\n",
      "num_private          47520 non-null int64\n",
      "region_code          47520 non-null int64\n",
      "district_code        47520 non-null int64\n",
      "population           47520 non-null int64\n",
      "construction_year    47520 non-null int64\n",
      "date_recorded        47520 non-null object\n",
      "dtypes: float64(3), int64(6), object(1)\n",
      "memory usage: 4.0+ MB\n"
     ]
    }
   ],
   "source": [
    "pumps_num.info()"
   ]
  },
  {
   "cell_type": "code",
   "execution_count": 26,
   "metadata": {},
   "outputs": [
    {
     "name": "stderr",
     "output_type": "stream",
     "text": [
      "/anaconda3/lib/python3.7/site-packages/ipykernel_launcher.py:2: SettingWithCopyWarning: \n",
      "A value is trying to be set on a copy of a slice from a DataFrame.\n",
      "Try using .loc[row_indexer,col_indexer] = value instead\n",
      "\n",
      "See the caveats in the documentation: http://pandas.pydata.org/pandas-docs/stable/indexing.html#indexing-view-versus-copy\n",
      "  \n"
     ]
    }
   ],
   "source": [
    "#Convert date recorded to datetime\n",
    "pumps_num['recorded'] = pd.to_datetime(pumps_num['date_recorded'])"
   ]
  },
  {
   "cell_type": "code",
   "execution_count": 27,
   "metadata": {},
   "outputs": [
    {
     "name": "stderr",
     "output_type": "stream",
     "text": [
      "/anaconda3/lib/python3.7/site-packages/ipykernel_launcher.py:1: SettingWithCopyWarning: \n",
      "A value is trying to be set on a copy of a slice from a DataFrame.\n",
      "Try using .loc[row_indexer,col_indexer] = value instead\n",
      "\n",
      "See the caveats in the documentation: http://pandas.pydata.org/pandas-docs/stable/indexing.html#indexing-view-versus-copy\n",
      "  \"\"\"Entry point for launching an IPython kernel.\n"
     ]
    }
   ],
   "source": [
    "pumps_num['recorded_year'] = pumps_num['recorded'].dt.year"
   ]
  },
  {
   "cell_type": "code",
   "execution_count": 28,
   "metadata": {},
   "outputs": [
    {
     "data": {
      "text/html": [
       "<div>\n",
       "<style scoped>\n",
       "    .dataframe tbody tr th:only-of-type {\n",
       "        vertical-align: middle;\n",
       "    }\n",
       "\n",
       "    .dataframe tbody tr th {\n",
       "        vertical-align: top;\n",
       "    }\n",
       "\n",
       "    .dataframe thead th {\n",
       "        text-align: right;\n",
       "    }\n",
       "</style>\n",
       "<table border=\"1\" class=\"dataframe\">\n",
       "  <thead>\n",
       "    <tr style=\"text-align: right;\">\n",
       "      <th></th>\n",
       "      <th>amount_tsh</th>\n",
       "      <th>gps_height</th>\n",
       "      <th>longitude</th>\n",
       "      <th>latitude</th>\n",
       "      <th>num_private</th>\n",
       "      <th>region_code</th>\n",
       "      <th>district_code</th>\n",
       "      <th>population</th>\n",
       "      <th>construction_year</th>\n",
       "      <th>date_recorded</th>\n",
       "      <th>recorded</th>\n",
       "      <th>recorded_year</th>\n",
       "    </tr>\n",
       "    <tr>\n",
       "      <th>id</th>\n",
       "      <th></th>\n",
       "      <th></th>\n",
       "      <th></th>\n",
       "      <th></th>\n",
       "      <th></th>\n",
       "      <th></th>\n",
       "      <th></th>\n",
       "      <th></th>\n",
       "      <th></th>\n",
       "      <th></th>\n",
       "      <th></th>\n",
       "      <th></th>\n",
       "    </tr>\n",
       "  </thead>\n",
       "  <tbody>\n",
       "    <tr>\n",
       "      <th>454</th>\n",
       "      <td>50.0</td>\n",
       "      <td>2092</td>\n",
       "      <td>35.426020</td>\n",
       "      <td>-4.227446</td>\n",
       "      <td>0</td>\n",
       "      <td>21</td>\n",
       "      <td>1</td>\n",
       "      <td>160</td>\n",
       "      <td>1998</td>\n",
       "      <td>2013-02-27</td>\n",
       "      <td>2013-02-27</td>\n",
       "      <td>2013</td>\n",
       "    </tr>\n",
       "    <tr>\n",
       "      <th>510</th>\n",
       "      <td>0.0</td>\n",
       "      <td>0</td>\n",
       "      <td>35.510074</td>\n",
       "      <td>-5.724555</td>\n",
       "      <td>0</td>\n",
       "      <td>1</td>\n",
       "      <td>6</td>\n",
       "      <td>0</td>\n",
       "      <td>0</td>\n",
       "      <td>2011-03-17</td>\n",
       "      <td>2011-03-17</td>\n",
       "      <td>2011</td>\n",
       "    </tr>\n",
       "    <tr>\n",
       "      <th>14146</th>\n",
       "      <td>0.0</td>\n",
       "      <td>0</td>\n",
       "      <td>32.499866</td>\n",
       "      <td>-9.081222</td>\n",
       "      <td>0</td>\n",
       "      <td>12</td>\n",
       "      <td>6</td>\n",
       "      <td>0</td>\n",
       "      <td>0</td>\n",
       "      <td>2011-07-10</td>\n",
       "      <td>2011-07-10</td>\n",
       "      <td>2011</td>\n",
       "    </tr>\n",
       "    <tr>\n",
       "      <th>47410</th>\n",
       "      <td>0.0</td>\n",
       "      <td>0</td>\n",
       "      <td>34.060484</td>\n",
       "      <td>-8.830208</td>\n",
       "      <td>0</td>\n",
       "      <td>12</td>\n",
       "      <td>7</td>\n",
       "      <td>0</td>\n",
       "      <td>0</td>\n",
       "      <td>2011-04-12</td>\n",
       "      <td>2011-04-12</td>\n",
       "      <td>2011</td>\n",
       "    </tr>\n",
       "    <tr>\n",
       "      <th>1288</th>\n",
       "      <td>300.0</td>\n",
       "      <td>1023</td>\n",
       "      <td>37.032690</td>\n",
       "      <td>-6.040787</td>\n",
       "      <td>0</td>\n",
       "      <td>5</td>\n",
       "      <td>1</td>\n",
       "      <td>120</td>\n",
       "      <td>1997</td>\n",
       "      <td>2011-04-05</td>\n",
       "      <td>2011-04-05</td>\n",
       "      <td>2011</td>\n",
       "    </tr>\n",
       "  </tbody>\n",
       "</table>\n",
       "</div>"
      ],
      "text/plain": [
       "       amount_tsh  gps_height  longitude  latitude  num_private  region_code  \\\n",
       "id                                                                             \n",
       "454          50.0        2092  35.426020 -4.227446            0           21   \n",
       "510           0.0           0  35.510074 -5.724555            0            1   \n",
       "14146         0.0           0  32.499866 -9.081222            0           12   \n",
       "47410         0.0           0  34.060484 -8.830208            0           12   \n",
       "1288        300.0        1023  37.032690 -6.040787            0            5   \n",
       "\n",
       "       district_code  population  construction_year date_recorded   recorded  \\\n",
       "id                                                                             \n",
       "454                1         160               1998    2013-02-27 2013-02-27   \n",
       "510                6           0                  0    2011-03-17 2011-03-17   \n",
       "14146              6           0                  0    2011-07-10 2011-07-10   \n",
       "47410              7           0                  0    2011-04-12 2011-04-12   \n",
       "1288               1         120               1997    2011-04-05 2011-04-05   \n",
       "\n",
       "       recorded_year  \n",
       "id                    \n",
       "454             2013  \n",
       "510             2011  \n",
       "14146           2011  \n",
       "47410           2011  \n",
       "1288            2011  "
      ]
     },
     "execution_count": 28,
     "metadata": {},
     "output_type": "execute_result"
    }
   ],
   "source": [
    "pumps_num.head()"
   ]
  },
  {
   "cell_type": "code",
   "execution_count": 29,
   "metadata": {},
   "outputs": [
    {
     "name": "stderr",
     "output_type": "stream",
     "text": [
      "/anaconda3/lib/python3.7/site-packages/ipykernel_launcher.py:3: SettingWithCopyWarning: \n",
      "A value is trying to be set on a copy of a slice from a DataFrame.\n",
      "Try using .loc[row_indexer,col_indexer] = value instead\n",
      "\n",
      "See the caveats in the documentation: http://pandas.pydata.org/pandas-docs/stable/indexing.html#indexing-view-versus-copy\n",
      "  This is separate from the ipykernel package so we can avoid doing imports until\n",
      "/anaconda3/lib/python3.7/site-packages/ipykernel_launcher.py:4: SettingWithCopyWarning: \n",
      "A value is trying to be set on a copy of a slice from a DataFrame.\n",
      "Try using .loc[row_indexer,col_indexer] = value instead\n",
      "\n",
      "See the caveats in the documentation: http://pandas.pydata.org/pandas-docs/stable/indexing.html#indexing-view-versus-copy\n",
      "  after removing the cwd from sys.path.\n"
     ]
    }
   ],
   "source": [
    "#Impute mean construction_year\n",
    "mean_imputer = SimpleImputer(missing_values=0, strategy='mean')\n",
    "pumps_num['construction_year_imp'] = mean_imputer.fit_transform(pumps_num['construction_year'].values.reshape(-1,1))\n",
    "pumps_num['construction_year_imp'] = pumps_num['construction_year_imp'].astype('int')"
   ]
  },
  {
   "cell_type": "code",
   "execution_count": 30,
   "metadata": {},
   "outputs": [
    {
     "name": "stderr",
     "output_type": "stream",
     "text": [
      "/anaconda3/lib/python3.7/site-packages/ipykernel_launcher.py:1: SettingWithCopyWarning: \n",
      "A value is trying to be set on a copy of a slice from a DataFrame.\n",
      "Try using .loc[row_indexer,col_indexer] = value instead\n",
      "\n",
      "See the caveats in the documentation: http://pandas.pydata.org/pandas-docs/stable/indexing.html#indexing-view-versus-copy\n",
      "  \"\"\"Entry point for launching an IPython kernel.\n"
     ]
    }
   ],
   "source": [
    "pumps_num['age'] = pumps_num['recorded_year'] - pumps_num['construction_year_imp']"
   ]
  },
  {
   "cell_type": "code",
   "execution_count": 31,
   "metadata": {},
   "outputs": [
    {
     "data": {
      "text/html": [
       "<div>\n",
       "<style scoped>\n",
       "    .dataframe tbody tr th:only-of-type {\n",
       "        vertical-align: middle;\n",
       "    }\n",
       "\n",
       "    .dataframe tbody tr th {\n",
       "        vertical-align: top;\n",
       "    }\n",
       "\n",
       "    .dataframe thead th {\n",
       "        text-align: right;\n",
       "    }\n",
       "</style>\n",
       "<table border=\"1\" class=\"dataframe\">\n",
       "  <thead>\n",
       "    <tr style=\"text-align: right;\">\n",
       "      <th></th>\n",
       "      <th>amount_tsh</th>\n",
       "      <th>gps_height</th>\n",
       "      <th>longitude</th>\n",
       "      <th>latitude</th>\n",
       "      <th>num_private</th>\n",
       "      <th>region_code</th>\n",
       "      <th>district_code</th>\n",
       "      <th>population</th>\n",
       "      <th>construction_year</th>\n",
       "      <th>date_recorded</th>\n",
       "      <th>recorded</th>\n",
       "      <th>recorded_year</th>\n",
       "      <th>construction_year_imp</th>\n",
       "      <th>age</th>\n",
       "    </tr>\n",
       "    <tr>\n",
       "      <th>id</th>\n",
       "      <th></th>\n",
       "      <th></th>\n",
       "      <th></th>\n",
       "      <th></th>\n",
       "      <th></th>\n",
       "      <th></th>\n",
       "      <th></th>\n",
       "      <th></th>\n",
       "      <th></th>\n",
       "      <th></th>\n",
       "      <th></th>\n",
       "      <th></th>\n",
       "      <th></th>\n",
       "      <th></th>\n",
       "    </tr>\n",
       "  </thead>\n",
       "  <tbody>\n",
       "    <tr>\n",
       "      <th>454</th>\n",
       "      <td>50.0</td>\n",
       "      <td>2092</td>\n",
       "      <td>35.426020</td>\n",
       "      <td>-4.227446</td>\n",
       "      <td>0</td>\n",
       "      <td>21</td>\n",
       "      <td>1</td>\n",
       "      <td>160</td>\n",
       "      <td>1998</td>\n",
       "      <td>2013-02-27</td>\n",
       "      <td>2013-02-27</td>\n",
       "      <td>2013</td>\n",
       "      <td>1998</td>\n",
       "      <td>15</td>\n",
       "    </tr>\n",
       "    <tr>\n",
       "      <th>510</th>\n",
       "      <td>0.0</td>\n",
       "      <td>0</td>\n",
       "      <td>35.510074</td>\n",
       "      <td>-5.724555</td>\n",
       "      <td>0</td>\n",
       "      <td>1</td>\n",
       "      <td>6</td>\n",
       "      <td>0</td>\n",
       "      <td>0</td>\n",
       "      <td>2011-03-17</td>\n",
       "      <td>2011-03-17</td>\n",
       "      <td>2011</td>\n",
       "      <td>1996</td>\n",
       "      <td>15</td>\n",
       "    </tr>\n",
       "    <tr>\n",
       "      <th>14146</th>\n",
       "      <td>0.0</td>\n",
       "      <td>0</td>\n",
       "      <td>32.499866</td>\n",
       "      <td>-9.081222</td>\n",
       "      <td>0</td>\n",
       "      <td>12</td>\n",
       "      <td>6</td>\n",
       "      <td>0</td>\n",
       "      <td>0</td>\n",
       "      <td>2011-07-10</td>\n",
       "      <td>2011-07-10</td>\n",
       "      <td>2011</td>\n",
       "      <td>1996</td>\n",
       "      <td>15</td>\n",
       "    </tr>\n",
       "    <tr>\n",
       "      <th>47410</th>\n",
       "      <td>0.0</td>\n",
       "      <td>0</td>\n",
       "      <td>34.060484</td>\n",
       "      <td>-8.830208</td>\n",
       "      <td>0</td>\n",
       "      <td>12</td>\n",
       "      <td>7</td>\n",
       "      <td>0</td>\n",
       "      <td>0</td>\n",
       "      <td>2011-04-12</td>\n",
       "      <td>2011-04-12</td>\n",
       "      <td>2011</td>\n",
       "      <td>1996</td>\n",
       "      <td>15</td>\n",
       "    </tr>\n",
       "    <tr>\n",
       "      <th>1288</th>\n",
       "      <td>300.0</td>\n",
       "      <td>1023</td>\n",
       "      <td>37.032690</td>\n",
       "      <td>-6.040787</td>\n",
       "      <td>0</td>\n",
       "      <td>5</td>\n",
       "      <td>1</td>\n",
       "      <td>120</td>\n",
       "      <td>1997</td>\n",
       "      <td>2011-04-05</td>\n",
       "      <td>2011-04-05</td>\n",
       "      <td>2011</td>\n",
       "      <td>1997</td>\n",
       "      <td>14</td>\n",
       "    </tr>\n",
       "  </tbody>\n",
       "</table>\n",
       "</div>"
      ],
      "text/plain": [
       "       amount_tsh  gps_height  longitude  latitude  num_private  region_code  \\\n",
       "id                                                                             \n",
       "454          50.0        2092  35.426020 -4.227446            0           21   \n",
       "510           0.0           0  35.510074 -5.724555            0            1   \n",
       "14146         0.0           0  32.499866 -9.081222            0           12   \n",
       "47410         0.0           0  34.060484 -8.830208            0           12   \n",
       "1288        300.0        1023  37.032690 -6.040787            0            5   \n",
       "\n",
       "       district_code  population  construction_year date_recorded   recorded  \\\n",
       "id                                                                             \n",
       "454                1         160               1998    2013-02-27 2013-02-27   \n",
       "510                6           0                  0    2011-03-17 2011-03-17   \n",
       "14146              6           0                  0    2011-07-10 2011-07-10   \n",
       "47410              7           0                  0    2011-04-12 2011-04-12   \n",
       "1288               1         120               1997    2011-04-05 2011-04-05   \n",
       "\n",
       "       recorded_year  construction_year_imp  age  \n",
       "id                                                \n",
       "454             2013                   1998   15  \n",
       "510             2011                   1996   15  \n",
       "14146           2011                   1996   15  \n",
       "47410           2011                   1996   15  \n",
       "1288            2011                   1997   14  "
      ]
     },
     "execution_count": 31,
     "metadata": {},
     "output_type": "execute_result"
    }
   ],
   "source": [
    "pumps_num.head()"
   ]
  },
  {
   "cell_type": "markdown",
   "metadata": {},
   "source": [
    "There are some categorical variables leaked in here:\n",
    "- region_code\n",
    "- district_code"
   ]
  },
  {
   "cell_type": "code",
   "execution_count": 32,
   "metadata": {},
   "outputs": [],
   "source": [
    "pumps_cat[['region_code', 'district_code']] = pumps_num[['region_code', 'district_code']]"
   ]
  },
  {
   "cell_type": "code",
   "execution_count": 33,
   "metadata": {},
   "outputs": [],
   "source": [
    "pumps_num = pumps_num.drop(['region_code', 'district_code'], axis = 1)"
   ]
  },
  {
   "cell_type": "code",
   "execution_count": 34,
   "metadata": {},
   "outputs": [
    {
     "data": {
      "text/html": [
       "<div>\n",
       "<style scoped>\n",
       "    .dataframe tbody tr th:only-of-type {\n",
       "        vertical-align: middle;\n",
       "    }\n",
       "\n",
       "    .dataframe tbody tr th {\n",
       "        vertical-align: top;\n",
       "    }\n",
       "\n",
       "    .dataframe thead th {\n",
       "        text-align: right;\n",
       "    }\n",
       "</style>\n",
       "<table border=\"1\" class=\"dataframe\">\n",
       "  <thead>\n",
       "    <tr style=\"text-align: right;\">\n",
       "      <th></th>\n",
       "      <th>amount_tsh</th>\n",
       "      <th>gps_height</th>\n",
       "      <th>longitude</th>\n",
       "      <th>latitude</th>\n",
       "      <th>num_private</th>\n",
       "      <th>population</th>\n",
       "      <th>construction_year</th>\n",
       "      <th>date_recorded</th>\n",
       "      <th>recorded</th>\n",
       "      <th>recorded_year</th>\n",
       "      <th>construction_year_imp</th>\n",
       "      <th>age</th>\n",
       "    </tr>\n",
       "    <tr>\n",
       "      <th>id</th>\n",
       "      <th></th>\n",
       "      <th></th>\n",
       "      <th></th>\n",
       "      <th></th>\n",
       "      <th></th>\n",
       "      <th></th>\n",
       "      <th></th>\n",
       "      <th></th>\n",
       "      <th></th>\n",
       "      <th></th>\n",
       "      <th></th>\n",
       "      <th></th>\n",
       "    </tr>\n",
       "  </thead>\n",
       "  <tbody>\n",
       "    <tr>\n",
       "      <th>454</th>\n",
       "      <td>50.0</td>\n",
       "      <td>2092</td>\n",
       "      <td>35.426020</td>\n",
       "      <td>-4.227446</td>\n",
       "      <td>0</td>\n",
       "      <td>160</td>\n",
       "      <td>1998</td>\n",
       "      <td>2013-02-27</td>\n",
       "      <td>2013-02-27</td>\n",
       "      <td>2013</td>\n",
       "      <td>1998</td>\n",
       "      <td>15</td>\n",
       "    </tr>\n",
       "    <tr>\n",
       "      <th>510</th>\n",
       "      <td>0.0</td>\n",
       "      <td>0</td>\n",
       "      <td>35.510074</td>\n",
       "      <td>-5.724555</td>\n",
       "      <td>0</td>\n",
       "      <td>0</td>\n",
       "      <td>0</td>\n",
       "      <td>2011-03-17</td>\n",
       "      <td>2011-03-17</td>\n",
       "      <td>2011</td>\n",
       "      <td>1996</td>\n",
       "      <td>15</td>\n",
       "    </tr>\n",
       "    <tr>\n",
       "      <th>14146</th>\n",
       "      <td>0.0</td>\n",
       "      <td>0</td>\n",
       "      <td>32.499866</td>\n",
       "      <td>-9.081222</td>\n",
       "      <td>0</td>\n",
       "      <td>0</td>\n",
       "      <td>0</td>\n",
       "      <td>2011-07-10</td>\n",
       "      <td>2011-07-10</td>\n",
       "      <td>2011</td>\n",
       "      <td>1996</td>\n",
       "      <td>15</td>\n",
       "    </tr>\n",
       "    <tr>\n",
       "      <th>47410</th>\n",
       "      <td>0.0</td>\n",
       "      <td>0</td>\n",
       "      <td>34.060484</td>\n",
       "      <td>-8.830208</td>\n",
       "      <td>0</td>\n",
       "      <td>0</td>\n",
       "      <td>0</td>\n",
       "      <td>2011-04-12</td>\n",
       "      <td>2011-04-12</td>\n",
       "      <td>2011</td>\n",
       "      <td>1996</td>\n",
       "      <td>15</td>\n",
       "    </tr>\n",
       "    <tr>\n",
       "      <th>1288</th>\n",
       "      <td>300.0</td>\n",
       "      <td>1023</td>\n",
       "      <td>37.032690</td>\n",
       "      <td>-6.040787</td>\n",
       "      <td>0</td>\n",
       "      <td>120</td>\n",
       "      <td>1997</td>\n",
       "      <td>2011-04-05</td>\n",
       "      <td>2011-04-05</td>\n",
       "      <td>2011</td>\n",
       "      <td>1997</td>\n",
       "      <td>14</td>\n",
       "    </tr>\n",
       "  </tbody>\n",
       "</table>\n",
       "</div>"
      ],
      "text/plain": [
       "       amount_tsh  gps_height  longitude  latitude  num_private  population  \\\n",
       "id                                                                            \n",
       "454          50.0        2092  35.426020 -4.227446            0         160   \n",
       "510           0.0           0  35.510074 -5.724555            0           0   \n",
       "14146         0.0           0  32.499866 -9.081222            0           0   \n",
       "47410         0.0           0  34.060484 -8.830208            0           0   \n",
       "1288        300.0        1023  37.032690 -6.040787            0         120   \n",
       "\n",
       "       construction_year date_recorded   recorded  recorded_year  \\\n",
       "id                                                                 \n",
       "454                 1998    2013-02-27 2013-02-27           2013   \n",
       "510                    0    2011-03-17 2011-03-17           2011   \n",
       "14146                  0    2011-07-10 2011-07-10           2011   \n",
       "47410                  0    2011-04-12 2011-04-12           2011   \n",
       "1288                1997    2011-04-05 2011-04-05           2011   \n",
       "\n",
       "       construction_year_imp  age  \n",
       "id                                 \n",
       "454                     1998   15  \n",
       "510                     1996   15  \n",
       "14146                   1996   15  \n",
       "47410                   1996   15  \n",
       "1288                    1997   14  "
      ]
     },
     "execution_count": 34,
     "metadata": {},
     "output_type": "execute_result"
    }
   ],
   "source": [
    "pumps_num.head()"
   ]
  },
  {
   "cell_type": "code",
   "execution_count": 35,
   "metadata": {},
   "outputs": [],
   "source": [
    "pumps_num_copy = pumps_num[['amount_tsh', 'age', 'construction_year_imp', 'population', 'gps_height']]"
   ]
  },
  {
   "cell_type": "code",
   "execution_count": 36,
   "metadata": {},
   "outputs": [
    {
     "data": {
      "text/plain": [
       "<matplotlib.axes._subplots.AxesSubplot at 0x1c193e7ba8>"
      ]
     },
     "execution_count": 36,
     "metadata": {},
     "output_type": "execute_result"
    },
    {
     "data": {
      "image/png": "[encoded data removed]",
      "text/plain": [
       "<Figure size 432x288 with 1 Axes>"
      ]
     },
     "metadata": {
      "needs_background": "light"
     },
     "output_type": "display_data"
    }
   ],
   "source": [
    "pumps_num_copy['amount_tsh'].hist()"
   ]
  },
  {
   "cell_type": "code",
   "execution_count": 37,
   "metadata": {},
   "outputs": [
    {
     "data": {
      "text/plain": [
       "array([5.00e+01, 0.00e+00, 3.00e+02, 1.00e+01, 8.00e+03, 2.50e+02,\n",
       "       5.00e+02, 3.00e+01, 1.00e+03, 6.00e+03, 1.00e+02, 4.70e+03,\n",
       "       4.00e+01, 1.50e+03, 2.40e+03, 2.00e+03, 1.50e+01, 1.00e+04,\n",
       "       5.00e+00, 2.00e+01, 3.00e+03, 2.00e+02, 6.00e+02, 2.50e+03,\n",
       "       5.00e+03, 2.50e+01, 4.00e+02, 8.50e+03, 4.50e+02, 6.00e+00,\n",
       "       1.20e+03, 4.00e+03, 7.50e+02, 7.00e+02, 7.00e+00, 1.63e+04,\n",
       "       3.60e+03, 1.20e+04, 2.50e+04, 1.50e+04, 1.50e+02, 2.20e+03,\n",
       "       7.20e+03, 2.00e+00, 2.00e+04, 2.80e+03, 7.00e+01, 1.20e+01,\n",
       "       3.50e+03, 4.00e+04, 3.30e+01, 3.50e+01, 7.00e+03, 1.17e+05,\n",
       "       7.50e+03, 6.00e+01, 1.30e+03, 7.00e+04, 5.00e+04, 6.50e+03,\n",
       "       2.00e+05, 1.10e+04, 3.00e+04, 4.50e+03, 6.30e+03, 1.40e+04,\n",
       "       3.50e+05, 3.50e+02, 9.00e+00, 4.50e+04, 2.60e+04, 1.60e+04,\n",
       "       2.00e-01, 5.20e+02, 8.00e+02, 6.00e+04, 9.00e+03, 5.50e+02,\n",
       "       5.50e+03, 2.20e+02, 3.06e+02, 2.60e+01, 1.70e+05, 1.30e+04,\n",
       "       5.90e+02, 1.00e+00, 1.20e+05, 5.30e+01, 1.80e+04, 5.40e+03,\n",
       "       1.00e+05, 9.00e+02, 2.50e+05, 2.50e-01, 5.90e+01, 1.40e+03])"
      ]
     },
     "execution_count": 37,
     "metadata": {},
     "output_type": "execute_result"
    }
   ],
   "source": [
    "pumps_num_copy['amount_tsh'].unique()"
   ]
  },
  {
   "cell_type": "code",
   "execution_count": 38,
   "metadata": {},
   "outputs": [
    {
     "data": {
      "text/plain": [
       "<matplotlib.axes._subplots.AxesSubplot at 0x1c19455b38>"
      ]
     },
     "execution_count": 38,
     "metadata": {},
     "output_type": "execute_result"
    },
    {
     "data": {
      "image/png": "[encoded data removed]",
      "text/plain": [
       "<Figure size 432x288 with 1 Axes>"
      ]
     },
     "metadata": {
      "needs_background": "light"
     },
     "output_type": "display_data"
    }
   ],
   "source": [
    "pumps_num_copy['age'].hist()"
   ]
  },
  {
   "cell_type": "code",
   "execution_count": 39,
   "metadata": {},
   "outputs": [
    {
     "data": {
      "text/plain": [
       "<matplotlib.axes._subplots.AxesSubplot at 0x1c1952c320>"
      ]
     },
     "execution_count": 39,
     "metadata": {},
     "output_type": "execute_result"
    },
    {
     "data": {
      "image/png": "[encoded data removed]",
      "text/plain": [
       "<Figure size 432x288 with 1 Axes>"
      ]
     },
     "metadata": {
      "needs_background": "light"
     },
     "output_type": "display_data"
    }
   ],
   "source": [
    "pumps_num_copy['population'].hist()"
   ]
  },
  {
   "cell_type": "code",
   "execution_count": 40,
   "metadata": {},
   "outputs": [],
   "source": [
    "scaler = RobustScaler()\n",
    "nums_scaled = scaler.fit_transform(pumps_num_copy)"
   ]
  },
  {
   "cell_type": "code",
   "execution_count": 41,
   "metadata": {},
   "outputs": [],
   "source": [
    "nums_scaled = pd.DataFrame(nums_scaled, columns=pumps_num_copy.columns)"
   ]
  },
  {
   "cell_type": "markdown",
   "metadata": {},
   "source": [
    "### Back to categoricals"
   ]
  },
  {
   "cell_type": "code",
   "execution_count": 42,
   "metadata": {},
   "outputs": [
    {
     "data": {
      "text/html": [
       "<div>\n",
       "<style scoped>\n",
       "    .dataframe tbody tr th:only-of-type {\n",
       "        vertical-align: middle;\n",
       "    }\n",
       "\n",
       "    .dataframe tbody tr th {\n",
       "        vertical-align: top;\n",
       "    }\n",
       "\n",
       "    .dataframe thead th {\n",
       "        text-align: right;\n",
       "    }\n",
       "</style>\n",
       "<table border=\"1\" class=\"dataframe\">\n",
       "  <thead>\n",
       "    <tr style=\"text-align: right;\">\n",
       "      <th></th>\n",
       "      <th>funder</th>\n",
       "      <th>installer</th>\n",
       "      <th>wpt_name</th>\n",
       "      <th>basin</th>\n",
       "      <th>subvillage</th>\n",
       "      <th>region</th>\n",
       "      <th>lga</th>\n",
       "      <th>ward</th>\n",
       "      <th>public_meeting</th>\n",
       "      <th>scheme_management</th>\n",
       "      <th>...</th>\n",
       "      <th>management</th>\n",
       "      <th>management_group</th>\n",
       "      <th>payment</th>\n",
       "      <th>water_quality</th>\n",
       "      <th>quantity</th>\n",
       "      <th>source</th>\n",
       "      <th>source_class</th>\n",
       "      <th>waterpoint_type</th>\n",
       "      <th>region_code</th>\n",
       "      <th>district_code</th>\n",
       "    </tr>\n",
       "    <tr>\n",
       "      <th>id</th>\n",
       "      <th></th>\n",
       "      <th></th>\n",
       "      <th></th>\n",
       "      <th></th>\n",
       "      <th></th>\n",
       "      <th></th>\n",
       "      <th></th>\n",
       "      <th></th>\n",
       "      <th></th>\n",
       "      <th></th>\n",
       "      <th></th>\n",
       "      <th></th>\n",
       "      <th></th>\n",
       "      <th></th>\n",
       "      <th></th>\n",
       "      <th></th>\n",
       "      <th></th>\n",
       "      <th></th>\n",
       "      <th></th>\n",
       "      <th></th>\n",
       "      <th></th>\n",
       "    </tr>\n",
       "  </thead>\n",
       "  <tbody>\n",
       "    <tr>\n",
       "      <th>454</th>\n",
       "      <td>Dmdd</td>\n",
       "      <td>DMDD</td>\n",
       "      <td>Narmo</td>\n",
       "      <td>Internal</td>\n",
       "      <td>Bashnet Kati</td>\n",
       "      <td>Manyara</td>\n",
       "      <td>Babati</td>\n",
       "      <td>Bashinet</td>\n",
       "      <td>True</td>\n",
       "      <td>Water Board</td>\n",
       "      <td>...</td>\n",
       "      <td>water board</td>\n",
       "      <td>user-group</td>\n",
       "      <td>pay per bucket</td>\n",
       "      <td>soft</td>\n",
       "      <td>insufficient</td>\n",
       "      <td>spring</td>\n",
       "      <td>groundwater</td>\n",
       "      <td>communal standpipe</td>\n",
       "      <td>21</td>\n",
       "      <td>1</td>\n",
       "    </tr>\n",
       "    <tr>\n",
       "      <th>510</th>\n",
       "      <td>Cmsr</td>\n",
       "      <td>Gove</td>\n",
       "      <td>Lukali</td>\n",
       "      <td>Internal</td>\n",
       "      <td>Lukali</td>\n",
       "      <td>Dodoma</td>\n",
       "      <td>Bahi</td>\n",
       "      <td>Lamaiti</td>\n",
       "      <td>True</td>\n",
       "      <td>VWC</td>\n",
       "      <td>...</td>\n",
       "      <td>vwc</td>\n",
       "      <td>user-group</td>\n",
       "      <td>never pay</td>\n",
       "      <td>soft</td>\n",
       "      <td>enough</td>\n",
       "      <td>shallow well</td>\n",
       "      <td>groundwater</td>\n",
       "      <td>hand pump</td>\n",
       "      <td>1</td>\n",
       "      <td>6</td>\n",
       "    </tr>\n",
       "    <tr>\n",
       "      <th>14146</th>\n",
       "      <td>Kkkt</td>\n",
       "      <td>KKKT</td>\n",
       "      <td>Mahakama</td>\n",
       "      <td>Lake Rukwa</td>\n",
       "      <td>Chawalikozi</td>\n",
       "      <td>Mbeya</td>\n",
       "      <td>Mbozi</td>\n",
       "      <td>Ndalambo</td>\n",
       "      <td>True</td>\n",
       "      <td>VWC</td>\n",
       "      <td>...</td>\n",
       "      <td>vwc</td>\n",
       "      <td>user-group</td>\n",
       "      <td>never pay</td>\n",
       "      <td>soft</td>\n",
       "      <td>enough</td>\n",
       "      <td>shallow well</td>\n",
       "      <td>groundwater</td>\n",
       "      <td>other</td>\n",
       "      <td>12</td>\n",
       "      <td>6</td>\n",
       "    </tr>\n",
       "    <tr>\n",
       "      <th>47410</th>\n",
       "      <td>not available</td>\n",
       "      <td>not available</td>\n",
       "      <td>Shule Ya Msingi Chosi A</td>\n",
       "      <td>Rufiji</td>\n",
       "      <td>Shuleni</td>\n",
       "      <td>Mbeya</td>\n",
       "      <td>Mbarali</td>\n",
       "      <td>Chimala</td>\n",
       "      <td>True</td>\n",
       "      <td>VWC</td>\n",
       "      <td>...</td>\n",
       "      <td>vwc</td>\n",
       "      <td>user-group</td>\n",
       "      <td>pay monthly</td>\n",
       "      <td>soft</td>\n",
       "      <td>insufficient</td>\n",
       "      <td>river</td>\n",
       "      <td>surface</td>\n",
       "      <td>communal standpipe</td>\n",
       "      <td>12</td>\n",
       "      <td>7</td>\n",
       "    </tr>\n",
       "    <tr>\n",
       "      <th>1288</th>\n",
       "      <td>Ki</td>\n",
       "      <td>Ki</td>\n",
       "      <td>Kwa Mjowe</td>\n",
       "      <td>Wami / Ruvu</td>\n",
       "      <td>Ngholong</td>\n",
       "      <td>Morogoro</td>\n",
       "      <td>Kilosa</td>\n",
       "      <td>Chakwale</td>\n",
       "      <td>True</td>\n",
       "      <td>VWC</td>\n",
       "      <td>...</td>\n",
       "      <td>vwc</td>\n",
       "      <td>user-group</td>\n",
       "      <td>pay when scheme fails</td>\n",
       "      <td>salty</td>\n",
       "      <td>enough</td>\n",
       "      <td>shallow well</td>\n",
       "      <td>groundwater</td>\n",
       "      <td>other</td>\n",
       "      <td>5</td>\n",
       "      <td>1</td>\n",
       "    </tr>\n",
       "  </tbody>\n",
       "</table>\n",
       "<p>5 rows × 23 columns</p>\n",
       "</div>"
      ],
      "text/plain": [
       "              funder      installer                 wpt_name        basin  \\\n",
       "id                                                                          \n",
       "454             Dmdd           DMDD                    Narmo     Internal   \n",
       "510             Cmsr           Gove                   Lukali     Internal   \n",
       "14146           Kkkt           KKKT                 Mahakama   Lake Rukwa   \n",
       "47410  not available  not available  Shule Ya Msingi Chosi A       Rufiji   \n",
       "1288              Ki             Ki                Kwa Mjowe  Wami / Ruvu   \n",
       "\n",
       "         subvillage    region      lga      ward public_meeting  \\\n",
       "id                                                                \n",
       "454    Bashnet Kati   Manyara   Babati  Bashinet           True   \n",
       "510          Lukali    Dodoma     Bahi   Lamaiti           True   \n",
       "14146   Chawalikozi     Mbeya    Mbozi  Ndalambo           True   \n",
       "47410       Shuleni     Mbeya  Mbarali   Chimala           True   \n",
       "1288       Ngholong  Morogoro   Kilosa  Chakwale           True   \n",
       "\n",
       "      scheme_management  ...   management management_group  \\\n",
       "id                       ...                                 \n",
       "454         Water Board  ...  water board       user-group   \n",
       "510                 VWC  ...          vwc       user-group   \n",
       "14146               VWC  ...          vwc       user-group   \n",
       "47410               VWC  ...          vwc       user-group   \n",
       "1288                VWC  ...          vwc       user-group   \n",
       "\n",
       "                     payment water_quality      quantity        source  \\\n",
       "id                                                                       \n",
       "454           pay per bucket          soft  insufficient        spring   \n",
       "510                never pay          soft        enough  shallow well   \n",
       "14146              never pay          soft        enough  shallow well   \n",
       "47410            pay monthly          soft  insufficient         river   \n",
       "1288   pay when scheme fails         salty        enough  shallow well   \n",
       "\n",
       "      source_class     waterpoint_type region_code district_code  \n",
       "id                                                                \n",
       "454    groundwater  communal standpipe          21             1  \n",
       "510    groundwater           hand pump           1             6  \n",
       "14146  groundwater               other          12             6  \n",
       "47410      surface  communal standpipe          12             7  \n",
       "1288   groundwater               other           5             1  \n",
       "\n",
       "[5 rows x 23 columns]"
      ]
     },
     "execution_count": 42,
     "metadata": {},
     "output_type": "execute_result"
    }
   ],
   "source": [
    "pumps_cat.head()"
   ]
  },
  {
   "cell_type": "code",
   "execution_count": 43,
   "metadata": {},
   "outputs": [],
   "source": [
    "pumps_cat[['region_code', 'district_code']] = pumps_cat[['region_code', 'district_code']].astype('str')"
   ]
  },
  {
   "cell_type": "code",
   "execution_count": 44,
   "metadata": {},
   "outputs": [
    {
     "name": "stdout",
     "output_type": "stream",
     "text": [
      "<class 'pandas.core.frame.DataFrame'>\n",
      "Int64Index: 47520 entries, 454 to 23812\n",
      "Data columns (total 23 columns):\n",
      "funder               47520 non-null object\n",
      "installer            47520 non-null object\n",
      "wpt_name             47520 non-null object\n",
      "basin                47520 non-null object\n",
      "subvillage           47520 non-null object\n",
      "region               47520 non-null object\n",
      "lga                  47520 non-null object\n",
      "ward                 47520 non-null object\n",
      "public_meeting       47520 non-null object\n",
      "scheme_management    47520 non-null object\n",
      "scheme_name          47520 non-null object\n",
      "permit               47520 non-null object\n",
      "extraction_type      47520 non-null object\n",
      "management           47520 non-null object\n",
      "management_group     47520 non-null object\n",
      "payment              47520 non-null object\n",
      "water_quality        47520 non-null object\n",
      "quantity             47520 non-null object\n",
      "source               47520 non-null object\n",
      "source_class         47520 non-null object\n",
      "waterpoint_type      47520 non-null object\n",
      "region_code          47520 non-null object\n",
      "district_code        47520 non-null object\n",
      "dtypes: object(23)\n",
      "memory usage: 8.7+ MB\n"
     ]
    }
   ],
   "source": [
    "pumps_cat.info()"
   ]
  },
  {
   "cell_type": "code",
   "execution_count": 45,
   "metadata": {},
   "outputs": [
    {
     "data": {
      "text/plain": [
       "funder                1699\n",
       "installer             1924\n",
       "wpt_name             30742\n",
       "basin                    9\n",
       "subvillage           17233\n",
       "region                  21\n",
       "lga                    125\n",
       "ward                  2076\n",
       "public_meeting           3\n",
       "scheme_management       13\n",
       "scheme_name           2542\n",
       "permit                   3\n",
       "extraction_type         18\n",
       "management              12\n",
       "management_group         5\n",
       "payment                  7\n",
       "water_quality            8\n",
       "quantity                 5\n",
       "source                  10\n",
       "source_class             3\n",
       "waterpoint_type          7\n",
       "region_code             27\n",
       "district_code           20\n",
       "dtype: int64"
      ]
     },
     "execution_count": 45,
     "metadata": {},
     "output_type": "execute_result"
    }
   ],
   "source": [
    "pumps_cat.nunique()"
   ]
  },
  {
   "cell_type": "code",
   "execution_count": 46,
   "metadata": {},
   "outputs": [],
   "source": [
    "cat_copy = pumps_cat[['extraction_type', 'payment', 'quantity', 'waterpoint_type', 'source_class']]"
   ]
  },
  {
   "cell_type": "code",
   "execution_count": 47,
   "metadata": {},
   "outputs": [],
   "source": [
    "ohe = OneHotEncoder(handle_unknown='ignore', sparse=False)\n",
    "cats_ohe = ohe.fit_transform(cat_copy)"
   ]
  },
  {
   "cell_type": "code",
   "execution_count": 48,
   "metadata": {},
   "outputs": [
    {
     "data": {
      "text/plain": [
       "(47520, 40)"
      ]
     },
     "execution_count": 48,
     "metadata": {},
     "output_type": "execute_result"
    }
   ],
   "source": [
    "cats_ohe.shape"
   ]
  },
  {
   "cell_type": "code",
   "execution_count": 49,
   "metadata": {},
   "outputs": [],
   "source": [
    "#Get column names\n",
    "column_names_cat = []\n",
    "for col in ohe.categories_:\n",
    "    for sub_cat in col:\n",
    "        column_names_cat.append(sub_cat)\n",
    "    "
   ]
  },
  {
   "cell_type": "code",
   "execution_count": 50,
   "metadata": {},
   "outputs": [
    {
     "data": {
      "text/plain": [
       "40"
      ]
     },
     "execution_count": 50,
     "metadata": {},
     "output_type": "execute_result"
    }
   ],
   "source": [
    "len(column_names_cat)"
   ]
  },
  {
   "cell_type": "code",
   "execution_count": 51,
   "metadata": {},
   "outputs": [],
   "source": [
    "cats_ohe_df = pd.DataFrame(cats_ohe, columns = column_names_cat)"
   ]
  },
  {
   "cell_type": "code",
   "execution_count": 52,
   "metadata": {},
   "outputs": [
    {
     "data": {
      "text/html": [
       "<div>\n",
       "<style scoped>\n",
       "    .dataframe tbody tr th:only-of-type {\n",
       "        vertical-align: middle;\n",
       "    }\n",
       "\n",
       "    .dataframe tbody tr th {\n",
       "        vertical-align: top;\n",
       "    }\n",
       "\n",
       "    .dataframe thead th {\n",
       "        text-align: right;\n",
       "    }\n",
       "</style>\n",
       "<table border=\"1\" class=\"dataframe\">\n",
       "  <thead>\n",
       "    <tr style=\"text-align: right;\">\n",
       "      <th></th>\n",
       "      <th>afridev</th>\n",
       "      <th>cemo</th>\n",
       "      <th>climax</th>\n",
       "      <th>gravity</th>\n",
       "      <th>india mark ii</th>\n",
       "      <th>india mark iii</th>\n",
       "      <th>ksb</th>\n",
       "      <th>mono</th>\n",
       "      <th>nira/tanira</th>\n",
       "      <th>other</th>\n",
       "      <th>...</th>\n",
       "      <th>cattle trough</th>\n",
       "      <th>communal standpipe</th>\n",
       "      <th>communal standpipe multiple</th>\n",
       "      <th>dam</th>\n",
       "      <th>hand pump</th>\n",
       "      <th>improved spring</th>\n",
       "      <th>other</th>\n",
       "      <th>groundwater</th>\n",
       "      <th>surface</th>\n",
       "      <th>unknown</th>\n",
       "    </tr>\n",
       "  </thead>\n",
       "  <tbody>\n",
       "    <tr>\n",
       "      <th>0</th>\n",
       "      <td>0.0</td>\n",
       "      <td>0.0</td>\n",
       "      <td>0.0</td>\n",
       "      <td>1.0</td>\n",
       "      <td>0.0</td>\n",
       "      <td>0.0</td>\n",
       "      <td>0.0</td>\n",
       "      <td>0.0</td>\n",
       "      <td>0.0</td>\n",
       "      <td>0.0</td>\n",
       "      <td>...</td>\n",
       "      <td>0.0</td>\n",
       "      <td>1.0</td>\n",
       "      <td>0.0</td>\n",
       "      <td>0.0</td>\n",
       "      <td>0.0</td>\n",
       "      <td>0.0</td>\n",
       "      <td>0.0</td>\n",
       "      <td>1.0</td>\n",
       "      <td>0.0</td>\n",
       "      <td>0.0</td>\n",
       "    </tr>\n",
       "    <tr>\n",
       "      <th>1</th>\n",
       "      <td>0.0</td>\n",
       "      <td>0.0</td>\n",
       "      <td>0.0</td>\n",
       "      <td>0.0</td>\n",
       "      <td>1.0</td>\n",
       "      <td>0.0</td>\n",
       "      <td>0.0</td>\n",
       "      <td>0.0</td>\n",
       "      <td>0.0</td>\n",
       "      <td>0.0</td>\n",
       "      <td>...</td>\n",
       "      <td>0.0</td>\n",
       "      <td>0.0</td>\n",
       "      <td>0.0</td>\n",
       "      <td>0.0</td>\n",
       "      <td>1.0</td>\n",
       "      <td>0.0</td>\n",
       "      <td>0.0</td>\n",
       "      <td>1.0</td>\n",
       "      <td>0.0</td>\n",
       "      <td>0.0</td>\n",
       "    </tr>\n",
       "    <tr>\n",
       "      <th>2</th>\n",
       "      <td>0.0</td>\n",
       "      <td>0.0</td>\n",
       "      <td>0.0</td>\n",
       "      <td>0.0</td>\n",
       "      <td>0.0</td>\n",
       "      <td>0.0</td>\n",
       "      <td>0.0</td>\n",
       "      <td>0.0</td>\n",
       "      <td>0.0</td>\n",
       "      <td>1.0</td>\n",
       "      <td>...</td>\n",
       "      <td>0.0</td>\n",
       "      <td>0.0</td>\n",
       "      <td>0.0</td>\n",
       "      <td>0.0</td>\n",
       "      <td>0.0</td>\n",
       "      <td>0.0</td>\n",
       "      <td>1.0</td>\n",
       "      <td>1.0</td>\n",
       "      <td>0.0</td>\n",
       "      <td>0.0</td>\n",
       "    </tr>\n",
       "    <tr>\n",
       "      <th>3</th>\n",
       "      <td>0.0</td>\n",
       "      <td>0.0</td>\n",
       "      <td>0.0</td>\n",
       "      <td>1.0</td>\n",
       "      <td>0.0</td>\n",
       "      <td>0.0</td>\n",
       "      <td>0.0</td>\n",
       "      <td>0.0</td>\n",
       "      <td>0.0</td>\n",
       "      <td>0.0</td>\n",
       "      <td>...</td>\n",
       "      <td>0.0</td>\n",
       "      <td>1.0</td>\n",
       "      <td>0.0</td>\n",
       "      <td>0.0</td>\n",
       "      <td>0.0</td>\n",
       "      <td>0.0</td>\n",
       "      <td>0.0</td>\n",
       "      <td>0.0</td>\n",
       "      <td>1.0</td>\n",
       "      <td>0.0</td>\n",
       "    </tr>\n",
       "    <tr>\n",
       "      <th>4</th>\n",
       "      <td>0.0</td>\n",
       "      <td>0.0</td>\n",
       "      <td>0.0</td>\n",
       "      <td>0.0</td>\n",
       "      <td>0.0</td>\n",
       "      <td>0.0</td>\n",
       "      <td>0.0</td>\n",
       "      <td>0.0</td>\n",
       "      <td>0.0</td>\n",
       "      <td>1.0</td>\n",
       "      <td>...</td>\n",
       "      <td>0.0</td>\n",
       "      <td>0.0</td>\n",
       "      <td>0.0</td>\n",
       "      <td>0.0</td>\n",
       "      <td>0.0</td>\n",
       "      <td>0.0</td>\n",
       "      <td>1.0</td>\n",
       "      <td>1.0</td>\n",
       "      <td>0.0</td>\n",
       "      <td>0.0</td>\n",
       "    </tr>\n",
       "  </tbody>\n",
       "</table>\n",
       "<p>5 rows × 40 columns</p>\n",
       "</div>"
      ],
      "text/plain": [
       "   afridev  cemo  climax  gravity  india mark ii  india mark iii  ksb  mono  \\\n",
       "0      0.0   0.0     0.0      1.0            0.0             0.0  0.0   0.0   \n",
       "1      0.0   0.0     0.0      0.0            1.0             0.0  0.0   0.0   \n",
       "2      0.0   0.0     0.0      0.0            0.0             0.0  0.0   0.0   \n",
       "3      0.0   0.0     0.0      1.0            0.0             0.0  0.0   0.0   \n",
       "4      0.0   0.0     0.0      0.0            0.0             0.0  0.0   0.0   \n",
       "\n",
       "   nira/tanira  other  ...  cattle trough  communal standpipe  \\\n",
       "0          0.0    0.0  ...            0.0                 1.0   \n",
       "1          0.0    0.0  ...            0.0                 0.0   \n",
       "2          0.0    1.0  ...            0.0                 0.0   \n",
       "3          0.0    0.0  ...            0.0                 1.0   \n",
       "4          0.0    1.0  ...            0.0                 0.0   \n",
       "\n",
       "   communal standpipe multiple  dam  hand pump  improved spring  other  \\\n",
       "0                          0.0  0.0        0.0              0.0    0.0   \n",
       "1                          0.0  0.0        1.0              0.0    0.0   \n",
       "2                          0.0  0.0        0.0              0.0    1.0   \n",
       "3                          0.0  0.0        0.0              0.0    0.0   \n",
       "4                          0.0  0.0        0.0              0.0    1.0   \n",
       "\n",
       "   groundwater  surface  unknown  \n",
       "0          1.0      0.0      0.0  \n",
       "1          1.0      0.0      0.0  \n",
       "2          1.0      0.0      0.0  \n",
       "3          0.0      1.0      0.0  \n",
       "4          1.0      0.0      0.0  \n",
       "\n",
       "[5 rows x 40 columns]"
      ]
     },
     "execution_count": 52,
     "metadata": {},
     "output_type": "execute_result"
    }
   ],
   "source": [
    "cats_ohe_df.head()"
   ]
  },
  {
   "cell_type": "markdown",
   "metadata": {},
   "source": [
    "### Final DF"
   ]
  },
  {
   "cell_type": "code",
   "execution_count": 82,
   "metadata": {},
   "outputs": [],
   "source": [
    "pumps_final = pd.concat([cats_ohe_df, nums_scaled], axis = 1)"
   ]
  },
  {
   "cell_type": "code",
   "execution_count": 83,
   "metadata": {},
   "outputs": [
    {
     "data": {
      "text/html": [
       "<div>\n",
       "<style scoped>\n",
       "    .dataframe tbody tr th:only-of-type {\n",
       "        vertical-align: middle;\n",
       "    }\n",
       "\n",
       "    .dataframe tbody tr th {\n",
       "        vertical-align: top;\n",
       "    }\n",
       "\n",
       "    .dataframe thead th {\n",
       "        text-align: right;\n",
       "    }\n",
       "</style>\n",
       "<table border=\"1\" class=\"dataframe\">\n",
       "  <thead>\n",
       "    <tr style=\"text-align: right;\">\n",
       "      <th></th>\n",
       "      <th>afridev</th>\n",
       "      <th>cemo</th>\n",
       "      <th>climax</th>\n",
       "      <th>gravity</th>\n",
       "      <th>india mark ii</th>\n",
       "      <th>india mark iii</th>\n",
       "      <th>ksb</th>\n",
       "      <th>mono</th>\n",
       "      <th>nira/tanira</th>\n",
       "      <th>other</th>\n",
       "      <th>...</th>\n",
       "      <th>improved spring</th>\n",
       "      <th>other</th>\n",
       "      <th>groundwater</th>\n",
       "      <th>surface</th>\n",
       "      <th>unknown</th>\n",
       "      <th>amount_tsh</th>\n",
       "      <th>age</th>\n",
       "      <th>construction_year_imp</th>\n",
       "      <th>population</th>\n",
       "      <th>gps_height</th>\n",
       "    </tr>\n",
       "  </thead>\n",
       "  <tbody>\n",
       "    <tr>\n",
       "      <th>0</th>\n",
       "      <td>0.0</td>\n",
       "      <td>0.0</td>\n",
       "      <td>0.0</td>\n",
       "      <td>1.0</td>\n",
       "      <td>0.0</td>\n",
       "      <td>0.0</td>\n",
       "      <td>0.0</td>\n",
       "      <td>0.0</td>\n",
       "      <td>0.0</td>\n",
       "      <td>0.0</td>\n",
       "      <td>...</td>\n",
       "      <td>0.0</td>\n",
       "      <td>0.0</td>\n",
       "      <td>1.0</td>\n",
       "      <td>0.0</td>\n",
       "      <td>0.0</td>\n",
       "      <td>2.5</td>\n",
       "      <td>0.000000</td>\n",
       "      <td>0.250</td>\n",
       "      <td>0.633803</td>\n",
       "      <td>1.304545</td>\n",
       "    </tr>\n",
       "    <tr>\n",
       "      <th>1</th>\n",
       "      <td>0.0</td>\n",
       "      <td>0.0</td>\n",
       "      <td>0.0</td>\n",
       "      <td>0.0</td>\n",
       "      <td>1.0</td>\n",
       "      <td>0.0</td>\n",
       "      <td>0.0</td>\n",
       "      <td>0.0</td>\n",
       "      <td>0.0</td>\n",
       "      <td>0.0</td>\n",
       "      <td>...</td>\n",
       "      <td>0.0</td>\n",
       "      <td>0.0</td>\n",
       "      <td>1.0</td>\n",
       "      <td>0.0</td>\n",
       "      <td>0.0</td>\n",
       "      <td>0.0</td>\n",
       "      <td>0.000000</td>\n",
       "      <td>0.000</td>\n",
       "      <td>-0.117371</td>\n",
       "      <td>-0.280303</td>\n",
       "    </tr>\n",
       "    <tr>\n",
       "      <th>2</th>\n",
       "      <td>0.0</td>\n",
       "      <td>0.0</td>\n",
       "      <td>0.0</td>\n",
       "      <td>0.0</td>\n",
       "      <td>0.0</td>\n",
       "      <td>0.0</td>\n",
       "      <td>0.0</td>\n",
       "      <td>0.0</td>\n",
       "      <td>0.0</td>\n",
       "      <td>1.0</td>\n",
       "      <td>...</td>\n",
       "      <td>0.0</td>\n",
       "      <td>1.0</td>\n",
       "      <td>1.0</td>\n",
       "      <td>0.0</td>\n",
       "      <td>0.0</td>\n",
       "      <td>0.0</td>\n",
       "      <td>0.000000</td>\n",
       "      <td>0.000</td>\n",
       "      <td>-0.117371</td>\n",
       "      <td>-0.280303</td>\n",
       "    </tr>\n",
       "    <tr>\n",
       "      <th>3</th>\n",
       "      <td>0.0</td>\n",
       "      <td>0.0</td>\n",
       "      <td>0.0</td>\n",
       "      <td>1.0</td>\n",
       "      <td>0.0</td>\n",
       "      <td>0.0</td>\n",
       "      <td>0.0</td>\n",
       "      <td>0.0</td>\n",
       "      <td>0.0</td>\n",
       "      <td>0.0</td>\n",
       "      <td>...</td>\n",
       "      <td>0.0</td>\n",
       "      <td>0.0</td>\n",
       "      <td>0.0</td>\n",
       "      <td>1.0</td>\n",
       "      <td>0.0</td>\n",
       "      <td>0.0</td>\n",
       "      <td>0.000000</td>\n",
       "      <td>0.000</td>\n",
       "      <td>-0.117371</td>\n",
       "      <td>-0.280303</td>\n",
       "    </tr>\n",
       "    <tr>\n",
       "      <th>4</th>\n",
       "      <td>0.0</td>\n",
       "      <td>0.0</td>\n",
       "      <td>0.0</td>\n",
       "      <td>0.0</td>\n",
       "      <td>0.0</td>\n",
       "      <td>0.0</td>\n",
       "      <td>0.0</td>\n",
       "      <td>0.0</td>\n",
       "      <td>0.0</td>\n",
       "      <td>1.0</td>\n",
       "      <td>...</td>\n",
       "      <td>0.0</td>\n",
       "      <td>1.0</td>\n",
       "      <td>1.0</td>\n",
       "      <td>0.0</td>\n",
       "      <td>0.0</td>\n",
       "      <td>15.0</td>\n",
       "      <td>-0.111111</td>\n",
       "      <td>0.125</td>\n",
       "      <td>0.446009</td>\n",
       "      <td>0.494697</td>\n",
       "    </tr>\n",
       "  </tbody>\n",
       "</table>\n",
       "<p>5 rows × 45 columns</p>\n",
       "</div>"
      ],
      "text/plain": [
       "   afridev  cemo  climax  gravity  india mark ii  india mark iii  ksb  mono  \\\n",
       "0      0.0   0.0     0.0      1.0            0.0             0.0  0.0   0.0   \n",
       "1      0.0   0.0     0.0      0.0            1.0             0.0  0.0   0.0   \n",
       "2      0.0   0.0     0.0      0.0            0.0             0.0  0.0   0.0   \n",
       "3      0.0   0.0     0.0      1.0            0.0             0.0  0.0   0.0   \n",
       "4      0.0   0.0     0.0      0.0            0.0             0.0  0.0   0.0   \n",
       "\n",
       "   nira/tanira  other  ...  improved spring  other  groundwater  surface  \\\n",
       "0          0.0    0.0  ...              0.0    0.0          1.0      0.0   \n",
       "1          0.0    0.0  ...              0.0    0.0          1.0      0.0   \n",
       "2          0.0    1.0  ...              0.0    1.0          1.0      0.0   \n",
       "3          0.0    0.0  ...              0.0    0.0          0.0      1.0   \n",
       "4          0.0    1.0  ...              0.0    1.0          1.0      0.0   \n",
       "\n",
       "   unknown  amount_tsh       age  construction_year_imp  population  \\\n",
       "0      0.0         2.5  0.000000                  0.250    0.633803   \n",
       "1      0.0         0.0  0.000000                  0.000   -0.117371   \n",
       "2      0.0         0.0  0.000000                  0.000   -0.117371   \n",
       "3      0.0         0.0  0.000000                  0.000   -0.117371   \n",
       "4      0.0        15.0 -0.111111                  0.125    0.446009   \n",
       "\n",
       "   gps_height  \n",
       "0    1.304545  \n",
       "1   -0.280303  \n",
       "2   -0.280303  \n",
       "3   -0.280303  \n",
       "4    0.494697  \n",
       "\n",
       "[5 rows x 45 columns]"
      ]
     },
     "execution_count": 83,
     "metadata": {},
     "output_type": "execute_result"
    }
   ],
   "source": [
    "pumps_final.head()"
   ]
  },
  {
   "cell_type": "code",
   "execution_count": 84,
   "metadata": {},
   "outputs": [
    {
     "data": {
      "text/plain": [
       "functional                 25802\n",
       "non functional             18252\n",
       "functional needs repair     3466\n",
       "Name: status_group, dtype: int64"
      ]
     },
     "execution_count": 84,
     "metadata": {},
     "output_type": "execute_result"
    }
   ],
   "source": [
    "#Check if the target variables are balanced - ADDRESS this in the end but DO NOT Apply to TEST\n",
    "y_train['status_group'].value_counts()"
   ]
  },
  {
   "cell_type": "markdown",
   "metadata": {},
   "source": [
    "## LogReg"
   ]
  },
  {
   "cell_type": "code",
   "execution_count": 85,
   "metadata": {},
   "outputs": [],
   "source": [
    "logreg = LogisticRegression(random_state=42, max_iter=500, class_weight='balanced', solver = 'liblinear', multi_class='ovr')"
   ]
  },
  {
   "cell_type": "code",
   "execution_count": 86,
   "metadata": {},
   "outputs": [
    {
     "name": "stderr",
     "output_type": "stream",
     "text": [
      "/anaconda3/lib/python3.7/site-packages/sklearn/utils/validation.py:760: DataConversionWarning: A column-vector y was passed when a 1d array was expected. Please change the shape of y to (n_samples, ), for example using ravel().\n",
      "  y = column_or_1d(y, warn=True)\n"
     ]
    },
    {
     "data": {
      "text/plain": [
       "LogisticRegression(C=1.0, class_weight='balanced', dual=False,\n",
       "                   fit_intercept=True, intercept_scaling=1, l1_ratio=None,\n",
       "                   max_iter=500, multi_class='ovr', n_jobs=None, penalty='l2',\n",
       "                   random_state=42, solver='liblinear', tol=0.0001, verbose=0,\n",
       "                   warm_start=False)"
      ]
     },
     "execution_count": 86,
     "metadata": {},
     "output_type": "execute_result"
    }
   ],
   "source": [
    "logreg.fit(pumps_final, y_train)"
   ]
  },
  {
   "cell_type": "code",
   "execution_count": 87,
   "metadata": {},
   "outputs": [],
   "source": [
    "y_pred = logreg.predict(pumps_final)"
   ]
  },
  {
   "cell_type": "code",
   "execution_count": 88,
   "metadata": {},
   "outputs": [],
   "source": [
    "y_proba_pred = logreg.predict_proba(pumps_final)"
   ]
  },
  {
   "cell_type": "code",
   "execution_count": 89,
   "metadata": {},
   "outputs": [
    {
     "data": {
      "text/plain": [
       "0.7028409090909091"
      ]
     },
     "execution_count": 89,
     "metadata": {},
     "output_type": "execute_result"
    }
   ],
   "source": [
    "accuracy_score(y_train, y_pred)"
   ]
  },
  {
   "cell_type": "code",
   "execution_count": 90,
   "metadata": {},
   "outputs": [
    {
     "data": {
      "text/plain": [
       "<sklearn.metrics._plot.confusion_matrix.ConfusionMatrixDisplay at 0x1c34e86048>"
      ]
     },
     "execution_count": 90,
     "metadata": {},
     "output_type": "execute_result"
    },
    {
     "data": {
      "image/png": "[encoded data removed]",
      "text/plain": [
       "<Figure size 432x288 with 2 Axes>"
      ]
     },
     "metadata": {
      "needs_background": "light"
     },
     "output_type": "display_data"
    }
   ],
   "source": [
    "plot_confusion_matrix(logreg,pumps_final, y_train, normalize='pred')"
   ]
  },
  {
   "cell_type": "code",
   "execution_count": 91,
   "metadata": {},
   "outputs": [
    {
     "data": {
      "text/plain": [
       "0.7023872453491035"
      ]
     },
     "execution_count": 91,
     "metadata": {},
     "output_type": "execute_result"
    }
   ],
   "source": [
    "precision_score(y_train, y_pred, average='weighted')"
   ]
  },
  {
   "cell_type": "code",
   "execution_count": 92,
   "metadata": {},
   "outputs": [
    {
     "data": {
      "text/plain": [
       "0.7028409090909091"
      ]
     },
     "execution_count": 92,
     "metadata": {},
     "output_type": "execute_result"
    }
   ],
   "source": [
    "recall_score(y_train, y_pred, average='weighted')"
   ]
  },
  {
   "cell_type": "code",
   "execution_count": 93,
   "metadata": {},
   "outputs": [
    {
     "data": {
      "text/plain": [
       "0.6943763181410805"
      ]
     },
     "execution_count": 93,
     "metadata": {},
     "output_type": "execute_result"
    }
   ],
   "source": [
    "f1_score(y_train, y_pred, average='weighted')"
   ]
  },
  {
   "cell_type": "markdown",
   "metadata": {},
   "source": [
    "### Random Forest"
   ]
  },
  {
   "cell_type": "code",
   "execution_count": 94,
   "metadata": {},
   "outputs": [],
   "source": [
    "rf = RandomForestClassifier(class_weight='balanced')\n",
    "\n",
    "# Parameter Grid \n",
    "\n",
    "param_grid = {\n",
    "    'max_depth': [1, 5, 8, 32],#, 8, 32, 128, None],\n",
    "    'n_estimators': [10, 100, 1000]#, 100, 1000, 1000]\n",
    "}"
   ]
  },
  {
   "cell_type": "code",
   "execution_count": 95,
   "metadata": {},
   "outputs": [
    {
     "name": "stderr",
     "output_type": "stream",
     "text": [
      "/anaconda3/lib/python3.7/site-packages/sklearn/model_selection/_search.py:739: DataConversionWarning: A column-vector y was passed when a 1d array was expected. Please change the shape of y to (n_samples,), for example using ravel().\n",
      "  self.best_estimator_.fit(X, y, **fit_params)\n"
     ]
    },
    {
     "name": "stdout",
     "output_type": "stream",
     "text": [
      "Performing Random Forest...\n"
     ]
    }
   ],
   "source": [
    "cv = GridSearchCV(rf, param_grid, \n",
    "                  cv=5, n_jobs=4)\n",
    "\n",
    "cv.fit(pumps_final, y_train)\n",
    "print('Performing Random Forest...')\n",
    "\n",
    "res = pd.DataFrame(cv.cv_results_)"
   ]
  },
  {
   "cell_type": "code",
   "execution_count": 96,
   "metadata": {},
   "outputs": [],
   "source": [
    "params = res.sort_values(by='rank_test_score').iloc[0]['params']"
   ]
  },
  {
   "cell_type": "code",
   "execution_count": 97,
   "metadata": {},
   "outputs": [],
   "source": [
    "rf_cv = RandomForestClassifier(max_depth = params['max_depth'], n_estimators=params['n_estimators'], class_weight='balanced')"
   ]
  },
  {
   "cell_type": "code",
   "execution_count": 98,
   "metadata": {},
   "outputs": [
    {
     "name": "stderr",
     "output_type": "stream",
     "text": [
      "/anaconda3/lib/python3.7/site-packages/ipykernel_launcher.py:1: DataConversionWarning: A column-vector y was passed when a 1d array was expected. Please change the shape of y to (n_samples,), for example using ravel().\n",
      "  \"\"\"Entry point for launching an IPython kernel.\n"
     ]
    },
    {
     "data": {
      "text/plain": [
       "RandomForestClassifier(bootstrap=True, ccp_alpha=0.0, class_weight='balanced',\n",
       "                       criterion='gini', max_depth=32, max_features='auto',\n",
       "                       max_leaf_nodes=None, max_samples=None,\n",
       "                       min_impurity_decrease=0.0, min_impurity_split=None,\n",
       "                       min_samples_leaf=1, min_samples_split=2,\n",
       "                       min_weight_fraction_leaf=0.0, n_estimators=1000,\n",
       "                       n_jobs=None, oob_score=False, random_state=None,\n",
       "                       verbose=0, warm_start=False)"
      ]
     },
     "execution_count": 98,
     "metadata": {},
     "output_type": "execute_result"
    }
   ],
   "source": [
    "rf_cv.fit(pumps_final, y_train)"
   ]
  },
  {
   "cell_type": "code",
   "execution_count": 99,
   "metadata": {},
   "outputs": [],
   "source": [
    "y_pred_rf = rf_cv.predict(pumps_final)"
   ]
  },
  {
   "cell_type": "code",
   "execution_count": 100,
   "metadata": {},
   "outputs": [],
   "source": [
    "y_pred_rf_proba = rf_cv.predict_proba(pumps_final)"
   ]
  },
  {
   "cell_type": "code",
   "execution_count": 101,
   "metadata": {},
   "outputs": [
    {
     "data": {
      "text/plain": [
       "0.8763888888888889"
      ]
     },
     "execution_count": 101,
     "metadata": {},
     "output_type": "execute_result"
    }
   ],
   "source": [
    "accuracy_score(y_train, y_pred_rf)"
   ]
  },
  {
   "cell_type": "code",
   "execution_count": 102,
   "metadata": {},
   "outputs": [
    {
     "data": {
      "text/plain": [
       "<sklearn.metrics._plot.confusion_matrix.ConfusionMatrixDisplay at 0x1c3471bf98>"
      ]
     },
     "execution_count": 102,
     "metadata": {},
     "output_type": "execute_result"
    },
    {
     "data": {
      "image/png": "[encoded data removed]",
      "text/plain": [
       "<Figure size 432x288 with 2 Axes>"
      ]
     },
     "metadata": {
      "needs_background": "light"
     },
     "output_type": "display_data"
    }
   ],
   "source": [
    "plot_confusion_matrix(rf_cv,pumps_final, y_train, normalize='pred')"
   ]
  },
  {
   "cell_type": "code",
   "execution_count": 103,
   "metadata": {},
   "outputs": [
    {
     "data": {
      "text/plain": [
       "0.9134991971016673"
      ]
     },
     "execution_count": 103,
     "metadata": {},
     "output_type": "execute_result"
    }
   ],
   "source": [
    "precision_score(y_train, y_pred_rf, average='weighted')"
   ]
  },
  {
   "cell_type": "code",
   "execution_count": 104,
   "metadata": {},
   "outputs": [
    {
     "data": {
      "text/plain": [
       "0.8763888888888889"
      ]
     },
     "execution_count": 104,
     "metadata": {},
     "output_type": "execute_result"
    }
   ],
   "source": [
    "recall_score(y_train, y_pred_rf, average='weighted')"
   ]
  },
  {
   "cell_type": "code",
   "execution_count": 105,
   "metadata": {},
   "outputs": [
    {
     "name": "stdout",
     "output_type": "stream",
     "text": [
      "Precision is:  0.9134991971016673\n",
      "Recall is:  0.8763888888888889\n",
      "f1 score is:  0.8878588395704085\n"
     ]
    }
   ],
   "source": [
    "print('Precision is: ', precision_score(y_train, y_pred_rf, average='weighted'))\n",
    "print('Recall is: ', recall_score(y_train, y_pred_rf, average='weighted'))\n",
    "print('f1 score is: ', f1_score(y_train, y_pred_rf, average='weighted'))\n"
   ]
  },
  {
   "cell_type": "markdown",
   "metadata": {},
   "source": [
    "## XGboost "
   ]
  },
  {
   "cell_type": "code",
   "execution_count": 124,
   "metadata": {},
   "outputs": [],
   "source": [
    "xgb = XGBClassifier(max_depth = 32, random_state = 42  )\n"
   ]
  },
  {
   "cell_type": "code",
   "execution_count": 121,
   "metadata": {},
   "outputs": [],
   "source": [
    "cols=pd.Series(pumps_final.columns)\n",
    "\n",
    "for dup in cols[cols.duplicated()].unique(): \n",
    "    cols[cols[cols == dup].index.values.tolist()] = [dup + '.' + str(i) if i != 0 else dup for i in range(sum(cols == dup))]\n",
    "\n",
    "# rename the columns with the cols list.\n",
    "pumps_final.columns=cols\n"
   ]
  },
  {
   "cell_type": "code",
   "execution_count": 122,
   "metadata": {},
   "outputs": [
    {
     "data": {
      "text/plain": [
       "Index(['afridev', 'cemo', 'climax', 'gravity', 'india mark ii',\n",
       "       'india mark iii', 'ksb', 'mono', 'nira/tanira', 'other_0',\n",
       "       'other - mkulima/shinyanga', 'other - play pump', 'other - rope pump',\n",
       "       'other - swn 81', 'submersible', 'swn 80', 'walimi', 'windmill',\n",
       "       'never pay', 'other', 'pay annually', 'pay monthly', 'pay per bucket',\n",
       "       'pay when scheme fails', 'unknown', 'dry', 'enough', 'insufficient',\n",
       "       'seasonal', 'unknown.1', 'cattle trough', 'communal standpipe',\n",
       "       'communal standpipe multiple', 'dam', 'hand pump', 'improved spring',\n",
       "       'other.1', 'groundwater', 'surface', 'unknown.2', 'amount_tsh', 'age',\n",
       "       'construction_year_imp', 'population', 'gps_height'],\n",
       "      dtype='object')"
      ]
     },
     "execution_count": 122,
     "metadata": {},
     "output_type": "execute_result"
    }
   ],
   "source": [
    "pumps_final.columns"
   ]
  },
  {
   "cell_type": "code",
   "execution_count": 125,
   "metadata": {},
   "outputs": [
    {
     "name": "stderr",
     "output_type": "stream",
     "text": [
      "/anaconda3/lib/python3.7/site-packages/sklearn/preprocessing/_label.py:235: DataConversionWarning: A column-vector y was passed when a 1d array was expected. Please change the shape of y to (n_samples, ), for example using ravel().\n",
      "  y = column_or_1d(y, warn=True)\n",
      "/anaconda3/lib/python3.7/site-packages/sklearn/preprocessing/_label.py:268: DataConversionWarning: A column-vector y was passed when a 1d array was expected. Please change the shape of y to (n_samples, ), for example using ravel().\n",
      "  y = column_or_1d(y, warn=True)\n"
     ]
    },
    {
     "name": "stdout",
     "output_type": "stream",
     "text": [
      "accuracy on training set: 0.916330\n"
     ]
    }
   ],
   "source": [
    "xgb.fit(pumps_final, y_train)\n",
    "print(\"accuracy on training set: %f\" % xgb.score(pumps_final, y_train, sample_weight=))\n"
   ]
  },
  {
   "cell_type": "code",
   "execution_count": 126,
   "metadata": {},
   "outputs": [],
   "source": [
    "y_pred_xgb = xgb.predict(pumps_final)"
   ]
  },
  {
   "cell_type": "code",
   "execution_count": 127,
   "metadata": {},
   "outputs": [
    {
     "name": "stdout",
     "output_type": "stream",
     "text": [
      "Precision is:  0.9182611161186517\n",
      "Recall is:  0.9163299663299663\n",
      "f1 score is:  0.9146577220846488\n"
     ]
    }
   ],
   "source": [
    "print('Precision is: ', precision_score(y_train, y_pred_xgb, average='weighted'))\n",
    "print('Recall is: ', recall_score(y_train, y_pred_xgb, average='weighted'))\n",
    "print('f1 score is: ', f1_score(y_train, y_pred_xgb, average='weighted'))\n"
   ]
  },
  {
   "cell_type": "code",
   "execution_count": 128,
   "metadata": {},
   "outputs": [
    {
     "data": {
      "text/plain": [
       "<sklearn.metrics._plot.confusion_matrix.ConfusionMatrixDisplay at 0x1c34da2d30>"
      ]
     },
     "execution_count": 128,
     "metadata": {},
     "output_type": "execute_result"
    },
    {
     "data": {
      "image/png": "[encoded data removed]",
      "text/plain": [
       "<Figure size 432x288 with 2 Axes>"
      ]
     },
     "metadata": {
      "needs_background": "light"
     },
     "output_type": "display_data"
    }
   ],
   "source": [
    "plot_confusion_matrix(xgb,pumps_final, y_train, normalize='pred')"
   ]
  },
  {
   "cell_type": "code",
   "execution_count": null,
   "metadata": {},
   "outputs": [],
   "source": []
  }
 ],
 "metadata": {
  "kernelspec": {
   "display_name": "Python 3",
   "language": "python",
   "name": "python3"
  },
  "language_info": {
   "codemirror_mode": {
    "name": "ipython",
    "version": 3
   },
   "file_extension": ".py",
   "mimetype": "text/x-python",
   "name": "python",
   "nbconvert_exporter": "python",
   "pygments_lexer": "ipython3",
   "version": "3.7.3"
  }
 },
 "nbformat": 4,
 "nbformat_minor": 2
}
