{
 "cells": [
  {
   "cell_type": "code",
   "execution_count": 16,
   "metadata": {},
   "outputs": [],
   "source": [
    "import pandas as pd\n",
    "import seaborn as sns\n",
    "from matplotlib import pyplot as plt\n",
    "from sklearn.linear_model import LinearRegression\n",
    "from sklearn.metrics import mean_squared_error"
   ]
  },
  {
   "cell_type": "code",
   "execution_count": 17,
   "metadata": {},
   "outputs": [],
   "source": [
    "df_train = pd.read_csv('./train.csv')"
   ]
  },
  {
   "cell_type": "code",
   "execution_count": 18,
   "metadata": {},
   "outputs": [],
   "source": [
    "#Extend the df by splitting the datetime into new categories\n",
    "df_train['year'] = df_train.datetime.apply(lambda x: x.split()[0].split('-')[0]).astype(str).astype(int)\n",
    "df_train['month'] = df_train.datetime.apply(lambda x: x.split()[0].split('-')[1]).astype(str).astype(int)\n",
    "df_train['day'] = df_train.datetime.apply(lambda x: x.split()[0].split('-')[2]).astype(str).astype(int)\n",
    "df_train['hour'] = df_train.datetime.apply(lambda x : x.split()[1].split(\":\")[0]).astype(str).astype(int)\n",
    "\n",
    "#Infer Day Name\n",
    "sr = pd.to_datetime(df_train['datetime']) \n",
    "df_train['Day_name'] = sr.dt.day_name()\n",
    "\n",
    "#Season List \n",
    "season_dict = {1: 'Spring', 2: 'Summer', 3: 'Fall', 4: 'Winter'}\n",
    "df_train['Season_Exp'] = df_train['season'].map(season_dict)\n",
    "\n",
    "#Weather List\n",
    "weather_dict = {1:'clear' , 2:'mist' , 3:'light_precip' , 4: 'heavy_precip' }\n",
    "df_train['Weather_Exp'] = df_train['weather'].map(weather_dict)\n",
    "\n",
    "#Season Reconvert\n",
    "new_season = {'Spring': 0, 'Winter': 1, 'Summer': 2, 'Fall': 3}\n",
    "df_train['Season_Reconvert'] = df_train['Season_Exp'].map(new_season)\n",
    "\n",
    "#Day Reconvert\n",
    "day_new = {'Sunday': 0, 'Tuesday': 1, 'Wednesday': 2, 'Monday': 3, 'Friday': 4, 'Thursday': 5, 'Saturday': 6}\n",
    "df_train['Day_Reconvert'] = df_train['Day_name'].map(day_new)\n",
    "\n",
    "#Hour Binning\n",
    "hour_range = range(0,24)\n",
    "bins = ['Night']*6 + ['Morning']*4 + ['Day']*7 + ['Evening']*7\n",
    "hour_new = dict(zip(hour_range, bins))\n",
    "df_train['Hour_binned'] = df_train['hour'].map(hour_new)\n",
    "\n",
    "#Hour_Dict_Factorization_Low Level\n",
    "factor_hour = {'Night': 0, 'Morning':1, 'Day': 2, 'Evening': 3}\n",
    "df_train['Hour_Reconvert'] = df_train['Hour_binned'].map(factor_hour)\n"
   ]
  },
  {
   "cell_type": "code",
   "execution_count": 19,
   "metadata": {},
   "outputs": [
    {
     "data": {
      "text/html": [
       "<div>\n",
       "<style scoped>\n",
       "    .dataframe tbody tr th:only-of-type {\n",
       "        vertical-align: middle;\n",
       "    }\n",
       "\n",
       "    .dataframe tbody tr th {\n",
       "        vertical-align: top;\n",
       "    }\n",
       "\n",
       "    .dataframe thead th {\n",
       "        text-align: right;\n",
       "    }\n",
       "</style>\n",
       "<table border=\"1\" class=\"dataframe\">\n",
       "  <thead>\n",
       "    <tr style=\"text-align: right;\">\n",
       "      <th></th>\n",
       "      <th>datetime</th>\n",
       "      <th>season</th>\n",
       "      <th>holiday</th>\n",
       "      <th>workingday</th>\n",
       "      <th>weather</th>\n",
       "      <th>temp</th>\n",
       "      <th>atemp</th>\n",
       "      <th>humidity</th>\n",
       "      <th>windspeed</th>\n",
       "      <th>casual</th>\n",
       "      <th>...</th>\n",
       "      <th>month</th>\n",
       "      <th>day</th>\n",
       "      <th>hour</th>\n",
       "      <th>Day_name</th>\n",
       "      <th>Season_Exp</th>\n",
       "      <th>Weather_Exp</th>\n",
       "      <th>Season_Reconvert</th>\n",
       "      <th>Day_Reconvert</th>\n",
       "      <th>Hour_binned</th>\n",
       "      <th>Hour_Reconvert</th>\n",
       "    </tr>\n",
       "  </thead>\n",
       "  <tbody>\n",
       "    <tr>\n",
       "      <th>0</th>\n",
       "      <td>2011-01-01 00:00:00</td>\n",
       "      <td>1</td>\n",
       "      <td>0</td>\n",
       "      <td>0</td>\n",
       "      <td>1</td>\n",
       "      <td>9.84</td>\n",
       "      <td>14.395</td>\n",
       "      <td>81</td>\n",
       "      <td>0.0</td>\n",
       "      <td>3</td>\n",
       "      <td>...</td>\n",
       "      <td>1</td>\n",
       "      <td>1</td>\n",
       "      <td>0</td>\n",
       "      <td>Saturday</td>\n",
       "      <td>Spring</td>\n",
       "      <td>clear</td>\n",
       "      <td>0</td>\n",
       "      <td>6</td>\n",
       "      <td>Night</td>\n",
       "      <td>0</td>\n",
       "    </tr>\n",
       "    <tr>\n",
       "      <th>1</th>\n",
       "      <td>2011-01-01 01:00:00</td>\n",
       "      <td>1</td>\n",
       "      <td>0</td>\n",
       "      <td>0</td>\n",
       "      <td>1</td>\n",
       "      <td>9.02</td>\n",
       "      <td>13.635</td>\n",
       "      <td>80</td>\n",
       "      <td>0.0</td>\n",
       "      <td>8</td>\n",
       "      <td>...</td>\n",
       "      <td>1</td>\n",
       "      <td>1</td>\n",
       "      <td>1</td>\n",
       "      <td>Saturday</td>\n",
       "      <td>Spring</td>\n",
       "      <td>clear</td>\n",
       "      <td>0</td>\n",
       "      <td>6</td>\n",
       "      <td>Night</td>\n",
       "      <td>0</td>\n",
       "    </tr>\n",
       "    <tr>\n",
       "      <th>2</th>\n",
       "      <td>2011-01-01 02:00:00</td>\n",
       "      <td>1</td>\n",
       "      <td>0</td>\n",
       "      <td>0</td>\n",
       "      <td>1</td>\n",
       "      <td>9.02</td>\n",
       "      <td>13.635</td>\n",
       "      <td>80</td>\n",
       "      <td>0.0</td>\n",
       "      <td>5</td>\n",
       "      <td>...</td>\n",
       "      <td>1</td>\n",
       "      <td>1</td>\n",
       "      <td>2</td>\n",
       "      <td>Saturday</td>\n",
       "      <td>Spring</td>\n",
       "      <td>clear</td>\n",
       "      <td>0</td>\n",
       "      <td>6</td>\n",
       "      <td>Night</td>\n",
       "      <td>0</td>\n",
       "    </tr>\n",
       "    <tr>\n",
       "      <th>3</th>\n",
       "      <td>2011-01-01 03:00:00</td>\n",
       "      <td>1</td>\n",
       "      <td>0</td>\n",
       "      <td>0</td>\n",
       "      <td>1</td>\n",
       "      <td>9.84</td>\n",
       "      <td>14.395</td>\n",
       "      <td>75</td>\n",
       "      <td>0.0</td>\n",
       "      <td>3</td>\n",
       "      <td>...</td>\n",
       "      <td>1</td>\n",
       "      <td>1</td>\n",
       "      <td>3</td>\n",
       "      <td>Saturday</td>\n",
       "      <td>Spring</td>\n",
       "      <td>clear</td>\n",
       "      <td>0</td>\n",
       "      <td>6</td>\n",
       "      <td>Night</td>\n",
       "      <td>0</td>\n",
       "    </tr>\n",
       "    <tr>\n",
       "      <th>4</th>\n",
       "      <td>2011-01-01 04:00:00</td>\n",
       "      <td>1</td>\n",
       "      <td>0</td>\n",
       "      <td>0</td>\n",
       "      <td>1</td>\n",
       "      <td>9.84</td>\n",
       "      <td>14.395</td>\n",
       "      <td>75</td>\n",
       "      <td>0.0</td>\n",
       "      <td>0</td>\n",
       "      <td>...</td>\n",
       "      <td>1</td>\n",
       "      <td>1</td>\n",
       "      <td>4</td>\n",
       "      <td>Saturday</td>\n",
       "      <td>Spring</td>\n",
       "      <td>clear</td>\n",
       "      <td>0</td>\n",
       "      <td>6</td>\n",
       "      <td>Night</td>\n",
       "      <td>0</td>\n",
       "    </tr>\n",
       "  </tbody>\n",
       "</table>\n",
       "<p>5 rows × 23 columns</p>\n",
       "</div>"
      ],
      "text/plain": [
       "              datetime  season  holiday  workingday  weather  temp   atemp  \\\n",
       "0  2011-01-01 00:00:00       1        0           0        1  9.84  14.395   \n",
       "1  2011-01-01 01:00:00       1        0           0        1  9.02  13.635   \n",
       "2  2011-01-01 02:00:00       1        0           0        1  9.02  13.635   \n",
       "3  2011-01-01 03:00:00       1        0           0        1  9.84  14.395   \n",
       "4  2011-01-01 04:00:00       1        0           0        1  9.84  14.395   \n",
       "\n",
       "   humidity  windspeed  casual  ...  month  day  hour  Day_name  Season_Exp  \\\n",
       "0        81        0.0       3  ...      1    1     0  Saturday      Spring   \n",
       "1        80        0.0       8  ...      1    1     1  Saturday      Spring   \n",
       "2        80        0.0       5  ...      1    1     2  Saturday      Spring   \n",
       "3        75        0.0       3  ...      1    1     3  Saturday      Spring   \n",
       "4        75        0.0       0  ...      1    1     4  Saturday      Spring   \n",
       "\n",
       "   Weather_Exp Season_Reconvert Day_Reconvert Hour_binned  Hour_Reconvert  \n",
       "0        clear                0             6       Night               0  \n",
       "1        clear                0             6       Night               0  \n",
       "2        clear                0             6       Night               0  \n",
       "3        clear                0             6       Night               0  \n",
       "4        clear                0             6       Night               0  \n",
       "\n",
       "[5 rows x 23 columns]"
      ]
     },
     "execution_count": 19,
     "metadata": {},
     "output_type": "execute_result"
    }
   ],
   "source": [
    "df_train.head()"
   ]
  },
  {
   "cell_type": "markdown",
   "metadata": {},
   "source": [
    "## Target Encode a Subset of Columns ##"
   ]
  },
  {
   "cell_type": "code",
   "execution_count": 20,
   "metadata": {},
   "outputs": [
    {
     "data": {
      "text/plain": [
       "month\n",
       "1      90.366516\n",
       "2     110.003330\n",
       "3     148.169811\n",
       "4     184.160616\n",
       "5     219.459430\n",
       "6     242.031798\n",
       "7     235.325658\n",
       "8     234.118421\n",
       "9     233.805281\n",
       "10    227.699232\n",
       "11    193.677278\n",
       "12    175.614035\n",
       "Name: count, dtype: float64"
      ]
     },
     "execution_count": 20,
     "metadata": {},
     "output_type": "execute_result"
    }
   ],
   "source": [
    "df_train.groupby('month')['count'].mean()"
   ]
  },
  {
   "cell_type": "code",
   "execution_count": 21,
   "metadata": {},
   "outputs": [],
   "source": [
    "all_columns = list(df_train.columns)"
   ]
  },
  {
   "cell_type": "code",
   "execution_count": 22,
   "metadata": {},
   "outputs": [
    {
     "data": {
      "text/plain": [
       "['datetime',\n",
       " 'season',\n",
       " 'holiday',\n",
       " 'workingday',\n",
       " 'weather',\n",
       " 'temp',\n",
       " 'atemp',\n",
       " 'humidity',\n",
       " 'windspeed',\n",
       " 'casual',\n",
       " 'registered',\n",
       " 'count',\n",
       " 'year',\n",
       " 'month',\n",
       " 'day',\n",
       " 'hour',\n",
       " 'Day_name',\n",
       " 'Season_Exp',\n",
       " 'Weather_Exp',\n",
       " 'Season_Reconvert',\n",
       " 'Day_Reconvert',\n",
       " 'Hour_binned',\n",
       " 'Hour_Reconvert']"
      ]
     },
     "execution_count": 22,
     "metadata": {},
     "output_type": "execute_result"
    }
   ],
   "source": [
    "all_columns"
   ]
  },
  {
   "cell_type": "code",
   "execution_count": 23,
   "metadata": {},
   "outputs": [],
   "source": [
    "df_te_train = df_train"
   ]
  },
  {
   "cell_type": "code",
   "execution_count": 24,
   "metadata": {},
   "outputs": [
    {
     "data": {
      "text/html": [
       "<div>\n",
       "<style scoped>\n",
       "    .dataframe tbody tr th:only-of-type {\n",
       "        vertical-align: middle;\n",
       "    }\n",
       "\n",
       "    .dataframe tbody tr th {\n",
       "        vertical-align: top;\n",
       "    }\n",
       "\n",
       "    .dataframe thead th {\n",
       "        text-align: right;\n",
       "    }\n",
       "</style>\n",
       "<table border=\"1\" class=\"dataframe\">\n",
       "  <thead>\n",
       "    <tr style=\"text-align: right;\">\n",
       "      <th></th>\n",
       "      <th>datetime</th>\n",
       "      <th>season</th>\n",
       "      <th>holiday</th>\n",
       "      <th>workingday</th>\n",
       "      <th>weather</th>\n",
       "      <th>temp</th>\n",
       "      <th>atemp</th>\n",
       "      <th>humidity</th>\n",
       "      <th>windspeed</th>\n",
       "      <th>casual</th>\n",
       "      <th>...</th>\n",
       "      <th>month</th>\n",
       "      <th>day</th>\n",
       "      <th>hour</th>\n",
       "      <th>Day_name</th>\n",
       "      <th>Season_Exp</th>\n",
       "      <th>Weather_Exp</th>\n",
       "      <th>Season_Reconvert</th>\n",
       "      <th>Day_Reconvert</th>\n",
       "      <th>Hour_binned</th>\n",
       "      <th>Hour_Reconvert</th>\n",
       "    </tr>\n",
       "  </thead>\n",
       "  <tbody>\n",
       "    <tr>\n",
       "      <th>0</th>\n",
       "      <td>2011-01-01 00:00:00</td>\n",
       "      <td>1</td>\n",
       "      <td>0</td>\n",
       "      <td>0</td>\n",
       "      <td>1</td>\n",
       "      <td>9.84</td>\n",
       "      <td>14.395</td>\n",
       "      <td>81</td>\n",
       "      <td>0.0</td>\n",
       "      <td>3</td>\n",
       "      <td>...</td>\n",
       "      <td>1</td>\n",
       "      <td>1</td>\n",
       "      <td>0</td>\n",
       "      <td>Saturday</td>\n",
       "      <td>Spring</td>\n",
       "      <td>clear</td>\n",
       "      <td>0</td>\n",
       "      <td>6</td>\n",
       "      <td>Night</td>\n",
       "      <td>0</td>\n",
       "    </tr>\n",
       "    <tr>\n",
       "      <th>1</th>\n",
       "      <td>2011-01-01 01:00:00</td>\n",
       "      <td>1</td>\n",
       "      <td>0</td>\n",
       "      <td>0</td>\n",
       "      <td>1</td>\n",
       "      <td>9.02</td>\n",
       "      <td>13.635</td>\n",
       "      <td>80</td>\n",
       "      <td>0.0</td>\n",
       "      <td>8</td>\n",
       "      <td>...</td>\n",
       "      <td>1</td>\n",
       "      <td>1</td>\n",
       "      <td>1</td>\n",
       "      <td>Saturday</td>\n",
       "      <td>Spring</td>\n",
       "      <td>clear</td>\n",
       "      <td>0</td>\n",
       "      <td>6</td>\n",
       "      <td>Night</td>\n",
       "      <td>0</td>\n",
       "    </tr>\n",
       "    <tr>\n",
       "      <th>2</th>\n",
       "      <td>2011-01-01 02:00:00</td>\n",
       "      <td>1</td>\n",
       "      <td>0</td>\n",
       "      <td>0</td>\n",
       "      <td>1</td>\n",
       "      <td>9.02</td>\n",
       "      <td>13.635</td>\n",
       "      <td>80</td>\n",
       "      <td>0.0</td>\n",
       "      <td>5</td>\n",
       "      <td>...</td>\n",
       "      <td>1</td>\n",
       "      <td>1</td>\n",
       "      <td>2</td>\n",
       "      <td>Saturday</td>\n",
       "      <td>Spring</td>\n",
       "      <td>clear</td>\n",
       "      <td>0</td>\n",
       "      <td>6</td>\n",
       "      <td>Night</td>\n",
       "      <td>0</td>\n",
       "    </tr>\n",
       "    <tr>\n",
       "      <th>3</th>\n",
       "      <td>2011-01-01 03:00:00</td>\n",
       "      <td>1</td>\n",
       "      <td>0</td>\n",
       "      <td>0</td>\n",
       "      <td>1</td>\n",
       "      <td>9.84</td>\n",
       "      <td>14.395</td>\n",
       "      <td>75</td>\n",
       "      <td>0.0</td>\n",
       "      <td>3</td>\n",
       "      <td>...</td>\n",
       "      <td>1</td>\n",
       "      <td>1</td>\n",
       "      <td>3</td>\n",
       "      <td>Saturday</td>\n",
       "      <td>Spring</td>\n",
       "      <td>clear</td>\n",
       "      <td>0</td>\n",
       "      <td>6</td>\n",
       "      <td>Night</td>\n",
       "      <td>0</td>\n",
       "    </tr>\n",
       "    <tr>\n",
       "      <th>4</th>\n",
       "      <td>2011-01-01 04:00:00</td>\n",
       "      <td>1</td>\n",
       "      <td>0</td>\n",
       "      <td>0</td>\n",
       "      <td>1</td>\n",
       "      <td>9.84</td>\n",
       "      <td>14.395</td>\n",
       "      <td>75</td>\n",
       "      <td>0.0</td>\n",
       "      <td>0</td>\n",
       "      <td>...</td>\n",
       "      <td>1</td>\n",
       "      <td>1</td>\n",
       "      <td>4</td>\n",
       "      <td>Saturday</td>\n",
       "      <td>Spring</td>\n",
       "      <td>clear</td>\n",
       "      <td>0</td>\n",
       "      <td>6</td>\n",
       "      <td>Night</td>\n",
       "      <td>0</td>\n",
       "    </tr>\n",
       "  </tbody>\n",
       "</table>\n",
       "<p>5 rows × 23 columns</p>\n",
       "</div>"
      ],
      "text/plain": [
       "              datetime  season  holiday  workingday  weather  temp   atemp  \\\n",
       "0  2011-01-01 00:00:00       1        0           0        1  9.84  14.395   \n",
       "1  2011-01-01 01:00:00       1        0           0        1  9.02  13.635   \n",
       "2  2011-01-01 02:00:00       1        0           0        1  9.02  13.635   \n",
       "3  2011-01-01 03:00:00       1        0           0        1  9.84  14.395   \n",
       "4  2011-01-01 04:00:00       1        0           0        1  9.84  14.395   \n",
       "\n",
       "   humidity  windspeed  casual  ...  month  day  hour  Day_name  Season_Exp  \\\n",
       "0        81        0.0       3  ...      1    1     0  Saturday      Spring   \n",
       "1        80        0.0       8  ...      1    1     1  Saturday      Spring   \n",
       "2        80        0.0       5  ...      1    1     2  Saturday      Spring   \n",
       "3        75        0.0       3  ...      1    1     3  Saturday      Spring   \n",
       "4        75        0.0       0  ...      1    1     4  Saturday      Spring   \n",
       "\n",
       "   Weather_Exp Season_Reconvert Day_Reconvert Hour_binned  Hour_Reconvert  \n",
       "0        clear                0             6       Night               0  \n",
       "1        clear                0             6       Night               0  \n",
       "2        clear                0             6       Night               0  \n",
       "3        clear                0             6       Night               0  \n",
       "4        clear                0             6       Night               0  \n",
       "\n",
       "[5 rows x 23 columns]"
      ]
     },
     "execution_count": 24,
     "metadata": {},
     "output_type": "execute_result"
    }
   ],
   "source": [
    "df_te_train.head()"
   ]
  },
  {
   "cell_type": "code",
   "execution_count": 106,
   "metadata": {},
   "outputs": [],
   "source": [
    "#Target Encoding a Subset of columns with MEAN\n",
    "\n",
    "\n",
    "#Subset of large var list\n",
    "column_list_to_target_encode = ['Season_Reconvert','Weather_Exp','year','month', 'Day_Reconvert', 'hour']\n",
    "for column in column_list_to_target_encode:\n",
    "    target_means = df_te_train.groupby(column).sum()\n",
    "    df_te_train[f'{column}_te'] = df_te_train[column].replace(target_means['count'])\n",
    "\n"
   ]
  },
  {
   "cell_type": "code",
   "execution_count": 107,
   "metadata": {},
   "outputs": [
    {
     "data": {
      "text/plain": [
       "['Season_Reconvert_te',\n",
       " 'Weather_Exp_te',\n",
       " 'year_te',\n",
       " 'month_te',\n",
       " 'Day_Reconvert_te',\n",
       " 'hour_te',\n",
       " 'atemp',\n",
       " 'windspeed']"
      ]
     },
     "execution_count": 107,
     "metadata": {},
     "output_type": "execute_result"
    }
   ],
   "source": [
    "#List Conventions to define a training dataset\n",
    "\n",
    "#for Categoricals\n",
    "te = '_te'\n",
    "te_list = [x + te for x in column_list_to_target_encode]\n",
    "te_list\n",
    "\n",
    "#poly_list = ['hour', 'hour_2', 'hour_3']\n",
    "num_list = ['atemp', 'windspeed']\n",
    "#num_list_3 = ['holiday','workingday', 'atemp', 'windspeed' ]\n",
    "te_list.extend(num_list)\n",
    "#te_list.extend(poly_list)\n",
    "te_list\n",
    "#num_list_3"
   ]
  },
  {
   "cell_type": "code",
   "execution_count": 108,
   "metadata": {},
   "outputs": [],
   "source": [
    "#df_te_train['hour_2'] = df_te_train['hour']**2\n",
    "#df_te_train['hour_3'] = df_te_train['hour']**3"
   ]
  },
  {
   "cell_type": "code",
   "execution_count": 109,
   "metadata": {},
   "outputs": [],
   "source": [
    "#Define Xtrain and ytrain\n",
    "Xtrain = df_te_train[te_list]\n",
    "#Xtrain = Xsub.values.reshape(-1,1)\n",
    "\n",
    "#Convert ytrain to log1p because you need to collapse the count numbers across all scales of x\n",
    "ytrain = np.log1p(df_te_train['count'])"
   ]
  },
  {
   "cell_type": "code",
   "execution_count": 110,
   "metadata": {},
   "outputs": [
    {
     "data": {
      "text/html": [
       "<div>\n",
       "<style scoped>\n",
       "    .dataframe tbody tr th:only-of-type {\n",
       "        vertical-align: middle;\n",
       "    }\n",
       "\n",
       "    .dataframe tbody tr th {\n",
       "        vertical-align: top;\n",
       "    }\n",
       "\n",
       "    .dataframe thead th {\n",
       "        text-align: right;\n",
       "    }\n",
       "</style>\n",
       "<table border=\"1\" class=\"dataframe\">\n",
       "  <thead>\n",
       "    <tr style=\"text-align: right;\">\n",
       "      <th></th>\n",
       "      <th>Season_Reconvert_te</th>\n",
       "      <th>Weather_Exp_te</th>\n",
       "      <th>year_te</th>\n",
       "      <th>month_te</th>\n",
       "      <th>Day_Reconvert_te</th>\n",
       "      <th>hour_te</th>\n",
       "      <th>atemp</th>\n",
       "      <th>windspeed</th>\n",
       "    </tr>\n",
       "  </thead>\n",
       "  <tbody>\n",
       "    <tr>\n",
       "      <th>Season_Reconvert_te</th>\n",
       "      <td>1.000000</td>\n",
       "      <td>0.022159</td>\n",
       "      <td>-0.005961</td>\n",
       "      <td>0.914305</td>\n",
       "      <td>-0.016792</td>\n",
       "      <td>-0.008499</td>\n",
       "      <td>0.690096</td>\n",
       "      <td>-0.127092</td>\n",
       "    </tr>\n",
       "    <tr>\n",
       "      <th>Weather_Exp_te</th>\n",
       "      <td>0.022159</td>\n",
       "      <td>1.000000</td>\n",
       "      <td>0.006155</td>\n",
       "      <td>0.025814</td>\n",
       "      <td>0.036004</td>\n",
       "      <td>0.004367</td>\n",
       "      <td>0.056663</td>\n",
       "      <td>0.004604</td>\n",
       "    </tr>\n",
       "    <tr>\n",
       "      <th>year_te</th>\n",
       "      <td>-0.005961</td>\n",
       "      <td>0.006155</td>\n",
       "      <td>1.000000</td>\n",
       "      <td>-0.005985</td>\n",
       "      <td>-0.015408</td>\n",
       "      <td>-0.004407</td>\n",
       "      <td>0.058540</td>\n",
       "      <td>-0.015221</td>\n",
       "    </tr>\n",
       "    <tr>\n",
       "      <th>month_te</th>\n",
       "      <td>0.914305</td>\n",
       "      <td>0.025814</td>\n",
       "      <td>-0.005985</td>\n",
       "      <td>1.000000</td>\n",
       "      <td>-0.006531</td>\n",
       "      <td>-0.008663</td>\n",
       "      <td>0.765269</td>\n",
       "      <td>-0.130938</td>\n",
       "    </tr>\n",
       "    <tr>\n",
       "      <th>Day_Reconvert_te</th>\n",
       "      <td>-0.016792</td>\n",
       "      <td>0.036004</td>\n",
       "      <td>-0.015408</td>\n",
       "      <td>-0.006531</td>\n",
       "      <td>1.000000</td>\n",
       "      <td>-0.001834</td>\n",
       "      <td>-0.028806</td>\n",
       "      <td>0.000992</td>\n",
       "    </tr>\n",
       "    <tr>\n",
       "      <th>hour_te</th>\n",
       "      <td>-0.008499</td>\n",
       "      <td>0.004367</td>\n",
       "      <td>-0.004407</td>\n",
       "      <td>-0.008663</td>\n",
       "      <td>-0.001834</td>\n",
       "      <td>1.000000</td>\n",
       "      <td>0.163985</td>\n",
       "      <td>0.211783</td>\n",
       "    </tr>\n",
       "    <tr>\n",
       "      <th>atemp</th>\n",
       "      <td>0.690096</td>\n",
       "      <td>0.056663</td>\n",
       "      <td>0.058540</td>\n",
       "      <td>0.765269</td>\n",
       "      <td>-0.028806</td>\n",
       "      <td>0.163985</td>\n",
       "      <td>1.000000</td>\n",
       "      <td>-0.057473</td>\n",
       "    </tr>\n",
       "    <tr>\n",
       "      <th>windspeed</th>\n",
       "      <td>-0.127092</td>\n",
       "      <td>0.004604</td>\n",
       "      <td>-0.015221</td>\n",
       "      <td>-0.130938</td>\n",
       "      <td>0.000992</td>\n",
       "      <td>0.211783</td>\n",
       "      <td>-0.057473</td>\n",
       "      <td>1.000000</td>\n",
       "    </tr>\n",
       "  </tbody>\n",
       "</table>\n",
       "</div>"
      ],
      "text/plain": [
       "                     Season_Reconvert_te  Weather_Exp_te   year_te  month_te  \\\n",
       "Season_Reconvert_te             1.000000        0.022159 -0.005961  0.914305   \n",
       "Weather_Exp_te                  0.022159        1.000000  0.006155  0.025814   \n",
       "year_te                        -0.005961        0.006155  1.000000 -0.005985   \n",
       "month_te                        0.914305        0.025814 -0.005985  1.000000   \n",
       "Day_Reconvert_te               -0.016792        0.036004 -0.015408 -0.006531   \n",
       "hour_te                        -0.008499        0.004367 -0.004407 -0.008663   \n",
       "atemp                           0.690096        0.056663  0.058540  0.765269   \n",
       "windspeed                      -0.127092        0.004604 -0.015221 -0.130938   \n",
       "\n",
       "                     Day_Reconvert_te   hour_te     atemp  windspeed  \n",
       "Season_Reconvert_te         -0.016792 -0.008499  0.690096  -0.127092  \n",
       "Weather_Exp_te               0.036004  0.004367  0.056663   0.004604  \n",
       "year_te                     -0.015408 -0.004407  0.058540  -0.015221  \n",
       "month_te                    -0.006531 -0.008663  0.765269  -0.130938  \n",
       "Day_Reconvert_te             1.000000 -0.001834 -0.028806   0.000992  \n",
       "hour_te                     -0.001834  1.000000  0.163985   0.211783  \n",
       "atemp                       -0.028806  0.163985  1.000000  -0.057473  \n",
       "windspeed                    0.000992  0.211783 -0.057473   1.000000  "
      ]
     },
     "execution_count": 110,
     "metadata": {},
     "output_type": "execute_result"
    }
   ],
   "source": [
    "Xtrain.corr()"
   ]
  },
  {
   "cell_type": "code",
   "execution_count": 111,
   "metadata": {},
   "outputs": [
    {
     "data": {
      "text/plain": [
       "<matplotlib.collections.PathCollection at 0x1a277c60b8>"
      ]
     },
     "execution_count": 111,
     "metadata": {},
     "output_type": "execute_result"
    },
    {
     "data": {
      "image/png": "[encoded data removed]",
      "text/plain": [
       "<Figure size 432x288 with 1 Axes>"
      ]
     },
     "metadata": {
      "needs_background": "light"
     },
     "output_type": "display_data"
    }
   ],
   "source": [
    "plt.scatter(df_te_train['windspeed'], ytrain)"
   ]
  },
  {
   "cell_type": "code",
   "execution_count": 112,
   "metadata": {},
   "outputs": [],
   "source": [
    "#Scikit Linear Reg\n",
    "m = LinearRegression()\n"
   ]
  },
  {
   "cell_type": "code",
   "execution_count": 113,
   "metadata": {},
   "outputs": [
    {
     "data": {
      "text/plain": [
       "(LinearRegression(copy_X=True, fit_intercept=True, n_jobs=None,\n",
       "          normalize=False), 0.6871020542446611)"
      ]
     },
     "execution_count": 113,
     "metadata": {},
     "output_type": "execute_result"
    }
   ],
   "source": [
    "m.fit(Xtrain, ytrain), m.score(Xtrain, ytrain)"
   ]
  },
  {
   "cell_type": "code",
   "execution_count": 114,
   "metadata": {},
   "outputs": [
    {
     "data": {
      "text/plain": [
       "0.6303845697450777"
      ]
     },
     "execution_count": 114,
     "metadata": {},
     "output_type": "execute_result"
    }
   ],
   "source": [
    "ypred = m.predict(Xtrain)\n",
    "mean_squared_error(ytrain, ypred) #Scikit"
   ]
  },
  {
   "cell_type": "code",
   "execution_count": 115,
   "metadata": {},
   "outputs": [],
   "source": [
    "def rmsle(ytrue, ypred,convertExp=True):\n",
    "    if convertExp:\n",
    "        ytrue = np.exp(ytrue),\n",
    "        ypred = np.exp(ypred)\n",
    "    log1 = np.nan_to_num(np.array([np.log(v + 1) for v in y]))\n",
    "    log2 = np.nan_to_num(np.array([np.log(v + 1) for v in y_]))\n",
    "    calc = (log1 - log2) ** 2\n",
    "    return np.sqrt(np.mean(calc))"
   ]
  },
  {
   "cell_type": "code",
   "execution_count": 116,
   "metadata": {},
   "outputs": [
    {
     "ename": "UnboundLocalError",
     "evalue": "local variable 'y' referenced before assignment",
     "output_type": "error",
     "traceback": [
      "\u001b[0;31m---------------------------------------------------------------------------\u001b[0m",
      "\u001b[0;31mUnboundLocalError\u001b[0m                         Traceback (most recent call last)",
      "\u001b[0;32m<ipython-input-116-9d474309e62e>\u001b[0m in \u001b[0;36m<module>\u001b[0;34m\u001b[0m\n\u001b[0;32m----> 1\u001b[0;31m \u001b[0mprint\u001b[0m \u001b[0;34m(\u001b[0m\u001b[0;34m\"RMSLE Value For Linear Regression: \"\u001b[0m\u001b[0;34m,\u001b[0m\u001b[0mrmsle\u001b[0m\u001b[0;34m(\u001b[0m\u001b[0mnp\u001b[0m\u001b[0;34m.\u001b[0m\u001b[0mexp\u001b[0m\u001b[0;34m(\u001b[0m\u001b[0mytrain\u001b[0m\u001b[0;34m)\u001b[0m\u001b[0;34m,\u001b[0m\u001b[0mnp\u001b[0m\u001b[0;34m.\u001b[0m\u001b[0mexp\u001b[0m\u001b[0;34m(\u001b[0m\u001b[0mypred\u001b[0m\u001b[0;34m)\u001b[0m\u001b[0;34m,\u001b[0m\u001b[0;32mFalse\u001b[0m\u001b[0;34m)\u001b[0m\u001b[0;34m)\u001b[0m\u001b[0;34m\u001b[0m\u001b[0;34m\u001b[0m\u001b[0m\n\u001b[0m",
      "\u001b[0;32m<ipython-input-115-922cdab0ba3c>\u001b[0m in \u001b[0;36mrmsle\u001b[0;34m(ytrue, ypred, convertExp)\u001b[0m\n\u001b[1;32m      3\u001b[0m         \u001b[0my\u001b[0m \u001b[0;34m=\u001b[0m \u001b[0mnp\u001b[0m\u001b[0;34m.\u001b[0m\u001b[0mexp\u001b[0m\u001b[0;34m(\u001b[0m\u001b[0my\u001b[0m\u001b[0;34m)\u001b[0m\u001b[0;34m,\u001b[0m\u001b[0;34m\u001b[0m\u001b[0;34m\u001b[0m\u001b[0m\n\u001b[1;32m      4\u001b[0m         \u001b[0my_\u001b[0m \u001b[0;34m=\u001b[0m \u001b[0mnp\u001b[0m\u001b[0;34m.\u001b[0m\u001b[0mexp\u001b[0m\u001b[0;34m(\u001b[0m\u001b[0my_\u001b[0m\u001b[0;34m)\u001b[0m\u001b[0;34m\u001b[0m\u001b[0;34m\u001b[0m\u001b[0m\n\u001b[0;32m----> 5\u001b[0;31m     \u001b[0mlog1\u001b[0m \u001b[0;34m=\u001b[0m \u001b[0mnp\u001b[0m\u001b[0;34m.\u001b[0m\u001b[0mnan_to_num\u001b[0m\u001b[0;34m(\u001b[0m\u001b[0mnp\u001b[0m\u001b[0;34m.\u001b[0m\u001b[0marray\u001b[0m\u001b[0;34m(\u001b[0m\u001b[0;34m[\u001b[0m\u001b[0mnp\u001b[0m\u001b[0;34m.\u001b[0m\u001b[0mlog\u001b[0m\u001b[0;34m(\u001b[0m\u001b[0mv\u001b[0m \u001b[0;34m+\u001b[0m \u001b[0;36m1\u001b[0m\u001b[0;34m)\u001b[0m \u001b[0;32mfor\u001b[0m \u001b[0mv\u001b[0m \u001b[0;32min\u001b[0m \u001b[0my\u001b[0m\u001b[0;34m]\u001b[0m\u001b[0;34m)\u001b[0m\u001b[0;34m)\u001b[0m\u001b[0;34m\u001b[0m\u001b[0;34m\u001b[0m\u001b[0m\n\u001b[0m\u001b[1;32m      6\u001b[0m     \u001b[0mlog2\u001b[0m \u001b[0;34m=\u001b[0m \u001b[0mnp\u001b[0m\u001b[0;34m.\u001b[0m\u001b[0mnan_to_num\u001b[0m\u001b[0;34m(\u001b[0m\u001b[0mnp\u001b[0m\u001b[0;34m.\u001b[0m\u001b[0marray\u001b[0m\u001b[0;34m(\u001b[0m\u001b[0;34m[\u001b[0m\u001b[0mnp\u001b[0m\u001b[0;34m.\u001b[0m\u001b[0mlog\u001b[0m\u001b[0;34m(\u001b[0m\u001b[0mv\u001b[0m \u001b[0;34m+\u001b[0m \u001b[0;36m1\u001b[0m\u001b[0;34m)\u001b[0m \u001b[0;32mfor\u001b[0m \u001b[0mv\u001b[0m \u001b[0;32min\u001b[0m \u001b[0my_\u001b[0m\u001b[0;34m]\u001b[0m\u001b[0;34m)\u001b[0m\u001b[0;34m)\u001b[0m\u001b[0;34m\u001b[0m\u001b[0;34m\u001b[0m\u001b[0m\n\u001b[1;32m      7\u001b[0m     \u001b[0mcalc\u001b[0m \u001b[0;34m=\u001b[0m \u001b[0;34m(\u001b[0m\u001b[0mlog1\u001b[0m \u001b[0;34m-\u001b[0m \u001b[0mlog2\u001b[0m\u001b[0;34m)\u001b[0m \u001b[0;34m**\u001b[0m \u001b[0;36m2\u001b[0m\u001b[0;34m\u001b[0m\u001b[0;34m\u001b[0m\u001b[0m\n",
      "\u001b[0;31mUnboundLocalError\u001b[0m: local variable 'y' referenced before assignment"
     ]
    }
   ],
   "source": [
    "print (\"RMSLE Value For Linear Regression: \",rmsle(np.exp(ytrain),np.exp(ypred),False))"
   ]
  },
  {
   "cell_type": "code",
   "execution_count": 99,
   "metadata": {},
   "outputs": [
    {
     "data": {
      "text/html": [
       "<div>\n",
       "<style scoped>\n",
       "    .dataframe tbody tr th:only-of-type {\n",
       "        vertical-align: middle;\n",
       "    }\n",
       "\n",
       "    .dataframe tbody tr th {\n",
       "        vertical-align: top;\n",
       "    }\n",
       "\n",
       "    .dataframe thead th {\n",
       "        text-align: right;\n",
       "    }\n",
       "</style>\n",
       "<table border=\"1\" class=\"dataframe\">\n",
       "  <thead>\n",
       "    <tr style=\"text-align: right;\">\n",
       "      <th></th>\n",
       "      <th>Coefficients</th>\n",
       "    </tr>\n",
       "  </thead>\n",
       "  <tbody>\n",
       "    <tr>\n",
       "      <th>Season_Reconvert_te</th>\n",
       "      <td>3.981094e-07</td>\n",
       "    </tr>\n",
       "    <tr>\n",
       "      <th>Weather_Exp_te</th>\n",
       "      <td>2.214644e-07</td>\n",
       "    </tr>\n",
       "    <tr>\n",
       "      <th>year_te</th>\n",
       "      <td>9.561390e-07</td>\n",
       "    </tr>\n",
       "    <tr>\n",
       "      <th>month_te</th>\n",
       "      <td>3.894481e-06</td>\n",
       "    </tr>\n",
       "    <tr>\n",
       "      <th>Day_Reconvert_te</th>\n",
       "      <td>6.103804e-06</td>\n",
       "    </tr>\n",
       "    <tr>\n",
       "      <th>hour_te</th>\n",
       "      <td>1.779531e-05</td>\n",
       "    </tr>\n",
       "    <tr>\n",
       "      <th>atemp</th>\n",
       "      <td>1.949580e-02</td>\n",
       "    </tr>\n",
       "    <tr>\n",
       "      <th>windspeed</th>\n",
       "      <td>-9.034047e-04</td>\n",
       "    </tr>\n",
       "  </tbody>\n",
       "</table>\n",
       "</div>"
      ],
      "text/plain": [
       "                     Coefficients\n",
       "Season_Reconvert_te  3.981094e-07\n",
       "Weather_Exp_te       2.214644e-07\n",
       "year_te              9.561390e-07\n",
       "month_te             3.894481e-06\n",
       "Day_Reconvert_te     6.103804e-06\n",
       "hour_te              1.779531e-05\n",
       "atemp                1.949580e-02\n",
       "windspeed           -9.034047e-04"
      ]
     },
     "execution_count": 99,
     "metadata": {},
     "output_type": "execute_result"
    }
   ],
   "source": [
    "m.coef_ , m.intercept_, Xtrain.columns\n",
    "l = zip(Xtrain.columns, m.coef_)\n",
    "fit_coeff = pd.DataFrame(l, columns = ['Variables', 'Coefficients'], index = Xtrain.columns)\n",
    "fit_coeff.drop('Variables', axis = 1)"
   ]
  },
  {
   "cell_type": "code",
   "execution_count": 100,
   "metadata": {},
   "outputs": [],
   "source": [
    "from scipy.stats import probplot\n",
    "import matplotlib.pyplot as plt\n",
    "\n"
   ]
  },
  {
   "cell_type": "code",
   "execution_count": 101,
   "metadata": {},
   "outputs": [
    {
     "name": "stdout",
     "output_type": "stream",
     "text": [
      "7.518431138652079e-16\n"
     ]
    },
    {
     "data": {
      "text/plain": [
       "<matplotlib.axes._subplots.AxesSubplot at 0x1a266082e8>"
      ]
     },
     "execution_count": 101,
     "metadata": {},
     "output_type": "execute_result"
    },
    {
     "data": {
      "image/png": "[encoded data removed]",
      "text/plain": [
       "<Figure size 432x288 with 1 Axes>"
      ]
     },
     "metadata": {
      "needs_background": "light"
     },
     "output_type": "display_data"
    }
   ],
   "source": [
    "#Check the assumptions\n",
    "#Mean residual is around zero\n",
    "residuals = ypred - ytrain\n",
    "print(residuals.mean())\n",
    "residuals.hist()\n"
   ]
  },
  {
   "cell_type": "code",
   "execution_count": 102,
   "metadata": {},
   "outputs": [
    {
     "data": {
      "text/plain": [
       "((array([-3.83154229, -3.60754977, -3.48462983, ...,  3.48462983,\n",
       "          3.60754977,  3.83154229]),\n",
       "  array([-2.25389122, -1.82436086, -1.77064913, ...,  3.07134535,\n",
       "          3.09700118,  3.66560515])),\n",
       " (0.7782752836926532, 5.568565657577147e-16, 0.9799107428590335))"
      ]
     },
     "execution_count": 102,
     "metadata": {},
     "output_type": "execute_result"
    },
    {
     "data": {
      "image/png": "[encoded data removed]",
      "text/plain": [
       "<Figure size 432x288 with 1 Axes>"
      ]
     },
     "metadata": {
      "needs_background": "light"
     },
     "output_type": "display_data"
    }
   ],
   "source": [
    "#Q-Q plot\n",
    "probplot(residuals, plot=plt)"
   ]
  },
  {
   "cell_type": "code",
   "execution_count": 103,
   "metadata": {},
   "outputs": [
    {
     "data": {
      "image/png": "[encoded data removed]",
      "text/plain": [
       "<Figure size 432x288 with 1 Axes>"
      ]
     },
     "metadata": {
      "needs_background": "light"
     },
     "output_type": "display_data"
    },
    {
     "data": {
      "image/png": "[encoded data removed]",
      "text/plain": [
       "<Figure size 432x288 with 1 Axes>"
      ]
     },
     "metadata": {
      "needs_background": "light"
     },
     "output_type": "display_data"
    },
    {
     "data": {
      "image/png": "[encoded data removed]",
      "text/plain": [
       "<Figure size 432x288 with 1 Axes>"
      ]
     },
     "metadata": {
      "needs_background": "light"
     },
     "output_type": "display_data"
    },
    {
     "data": {
      "image/png": "[encoded data removed]",
      "text/plain": [
       "<Figure size 432x288 with 1 Axes>"
      ]
     },
     "metadata": {
      "needs_background": "light"
     },
     "output_type": "display_data"
    },
    {
     "data": {
      "image/png": "[encoded data removed]",
      "text/plain": [
       "<Figure size 432x288 with 1 Axes>"
      ]
     },
     "metadata": {
      "needs_background": "light"
     },
     "output_type": "display_data"
    },
    {
     "data": {
      "image/png": "[encoded data removed]",
      "text/plain": [
       "<Figure size 432x288 with 1 Axes>"
      ]
     },
     "metadata": {
      "needs_background": "light"
     },
     "output_type": "display_data"
    },
    {
     "data": {
      "image/png": "[encoded data removed]",
      "text/plain": [
       "<Figure size 432x288 with 1 Axes>"
      ]
     },
     "metadata": {
      "needs_background": "light"
     },
     "output_type": "display_data"
    },
    {
     "data": {
      "image/png": "[encoded data removed]",
      "text/plain": [
       "<Figure size 432x288 with 1 Axes>"
      ]
     },
     "metadata": {
      "needs_background": "light"
     },
     "output_type": "display_data"
    }
   ],
   "source": [
    "#Residuals uncorrelated with x and must be equally on and under 0\n",
    "\n",
    "for column in Xtrain.columns:\n",
    "    plt.scatter(Xtrain[column], residuals)\n",
    "    plt.title(f'{column}')\n",
    "    plt.show()\n",
    "#plt.scatter(Xtrain, residuals)\n",
    "#Xtrain.shape, residuals.shape"
   ]
  },
  {
   "cell_type": "code",
   "execution_count": null,
   "metadata": {},
   "outputs": [],
   "source": []
  }
 ],
 "metadata": {
  "kernelspec": {
   "display_name": "Python 3",
   "language": "python",
   "name": "python3"
  },
  "language_info": {
   "codemirror_mode": {
    "name": "ipython",
    "version": 3
   },
   "file_extension": ".py",
   "mimetype": "text/x-python",
   "name": "python",
   "nbconvert_exporter": "python",
   "pygments_lexer": "ipython3",
   "version": "3.7.3"
  }
 },
 "nbformat": 4,
 "nbformat_minor": 2
}
