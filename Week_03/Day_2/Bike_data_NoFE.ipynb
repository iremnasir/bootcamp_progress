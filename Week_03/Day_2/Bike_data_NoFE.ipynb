{
 "cells": [
  {
   "cell_type": "code",
   "execution_count": 56,
   "metadata": {},
   "outputs": [],
   "source": [
    "import pandas as pd\n",
    "import seaborn as sns\n",
    "from matplotlib import pyplot as plt\n",
    "from sklearn.linear_model import LinearRegression\n",
    "from sklearn.metrics import mean_squared_error"
   ]
  },
  {
   "cell_type": "code",
   "execution_count": 57,
   "metadata": {},
   "outputs": [],
   "source": [
    "df_train = pd.read_csv('./train.csv')"
   ]
  },
  {
   "cell_type": "code",
   "execution_count": 58,
   "metadata": {},
   "outputs": [],
   "source": [
    "#Extend the df by splitting the datetime into new categories\n",
    "df_train['year'] = df_train.datetime.apply(lambda x: x.split()[0].split('-')[0]).astype(str).astype(int)\n",
    "df_train['month'] = df_train.datetime.apply(lambda x: x.split()[0].split('-')[1]).astype(str).astype(int)\n",
    "df_train['day'] = df_train.datetime.apply(lambda x: x.split()[0].split('-')[2]).astype(str).astype(int)\n",
    "df_train['hour'] = df_train.datetime.apply(lambda x : x.split()[1].split(\":\")[0]).astype(str).astype(int)\n",
    "\n",
    "#Infer Day Name\n",
    "sr = pd.to_datetime(df_train['datetime']) \n",
    "df_train['Day_name'] = sr.dt.day_name()\n",
    "\n",
    "#Season List \n",
    "season_dict = {1: 'Spring', 2: 'Summer', 3: 'Fall', 4: 'Winter'}\n",
    "df_train['Season_Exp'] = df_train['season'].map(season_dict)\n",
    "\n",
    "#Weather List\n",
    "weather_dict = {1:'clear' , 2:'mist' , 3:'light_precip' , 4: 'heavy_precip' }\n",
    "df_train['Weather_Exp'] = df_train['weather'].map(weather_dict)\n",
    "\n",
    "#Season Reconvert\n",
    "new_season = {'Spring': 0, 'Winter': 1, 'Summer': 2, 'Fall': 3}\n",
    "df_train['Season_Reconvert'] = df_train['Season_Exp'].map(new_season)\n",
    "\n",
    "#Day Reconvert\n",
    "day_new = {'Sunday': 0, 'Tuesday': 1, 'Wednesday': 1, 'Monday': 1, 'Friday': 1, 'Thursday': 1, 'Saturday': 0}\n",
    "df_train['weekday'] = df_train['Day_name'].map(day_new)\n",
    "\n",
    "#Hour Binning\n",
    "#hour_range = range(0,24)\n",
    "#bins = ['Night']*6 + ['Morning']*4 + ['Day']*7 + ['Evening']*7\n",
    "#hour_new = dict(zip(hour_range, bins))\n",
    "#df_train['Hour_binned'] = df_train['hour'].map(hour_new)\n",
    "\n",
    "#Hour_Dict_Factorization_Low Level\n",
    "#factor_hour = {'Night': 0, 'Morning':1, 'Day': 2, 'Evening': 3}\n",
    "#df_train['Hour_Reconvert'] = df_train['Hour_binned'].map(factor_hour)\n"
   ]
  },
  {
   "cell_type": "code",
   "execution_count": 59,
   "metadata": {},
   "outputs": [
    {
     "data": {
      "text/html": [
       "<div>\n",
       "<style scoped>\n",
       "    .dataframe tbody tr th:only-of-type {\n",
       "        vertical-align: middle;\n",
       "    }\n",
       "\n",
       "    .dataframe tbody tr th {\n",
       "        vertical-align: top;\n",
       "    }\n",
       "\n",
       "    .dataframe thead th {\n",
       "        text-align: right;\n",
       "    }\n",
       "</style>\n",
       "<table border=\"1\" class=\"dataframe\">\n",
       "  <thead>\n",
       "    <tr style=\"text-align: right;\">\n",
       "      <th></th>\n",
       "      <th>datetime</th>\n",
       "      <th>season</th>\n",
       "      <th>holiday</th>\n",
       "      <th>workingday</th>\n",
       "      <th>weather</th>\n",
       "      <th>temp</th>\n",
       "      <th>atemp</th>\n",
       "      <th>humidity</th>\n",
       "      <th>windspeed</th>\n",
       "      <th>casual</th>\n",
       "      <th>...</th>\n",
       "      <th>count</th>\n",
       "      <th>year</th>\n",
       "      <th>month</th>\n",
       "      <th>day</th>\n",
       "      <th>hour</th>\n",
       "      <th>Day_name</th>\n",
       "      <th>Season_Exp</th>\n",
       "      <th>Weather_Exp</th>\n",
       "      <th>Season_Reconvert</th>\n",
       "      <th>weekday</th>\n",
       "    </tr>\n",
       "  </thead>\n",
       "  <tbody>\n",
       "    <tr>\n",
       "      <th>0</th>\n",
       "      <td>2011-01-01 00:00:00</td>\n",
       "      <td>1</td>\n",
       "      <td>0</td>\n",
       "      <td>0</td>\n",
       "      <td>1</td>\n",
       "      <td>9.84</td>\n",
       "      <td>14.395</td>\n",
       "      <td>81</td>\n",
       "      <td>0.0</td>\n",
       "      <td>3</td>\n",
       "      <td>...</td>\n",
       "      <td>16</td>\n",
       "      <td>2011</td>\n",
       "      <td>1</td>\n",
       "      <td>1</td>\n",
       "      <td>0</td>\n",
       "      <td>Saturday</td>\n",
       "      <td>Spring</td>\n",
       "      <td>clear</td>\n",
       "      <td>0</td>\n",
       "      <td>0</td>\n",
       "    </tr>\n",
       "    <tr>\n",
       "      <th>1</th>\n",
       "      <td>2011-01-01 01:00:00</td>\n",
       "      <td>1</td>\n",
       "      <td>0</td>\n",
       "      <td>0</td>\n",
       "      <td>1</td>\n",
       "      <td>9.02</td>\n",
       "      <td>13.635</td>\n",
       "      <td>80</td>\n",
       "      <td>0.0</td>\n",
       "      <td>8</td>\n",
       "      <td>...</td>\n",
       "      <td>40</td>\n",
       "      <td>2011</td>\n",
       "      <td>1</td>\n",
       "      <td>1</td>\n",
       "      <td>1</td>\n",
       "      <td>Saturday</td>\n",
       "      <td>Spring</td>\n",
       "      <td>clear</td>\n",
       "      <td>0</td>\n",
       "      <td>0</td>\n",
       "    </tr>\n",
       "    <tr>\n",
       "      <th>2</th>\n",
       "      <td>2011-01-01 02:00:00</td>\n",
       "      <td>1</td>\n",
       "      <td>0</td>\n",
       "      <td>0</td>\n",
       "      <td>1</td>\n",
       "      <td>9.02</td>\n",
       "      <td>13.635</td>\n",
       "      <td>80</td>\n",
       "      <td>0.0</td>\n",
       "      <td>5</td>\n",
       "      <td>...</td>\n",
       "      <td>32</td>\n",
       "      <td>2011</td>\n",
       "      <td>1</td>\n",
       "      <td>1</td>\n",
       "      <td>2</td>\n",
       "      <td>Saturday</td>\n",
       "      <td>Spring</td>\n",
       "      <td>clear</td>\n",
       "      <td>0</td>\n",
       "      <td>0</td>\n",
       "    </tr>\n",
       "    <tr>\n",
       "      <th>3</th>\n",
       "      <td>2011-01-01 03:00:00</td>\n",
       "      <td>1</td>\n",
       "      <td>0</td>\n",
       "      <td>0</td>\n",
       "      <td>1</td>\n",
       "      <td>9.84</td>\n",
       "      <td>14.395</td>\n",
       "      <td>75</td>\n",
       "      <td>0.0</td>\n",
       "      <td>3</td>\n",
       "      <td>...</td>\n",
       "      <td>13</td>\n",
       "      <td>2011</td>\n",
       "      <td>1</td>\n",
       "      <td>1</td>\n",
       "      <td>3</td>\n",
       "      <td>Saturday</td>\n",
       "      <td>Spring</td>\n",
       "      <td>clear</td>\n",
       "      <td>0</td>\n",
       "      <td>0</td>\n",
       "    </tr>\n",
       "    <tr>\n",
       "      <th>4</th>\n",
       "      <td>2011-01-01 04:00:00</td>\n",
       "      <td>1</td>\n",
       "      <td>0</td>\n",
       "      <td>0</td>\n",
       "      <td>1</td>\n",
       "      <td>9.84</td>\n",
       "      <td>14.395</td>\n",
       "      <td>75</td>\n",
       "      <td>0.0</td>\n",
       "      <td>0</td>\n",
       "      <td>...</td>\n",
       "      <td>1</td>\n",
       "      <td>2011</td>\n",
       "      <td>1</td>\n",
       "      <td>1</td>\n",
       "      <td>4</td>\n",
       "      <td>Saturday</td>\n",
       "      <td>Spring</td>\n",
       "      <td>clear</td>\n",
       "      <td>0</td>\n",
       "      <td>0</td>\n",
       "    </tr>\n",
       "  </tbody>\n",
       "</table>\n",
       "<p>5 rows × 21 columns</p>\n",
       "</div>"
      ],
      "text/plain": [
       "              datetime  season  holiday  workingday  weather  temp   atemp  \\\n",
       "0  2011-01-01 00:00:00       1        0           0        1  9.84  14.395   \n",
       "1  2011-01-01 01:00:00       1        0           0        1  9.02  13.635   \n",
       "2  2011-01-01 02:00:00       1        0           0        1  9.02  13.635   \n",
       "3  2011-01-01 03:00:00       1        0           0        1  9.84  14.395   \n",
       "4  2011-01-01 04:00:00       1        0           0        1  9.84  14.395   \n",
       "\n",
       "   humidity  windspeed  casual  ...  count  year  month  day  hour  Day_name  \\\n",
       "0        81        0.0       3  ...     16  2011      1    1     0  Saturday   \n",
       "1        80        0.0       8  ...     40  2011      1    1     1  Saturday   \n",
       "2        80        0.0       5  ...     32  2011      1    1     2  Saturday   \n",
       "3        75        0.0       3  ...     13  2011      1    1     3  Saturday   \n",
       "4        75        0.0       0  ...      1  2011      1    1     4  Saturday   \n",
       "\n",
       "  Season_Exp Weather_Exp Season_Reconvert  weekday  \n",
       "0     Spring       clear                0        0  \n",
       "1     Spring       clear                0        0  \n",
       "2     Spring       clear                0        0  \n",
       "3     Spring       clear                0        0  \n",
       "4     Spring       clear                0        0  \n",
       "\n",
       "[5 rows x 21 columns]"
      ]
     },
     "execution_count": 59,
     "metadata": {},
     "output_type": "execute_result"
    }
   ],
   "source": [
    "df_train.head()"
   ]
  },
  {
   "cell_type": "code",
   "execution_count": 60,
   "metadata": {},
   "outputs": [
    {
     "name": "stdout",
     "output_type": "stream",
     "text": [
      "<class 'pandas.core.frame.DataFrame'>\n",
      "RangeIndex: 10886 entries, 0 to 10885\n",
      "Data columns (total 21 columns):\n",
      "datetime            10886 non-null object\n",
      "season              10886 non-null int64\n",
      "holiday             10886 non-null int64\n",
      "workingday          10886 non-null int64\n",
      "weather             10886 non-null int64\n",
      "temp                10886 non-null float64\n",
      "atemp               10886 non-null float64\n",
      "humidity            10886 non-null int64\n",
      "windspeed           10886 non-null float64\n",
      "casual              10886 non-null int64\n",
      "registered          10886 non-null int64\n",
      "count               10886 non-null int64\n",
      "year                10886 non-null int64\n",
      "month               10886 non-null int64\n",
      "day                 10886 non-null int64\n",
      "hour                10886 non-null int64\n",
      "Day_name            10886 non-null object\n",
      "Season_Exp          10886 non-null object\n",
      "Weather_Exp         10886 non-null object\n",
      "Season_Reconvert    10886 non-null int64\n",
      "weekday             10886 non-null int64\n",
      "dtypes: float64(3), int64(14), object(4)\n",
      "memory usage: 1.7+ MB\n"
     ]
    }
   ],
   "source": [
    "df_train.info()"
   ]
  },
  {
   "cell_type": "markdown",
   "metadata": {},
   "source": [
    "# Polynomial Split for Hour # "
   ]
  },
  {
   "cell_type": "code",
   "execution_count": 61,
   "metadata": {},
   "outputs": [],
   "source": [
    "df_train['hour_3'] = df_train['hour']**3\n",
    "df_train['hour_2'] = df_train['hour']**2"
   ]
  },
  {
   "cell_type": "markdown",
   "metadata": {},
   "source": [
    "# Categorical and Numerical Split # "
   ]
  },
  {
   "cell_type": "code",
   "execution_count": 62,
   "metadata": {},
   "outputs": [],
   "source": [
    "all_columns = list(df_train.columns)"
   ]
  },
  {
   "cell_type": "code",
   "execution_count": 63,
   "metadata": {},
   "outputs": [
    {
     "data": {
      "text/plain": [
       "['datetime',\n",
       " 'season',\n",
       " 'holiday',\n",
       " 'workingday',\n",
       " 'weather',\n",
       " 'temp',\n",
       " 'atemp',\n",
       " 'humidity',\n",
       " 'windspeed',\n",
       " 'casual',\n",
       " 'registered',\n",
       " 'count',\n",
       " 'year',\n",
       " 'month',\n",
       " 'day',\n",
       " 'hour',\n",
       " 'Day_name',\n",
       " 'Season_Exp',\n",
       " 'Weather_Exp',\n",
       " 'Season_Reconvert',\n",
       " 'weekday',\n",
       " 'hour_3',\n",
       " 'hour_2']"
      ]
     },
     "execution_count": 63,
     "metadata": {},
     "output_type": "execute_result"
    }
   ],
   "source": [
    "all_columns"
   ]
  },
  {
   "cell_type": "code",
   "execution_count": 77,
   "metadata": {},
   "outputs": [
    {
     "data": {
      "text/plain": [
       "['Season_Reconvert',\n",
       " 'holiday',\n",
       " 'workingday',\n",
       " 'weekday',\n",
       " 'weather',\n",
       " 'year',\n",
       " 'month',\n",
       " 'hour_2',\n",
       " 'hour_3',\n",
       " 'temp',\n",
       " 'atemp',\n",
       " 'humidity',\n",
       " 'windspeed']"
      ]
     },
     "execution_count": 77,
     "metadata": {},
     "output_type": "execute_result"
    }
   ],
   "source": [
    "categorical_columns = ['Season_Reconvert','holiday','workingday','weekday','weather', 'year','month', 'hour_2', 'hour_3']\n",
    "df_train[categorical_columns] = df_train[categorical_columns].astype('category')\n",
    "numerical_columns = ['temp', 'atemp', 'humidity', 'windspeed']\n",
    "train_list = categorical_columns + numerical_columns\n",
    "train_list\n"
   ]
  },
  {
   "cell_type": "code",
   "execution_count": 78,
   "metadata": {},
   "outputs": [],
   "source": [
    "Xtrain = df_train[train_list].drop(['temp','humidity'], axis = 1)"
   ]
  },
  {
   "cell_type": "code",
   "execution_count": 79,
   "metadata": {},
   "outputs": [
    {
     "data": {
      "text/html": [
       "<div>\n",
       "<style scoped>\n",
       "    .dataframe tbody tr th:only-of-type {\n",
       "        vertical-align: middle;\n",
       "    }\n",
       "\n",
       "    .dataframe tbody tr th {\n",
       "        vertical-align: top;\n",
       "    }\n",
       "\n",
       "    .dataframe thead th {\n",
       "        text-align: right;\n",
       "    }\n",
       "</style>\n",
       "<table border=\"1\" class=\"dataframe\">\n",
       "  <thead>\n",
       "    <tr style=\"text-align: right;\">\n",
       "      <th></th>\n",
       "      <th>Season_Reconvert</th>\n",
       "      <th>holiday</th>\n",
       "      <th>workingday</th>\n",
       "      <th>weekday</th>\n",
       "      <th>weather</th>\n",
       "      <th>year</th>\n",
       "      <th>month</th>\n",
       "      <th>hour_2</th>\n",
       "      <th>hour_3</th>\n",
       "      <th>atemp</th>\n",
       "      <th>windspeed</th>\n",
       "    </tr>\n",
       "  </thead>\n",
       "  <tbody>\n",
       "    <tr>\n",
       "      <th>10881</th>\n",
       "      <td>1</td>\n",
       "      <td>0</td>\n",
       "      <td>1</td>\n",
       "      <td>1</td>\n",
       "      <td>1</td>\n",
       "      <td>2012</td>\n",
       "      <td>12</td>\n",
       "      <td>361</td>\n",
       "      <td>6859</td>\n",
       "      <td>19.695</td>\n",
       "      <td>26.0027</td>\n",
       "    </tr>\n",
       "    <tr>\n",
       "      <th>10882</th>\n",
       "      <td>1</td>\n",
       "      <td>0</td>\n",
       "      <td>1</td>\n",
       "      <td>1</td>\n",
       "      <td>1</td>\n",
       "      <td>2012</td>\n",
       "      <td>12</td>\n",
       "      <td>400</td>\n",
       "      <td>8000</td>\n",
       "      <td>17.425</td>\n",
       "      <td>15.0013</td>\n",
       "    </tr>\n",
       "    <tr>\n",
       "      <th>10883</th>\n",
       "      <td>1</td>\n",
       "      <td>0</td>\n",
       "      <td>1</td>\n",
       "      <td>1</td>\n",
       "      <td>1</td>\n",
       "      <td>2012</td>\n",
       "      <td>12</td>\n",
       "      <td>441</td>\n",
       "      <td>9261</td>\n",
       "      <td>15.910</td>\n",
       "      <td>15.0013</td>\n",
       "    </tr>\n",
       "    <tr>\n",
       "      <th>10884</th>\n",
       "      <td>1</td>\n",
       "      <td>0</td>\n",
       "      <td>1</td>\n",
       "      <td>1</td>\n",
       "      <td>1</td>\n",
       "      <td>2012</td>\n",
       "      <td>12</td>\n",
       "      <td>484</td>\n",
       "      <td>10648</td>\n",
       "      <td>17.425</td>\n",
       "      <td>6.0032</td>\n",
       "    </tr>\n",
       "    <tr>\n",
       "      <th>10885</th>\n",
       "      <td>1</td>\n",
       "      <td>0</td>\n",
       "      <td>1</td>\n",
       "      <td>1</td>\n",
       "      <td>1</td>\n",
       "      <td>2012</td>\n",
       "      <td>12</td>\n",
       "      <td>529</td>\n",
       "      <td>12167</td>\n",
       "      <td>16.665</td>\n",
       "      <td>8.9981</td>\n",
       "    </tr>\n",
       "  </tbody>\n",
       "</table>\n",
       "</div>"
      ],
      "text/plain": [
       "      Season_Reconvert holiday workingday weekday weather  year month hour_2  \\\n",
       "10881                1       0          1       1       1  2012    12    361   \n",
       "10882                1       0          1       1       1  2012    12    400   \n",
       "10883                1       0          1       1       1  2012    12    441   \n",
       "10884                1       0          1       1       1  2012    12    484   \n",
       "10885                1       0          1       1       1  2012    12    529   \n",
       "\n",
       "      hour_3   atemp  windspeed  \n",
       "10881   6859  19.695    26.0027  \n",
       "10882   8000  17.425    15.0013  \n",
       "10883   9261  15.910    15.0013  \n",
       "10884  10648  17.425     6.0032  \n",
       "10885  12167  16.665     8.9981  "
      ]
     },
     "execution_count": 79,
     "metadata": {},
     "output_type": "execute_result"
    }
   ],
   "source": [
    "Xtrain.tail()"
   ]
  },
  {
   "cell_type": "code",
   "execution_count": 100,
   "metadata": {},
   "outputs": [],
   "source": [
    "import numpy as np\n",
    "ytrain = np.log1p(df_train['count'])"
   ]
  },
  {
   "cell_type": "code",
   "execution_count": null,
   "metadata": {},
   "outputs": [],
   "source": []
  },
  {
   "cell_type": "code",
   "execution_count": 101,
   "metadata": {},
   "outputs": [],
   "source": [
    "#Scikit Linear Reg\n",
    "m = LinearRegression()\n"
   ]
  },
  {
   "cell_type": "code",
   "execution_count": 102,
   "metadata": {},
   "outputs": [
    {
     "data": {
      "text/plain": [
       "(LinearRegression(copy_X=True, fit_intercept=True, n_jobs=None,\n",
       "          normalize=False), 0.6491253673915214)"
      ]
     },
     "execution_count": 102,
     "metadata": {},
     "output_type": "execute_result"
    }
   ],
   "source": [
    "m.fit(Xtrain, ytrain), m.score(Xtrain, ytrain)"
   ]
  },
  {
   "cell_type": "code",
   "execution_count": 103,
   "metadata": {},
   "outputs": [],
   "source": [
    "def rmsle(y, y_,convertExp=True):\n",
    "    if convertExp:\n",
    "        y = np.exp(y),\n",
    "        y_ = np.exp(y_)\n",
    "    log1 = np.nan_to_num(np.array([np.log(v + 1) for v in y]))\n",
    "    log2 = np.nan_to_num(np.array([np.log(v + 1) for v in y_]))\n",
    "    calc = (log1 - log2) ** 2\n",
    "    return np.sqrt(np.mean(calc))"
   ]
  },
  {
   "cell_type": "code",
   "execution_count": 104,
   "metadata": {},
   "outputs": [
    {
     "data": {
      "text/plain": [
       "0.7068948751881796"
      ]
     },
     "execution_count": 104,
     "metadata": {},
     "output_type": "execute_result"
    }
   ],
   "source": [
    "ypred = m.predict(Xtrain)\n",
    "mean_squared_error(ytrain, ypred) #Scikit"
   ]
  },
  {
   "cell_type": "code",
   "execution_count": 105,
   "metadata": {},
   "outputs": [
    {
     "data": {
      "text/html": [
       "<div>\n",
       "<style scoped>\n",
       "    .dataframe tbody tr th:only-of-type {\n",
       "        vertical-align: middle;\n",
       "    }\n",
       "\n",
       "    .dataframe tbody tr th {\n",
       "        vertical-align: top;\n",
       "    }\n",
       "\n",
       "    .dataframe thead th {\n",
       "        text-align: right;\n",
       "    }\n",
       "</style>\n",
       "<table border=\"1\" class=\"dataframe\">\n",
       "  <thead>\n",
       "    <tr style=\"text-align: right;\">\n",
       "      <th></th>\n",
       "      <th>Coefficients</th>\n",
       "    </tr>\n",
       "  </thead>\n",
       "  <tbody>\n",
       "    <tr>\n",
       "      <th>Season_Reconvert</th>\n",
       "      <td>0.064668</td>\n",
       "    </tr>\n",
       "    <tr>\n",
       "      <th>holiday</th>\n",
       "      <td>-0.026422</td>\n",
       "    </tr>\n",
       "    <tr>\n",
       "      <th>workingday</th>\n",
       "      <td>-0.015541</td>\n",
       "    </tr>\n",
       "    <tr>\n",
       "      <th>weekday</th>\n",
       "      <td>-0.041963</td>\n",
       "    </tr>\n",
       "    <tr>\n",
       "      <th>weather</th>\n",
       "      <td>-0.200454</td>\n",
       "    </tr>\n",
       "    <tr>\n",
       "      <th>year</th>\n",
       "      <td>0.490581</td>\n",
       "    </tr>\n",
       "    <tr>\n",
       "      <th>month</th>\n",
       "      <td>0.046164</td>\n",
       "    </tr>\n",
       "    <tr>\n",
       "      <th>hour_2</th>\n",
       "      <td>0.032671</td>\n",
       "    </tr>\n",
       "    <tr>\n",
       "      <th>hour_3</th>\n",
       "      <td>-0.001321</td>\n",
       "    </tr>\n",
       "    <tr>\n",
       "      <th>atemp</th>\n",
       "      <td>0.023302</td>\n",
       "    </tr>\n",
       "    <tr>\n",
       "      <th>windspeed</th>\n",
       "      <td>-0.003064</td>\n",
       "    </tr>\n",
       "  </tbody>\n",
       "</table>\n",
       "</div>"
      ],
      "text/plain": [
       "                  Coefficients\n",
       "Season_Reconvert      0.064668\n",
       "holiday              -0.026422\n",
       "workingday           -0.015541\n",
       "weekday              -0.041963\n",
       "weather              -0.200454\n",
       "year                  0.490581\n",
       "month                 0.046164\n",
       "hour_2                0.032671\n",
       "hour_3               -0.001321\n",
       "atemp                 0.023302\n",
       "windspeed            -0.003064"
      ]
     },
     "execution_count": 105,
     "metadata": {},
     "output_type": "execute_result"
    }
   ],
   "source": [
    "m.coef_ , m.intercept_, Xtrain.columns\n",
    "l = zip(Xtrain.columns, m.coef_)\n",
    "fit_coeff = pd.DataFrame(l, columns = ['Variables', 'Coefficients'], index = Xtrain.columns)\n",
    "fit_coeff.drop('Variables', axis = 1)"
   ]
  },
  {
   "cell_type": "code",
   "execution_count": 106,
   "metadata": {},
   "outputs": [],
   "source": [
    "from scipy.stats import probplot\n",
    "import matplotlib.pyplot as plt\n",
    "\n"
   ]
  },
  {
   "cell_type": "code",
   "execution_count": 107,
   "metadata": {},
   "outputs": [
    {
     "name": "stdout",
     "output_type": "stream",
     "text": [
      "1.2500458544863537e-13\n"
     ]
    },
    {
     "data": {
      "text/plain": [
       "<matplotlib.axes._subplots.AxesSubplot at 0x1a19c03320>"
      ]
     },
     "execution_count": 107,
     "metadata": {},
     "output_type": "execute_result"
    },
    {
     "data": {
      "image/png": "[encoded data removed]",
      "text/plain": [
       "<Figure size 432x288 with 1 Axes>"
      ]
     },
     "metadata": {
      "needs_background": "light"
     },
     "output_type": "display_data"
    }
   ],
   "source": [
    "#Check the assumptions\n",
    "#Mean residual is around zero\n",
    "residuals = ypred - ytrain\n",
    "print(residuals.mean())\n",
    "residuals.hist()\n"
   ]
  },
  {
   "cell_type": "code",
   "execution_count": 108,
   "metadata": {},
   "outputs": [
    {
     "data": {
      "text/plain": [
       "((array([-3.83154229, -3.60754977, -3.48462983, ...,  3.48462983,\n",
       "          3.60754977,  3.83154229]),\n",
       "  array([-2.70611216, -2.51660928, -2.45410582, ...,  2.82822671,\n",
       "          2.82848495,  2.87618989])),\n",
       " (0.835302002595851, 1.2481900725390073e-13, 0.993166754816966))"
      ]
     },
     "execution_count": 108,
     "metadata": {},
     "output_type": "execute_result"
    },
    {
     "data": {
      "image/png": "[encoded data removed]",
      "text/plain": [
       "<Figure size 432x288 with 1 Axes>"
      ]
     },
     "metadata": {
      "needs_background": "light"
     },
     "output_type": "display_data"
    }
   ],
   "source": [
    "#Q-Q plot\n",
    "probplot(residuals, plot=plt)"
   ]
  },
  {
   "cell_type": "code",
   "execution_count": 109,
   "metadata": {},
   "outputs": [
    {
     "data": {
      "image/png": "[encoded data removed]",
      "text/plain": [
       "<Figure size 432x288 with 1 Axes>"
      ]
     },
     "metadata": {
      "needs_background": "light"
     },
     "output_type": "display_data"
    },
    {
     "data": {
      "image/png": "[encoded data removed]",
      "text/plain": [
       "<Figure size 432x288 with 1 Axes>"
      ]
     },
     "metadata": {
      "needs_background": "light"
     },
     "output_type": "display_data"
    },
    {
     "data": {
      "image/png": "[encoded data removed]",
      "text/plain": [
       "<Figure size 432x288 with 1 Axes>"
      ]
     },
     "metadata": {
      "needs_background": "light"
     },
     "output_type": "display_data"
    },
    {
     "data": {
      "image/png": "[encoded data removed]",
      "text/plain": [
       "<Figure size 432x288 with 1 Axes>"
      ]
     },
     "metadata": {
      "needs_background": "light"
     },
     "output_type": "display_data"
    },
    {
     "data": {
      "image/png": "[encoded data removed]",
      "text/plain": [
       "<Figure size 432x288 with 1 Axes>"
      ]
     },
     "metadata": {
      "needs_background": "light"
     },
     "output_type": "display_data"
    },
    {
     "data": {
      "image/png": "[encoded data removed]",
      "text/plain": [
       "<Figure size 432x288 with 1 Axes>"
      ]
     },
     "metadata": {
      "needs_background": "light"
     },
     "output_type": "display_data"
    },
    {
     "data": {
      "image/png": "[encoded data removed]",
      "text/plain": [
       "<Figure size 432x288 with 1 Axes>"
      ]
     },
     "metadata": {
      "needs_background": "light"
     },
     "output_type": "display_data"
    },
    {
     "data": {
      "image/png": "[encoded data removed]",
      "text/plain": [
       "<Figure size 432x288 with 1 Axes>"
      ]
     },
     "metadata": {
      "needs_background": "light"
     },
     "output_type": "display_data"
    },
    {
     "data": {
      "image/png": "[encoded data removed]",
      "text/plain": [
       "<Figure size 432x288 with 1 Axes>"
      ]
     },
     "metadata": {
      "needs_background": "light"
     },
     "output_type": "display_data"
    },
    {
     "data": {
      "image/png": "[encoded data removed]",
      "text/plain": [
       "<Figure size 432x288 with 1 Axes>"
      ]
     },
     "metadata": {
      "needs_background": "light"
     },
     "output_type": "display_data"
    },
    {
     "data": {
      "image/png": "[encoded data removed]",
      "text/plain": [
       "<Figure size 432x288 with 1 Axes>"
      ]
     },
     "metadata": {
      "needs_background": "light"
     },
     "output_type": "display_data"
    }
   ],
   "source": [
    "#Residuals uncorrelated with x and must be equally on and under 0\n",
    "\n",
    "for column in Xtrain.columns:\n",
    "    plt.scatter(Xtrain[column], residuals)\n",
    "    plt.title(f'{column}')\n",
    "    plt.show()\n",
    "#plt.scatter(Xtrain, residuals)\n",
    "#Xtrain.shape, residuals.shape"
   ]
  },
  {
   "cell_type": "code",
   "execution_count": null,
   "metadata": {},
   "outputs": [],
   "source": []
  }
 ],
 "metadata": {
  "kernelspec": {
   "display_name": "Python 3",
   "language": "python",
   "name": "python3"
  },
  "language_info": {
   "codemirror_mode": {
    "name": "ipython",
    "version": 3
   },
   "file_extension": ".py",
   "mimetype": "text/x-python",
   "name": "python",
   "nbconvert_exporter": "python",
   "pygments_lexer": "ipython3",
   "version": "3.7.3"
  }
 },
 "nbformat": 4,
 "nbformat_minor": 2
}
