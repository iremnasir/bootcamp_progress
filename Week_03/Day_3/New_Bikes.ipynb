{
 "cells": [
  {
   "cell_type": "code",
   "execution_count": 270,
   "metadata": {},
   "outputs": [],
   "source": [
    "import pandas as pd\n",
    "import seaborn as sns\n",
    "from matplotlib import pyplot as plt\n",
    "from sklearn.linear_model import LinearRegression, Ridge, Lasso, ElasticNet\n",
    "from sklearn.metrics import mean_squared_error\n",
    "from sklearn.preprocessing import PolynomialFeatures, MinMaxScaler"
   ]
  },
  {
   "cell_type": "code",
   "execution_count": 271,
   "metadata": {},
   "outputs": [],
   "source": [
    "df_train = pd.read_csv('./bike_15_16_train.csv', index_col = 0)"
   ]
  },
  {
   "cell_type": "code",
   "execution_count": 272,
   "metadata": {},
   "outputs": [
    {
     "data": {
      "text/html": [
       "<div>\n",
       "<style scoped>\n",
       "    .dataframe tbody tr th:only-of-type {\n",
       "        vertical-align: middle;\n",
       "    }\n",
       "\n",
       "    .dataframe tbody tr th {\n",
       "        vertical-align: top;\n",
       "    }\n",
       "\n",
       "    .dataframe thead th {\n",
       "        text-align: right;\n",
       "    }\n",
       "</style>\n",
       "<table border=\"1\" class=\"dataframe\">\n",
       "  <thead>\n",
       "    <tr style=\"text-align: right;\">\n",
       "      <th></th>\n",
       "      <th>Counts</th>\n",
       "      <th>Sum_Duration</th>\n",
       "      <th>Hour</th>\n",
       "      <th>Day</th>\n",
       "      <th>Month</th>\n",
       "      <th>Year</th>\n",
       "      <th>atemperatue</th>\n",
       "      <th>humidity</th>\n",
       "      <th>temperature</th>\n",
       "      <th>windSpeed</th>\n",
       "      <th>Day_Name</th>\n",
       "      <th>weekday</th>\n",
       "      <th>Holiday</th>\n",
       "    </tr>\n",
       "  </thead>\n",
       "  <tbody>\n",
       "    <tr>\n",
       "      <th>2015-01-01 00:00:00-05:00</th>\n",
       "      <td>54</td>\n",
       "      <td>48944.0</td>\n",
       "      <td>0</td>\n",
       "      <td>1</td>\n",
       "      <td>1</td>\n",
       "      <td>2015</td>\n",
       "      <td>-4.02</td>\n",
       "      <td>0.67</td>\n",
       "      <td>-4.02</td>\n",
       "      <td>0.04</td>\n",
       "      <td>Thursday</td>\n",
       "      <td>1</td>\n",
       "      <td>0</td>\n",
       "    </tr>\n",
       "    <tr>\n",
       "      <th>2015-01-01 01:00:00-05:00</th>\n",
       "      <td>114</td>\n",
       "      <td>79028.0</td>\n",
       "      <td>1</td>\n",
       "      <td>1</td>\n",
       "      <td>1</td>\n",
       "      <td>2015</td>\n",
       "      <td>-4.30</td>\n",
       "      <td>0.70</td>\n",
       "      <td>-4.30</td>\n",
       "      <td>0.43</td>\n",
       "      <td>Thursday</td>\n",
       "      <td>1</td>\n",
       "      <td>0</td>\n",
       "    </tr>\n",
       "    <tr>\n",
       "      <th>2015-01-01 02:00:00-05:00</th>\n",
       "      <td>100</td>\n",
       "      <td>67666.0</td>\n",
       "      <td>2</td>\n",
       "      <td>1</td>\n",
       "      <td>1</td>\n",
       "      <td>2015</td>\n",
       "      <td>-4.09</td>\n",
       "      <td>0.67</td>\n",
       "      <td>-4.09</td>\n",
       "      <td>0.57</td>\n",
       "      <td>Thursday</td>\n",
       "      <td>1</td>\n",
       "      <td>0</td>\n",
       "    </tr>\n",
       "    <tr>\n",
       "      <th>2015-01-01 03:00:00-05:00</th>\n",
       "      <td>16</td>\n",
       "      <td>31606.0</td>\n",
       "      <td>3</td>\n",
       "      <td>1</td>\n",
       "      <td>1</td>\n",
       "      <td>2015</td>\n",
       "      <td>-3.86</td>\n",
       "      <td>0.64</td>\n",
       "      <td>-3.86</td>\n",
       "      <td>0.55</td>\n",
       "      <td>Thursday</td>\n",
       "      <td>1</td>\n",
       "      <td>0</td>\n",
       "    </tr>\n",
       "    <tr>\n",
       "      <th>2015-01-01 04:00:00-05:00</th>\n",
       "      <td>8</td>\n",
       "      <td>5083.0</td>\n",
       "      <td>4</td>\n",
       "      <td>1</td>\n",
       "      <td>1</td>\n",
       "      <td>2015</td>\n",
       "      <td>-4.27</td>\n",
       "      <td>0.64</td>\n",
       "      <td>-4.27</td>\n",
       "      <td>0.47</td>\n",
       "      <td>Thursday</td>\n",
       "      <td>1</td>\n",
       "      <td>0</td>\n",
       "    </tr>\n",
       "  </tbody>\n",
       "</table>\n",
       "</div>"
      ],
      "text/plain": [
       "                           Counts  Sum_Duration  Hour  Day  Month  Year  \\\n",
       "2015-01-01 00:00:00-05:00      54       48944.0     0    1      1  2015   \n",
       "2015-01-01 01:00:00-05:00     114       79028.0     1    1      1  2015   \n",
       "2015-01-01 02:00:00-05:00     100       67666.0     2    1      1  2015   \n",
       "2015-01-01 03:00:00-05:00      16       31606.0     3    1      1  2015   \n",
       "2015-01-01 04:00:00-05:00       8        5083.0     4    1      1  2015   \n",
       "\n",
       "                           atemperatue  humidity  temperature  windSpeed  \\\n",
       "2015-01-01 00:00:00-05:00        -4.02      0.67        -4.02       0.04   \n",
       "2015-01-01 01:00:00-05:00        -4.30      0.70        -4.30       0.43   \n",
       "2015-01-01 02:00:00-05:00        -4.09      0.67        -4.09       0.57   \n",
       "2015-01-01 03:00:00-05:00        -3.86      0.64        -3.86       0.55   \n",
       "2015-01-01 04:00:00-05:00        -4.27      0.64        -4.27       0.47   \n",
       "\n",
       "                           Day_Name  weekday  Holiday  \n",
       "2015-01-01 00:00:00-05:00  Thursday        1        0  \n",
       "2015-01-01 01:00:00-05:00  Thursday        1        0  \n",
       "2015-01-01 02:00:00-05:00  Thursday        1        0  \n",
       "2015-01-01 03:00:00-05:00  Thursday        1        0  \n",
       "2015-01-01 04:00:00-05:00  Thursday        1        0  "
      ]
     },
     "execution_count": 272,
     "metadata": {},
     "output_type": "execute_result"
    }
   ],
   "source": [
    "df_train.head()"
   ]
  },
  {
   "cell_type": "code",
   "execution_count": 273,
   "metadata": {},
   "outputs": [],
   "source": [
    "#Encode Season in the Data\n",
    "season_range = range(1,13)\n",
    "seasons = ['1']*3 + ['2']*3 +['3']*3 + ['4']*3\n",
    "season_new = dict(zip(season_range, seasons))\n",
    "df_train['Seasons'] = df_train['Month'].map(season_new)\n",
    "\n",
    "#Hour Binning\n",
    "hour_range = range(0,24)\n",
    "bins = ['Night']*6 + ['Morning']*4 + ['Day']*7 + ['Evening']*7\n",
    "hour_new = dict(zip(hour_range, bins))\n",
    "df_train['Hour_binned'] = df_train['Hour'].map(hour_new)\n",
    "\n",
    "#Hour_Dict_Factorization_Low Level\n",
    "factor_hour = {'Night': 0, 'Morning':1, 'Day': 2, 'Evening': 3}\n",
    "df_train['Hour_Reconvert'] = df_train['Hour_binned'].map(factor_hour)\n",
    "\n"
   ]
  },
  {
   "cell_type": "code",
   "execution_count": 274,
   "metadata": {},
   "outputs": [
    {
     "data": {
      "text/html": [
       "<div>\n",
       "<style scoped>\n",
       "    .dataframe tbody tr th:only-of-type {\n",
       "        vertical-align: middle;\n",
       "    }\n",
       "\n",
       "    .dataframe tbody tr th {\n",
       "        vertical-align: top;\n",
       "    }\n",
       "\n",
       "    .dataframe thead th {\n",
       "        text-align: right;\n",
       "    }\n",
       "</style>\n",
       "<table border=\"1\" class=\"dataframe\">\n",
       "  <thead>\n",
       "    <tr style=\"text-align: right;\">\n",
       "      <th></th>\n",
       "      <th>Counts</th>\n",
       "      <th>Sum_Duration</th>\n",
       "      <th>Hour</th>\n",
       "      <th>Day</th>\n",
       "      <th>Month</th>\n",
       "      <th>Year</th>\n",
       "      <th>atemperatue</th>\n",
       "      <th>humidity</th>\n",
       "      <th>temperature</th>\n",
       "      <th>windSpeed</th>\n",
       "      <th>Day_Name</th>\n",
       "      <th>weekday</th>\n",
       "      <th>Holiday</th>\n",
       "      <th>Seasons</th>\n",
       "      <th>Hour_binned</th>\n",
       "      <th>Hour_Reconvert</th>\n",
       "    </tr>\n",
       "  </thead>\n",
       "  <tbody>\n",
       "    <tr>\n",
       "      <th>2015-01-01 00:00:00-05:00</th>\n",
       "      <td>54</td>\n",
       "      <td>48944.0</td>\n",
       "      <td>0</td>\n",
       "      <td>1</td>\n",
       "      <td>1</td>\n",
       "      <td>2015</td>\n",
       "      <td>-4.02</td>\n",
       "      <td>0.67</td>\n",
       "      <td>-4.02</td>\n",
       "      <td>0.04</td>\n",
       "      <td>Thursday</td>\n",
       "      <td>1</td>\n",
       "      <td>0</td>\n",
       "      <td>1</td>\n",
       "      <td>Night</td>\n",
       "      <td>0</td>\n",
       "    </tr>\n",
       "    <tr>\n",
       "      <th>2015-01-01 01:00:00-05:00</th>\n",
       "      <td>114</td>\n",
       "      <td>79028.0</td>\n",
       "      <td>1</td>\n",
       "      <td>1</td>\n",
       "      <td>1</td>\n",
       "      <td>2015</td>\n",
       "      <td>-4.30</td>\n",
       "      <td>0.70</td>\n",
       "      <td>-4.30</td>\n",
       "      <td>0.43</td>\n",
       "      <td>Thursday</td>\n",
       "      <td>1</td>\n",
       "      <td>0</td>\n",
       "      <td>1</td>\n",
       "      <td>Night</td>\n",
       "      <td>0</td>\n",
       "    </tr>\n",
       "    <tr>\n",
       "      <th>2015-01-01 02:00:00-05:00</th>\n",
       "      <td>100</td>\n",
       "      <td>67666.0</td>\n",
       "      <td>2</td>\n",
       "      <td>1</td>\n",
       "      <td>1</td>\n",
       "      <td>2015</td>\n",
       "      <td>-4.09</td>\n",
       "      <td>0.67</td>\n",
       "      <td>-4.09</td>\n",
       "      <td>0.57</td>\n",
       "      <td>Thursday</td>\n",
       "      <td>1</td>\n",
       "      <td>0</td>\n",
       "      <td>1</td>\n",
       "      <td>Night</td>\n",
       "      <td>0</td>\n",
       "    </tr>\n",
       "    <tr>\n",
       "      <th>2015-01-01 03:00:00-05:00</th>\n",
       "      <td>16</td>\n",
       "      <td>31606.0</td>\n",
       "      <td>3</td>\n",
       "      <td>1</td>\n",
       "      <td>1</td>\n",
       "      <td>2015</td>\n",
       "      <td>-3.86</td>\n",
       "      <td>0.64</td>\n",
       "      <td>-3.86</td>\n",
       "      <td>0.55</td>\n",
       "      <td>Thursday</td>\n",
       "      <td>1</td>\n",
       "      <td>0</td>\n",
       "      <td>1</td>\n",
       "      <td>Night</td>\n",
       "      <td>0</td>\n",
       "    </tr>\n",
       "    <tr>\n",
       "      <th>2015-01-01 04:00:00-05:00</th>\n",
       "      <td>8</td>\n",
       "      <td>5083.0</td>\n",
       "      <td>4</td>\n",
       "      <td>1</td>\n",
       "      <td>1</td>\n",
       "      <td>2015</td>\n",
       "      <td>-4.27</td>\n",
       "      <td>0.64</td>\n",
       "      <td>-4.27</td>\n",
       "      <td>0.47</td>\n",
       "      <td>Thursday</td>\n",
       "      <td>1</td>\n",
       "      <td>0</td>\n",
       "      <td>1</td>\n",
       "      <td>Night</td>\n",
       "      <td>0</td>\n",
       "    </tr>\n",
       "  </tbody>\n",
       "</table>\n",
       "</div>"
      ],
      "text/plain": [
       "                           Counts  Sum_Duration  Hour  Day  Month  Year  \\\n",
       "2015-01-01 00:00:00-05:00      54       48944.0     0    1      1  2015   \n",
       "2015-01-01 01:00:00-05:00     114       79028.0     1    1      1  2015   \n",
       "2015-01-01 02:00:00-05:00     100       67666.0     2    1      1  2015   \n",
       "2015-01-01 03:00:00-05:00      16       31606.0     3    1      1  2015   \n",
       "2015-01-01 04:00:00-05:00       8        5083.0     4    1      1  2015   \n",
       "\n",
       "                           atemperatue  humidity  temperature  windSpeed  \\\n",
       "2015-01-01 00:00:00-05:00        -4.02      0.67        -4.02       0.04   \n",
       "2015-01-01 01:00:00-05:00        -4.30      0.70        -4.30       0.43   \n",
       "2015-01-01 02:00:00-05:00        -4.09      0.67        -4.09       0.57   \n",
       "2015-01-01 03:00:00-05:00        -3.86      0.64        -3.86       0.55   \n",
       "2015-01-01 04:00:00-05:00        -4.27      0.64        -4.27       0.47   \n",
       "\n",
       "                           Day_Name  weekday  Holiday Seasons Hour_binned  \\\n",
       "2015-01-01 00:00:00-05:00  Thursday        1        0       1       Night   \n",
       "2015-01-01 01:00:00-05:00  Thursday        1        0       1       Night   \n",
       "2015-01-01 02:00:00-05:00  Thursday        1        0       1       Night   \n",
       "2015-01-01 03:00:00-05:00  Thursday        1        0       1       Night   \n",
       "2015-01-01 04:00:00-05:00  Thursday        1        0       1       Night   \n",
       "\n",
       "                           Hour_Reconvert  \n",
       "2015-01-01 00:00:00-05:00               0  \n",
       "2015-01-01 01:00:00-05:00               0  \n",
       "2015-01-01 02:00:00-05:00               0  \n",
       "2015-01-01 03:00:00-05:00               0  \n",
       "2015-01-01 04:00:00-05:00               0  "
      ]
     },
     "execution_count": 274,
     "metadata": {},
     "output_type": "execute_result"
    }
   ],
   "source": [
    "df_train.head()"
   ]
  },
  {
   "cell_type": "code",
   "execution_count": 280,
   "metadata": {},
   "outputs": [
    {
     "data": {
      "text/plain": [
       "<matplotlib.axes._subplots.AxesSubplot at 0x1a46209320>"
      ]
     },
     "execution_count": 280,
     "metadata": {},
     "output_type": "execute_result"
    },
    {
     "data": {
      "image/png": "[encoded data removed]",
      "text/plain": [
       "<Figure size 432x288 with 1 Axes>"
      ]
     },
     "metadata": {
      "needs_background": "light"
     },
     "output_type": "display_data"
    }
   ],
   "source": [
    "sns.distplot(df_train['Sum_Duration'])"
   ]
  },
  {
   "cell_type": "code",
   "execution_count": 281,
   "metadata": {},
   "outputs": [
    {
     "data": {
      "text/plain": [
       "Counts            0\n",
       "Sum_Duration      0\n",
       "Hour              0\n",
       "Day               0\n",
       "Month             0\n",
       "Year              0\n",
       "atemperatue       0\n",
       "humidity          0\n",
       "temperature       0\n",
       "windSpeed         0\n",
       "Day_Name          0\n",
       "weekday           0\n",
       "Holiday           0\n",
       "Seasons           0\n",
       "Hour_binned       0\n",
       "Hour_Reconvert    0\n",
       "dtype: int64"
      ]
     },
     "execution_count": 281,
     "metadata": {},
     "output_type": "execute_result"
    }
   ],
   "source": [
    "df_train.isnull().sum() # number of missing values "
   ]
  },
  {
   "cell_type": "code",
   "execution_count": 282,
   "metadata": {},
   "outputs": [
    {
     "data": {
      "text/plain": [
       "Counts             1476\n",
       "Sum_Duration      12528\n",
       "Hour                 24\n",
       "Day                  26\n",
       "Month                12\n",
       "Year                  2\n",
       "atemperatue        4347\n",
       "humidity             84\n",
       "temperature        3895\n",
       "windSpeed          1769\n",
       "Day_Name              7\n",
       "weekday               2\n",
       "Holiday               2\n",
       "Seasons               4\n",
       "Hour_binned           4\n",
       "Hour_Reconvert        4\n",
       "dtype: int64"
      ]
     },
     "execution_count": 282,
     "metadata": {},
     "output_type": "execute_result"
    }
   ],
   "source": [
    "df_train.nunique()"
   ]
  },
  {
   "cell_type": "code",
   "execution_count": 287,
   "metadata": {},
   "outputs": [
    {
     "data": {
      "text/plain": [
       "<matplotlib.axes._subplots.AxesSubplot at 0x1a48d3a128>"
      ]
     },
     "execution_count": 287,
     "metadata": {},
     "output_type": "execute_result"
    },
    {
     "data": {
      "image/png": "[encoded data removed]",
      "text/plain": [
       "<Figure size 864x360 with 4 Axes>"
      ]
     },
     "metadata": {
      "needs_background": "light"
     },
     "output_type": "display_data"
    }
   ],
   "source": [
    "plt.figure(figsize = (12,5))\n",
    "plt.subplot(2,2,1) # r, c, fignum\n",
    "sns.boxplot(y = df_train['Sum_Duration'], x = df_train['Hour'])\n",
    "plt.subplot(2,2,2) # r, c, fignum\n",
    "sns.boxplot(y = df_train['Sum_Duration'], x = df_train['Day_Name'])\n",
    "plt.subplot(2,2,3) # r, c, fignum\n",
    "sns.boxplot(y = df_train['Sum_Duration'], x = df_train['Month'])\n",
    "plt.subplot(2,2,4) # r, c, fignum\n",
    "sns.boxplot(y = df_train['Sum_Duration'], x = df_train['Year'])"
   ]
  },
  {
   "cell_type": "code",
   "execution_count": 290,
   "metadata": {},
   "outputs": [
    {
     "data": {
      "text/plain": [
       "<matplotlib.axes._subplots.AxesSubplot at 0x1a4961c588>"
      ]
     },
     "execution_count": 290,
     "metadata": {},
     "output_type": "execute_result"
    },
    {
     "data": {
      "image/png": "[encoded data removed]",
      "text/plain": [
       "<Figure size 864x360 with 4 Axes>"
      ]
     },
     "metadata": {
      "needs_background": "light"
     },
     "output_type": "display_data"
    }
   ],
   "source": [
    "plt.figure(figsize = (12,5))\n",
    "plt.subplot(2,2,1) # r, c, fignum\n",
    "#sns.boxplot(y = df_train['Sum_Duration'], x = df_train['atemperatue'])\n",
    "plt.subplot(2,2,2) # r, c, fignum\n",
    "sns.boxplot(y = df_train['Sum_Duration'], x = df_train['weekday'])\n",
    "plt.subplot(2,2,3) # r, c, fignum\n",
    "sns.boxplot(y = df_train['Sum_Duration'], x = df_train['Holiday'])\n",
    "plt.subplot(2,2,4) # r, c, fignum\n",
    "sns.scatterplot(y = df_train['Sum_Duration'], x = df_train['Hour_Reconvert'])"
   ]
  },
  {
   "cell_type": "code",
   "execution_count": 307,
   "metadata": {},
   "outputs": [
    {
     "data": {
      "text/plain": [
       "Index(['Counts', 'Sum_Duration', 'Hour', 'Day', 'Month', 'Year', 'atemperatue',\n",
       "       'humidity', 'temperature', 'windSpeed', 'Day_Name', 'weekday',\n",
       "       'Holiday', 'Seasons', 'Hour_binned', 'Hour_Reconvert'],\n",
       "      dtype='object')"
      ]
     },
     "execution_count": 307,
     "metadata": {},
     "output_type": "execute_result"
    }
   ],
   "source": [
    "df_train.columns"
   ]
  },
  {
   "cell_type": "code",
   "execution_count": 308,
   "metadata": {},
   "outputs": [],
   "source": [
    "sc = MinMaxScaler()"
   ]
  },
  {
   "cell_type": "code",
   "execution_count": 309,
   "metadata": {},
   "outputs": [
    {
     "data": {
      "text/plain": [
       "MinMaxScaler(copy=True, feature_range=(0, 1))"
      ]
     },
     "execution_count": 309,
     "metadata": {},
     "output_type": "execute_result"
    }
   ],
   "source": [
    "sc.fit(df_train[['atemperatue']])"
   ]
  },
  {
   "cell_type": "code",
   "execution_count": 310,
   "metadata": {},
   "outputs": [],
   "source": [
    "df_train['atemp_minmax'] = sc.transform(df_train[['atemperatue']])"
   ]
  },
  {
   "cell_type": "code",
   "execution_count": 116,
   "metadata": {},
   "outputs": [],
   "source": [
    "poly = PolynomialFeatures(degree = 2)"
   ]
  },
  {
   "cell_type": "code",
   "execution_count": 192,
   "metadata": {},
   "outputs": [
    {
     "data": {
      "text/plain": [
       "PolynomialFeatures(degree=2, include_bias=True, interaction_only=False)"
      ]
     },
     "execution_count": 192,
     "metadata": {},
     "output_type": "execute_result"
    }
   ],
   "source": [
    "poly.fit(df_train[['Month']])"
   ]
  },
  {
   "cell_type": "code",
   "execution_count": 193,
   "metadata": {},
   "outputs": [],
   "source": [
    "df_train['Month_poly'] = sc.transform(df_train[['Month']])"
   ]
  },
  {
   "cell_type": "code",
   "execution_count": 311,
   "metadata": {},
   "outputs": [
    {
     "data": {
      "text/html": [
       "<div>\n",
       "<style scoped>\n",
       "    .dataframe tbody tr th:only-of-type {\n",
       "        vertical-align: middle;\n",
       "    }\n",
       "\n",
       "    .dataframe tbody tr th {\n",
       "        vertical-align: top;\n",
       "    }\n",
       "\n",
       "    .dataframe thead th {\n",
       "        text-align: right;\n",
       "    }\n",
       "</style>\n",
       "<table border=\"1\" class=\"dataframe\">\n",
       "  <thead>\n",
       "    <tr style=\"text-align: right;\">\n",
       "      <th></th>\n",
       "      <th>Counts</th>\n",
       "      <th>Sum_Duration</th>\n",
       "      <th>Hour</th>\n",
       "      <th>Day</th>\n",
       "      <th>Month</th>\n",
       "      <th>Year</th>\n",
       "      <th>atemperatue</th>\n",
       "      <th>humidity</th>\n",
       "      <th>temperature</th>\n",
       "      <th>windSpeed</th>\n",
       "      <th>Day_Name</th>\n",
       "      <th>weekday</th>\n",
       "      <th>Holiday</th>\n",
       "      <th>Seasons</th>\n",
       "      <th>Hour_binned</th>\n",
       "      <th>Hour_Reconvert</th>\n",
       "      <th>atemp_minmax</th>\n",
       "    </tr>\n",
       "  </thead>\n",
       "  <tbody>\n",
       "    <tr>\n",
       "      <th>2015-01-01 00:00:00-05:00</th>\n",
       "      <td>54</td>\n",
       "      <td>48944.0</td>\n",
       "      <td>0</td>\n",
       "      <td>1</td>\n",
       "      <td>1</td>\n",
       "      <td>2015</td>\n",
       "      <td>-4.02</td>\n",
       "      <td>0.67</td>\n",
       "      <td>-4.02</td>\n",
       "      <td>0.04</td>\n",
       "      <td>Thursday</td>\n",
       "      <td>1</td>\n",
       "      <td>0</td>\n",
       "      <td>1</td>\n",
       "      <td>Night</td>\n",
       "      <td>0</td>\n",
       "      <td>0.274742</td>\n",
       "    </tr>\n",
       "    <tr>\n",
       "      <th>2015-01-01 01:00:00-05:00</th>\n",
       "      <td>114</td>\n",
       "      <td>79028.0</td>\n",
       "      <td>1</td>\n",
       "      <td>1</td>\n",
       "      <td>1</td>\n",
       "      <td>2015</td>\n",
       "      <td>-4.30</td>\n",
       "      <td>0.70</td>\n",
       "      <td>-4.30</td>\n",
       "      <td>0.43</td>\n",
       "      <td>Thursday</td>\n",
       "      <td>1</td>\n",
       "      <td>0</td>\n",
       "      <td>1</td>\n",
       "      <td>Night</td>\n",
       "      <td>0</td>\n",
       "      <td>0.270549</td>\n",
       "    </tr>\n",
       "    <tr>\n",
       "      <th>2015-01-01 02:00:00-05:00</th>\n",
       "      <td>100</td>\n",
       "      <td>67666.0</td>\n",
       "      <td>2</td>\n",
       "      <td>1</td>\n",
       "      <td>1</td>\n",
       "      <td>2015</td>\n",
       "      <td>-4.09</td>\n",
       "      <td>0.67</td>\n",
       "      <td>-4.09</td>\n",
       "      <td>0.57</td>\n",
       "      <td>Thursday</td>\n",
       "      <td>1</td>\n",
       "      <td>0</td>\n",
       "      <td>1</td>\n",
       "      <td>Night</td>\n",
       "      <td>0</td>\n",
       "      <td>0.273694</td>\n",
       "    </tr>\n",
       "    <tr>\n",
       "      <th>2015-01-01 03:00:00-05:00</th>\n",
       "      <td>16</td>\n",
       "      <td>31606.0</td>\n",
       "      <td>3</td>\n",
       "      <td>1</td>\n",
       "      <td>1</td>\n",
       "      <td>2015</td>\n",
       "      <td>-3.86</td>\n",
       "      <td>0.64</td>\n",
       "      <td>-3.86</td>\n",
       "      <td>0.55</td>\n",
       "      <td>Thursday</td>\n",
       "      <td>1</td>\n",
       "      <td>0</td>\n",
       "      <td>1</td>\n",
       "      <td>Night</td>\n",
       "      <td>0</td>\n",
       "      <td>0.277137</td>\n",
       "    </tr>\n",
       "    <tr>\n",
       "      <th>2015-01-01 04:00:00-05:00</th>\n",
       "      <td>8</td>\n",
       "      <td>5083.0</td>\n",
       "      <td>4</td>\n",
       "      <td>1</td>\n",
       "      <td>1</td>\n",
       "      <td>2015</td>\n",
       "      <td>-4.27</td>\n",
       "      <td>0.64</td>\n",
       "      <td>-4.27</td>\n",
       "      <td>0.47</td>\n",
       "      <td>Thursday</td>\n",
       "      <td>1</td>\n",
       "      <td>0</td>\n",
       "      <td>1</td>\n",
       "      <td>Night</td>\n",
       "      <td>0</td>\n",
       "      <td>0.270999</td>\n",
       "    </tr>\n",
       "  </tbody>\n",
       "</table>\n",
       "</div>"
      ],
      "text/plain": [
       "                           Counts  Sum_Duration  Hour  Day Month  Year  \\\n",
       "2015-01-01 00:00:00-05:00      54       48944.0     0    1     1  2015   \n",
       "2015-01-01 01:00:00-05:00     114       79028.0     1    1     1  2015   \n",
       "2015-01-01 02:00:00-05:00     100       67666.0     2    1     1  2015   \n",
       "2015-01-01 03:00:00-05:00      16       31606.0     3    1     1  2015   \n",
       "2015-01-01 04:00:00-05:00       8        5083.0     4    1     1  2015   \n",
       "\n",
       "                           atemperatue  humidity  temperature  windSpeed  \\\n",
       "2015-01-01 00:00:00-05:00        -4.02      0.67        -4.02       0.04   \n",
       "2015-01-01 01:00:00-05:00        -4.30      0.70        -4.30       0.43   \n",
       "2015-01-01 02:00:00-05:00        -4.09      0.67        -4.09       0.57   \n",
       "2015-01-01 03:00:00-05:00        -3.86      0.64        -3.86       0.55   \n",
       "2015-01-01 04:00:00-05:00        -4.27      0.64        -4.27       0.47   \n",
       "\n",
       "                           Day_Name weekday  Holiday Seasons Hour_binned  \\\n",
       "2015-01-01 00:00:00-05:00  Thursday       1        0       1       Night   \n",
       "2015-01-01 01:00:00-05:00  Thursday       1        0       1       Night   \n",
       "2015-01-01 02:00:00-05:00  Thursday       1        0       1       Night   \n",
       "2015-01-01 03:00:00-05:00  Thursday       1        0       1       Night   \n",
       "2015-01-01 04:00:00-05:00  Thursday       1        0       1       Night   \n",
       "\n",
       "                          Hour_Reconvert  atemp_minmax  \n",
       "2015-01-01 00:00:00-05:00              0      0.274742  \n",
       "2015-01-01 01:00:00-05:00              0      0.270549  \n",
       "2015-01-01 02:00:00-05:00              0      0.273694  \n",
       "2015-01-01 03:00:00-05:00              0      0.277137  \n",
       "2015-01-01 04:00:00-05:00              0      0.270999  "
      ]
     },
     "execution_count": 311,
     "metadata": {},
     "output_type": "execute_result"
    }
   ],
   "source": [
    "df_train.head()"
   ]
  },
  {
   "cell_type": "code",
   "execution_count": 312,
   "metadata": {},
   "outputs": [
    {
     "data": {
      "text/plain": [
       "['Hour_Reconvert', 'Seasons', 'weekday', 'Month', 'atemp_minmax', 'windSpeed']"
      ]
     },
     "execution_count": 312,
     "metadata": {},
     "output_type": "execute_result"
    }
   ],
   "source": [
    "categorical_columns = ['Hour_Reconvert', 'Seasons','weekday', 'Month']\n",
    "df_train[categorical_columns] = df_train[categorical_columns].astype('category')\n",
    "numerical_columns = ['atemp_minmax', 'windSpeed']\n",
    "train_list = categorical_columns + numerical_columns\n",
    "train_list"
   ]
  },
  {
   "cell_type": "code",
   "execution_count": 313,
   "metadata": {},
   "outputs": [],
   "source": [
    "Xtrain = df_train[train_list]"
   ]
  },
  {
   "cell_type": "code",
   "execution_count": 314,
   "metadata": {},
   "outputs": [
    {
     "data": {
      "text/plain": [
       "<matplotlib.axes._subplots.AxesSubplot at 0x1a49de5780>"
      ]
     },
     "execution_count": 314,
     "metadata": {},
     "output_type": "execute_result"
    },
    {
     "data": {
      "image/png": "[encoded data removed]",
      "text/plain": [
       "<Figure size 432x288 with 1 Axes>"
      ]
     },
     "metadata": {
      "needs_background": "light"
     },
     "output_type": "display_data"
    }
   ],
   "source": [
    "sns.distplot(df_train['Sum_Duration'])"
   ]
  },
  {
   "cell_type": "code",
   "execution_count": 315,
   "metadata": {},
   "outputs": [],
   "source": [
    "import numpy as np\n",
    "ytrain = np.log1p(df_train['Sum_Duration'])"
   ]
  },
  {
   "cell_type": "code",
   "execution_count": 316,
   "metadata": {},
   "outputs": [],
   "source": [
    "#Scikit Linear Reg\n",
    "m = Lasso(alpha = 0.1)"
   ]
  },
  {
   "cell_type": "code",
   "execution_count": 317,
   "metadata": {},
   "outputs": [
    {
     "data": {
      "text/plain": [
       "(Lasso(alpha=0.1, copy_X=True, fit_intercept=True, max_iter=1000,\n",
       "    normalize=False, positive=False, precompute=False, random_state=None,\n",
       "    selection='cyclic', tol=0.0001, warm_start=False), 0.4088398381256356)"
      ]
     },
     "execution_count": 317,
     "metadata": {},
     "output_type": "execute_result"
    }
   ],
   "source": [
    "m.fit(Xtrain, ytrain), m.score(Xtrain, ytrain)"
   ]
  },
  {
   "cell_type": "code",
   "execution_count": 318,
   "metadata": {},
   "outputs": [
    {
     "data": {
      "text/plain": [
       "1.9322402074510725"
      ]
     },
     "execution_count": 318,
     "metadata": {},
     "output_type": "execute_result"
    }
   ],
   "source": [
    "ypred = m.predict(Xtrain)\n",
    "mean_squared_error(ytrain, ypred) #Scikit"
   ]
  },
  {
   "cell_type": "code",
   "execution_count": 319,
   "metadata": {},
   "outputs": [
    {
     "data": {
      "text/html": [
       "<div>\n",
       "<style scoped>\n",
       "    .dataframe tbody tr th:only-of-type {\n",
       "        vertical-align: middle;\n",
       "    }\n",
       "\n",
       "    .dataframe tbody tr th {\n",
       "        vertical-align: top;\n",
       "    }\n",
       "\n",
       "    .dataframe thead th {\n",
       "        text-align: right;\n",
       "    }\n",
       "</style>\n",
       "<table border=\"1\" class=\"dataframe\">\n",
       "  <thead>\n",
       "    <tr style=\"text-align: right;\">\n",
       "      <th></th>\n",
       "      <th>Coefficients</th>\n",
       "    </tr>\n",
       "  </thead>\n",
       "  <tbody>\n",
       "    <tr>\n",
       "      <th>Hour_Reconvert</th>\n",
       "      <td>0.875239</td>\n",
       "    </tr>\n",
       "    <tr>\n",
       "      <th>Seasons</th>\n",
       "      <td>0.000000</td>\n",
       "    </tr>\n",
       "    <tr>\n",
       "      <th>weekday</th>\n",
       "      <td>-0.000000</td>\n",
       "    </tr>\n",
       "    <tr>\n",
       "      <th>Month</th>\n",
       "      <td>0.102626</td>\n",
       "    </tr>\n",
       "    <tr>\n",
       "      <th>atemp_minmax</th>\n",
       "      <td>0.000000</td>\n",
       "    </tr>\n",
       "    <tr>\n",
       "      <th>windSpeed</th>\n",
       "      <td>0.027041</td>\n",
       "    </tr>\n",
       "  </tbody>\n",
       "</table>\n",
       "</div>"
      ],
      "text/plain": [
       "                Coefficients\n",
       "Hour_Reconvert      0.875239\n",
       "Seasons             0.000000\n",
       "weekday            -0.000000\n",
       "Month               0.102626\n",
       "atemp_minmax        0.000000\n",
       "windSpeed           0.027041"
      ]
     },
     "execution_count": 319,
     "metadata": {},
     "output_type": "execute_result"
    }
   ],
   "source": [
    "m.coef_ , m.intercept_, Xtrain.columns\n",
    "l = zip(Xtrain.columns, m.coef_)\n",
    "fit_coeff = pd.DataFrame(l, columns = ['Variables', 'Coefficients'], index = Xtrain.columns)\n",
    "fit_coeff.drop('Variables', axis = 1)"
   ]
  },
  {
   "cell_type": "code",
   "execution_count": 320,
   "metadata": {},
   "outputs": [],
   "source": [
    "from scipy.stats import probplot\n",
    "import matplotlib.pyplot as plt"
   ]
  },
  {
   "cell_type": "code",
   "execution_count": 321,
   "metadata": {},
   "outputs": [
    {
     "name": "stdout",
     "output_type": "stream",
     "text": [
      "2.41065988122475e-15\n"
     ]
    },
    {
     "data": {
      "text/plain": [
       "<matplotlib.axes._subplots.AxesSubplot at 0x1a49fd4a58>"
      ]
     },
     "execution_count": 321,
     "metadata": {},
     "output_type": "execute_result"
    },
    {
     "data": {
      "image/png": "[encoded data removed]",
      "text/plain": [
       "<Figure size 432x288 with 1 Axes>"
      ]
     },
     "metadata": {
      "needs_background": "light"
     },
     "output_type": "display_data"
    }
   ],
   "source": [
    "#Check the assumptions\n",
    "#Mean residual is around zero\n",
    "residuals = ypred - ytrain\n",
    "print(residuals.mean())\n",
    "residuals.hist()\n"
   ]
  },
  {
   "cell_type": "code",
   "execution_count": 322,
   "metadata": {},
   "outputs": [
    {
     "data": {
      "text/plain": [
       "((array([-3.8688066 , -3.64684923, -3.52513816, ...,  3.52513816,\n",
       "          3.64684923,  3.8688066 ]),\n",
       "  array([-3.25318692, -3.02975186, -2.97536034, ...,  5.25071635,\n",
       "          5.54914773,  5.66930327])),\n",
       " (1.3726721479582331, 2.1174408188319824e-15, 0.9872129121755763))"
      ]
     },
     "execution_count": 322,
     "metadata": {},
     "output_type": "execute_result"
    },
    {
     "data": {
      "image/png": "[encoded data removed]",
      "text/plain": [
       "<Figure size 432x288 with 1 Axes>"
      ]
     },
     "metadata": {
      "needs_background": "light"
     },
     "output_type": "display_data"
    }
   ],
   "source": [
    "#Q-Q plot\n",
    "probplot(residuals, plot=plt)"
   ]
  },
  {
   "cell_type": "code",
   "execution_count": 323,
   "metadata": {},
   "outputs": [
    {
     "data": {
      "image/png": "[encoded data removed]",
      "text/plain": [
       "<Figure size 432x288 with 1 Axes>"
      ]
     },
     "metadata": {
      "needs_background": "light"
     },
     "output_type": "display_data"
    },
    {
     "data": {
      "image/png": "[encoded data removed]",
      "text/plain": [
       "<Figure size 432x288 with 1 Axes>"
      ]
     },
     "metadata": {
      "needs_background": "light"
     },
     "output_type": "display_data"
    },
    {
     "data": {
      "image/png": "[encoded data removed]",
      "text/plain": [
       "<Figure size 432x288 with 1 Axes>"
      ]
     },
     "metadata": {
      "needs_background": "light"
     },
     "output_type": "display_data"
    },
    {
     "data": {
      "image/png": "[encoded data removed]",
      "text/plain": [
       "<Figure size 432x288 with 1 Axes>"
      ]
     },
     "metadata": {
      "needs_background": "light"
     },
     "output_type": "display_data"
    },
    {
     "data": {
      "image/png": "[encoded data removed]",
      "text/plain": [
       "<Figure size 432x288 with 1 Axes>"
      ]
     },
     "metadata": {
      "needs_background": "light"
     },
     "output_type": "display_data"
    },
    {
     "data": {
      "image/png": "[encoded data removed]",
      "text/plain": [
       "<Figure size 432x288 with 1 Axes>"
      ]
     },
     "metadata": {
      "needs_background": "light"
     },
     "output_type": "display_data"
    }
   ],
   "source": [
    "#Residuals uncorrelated with x and must be equally on and under 0\n",
    "\n",
    "for column in Xtrain.columns:\n",
    "    plt.scatter(Xtrain[column], residuals)\n",
    "    plt.title(f'{column}')\n",
    "    plt.show()"
   ]
  },
  {
   "cell_type": "code",
   "execution_count": null,
   "metadata": {},
   "outputs": [],
   "source": []
  }
 ],
 "metadata": {
  "kernelspec": {
   "display_name": "Python 3",
   "language": "python",
   "name": "python3"
  },
  "language_info": {
   "codemirror_mode": {
    "name": "ipython",
    "version": 3
   },
   "file_extension": ".py",
   "mimetype": "text/x-python",
   "name": "python",
   "nbconvert_exporter": "python",
   "pygments_lexer": "ipython3",
   "version": "3.7.3"
  }
 },
 "nbformat": 4,
 "nbformat_minor": 2
}
