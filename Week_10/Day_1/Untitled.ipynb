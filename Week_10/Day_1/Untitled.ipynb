{
 "cells": [
  {
   "cell_type": "code",
   "execution_count": 4,
   "metadata": {},
   "outputs": [],
   "source": [
    "from joblib import load"
   ]
  },
  {
   "cell_type": "code",
   "execution_count": 6,
   "metadata": {},
   "outputs": [],
   "source": [
    "trained_NMF = load('NMF.joblib') \n"
   ]
  },
  {
   "cell_type": "code",
   "execution_count": 7,
   "metadata": {},
   "outputs": [
    {
     "data": {
      "text/plain": [
       "array([[0.15568583, 0.13796915, 0.1584788 , ..., 0.33526011, 0.33704819,\n",
       "        0.56395021],\n",
       "       [0.2339849 , 0.56975933, 0.23450883, ..., 0.01640581, 0.10003461,\n",
       "        0.00854845],\n",
       "       [0.54743561, 0.02506966, 0.30042322, ..., 0.33380285, 0.05273582,\n",
       "        0.07497793],\n",
       "       ...,\n",
       "       [0.        , 0.32872856, 0.19907096, ..., 0.2629806 , 0.36621154,\n",
       "        0.3312633 ],\n",
       "       [0.1952977 , 0.1628009 , 0.54507423, ..., 0.3065118 , 0.45340753,\n",
       "        0.35528916],\n",
       "       [0.01616576, 0.33132374, 0.86662898, ..., 0.16326192, 0.19566355,\n",
       "        0.2376685 ]])"
      ]
     },
     "execution_count": 7,
     "metadata": {},
     "output_type": "execute_result"
    }
   ],
   "source": [
    "trained_NMF.components_"
   ]
  },
  {
   "cell_type": "code",
   "execution_count": null,
   "metadata": {},
   "outputs": [],
   "source": []
  }
 ],
 "metadata": {
  "kernelspec": {
   "display_name": "Python 3",
   "language": "python",
   "name": "python3"
  },
  "language_info": {
   "codemirror_mode": {
    "name": "ipython",
    "version": 3
   },
   "file_extension": ".py",
   "mimetype": "text/x-python",
   "name": "python",
   "nbconvert_exporter": "python",
   "pygments_lexer": "ipython3",
   "version": "3.7.3"
  }
 },
 "nbformat": 4,
 "nbformat_minor": 2
}
