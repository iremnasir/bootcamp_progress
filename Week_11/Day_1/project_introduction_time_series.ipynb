{
 "cells": [
  {
   "cell_type": "markdown",
   "metadata": {},
   "source": [
    "# Project Temperature Prediction/Time Series\n",
    "\n",
    "## Time Series Data\n",
    "\n",
    "\"An obvious characteristic of time series data that distinguishes it from cross-sectional data is temporal ordering.\" - Introductory Econometrics, J. Wooldridge\n",
    "\n",
    "Time Series data has (or can have) the following properties:\n",
    "1. Time Dependence \n",
    "- Trend\n",
    "- Seasonality\n",
    "- Randomness\n",
    "\n",
    "## Time Series Analysis\n",
    "\n",
    "Time Series Analysis is a field of statistical Analysis that deals with modelling **Time Dependence**. The other properties of time series will have to be taken into account in order to model it, but the time dependence is what we try to understand in time series analysis.\n",
    "\n",
    "## Topics we will cover this week\n",
    "\n",
    "**Time Series:**\n",
    "\n",
    "- Decompose time series data into its four components\n",
    "- Use a naive forecast as a baseline\n",
    "- Evaluate your forecast\n",
    "- Learn how to use Autoregressive (AR) and Autoregressive-Integrated-Moving-Average (ARIMA) Models to predict the future.\n",
    "\n",
    "**Miscellaneous:**\n",
    "\n",
    "- Python Namespaces\n",
    "- Distribtuion Functions\n",
    "- Plotting on Maps\n",
    "\n",
    "## Main Project Goal\n",
    "\n",
    "Be able to make short term temperature forecasts!"
   ]
  }
 ],
 "metadata": {
  "kernelspec": {
   "display_name": "Python 3",
   "language": "python",
   "name": "python3"
  },
  "language_info": {
   "codemirror_mode": {
    "name": "ipython",
    "version": 3
   },
   "file_extension": ".py",
   "mimetype": "text/x-python",
   "name": "python",
   "nbconvert_exporter": "python",
   "pygments_lexer": "ipython3",
   "version": "3.7.3"
  }
 },
 "nbformat": 4,
 "nbformat_minor": 4
}
