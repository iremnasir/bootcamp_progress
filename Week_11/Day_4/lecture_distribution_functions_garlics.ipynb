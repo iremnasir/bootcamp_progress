{
 "cells": [
  {
   "cell_type": "markdown",
   "metadata": {},
   "source": [
    "# Distribution Functions and Probability Functions\n",
    "\n",
    "## Probability\n",
    "\n",
    "\"Probability is a mathematical language for quantifying uncertainty.\" - Wasserman. L, All of Statistics\n",
    "\n",
    "## Random Variable\n",
    "\n",
    "A variable whose value is determined by a random process.\n",
    "\n",
    "## Distribution Function\n",
    "\n",
    "Given a random variable X, the cumulative distribution function (cdf) is defined as a function that for each value x returns the probability that the realization of the random variable X is smaller than or equal to the value x.\n",
    "\n",
    "$F(x) = P(X \\leq x)$\n",
    "\n",
    "## Probability Mass/Density Function\n",
    "\n",
    "### For discrete X:\n",
    "\n",
    "    Given a random variable X, the probability mass function (pmf) is defined as a function that for each value x returns the probability that the realization of the random variable X is equal to the value x.\n",
    "\n",
    "$f(x) = P(X=x)$\n",
    "\n",
    "### For continuous X:\n",
    "\n",
    "    Given a random variable X, the probability densitiy function (pdf) is defined as a function for which the area under the curve for each interval [a, b] returns the probability that the realization of the random variable X is within the intervall [a, b].\n",
    "\n",
    "$f([a, b]) = P(a \\leq X \\leq b)$\n",
    "\n",
    "## Why do we care?\n",
    "\n",
    "Knowledge of distribution functions allows us to do the following:\n",
    "\n",
    "- Model Processes\n",
    "- Make probabilistic statements"
   ]
  },
  {
   "cell_type": "markdown",
   "metadata": {},
   "source": [
    "## Normal Distribution"
   ]
  },
  {
   "cell_type": "code",
   "execution_count": null,
   "metadata": {},
   "outputs": [],
   "source": []
  },
  {
   "cell_type": "markdown",
   "metadata": {},
   "source": [
    "## Bernoulli Distribution"
   ]
  },
  {
   "cell_type": "code",
   "execution_count": null,
   "metadata": {},
   "outputs": [],
   "source": []
  },
  {
   "cell_type": "markdown",
   "metadata": {},
   "source": [
    "## Binomial Distribution"
   ]
  },
  {
   "cell_type": "code",
   "execution_count": null,
   "metadata": {},
   "outputs": [],
   "source": []
  },
  {
   "cell_type": "markdown",
   "metadata": {},
   "source": [
    "## Uniform Distribution"
   ]
  },
  {
   "cell_type": "markdown",
   "metadata": {},
   "source": [
    "- All outcomes have equal probability to occur\n",
    "- Roll of a fair dice\n",
    "- Discrete/Continuous distribution\n"
   ]
  },
  {
   "cell_type": "markdown",
   "metadata": {},
   "source": [
    "$ P(1,2,3,4,5,6) = 1/6 $"
   ]
  },
  {
   "cell_type": "code",
   "execution_count": 11,
   "metadata": {},
   "outputs": [],
   "source": [
    "from scipy.stats import uniform\n",
    "import matplotlib.pyplot as plt\n",
    "import numpy as np\n",
    "import random"
   ]
  },
  {
   "cell_type": "code",
   "execution_count": 39,
   "metadata": {},
   "outputs": [
    {
     "data": {
      "text/plain": [
       "<matplotlib.legend.Legend at 0x1a161c0940>"
      ]
     },
     "execution_count": 39,
     "metadata": {},
     "output_type": "execute_result"
    },
    {
     "data": {
      "image/png": "[encoded data removed]",
      "text/plain": [
       "<Figure size 432x288 with 1 Axes>"
      ]
     },
     "metadata": {
      "needs_background": "light"
     },
     "output_type": "display_data"
    }
   ],
   "source": [
    "fig, ax = plt.subplots(1, 1)\n",
    "#Create uniform random variables\n",
    "r1 = uniform.rvs(size=100)\n",
    "r2 = uniform.rvs(size=100000)\n",
    "#Create the percent point function for upper and lower boundaries for 100 points\n",
    "x = np.linspace(uniform.ppf(0.01), uniform.ppf(0.99), 100)\n",
    "ax.plot(x, uniform.pdf(x),'r-', alpha=0.6, label='uniform pdf')\n",
    "ax.hist(r1, density=True, histtype='stepfilled', alpha=0.2, label='coarse')\n",
    "ax.hist(r2, density=True, histtype='stepfilled', alpha=0.2, color='k', label='dense')\n",
    "ax.legend()"
   ]
  },
  {
   "cell_type": "markdown",
   "metadata": {},
   "source": [
    "### Variance"
   ]
  },
  {
   "cell_type": "code",
   "execution_count": 41,
   "metadata": {},
   "outputs": [
    {
     "data": {
      "text/plain": [
       "0.08333333333333333"
      ]
     },
     "execution_count": 41,
     "metadata": {},
     "output_type": "execute_result"
    }
   ],
   "source": [
    "uniform.var()"
   ]
  },
  {
   "cell_type": "markdown",
   "metadata": {},
   "source": [
    "## Geometric Distribution"
   ]
  },
  {
   "cell_type": "code",
   "execution_count": null,
   "metadata": {},
   "outputs": [],
   "source": []
  }
 ],
 "metadata": {
  "kernelspec": {
   "display_name": "Python 3",
   "language": "python",
   "name": "python3"
  },
  "language_info": {
   "codemirror_mode": {
    "name": "ipython",
    "version": 3
   },
   "file_extension": ".py",
   "mimetype": "text/x-python",
   "name": "python",
   "nbconvert_exporter": "python",
   "pygments_lexer": "ipython3",
   "version": "3.7.3"
  }
 },
 "nbformat": 4,
 "nbformat_minor": 2
}
